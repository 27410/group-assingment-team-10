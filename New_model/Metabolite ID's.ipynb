{
 "cells": [
  {
   "cell_type": "markdown",
   "id": "7e420218-4599-46c8-b92a-d9167c188488",
   "metadata": {},
   "source": [
    "Metabolite names:\n",
    "\n",
    "CO2 = s_0456[c]\n",
    "\n",
    "H2O = s_0803[c]\n",
    "\n",
    "H+ = s_0794[c]\n",
    "\n",
    "Malonyl-coa = s_1101[c]\n",
    "\n",
    "NADPH = s_1212[c]\n",
    "\n",
    "NADP(+) = s_1207[c]\n",
    "\n",
    "Coenzyme A (CoA) = s_0529[c]\n",
    "\n",
    "Oxygen = s_1275[c]\n",
    "\n",
    "D-glucose = s_0563[c]"
   ]
  },
  {
   "cell_type": "code",
   "execution_count": null,
   "id": "e8880237-2bc0-4fc7-8758-6981fcfe0ed1",
   "metadata": {},
   "outputs": [],
   "source": [
    "target_metabolite_name = \"H+ [cytoplasm]\"\n",
    "\n",
    "# Iterate through the metabolites in the model\n",
    "for metabolite in model.metabolites:\n",
    "    if metabolite.name == target_metabolite_name:\n",
    "        # Found the metabolite by name\n",
    "        print(f\"Metabolite found: {metabolite}\")\n",
    "        break\n",
    "else:\n",
    "    # Metabolite not found\n",
    "    print(f\"Metabolite with name '{target_metabolite_name}' not found in the model.\")"
   ]
  },
  {
   "cell_type": "code",
   "execution_count": null,
   "id": "55a8f22c-f3dd-4c43-8dff-2f648c63af67",
   "metadata": {},
   "outputs": [],
   "source": []
  }
 ],
 "metadata": {
  "kernelspec": {
   "display_name": "Python 3 (ipykernel)",
   "language": "python",
   "name": "python3"
  },
  "language_info": {
   "codemirror_mode": {
    "name": "ipython",
    "version": 3
   },
   "file_extension": ".py",
   "mimetype": "text/x-python",
   "name": "python",
   "nbconvert_exporter": "python",
   "pygments_lexer": "ipython3",
   "version": "3.10.9"
  }
 },
 "nbformat": 4,
 "nbformat_minor": 5
}
