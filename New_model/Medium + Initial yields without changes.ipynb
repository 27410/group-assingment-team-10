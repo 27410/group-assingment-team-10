{
 "cells": [
  {
   "cell_type": "code",
   "execution_count": 2,
   "id": "63e7a57e-2d56-4daa-94d3-576e6b504176",
   "metadata": {},
   "outputs": [],
   "source": [
    "%run Heterologous_insert.ipynb"
   ]
  },
  {
   "cell_type": "code",
   "execution_count": 3,
   "id": "7f34891f-b145-4aa8-b2fa-ba59a2c5ccd3",
   "metadata": {},
   "outputs": [
    {
     "data": {
      "text/plain": [
       "{'ce': 'cell envelope',\n",
       " 'c': 'cytoplasm',\n",
       " 'e': 'extracellular',\n",
       " 'm': 'mitochondrion',\n",
       " 'n': 'nucleus',\n",
       " 'p': 'peroxisome',\n",
       " 'er': 'endoplasmic reticulum',\n",
       " 'g': 'Golgi',\n",
       " 'lp': 'lipid particle',\n",
       " 'v': 'vacuole',\n",
       " 'erm': 'endoplasmic reticulum membrane',\n",
       " 'vm': 'vacuolar membrane',\n",
       " 'gm': 'Golgi membrane',\n",
       " 'mm': 'mitochondrial membrane'}"
      ]
     },
     "execution_count": 3,
     "metadata": {},
     "output_type": "execute_result"
    }
   ],
   "source": [
    "model.compartments"
   ]
  },
  {
   "cell_type": "code",
   "execution_count": 4,
   "id": "e1296810-70fb-4a99-9bb8-a7140f96ba4a",
   "metadata": {},
   "outputs": [
    {
     "name": "stdout",
     "output_type": "stream",
     "text": [
      "Maximize\n",
      "1.0*r_2111 - 1.0*r_2111_reverse_58b69\n"
     ]
    }
   ],
   "source": [
    "print(model.objective)"
   ]
  },
  {
   "cell_type": "code",
   "execution_count": 5,
   "id": "b5b97861-38c2-43f2-82de-d5738f435b25",
   "metadata": {},
   "outputs": [
    {
     "data": {
      "text/plain": [
       "{'r_1654': 1000.0,\n",
       " 'r_1714': 1.0,\n",
       " 'r_1832': 1000.0,\n",
       " 'r_1861': 1000.0,\n",
       " 'r_1992': 1000.0,\n",
       " 'r_2005': 1000.0,\n",
       " 'r_2020': 1000.0,\n",
       " 'r_2049': 1000.0,\n",
       " 'r_2060': 1000.0,\n",
       " 'r_2100': 1000.0,\n",
       " 'r_4593': 1000.0,\n",
       " 'r_4594': 1000.0,\n",
       " 'r_4595': 1000.0,\n",
       " 'r_4596': 1000.0,\n",
       " 'r_4597': 1000.0,\n",
       " 'r_4600': 1000.0}"
      ]
     },
     "execution_count": 5,
     "metadata": {},
     "output_type": "execute_result"
    }
   ],
   "source": [
    "model.medium"
   ]
  },
  {
   "cell_type": "markdown",
   "id": "48358818-c955-4d7f-a672-bd5accd046bb",
   "metadata": {},
   "source": [
    "     'r_1654': Ammonium\n",
    "     'r_1714': D-glucose\n",
    "     'r_1832': H+\n",
    "     'r_1861': Iron(2+)\n",
    "     'r_1992': Oxygen\n",
    "     'r_2005': Phosphate\n",
    "     'r_2020': Potassium\n",
    "     'r_2049': Sodium\n",
    "     'r_2060': Sulphate\n",
    "     'r_2100': H20\n",
    "     'r_4593': Chloride\n",
    "     'r_4594': Cu2(+)\n",
    "     'r_4595': Mn(2+)\n",
    "     'r_4596': Zn(2+)\n",
    "     'r_4597': Mg(2+)\n",
    "     'r_4600': Ca(2+)"
   ]
  },
  {
   "cell_type": "markdown",
   "id": "9ced8505-ce4d-4ae0-96e2-fc22cb4072e5",
   "metadata": {},
   "source": [
    "Not sure if we want to change the medium of growth - but here's a list\n",
    "\n",
    "### INSTEAD - Go check the metabolic activity "
   ]
  },
  {
   "cell_type": "code",
   "execution_count": 6,
   "id": "39496422-fd85-45b3-90b5-559321e8be91",
   "metadata": {},
   "outputs": [
    {
     "name": "stdout",
     "output_type": "stream",
     "text": [
      "Maximum productivity = 3.5820895522388043 mmol/gDW*h\n",
      "Maximum theoretical yield = 0.1791044776119402 mmol-EPA/mmol-glc\n",
      "Objective of model is = Maximize\n",
      "1.0*DM_Eicosapentaenoic_Acid - 1.0*DM_Eicosapentaenoic_Acid_reverse_e7faa\n"
     ]
    }
   ],
   "source": [
    "model.objective = model.reactions.DM_Eicosapentaenoic_Acid\n",
    "medium = model.medium\n",
    "with model:\n",
    "    medium['r_1714'] = 20\n",
    "    model.medium = medium\n",
    "    EPA_production = model.optimize().objective_value\n",
    "    print('Maximum productivity =', EPA_production, 'mmol/gDW*h')\n",
    "    maximum_yield = EPA_production / (-1*(model.reactions.get_by_id('r_1714').flux))\n",
    "    print('Maximum theoretical yield =', maximum_yield, 'mmol-EPA/mmol-glc')\n",
    "    print('Objective of model is =', model.objective)\n"
   ]
  },
  {
   "cell_type": "markdown",
   "id": "8ad98093-c9c0-438b-9785-18bd8ba18caf",
   "metadata": {},
   "source": [
    "### Lets try to optimize the medium\n",
    "\n",
    "According to [https://onlinelibrary.wiley.com/doi/epdf/10.1002/ejlt.200700224], the optimal medium for *L. starkeyi* is: \n",
    "mixed  sugar 73.3 g/L  (glucose  48.9 g/L,  xylose  24.4 g/L),  yeast  extract 7.9 g/L, FeSO 44.0 mg/L, KH2PO 47.0 g/L, Na2HPO 42.0 g/L, MgSO4-7H2O 1.0 g/L, and NH4Cl 0.5 g/L."
   ]
  },
  {
   "cell_type": "code",
   "execution_count": 7,
   "id": "85502a1a-bfde-417a-a8db-c89ec56a9d72",
   "metadata": {},
   "outputs": [
    {
     "name": "stdout",
     "output_type": "stream",
     "text": [
      "Maximum productivity = 10.000000000000005 mmol/gDW*h\n",
      "Maximum theoretical yield = 0.5000000000000002 mmol-EPA/mmol-glc\n",
      "Objective of model is = Maximize\n",
      "1.0*DM_Eicosapentaenoic_Acid - 1.0*DM_Eicosapentaenoic_Acid_reverse_e7faa\n"
     ]
    }
   ],
   "source": [
    "OPTmedium = model.medium\n",
    "\n",
    "OPTmedium[\"r_1718\"] = 100 #Xylose exchange\n",
    "OPTmedium[\"r_1714\"] = 100 #Glucose exchange\n",
    "OPTmedium[\"r_2020\"] = 1 #Potassium exchange\n",
    "OPTmedium[\"r_1861\"] = 1#Fe2+\n",
    "OPTmedium[\"r_2049\"] = 1 #Sodium\n",
    "OPTmedium[\"r_1654\"] = 1 #Ammonium\n",
    "OPTmedium[\"r_1832\"] = 10 #H+\n",
    "OPTmedium[\"r_1992\"] = 10 #Oxygen\n",
    "OPTmedium[\"r_2005\"] = 10 #Phosphate\n",
    "OPTmedium[\"r_2060\"] = 10 #Sulphate\n",
    "OPTmedium[\"r_2100\"] = 5 #H20\n",
    "OPTmedium[\"r_4593\"] = 10 #Chloride\n",
    "OPTmedium[\"r_4594\"] = 10 #Cu2+\n",
    "OPTmedium[\"r_4595\"] = 10 #Mn2+\n",
    "OPTmedium[\"r_4596\"] = 10 #Zn2+\n",
    "OPTmedium[\"r_4597\"] = 10 #Mg2+\n",
    "OPTmedium[\"r_4600\"] = 10 #Ca2+\n",
    "\n",
    "# Maybe some amino acids should also be considered - All have exchange reactions in the model\n",
    "\n",
    "model.medium = OPTmedium\n",
    "\n",
    "model.objective = model.reactions.DM_Eicosapentaenoic_Acid\n",
    "medium = model.medium\n",
    "with model:\n",
    "    medium['r_1714'] = 20\n",
    "    model.medium = medium\n",
    "    EPA_production = model.optimize().objective_value\n",
    "    print('Maximum productivity =', EPA_production, 'mmol/gDW*h')\n",
    "    maximum_yield = EPA_production / (-1*(model.reactions.get_by_id('r_1714').flux))\n",
    "    print('Maximum theoretical yield =', maximum_yield, 'mmol-EPA/mmol-glc')\n",
    "    print('Objective of model is =', model.objective)"
   ]
  },
  {
   "cell_type": "code",
   "execution_count": 8,
   "id": "916636ae-99bc-4c7d-8698-12766255a5fa",
   "metadata": {},
   "outputs": [
    {
     "name": "stdout",
     "output_type": "stream",
     "text": [
      "Maximum theoretical biomass productivity: 0.19717774256772388 /h\n",
      "Maximum theoretical productivity of EPA: 9.99999999999998 mmol/gDW*h\n"
     ]
    }
   ],
   "source": [
    "model.objective = model.reactions.get_by_id('r_2111')\n",
    "solution = model.optimize()\n",
    "print('Maximum theoretical biomass productivity:', solution.fluxes['r_2111'], '/h') \n",
    "\n",
    "model.objective = model.reactions.DM_Eicosapentaenoic_Acid\n",
    "EPA_prod = model.optimize().objective_value\n",
    "print('Maximum theoretical productivity of EPA:', EPA_prod, 'mmol/gDW*h')"
   ]
  },
  {
   "cell_type": "code",
   "execution_count": 9,
   "id": "05695ac2-b188-41eb-95f0-baf4ee532183",
   "metadata": {},
   "outputs": [
    {
     "data": {
      "text/plain": [
       "0.19717774256772388"
      ]
     },
     "execution_count": 9,
     "metadata": {},
     "output_type": "execute_result"
    }
   ],
   "source": [
    "solution.fluxes['r_2111']"
   ]
  },
  {
   "cell_type": "markdown",
   "id": "0c0105ee-6516-4637-aaef-4f8f8e63e804",
   "metadata": {},
   "source": [
    "## Find the optimal medium for the model by setting bounds and optimizing the model"
   ]
  },
  {
   "cell_type": "code",
   "execution_count": 11,
   "id": "55d655e7-a468-4dba-8a4b-19eec59ce3d5",
   "metadata": {},
   "outputs": [
    {
     "data": {
      "text/html": [
       "\n",
       "        <table>\n",
       "            <tr>\n",
       "                <td><strong>Reaction identifier</strong></td><td>r_2111</td>\n",
       "            </tr><tr>\n",
       "                <td><strong>Name</strong></td><td>growth</td>\n",
       "            </tr><tr>\n",
       "                <td><strong>Memory address</strong></td>\n",
       "                <td>0x17528ba90</td>\n",
       "            </tr><tr>\n",
       "                <td><strong>Stoichiometry</strong></td>\n",
       "                <td>\n",
       "                    <p style='text-align:right'>s_0450[c] --></p>\n",
       "                    <p style='text-align:right'>biomass [cytoplasm] --></p>\n",
       "                </td>\n",
       "            </tr><tr>\n",
       "                <td><strong>GPR</strong></td><td></td>\n",
       "            </tr><tr>\n",
       "                <td><strong>Lower bound</strong></td><td>0.0</td>\n",
       "            </tr><tr>\n",
       "                <td><strong>Upper bound</strong></td><td>1000.0</td>\n",
       "            </tr>\n",
       "        </table>\n",
       "        "
      ],
      "text/plain": [
       "<Reaction r_2111 at 0x17528ba90>"
      ]
     },
     "execution_count": 11,
     "metadata": {},
     "output_type": "execute_result"
    }
   ],
   "source": [
    "model.reactions.get_by_id('r_2111')"
   ]
  },
  {
   "cell_type": "code",
   "execution_count": null,
   "id": "644342bf-5cc6-4853-8ecc-bb1accc98c95",
   "metadata": {},
   "outputs": [],
   "source": []
  }
 ],
 "metadata": {
  "kernelspec": {
   "display_name": "Python 3 (ipykernel)",
   "language": "python",
   "name": "python3"
  },
  "language_info": {
   "codemirror_mode": {
    "name": "ipython",
    "version": 3
   },
   "file_extension": ".py",
   "mimetype": "text/x-python",
   "name": "python",
   "nbconvert_exporter": "python",
   "pygments_lexer": "ipython3",
   "version": "3.10.9"
  }
 },
 "nbformat": 4,
 "nbformat_minor": 5
}
