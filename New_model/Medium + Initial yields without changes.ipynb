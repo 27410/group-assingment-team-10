{
 "cells": [
  {
   "cell_type": "code",
   "execution_count": 1,
   "id": "63e7a57e-2d56-4daa-94d3-576e6b504176",
   "metadata": {},
   "outputs": [],
   "source": [
    "%run Heterologous_insert.ipynb"
   ]
  },
  {
   "cell_type": "code",
   "execution_count": 2,
   "id": "7f34891f-b145-4aa8-b2fa-ba59a2c5ccd3",
   "metadata": {},
   "outputs": [
    {
     "data": {
      "text/plain": [
       "{'ce': 'cell envelope',\n",
       " 'c': 'cytoplasm',\n",
       " 'e': 'extracellular',\n",
       " 'm': 'mitochondrion',\n",
       " 'n': 'nucleus',\n",
       " 'p': 'peroxisome',\n",
       " 'er': 'endoplasmic reticulum',\n",
       " 'g': 'Golgi',\n",
       " 'lp': 'lipid particle',\n",
       " 'v': 'vacuole',\n",
       " 'erm': 'endoplasmic reticulum membrane',\n",
       " 'vm': 'vacuolar membrane',\n",
       " 'gm': 'Golgi membrane',\n",
       " 'mm': 'mitochondrial membrane'}"
      ]
     },
     "execution_count": 2,
     "metadata": {},
     "output_type": "execute_result"
    }
   ],
   "source": [
    "model.compartments"
   ]
  },
  {
   "cell_type": "code",
   "execution_count": 3,
   "id": "e1296810-70fb-4a99-9bb8-a7140f96ba4a",
   "metadata": {},
   "outputs": [
    {
     "name": "stdout",
     "output_type": "stream",
     "text": [
      "Maximize\n",
      "1.0*r_2111 - 1.0*r_2111_reverse_58b69\n"
     ]
    }
   ],
   "source": [
    "print(model.objective)"
   ]
  },
  {
   "cell_type": "code",
   "execution_count": 4,
   "id": "b5b97861-38c2-43f2-82de-d5738f435b25",
   "metadata": {},
   "outputs": [
    {
     "data": {
      "text/plain": [
       "{'r_1654': 1000.0,\n",
       " 'r_1714': 1.0,\n",
       " 'r_1832': 1000.0,\n",
       " 'r_1861': 1000.0,\n",
       " 'r_1992': 1000.0,\n",
       " 'r_2005': 1000.0,\n",
       " 'r_2020': 1000.0,\n",
       " 'r_2049': 1000.0,\n",
       " 'r_2060': 1000.0,\n",
       " 'r_2100': 1000.0,\n",
       " 'r_4593': 1000.0,\n",
       " 'r_4594': 1000.0,\n",
       " 'r_4595': 1000.0,\n",
       " 'r_4596': 1000.0,\n",
       " 'r_4597': 1000.0,\n",
       " 'r_4600': 1000.0}"
      ]
     },
     "execution_count": 4,
     "metadata": {},
     "output_type": "execute_result"
    }
   ],
   "source": [
    "model.medium"
   ]
  },
  {
   "cell_type": "markdown",
   "id": "48358818-c955-4d7f-a672-bd5accd046bb",
   "metadata": {},
   "source": [
    "     'r_1654': Ammonium\n",
    "     'r_1714': D-glucose\n",
    "     'r_1832': H+\n",
    "     'r_1861': Iron(2+)\n",
    "     'r_1992': Oxygen\n",
    "     'r_2005': Phosphate\n",
    "     'r_2020': Potassium\n",
    "     'r_2049': Sodium\n",
    "     'r_2060': Sulphate\n",
    "     'r_2100': H20\n",
    "     'r_4593': Chloride\n",
    "     'r_4594': Cu2(+)\n",
    "     'r_4595': Mn(2+)\n",
    "     'r_4596': Zn(2+)\n",
    "     'r_4597': Mg(2+)\n",
    "     'r_4600': Ca(2+)"
   ]
  },
  {
   "cell_type": "markdown",
   "id": "9ced8505-ce4d-4ae0-96e2-fc22cb4072e5",
   "metadata": {},
   "source": [
    "Not sure if we want to change the medium of growth - but here's a list\n",
    "\n",
    "### INSTEAD - Go check the metabolic activity "
   ]
  },
  {
   "cell_type": "code",
   "execution_count": 5,
   "id": "39496422-fd85-45b3-90b5-559321e8be91",
   "metadata": {},
   "outputs": [
    {
     "name": "stdout",
     "output_type": "stream",
     "text": [
      "Maximum productivity = 3.5820895522388043 mmol/gDW*h\n",
      "Maximum theoretical yield = 0.1791044776119402 mmol-EPA/mmol-glc\n",
      "Objective of model is = Maximize\n",
      "1.0*DM_Eicosapentaenoic_Acid - 1.0*DM_Eicosapentaenoic_Acid_reverse_e7faa\n"
     ]
    }
   ],
   "source": [
    "model.objective = model.reactions.DM_Eicosapentaenoic_Acid\n",
    "medium = model.medium\n",
    "with model:\n",
    "    medium['r_1714'] = 20\n",
    "    model.medium = medium\n",
    "    EPA_production = model.optimize().objective_value\n",
    "    print('Maximum productivity =', EPA_production, 'mmol/gDW*h')\n",
    "    maximum_yield = EPA_production / (-1*(model.reactions.get_by_id('r_1714').flux))\n",
    "    print('Maximum theoretical yield =', maximum_yield, 'mmol-EPA/mmol-glc')\n",
    "    print('Objective of model is =', model.objective)\n"
   ]
  },
  {
   "cell_type": "markdown",
   "id": "8ad98093-c9c0-438b-9785-18bd8ba18caf",
   "metadata": {},
   "source": [
    "### Lets try to optimize the medium\n",
    "\n",
    "According to [https://onlinelibrary.wiley.com/doi/epdf/10.1002/ejlt.200700224], the optimal medium for *L. starkeyi* is: \n",
    "mixed  sugar 73.3 g/L  (glucose  48.9 g/L,  xylose  24.4 g/L),  yeast  extract 7.9 g/L, FeSO 44.0 mg/L, KH2PO 47.0 g/L, Na2HPO 42.0 g/L, MgSO4-7H2O 1.0 g/L, and NH4Cl 0.5 g/L."
   ]
  },
  {
   "cell_type": "code",
   "execution_count": 19,
   "id": "85502a1a-bfde-417a-a8db-c89ec56a9d72",
   "metadata": {},
   "outputs": [
    {
     "name": "stdout",
     "output_type": "stream",
     "text": [
      "Maximum productivity = 9.999999999999996 mmol/gDW*h\n",
      "Maximum theoretical yield = 0.49999999999999983 mmol-EPA/mmol-glc\n",
      "Objective of model is = Maximize\n",
      "1.0*DM_Eicosapentaenoic_Acid - 1.0*DM_Eicosapentaenoic_Acid_reverse_e7faa\n"
     ]
    }
   ],
   "source": [
    "OPTmedium = model.medium\n",
    "\n",
    "OPTmedium[\"r_1718\"] = 100 #Xylose exchange\n",
    "OPTmedium[\"r_1714\"] = 100 #Glucose exchange\n",
    "OPTmedium[\"r_2020\"] = 1 #Potassium exchange\n",
    "OPTmedium[\"r_1861\"] = 1#Fe2+\n",
    "OPTmedium[\"r_2049\"] = 1 #Sodium\n",
    "OPTmedium[\"r_1654\"] = 1 #Ammonium\n",
    "OPTmedium[\"r_1832\"] = 10 #H+\n",
    "OPTmedium[\"r_1992\"] = 10 #Oxygen\n",
    "OPTmedium[\"r_2005\"] = 10 #Phosphate\n",
    "OPTmedium[\"r_2060\"] = 10 #Sulphate\n",
    "OPTmedium[\"r_2100\"] = 5 #H20\n",
    "OPTmedium[\"r_4593\"] = 10 #Chloride\n",
    "OPTmedium[\"r_4594\"] = 10 #Cu2+\n",
    "OPTmedium[\"r_4595\"] = 10 #Mn2+\n",
    "OPTmedium[\"r_4596\"] = 10 #Zn2+\n",
    "OPTmedium[\"r_4597\"] = 10 #Mg2+\n",
    "OPTmedium[\"r_4600\"] = 10 #Ca2+\n",
    "\n",
    "# Maybe some amino acids should also be considered - All have exchange reactions in the model\n",
    "\n",
    "model.medium = OPTmedium\n",
    "\n",
    "model.objective = model.reactions.DM_Eicosapentaenoic_Acid\n",
    "medium = model.medium\n",
    "with model:\n",
    "    medium['r_1714'] = 20\n",
    "    model.medium = medium\n",
    "    EPA_production = model.optimize().objective_value\n",
    "    print('Maximum productivity =', EPA_production, 'mmol/gDW*h')\n",
    "    maximum_yield = EPA_production / (-1*(model.reactions.get_by_id('r_1714').flux))\n",
    "    print('Maximum theoretical yield =', maximum_yield, 'mmol-EPA/mmol-glc')\n",
    "    print('Objective of model is =', model.objective)"
   ]
  },
  {
   "cell_type": "code",
   "execution_count": 14,
   "id": "916636ae-99bc-4c7d-8698-12766255a5fa",
   "metadata": {},
   "outputs": [
    {
     "name": "stdout",
     "output_type": "stream",
     "text": [
      "Maximum theoretical biomass productivity: 0.1971777425676391 /h\n",
      "Maximum theoretical productivity of EPA: 5.074626865671648 mmol/gDW*h\n"
     ]
    }
   ],
   "source": [
    "model.objective = model.reactions.get_by_id('r_2111')\n",
    "solution = model.optimize()\n",
    "print('Maximum theoretical biomass productivity:', solution.fluxes['r_2111'], '/h') \n",
    "\n",
    "model.objective = model.reactions.DM_Eicosapentaenoic_Acid\n",
    "EPA_prod = model.optimize().objective_value\n",
    "print('Maximum theoretical productivity of EPA:', EPA_prod, 'mmol/gDW*h')"
   ]
  },
  {
   "cell_type": "code",
   "execution_count": 15,
   "id": "05695ac2-b188-41eb-95f0-baf4ee532183",
   "metadata": {},
   "outputs": [
    {
     "data": {
      "text/plain": [
       "0.1971777425676391"
      ]
     },
     "execution_count": 15,
     "metadata": {},
     "output_type": "execute_result"
    }
   ],
   "source": [
    "solution.fluxes['r_2111']"
   ]
  },
  {
   "cell_type": "markdown",
   "id": "0c0105ee-6516-4637-aaef-4f8f8e63e804",
   "metadata": {},
   "source": [
    "## Find the optimal medium for the model by setting bounds and optimizing the model"
   ]
  },
  {
   "cell_type": "code",
   "execution_count": 24,
   "id": "55d655e7-a468-4dba-8a4b-19eec59ce3d5",
   "metadata": {},
   "outputs": [
    {
     "ename": "AttributeError",
     "evalue": "DictList has no attribute or entry growth",
     "output_type": "error",
     "traceback": [
      "\u001b[0;31m---------------------------------------------------------------------------\u001b[0m",
      "\u001b[0;31mKeyError\u001b[0m                                  Traceback (most recent call last)",
      "File \u001b[0;32m~/anaconda3/lib/python3.10/site-packages/cobra/core/dictlist.py:525\u001b[0m, in \u001b[0;36mDictList.__getattr__\u001b[0;34m(self, attr)\u001b[0m\n\u001b[1;32m    524\u001b[0m \u001b[38;5;28;01mtry\u001b[39;00m:\n\u001b[0;32m--> 525\u001b[0m     \u001b[38;5;28;01mreturn\u001b[39;00m \u001b[43mDictList\u001b[49m\u001b[38;5;241;43m.\u001b[39;49m\u001b[43mget_by_id\u001b[49m\u001b[43m(\u001b[49m\u001b[38;5;28;43mself\u001b[39;49m\u001b[43m,\u001b[49m\u001b[43m \u001b[49m\u001b[43mattr\u001b[49m\u001b[43m)\u001b[49m\n\u001b[1;32m    526\u001b[0m \u001b[38;5;28;01mexcept\u001b[39;00m \u001b[38;5;167;01mKeyError\u001b[39;00m:\n",
      "File \u001b[0;32m~/anaconda3/lib/python3.10/site-packages/cobra/core/dictlist.py:73\u001b[0m, in \u001b[0;36mDictList.get_by_id\u001b[0;34m(self, id)\u001b[0m\n\u001b[1;32m     72\u001b[0m \u001b[38;5;250m\u001b[39m\u001b[38;5;124;03m\"\"\"Return the element with a matching id.\"\"\"\u001b[39;00m\n\u001b[0;32m---> 73\u001b[0m \u001b[38;5;28;01mreturn\u001b[39;00m \u001b[38;5;28mlist\u001b[39m\u001b[38;5;241m.\u001b[39m\u001b[38;5;21m__getitem__\u001b[39m(\u001b[38;5;28mself\u001b[39m, \u001b[38;5;28;43mself\u001b[39;49m\u001b[38;5;241;43m.\u001b[39;49m\u001b[43m_dict\u001b[49m\u001b[43m[\u001b[49m\u001b[38;5;28;43mid\u001b[39;49m\u001b[43m]\u001b[49m)\n",
      "\u001b[0;31mKeyError\u001b[0m: 'growth'",
      "\nDuring handling of the above exception, another exception occurred:\n",
      "\u001b[0;31mAttributeError\u001b[0m                            Traceback (most recent call last)",
      "Cell \u001b[0;32mIn[24], line 1\u001b[0m\n\u001b[0;32m----> 1\u001b[0m \u001b[43mmodel\u001b[49m\u001b[38;5;241;43m.\u001b[39;49m\u001b[43mreactions\u001b[49m\u001b[38;5;241;43m.\u001b[39;49m\u001b[43mgrowth\u001b[49m\u001b[38;5;241m.\u001b[39mbounds \u001b[38;5;241m=\u001b[39m \u001b[38;5;241m-\u001b[39m\u001b[38;5;241m10\u001b[39m\n",
      "File \u001b[0;32m~/anaconda3/lib/python3.10/site-packages/cobra/core/dictlist.py:527\u001b[0m, in \u001b[0;36mDictList.__getattr__\u001b[0;34m(self, attr)\u001b[0m\n\u001b[1;32m    525\u001b[0m     \u001b[38;5;28;01mreturn\u001b[39;00m DictList\u001b[38;5;241m.\u001b[39mget_by_id(\u001b[38;5;28mself\u001b[39m, attr)\n\u001b[1;32m    526\u001b[0m \u001b[38;5;28;01mexcept\u001b[39;00m \u001b[38;5;167;01mKeyError\u001b[39;00m:\n\u001b[0;32m--> 527\u001b[0m     \u001b[38;5;28;01mraise\u001b[39;00m \u001b[38;5;167;01mAttributeError\u001b[39;00m(\u001b[38;5;124mf\u001b[39m\u001b[38;5;124m\"\u001b[39m\u001b[38;5;124mDictList has no attribute or entry \u001b[39m\u001b[38;5;132;01m{\u001b[39;00mattr\u001b[38;5;132;01m}\u001b[39;00m\u001b[38;5;124m\"\u001b[39m)\n",
      "\u001b[0;31mAttributeError\u001b[0m: DictList has no attribute or entry growth"
     ]
    }
   ],
   "source": [
    "model.reactions.growth.bounds = -10"
   ]
  },
  {
   "cell_type": "code",
   "execution_count": null,
   "id": "644342bf-5cc6-4853-8ecc-bb1accc98c95",
   "metadata": {},
   "outputs": [],
   "source": []
  }
 ],
 "metadata": {
  "kernelspec": {
   "display_name": "Python 3 (ipykernel)",
   "language": "python",
   "name": "python3"
  },
  "language_info": {
   "codemirror_mode": {
    "name": "ipython",
    "version": 3
   },
   "file_extension": ".py",
   "mimetype": "text/x-python",
   "name": "python",
   "nbconvert_exporter": "python",
   "pygments_lexer": "ipython3",
   "version": "3.10.8"
  }
 },
 "nbformat": 4,
 "nbformat_minor": 5
}
