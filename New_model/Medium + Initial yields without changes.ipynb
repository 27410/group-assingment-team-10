{
 "cells": [
  {
   "cell_type": "code",
   "execution_count": 1,
   "id": "63e7a57e-2d56-4daa-94d3-576e6b504176",
   "metadata": {},
   "outputs": [],
   "source": [
    "%run Heterologous_insert.ipynb"
   ]
  },
  {
   "cell_type": "code",
   "execution_count": 2,
   "id": "b5b97861-38c2-43f2-82de-d5738f435b25",
   "metadata": {},
   "outputs": [
    {
     "data": {
      "text/plain": [
       "{'r_1654': 1000.0,\n",
       " 'r_1714': 1.0,\n",
       " 'r_1832': 1000.0,\n",
       " 'r_1861': 1000.0,\n",
       " 'r_1992': 1000.0,\n",
       " 'r_2005': 1000.0,\n",
       " 'r_2020': 1000.0,\n",
       " 'r_2049': 1000.0,\n",
       " 'r_2060': 1000.0,\n",
       " 'r_2100': 1000.0,\n",
       " 'r_4593': 1000.0,\n",
       " 'r_4594': 1000.0,\n",
       " 'r_4595': 1000.0,\n",
       " 'r_4596': 1000.0,\n",
       " 'r_4597': 1000.0,\n",
       " 'r_4600': 1000.0}"
      ]
     },
     "execution_count": 2,
     "metadata": {},
     "output_type": "execute_result"
    }
   ],
   "source": [
    "model.medium"
   ]
  },
  {
   "cell_type": "markdown",
   "id": "48358818-c955-4d7f-a672-bd5accd046bb",
   "metadata": {},
   "source": [
    "     'r_1654': Ammonium\n",
    "     'r_1714': D-glucose\n",
    "     'r_1832': H+\n",
    "     'r_1861': Iron(2+)\n",
    "     'r_1992': Oxygen\n",
    "     'r_2005': Phosphate\n",
    "     'r_2020': Potassium\n",
    "     'r_2049': Sodium\n",
    "     'r_2060': Sulphate\n",
    "     'r_2100': H20\n",
    "     'r_4593': Chloride\n",
    "     'r_4594': Cu2(+)\n",
    "     'r_4595': Mn(2+)\n",
    "     'r_4596': Zn(2+)\n",
    "     'r_4597': Mg(2+)\n",
    "     'r_4600': Ca(2+)"
   ]
  },
  {
   "cell_type": "markdown",
   "id": "9ced8505-ce4d-4ae0-96e2-fc22cb4072e5",
   "metadata": {},
   "source": [
    "Not sure if we want to change the medium of growth - but here's a list\n",
    "\n",
    "### INSTEAD - Go check the metabolic activity "
   ]
  },
  {
   "cell_type": "code",
   "execution_count": 6,
   "id": "3be08bd6-e610-44f6-a08c-fecdcfb60503",
   "metadata": {},
   "outputs": [],
   "source": [
    " model.objective = model.reactions.DM_Eicosapentaenoic_Acid"
   ]
  },
  {
   "cell_type": "code",
   "execution_count": 7,
   "id": "8a2f8327-26d8-4f4b-bca5-3507efdae323",
   "metadata": {},
   "outputs": [
    {
     "name": "stdout",
     "output_type": "stream",
     "text": [
      "Maximum productivity = 0.17910447761194048 mmol/gDW*h\n"
     ]
    }
   ],
   "source": [
    "EPA_production = model.optimize().objective_value\n",
    "print('Maximum productivity =', EPA_production, 'mmol/gDW*h')"
   ]
  },
  {
   "cell_type": "code",
   "execution_count": 13,
   "id": "7b01148f-0f1d-435f-ac63-082d05de757d",
   "metadata": {},
   "outputs": [
    {
     "name": "stdout",
     "output_type": "stream",
     "text": [
      "Maximum theoretical yield = 0.17910447761194048 mmol-EPA/mmol-glc\n"
     ]
    }
   ],
   "source": [
    "   \n",
    "maximum_yield = EPA_production / (-1*(model.reactions.get_by_id('r_1714').flux))\n",
    "print('Maximum theoretical yield =', maximum_yield, 'mmol-EPA/mmol-glc')"
   ]
  }
 ],
 "metadata": {
  "kernelspec": {
   "display_name": "Python 3 (ipykernel)",
   "language": "python",
   "name": "python3"
  },
  "language_info": {
   "codemirror_mode": {
    "name": "ipython",
    "version": 3
   },
   "file_extension": ".py",
   "mimetype": "text/x-python",
   "name": "python",
   "nbconvert_exporter": "python",
   "pygments_lexer": "ipython3",
   "version": "3.10.9"
  }
 },
 "nbformat": 4,
 "nbformat_minor": 5
}
