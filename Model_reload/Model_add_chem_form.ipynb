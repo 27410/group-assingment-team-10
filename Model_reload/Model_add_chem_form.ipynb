{
 "cells": [
  {
   "cell_type": "code",
   "execution_count": 26,
   "metadata": {},
   "outputs": [],
   "source": [
    "#Opening files for reading and writing of the old/changed model\n",
    "outfile = open('Model_1_new.xml','w');\n",
    "infile = open('Model_1.xml','r');"
   ]
  },
  {
   "cell_type": "code",
   "execution_count": 34,
   "metadata": {},
   "outputs": [],
   "source": [
    "#Code for copying the file if it is not a 'species'\n",
    "#Adding the chemical formula to the line if it is a species\n",
    "\n",
    "search_word = '<species id'\n",
    "for line in infile:\n",
    "    is_species = False;\n",
    "    for i in range(len(line)):\n",
    "        if line[i:i+11] == search_word:\n",
    "            is_species = True;\n",
    "    if is_species==False:\n",
    "        outfile.write(line);\n",
    "    elif is_species==True:\n",
    "        new_line = line[0:len(line)-3]\n",
    "        for j in range(len(new_line)):\n",
    "            if line[j:j+5] == 'name=':\n",
    "                name = new_line[j+6:];\n",
    "                break;\n",
    "        for j in range(len(name)):\n",
    "            if name[j]=='\"':\n",
    "                name = name[0:j];\n",
    "                break;\n",
    "        for j in range(len(name)):\n",
    "            if name[j] == '_':\n",
    "                chem_formula= name[j+1:];\n",
    "        new_line = new_line + ' fbc:chemicalFormula=\"' + chem_formula + '\"/> \\n'\n",
    "        outfile.write(new_line);\n",
    "\n",
    "\n",
    "\n",
    "                \n",
    "\n",
    "                \n"
   ]
  },
  {
   "cell_type": "code",
   "execution_count": 25,
   "metadata": {},
   "outputs": [],
   "source": [
    "outfile.close()\n",
    "infile.close()"
   ]
  }
 ],
 "metadata": {
  "kernelspec": {
   "display_name": "Python 3",
   "language": "python",
   "name": "python3"
  },
  "language_info": {
   "codemirror_mode": {
    "name": "ipython",
    "version": 3
   },
   "file_extension": ".py",
   "mimetype": "text/x-python",
   "name": "python",
   "nbconvert_exporter": "python",
   "pygments_lexer": "ipython3",
   "version": "3.10.8"
  }
 },
 "nbformat": 4,
 "nbformat_minor": 2
}
