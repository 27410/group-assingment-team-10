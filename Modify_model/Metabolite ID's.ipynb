{
 "cells": [
  {
   "cell_type": "markdown",
   "id": "7e420218-4599-46c8-b92a-d9167c188488",
   "metadata": {},
   "source": [
    "Metabolite names: (extracted them from the raw xml model by visual inspection)\n",
    "\n",
    "CO2 = M_co2_c\n",
    "\n",
    "H2O = M_h2o_c\n",
    "\n",
    "H+ = M_H_c\n",
    "\n",
    "Malonyl-coa = M_malcoa_c\n",
    "\n",
    "NADPH = M_nadph_c\n",
    "\n",
    "NADP(+) = M_nadp_m\n",
    "\n",
    "Coenzyme A (CoA) = M_coa_c\n",
    "\n",
    "Oxygen = M_o2_c\n",
    "\n",
    "D-glucose = M_glc_D_c"
   ]
  },
  {
   "cell_type": "code",
   "execution_count": 1,
   "metadata": {},
   "outputs": [
    {
     "name": "stderr",
     "output_type": "stream",
     "text": [
      "No objective coefficients in model. Unclear what should be optimized\n"
     ]
    },
    {
     "data": {
      "text/plain": [
       "'CO2'"
      ]
     },
     "execution_count": 1,
     "metadata": {},
     "output_type": "execute_result"
    }
   ],
   "source": [
    "#loading the modified (chemical formulas added model)\n",
    "from cobra.io import read_sbml_model\n",
    "from cobra import Reaction,Metabolite\n",
    "\n",
    "model = read_sbml_model('Kavscek2015_mod.xml')"
   ]
  },
  {
   "cell_type": "code",
   "execution_count": 4,
   "metadata": {},
   "outputs": [
    {
     "data": {
      "text/plain": [
       "848.5406029999999"
      ]
     },
     "execution_count": 4,
     "metadata": {},
     "output_type": "execute_result"
    }
   ],
   "source": [
    "#Checking if the chemical formula annotation has been correct\n",
    "model.metabolites.co2_c.formula\n",
    "model.metabolites.malcoa_c.formula_weight"
   ]
  },
  {
   "cell_type": "code",
   "execution_count": 6,
   "metadata": {},
   "outputs": [
    {
     "ename": "AttributeError",
     "evalue": "'Metabolite' object has no attribute 'annotations'",
     "output_type": "error",
     "traceback": [
      "\u001b[0;31m---------------------------------------------------------------------------\u001b[0m",
      "\u001b[0;31mAttributeError\u001b[0m                            Traceback (most recent call last)",
      "\u001b[1;32m/workspaces/group-assingment-team-10/Modify_model/Metabolite ID's.ipynb Zelle 4\u001b[0m line \u001b[0;36m2\n\u001b[1;32m      <a href='vscode-notebook-cell://codespaces%2Bbug-free-funicular-r4gwj775xxwwh5vqq/workspaces/group-assingment-team-10/Modify_model/Metabolite%20ID%27s.ipynb#W5sdnNjb2RlLXJlbW90ZQ%3D%3D?line=0'>1</a>\u001b[0m \u001b[39m#Checking annotations\u001b[39;00m\n\u001b[0;32m----> <a href='vscode-notebook-cell://codespaces%2Bbug-free-funicular-r4gwj775xxwwh5vqq/workspaces/group-assingment-team-10/Modify_model/Metabolite%20ID%27s.ipynb#W5sdnNjb2RlLXJlbW90ZQ%3D%3D?line=1'>2</a>\u001b[0m model\u001b[39m.\u001b[39;49mmetabolites\u001b[39m.\u001b[39;49mmalcoa_c\u001b[39m.\u001b[39;49mannotations\n",
      "\u001b[0;31mAttributeError\u001b[0m: 'Metabolite' object has no attribute 'annotations'"
     ]
    }
   ],
   "source": [
    "#Checking annotations\n",
    "model.metabolites.malcoa_c.annotations"
   ]
  },
  {
   "cell_type": "markdown",
   "metadata": {},
   "source": [
    "Metabolites have no annotations apparently"
   ]
  }
 ],
 "metadata": {
  "kernelspec": {
   "display_name": "Python 3 (ipykernel)",
   "language": "python",
   "name": "python3"
  },
  "language_info": {
   "codemirror_mode": {
    "name": "ipython",
    "version": 3
   },
   "file_extension": ".py",
   "mimetype": "text/x-python",
   "name": "python",
   "nbconvert_exporter": "python",
   "pygments_lexer": "ipython3",
   "version": "3.10.8"
  }
 },
 "nbformat": 4,
 "nbformat_minor": 5
}
