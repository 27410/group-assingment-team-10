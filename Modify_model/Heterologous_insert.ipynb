{
 "cells": [
  {
   "cell_type": "code",
   "execution_count": 34,
   "id": "b0af06f1-f693-49ab-adae-6be5127f70fa",
   "metadata": {},
   "outputs": [
    {
     "name": "stderr",
     "output_type": "stream",
     "text": [
      "No objective coefficients in model. Unclear what should be optimized\n"
     ]
    }
   ],
   "source": [
    "#Loading the modified Kavscek2015 model (annotated chemical formula)\n",
    "from cobra.io import read_sbml_model\n",
    "from cobra.io import write_sbml_model\n",
    "from cobra import Reaction, Metabolite\n",
    "model = read_sbml_model('Kavscek2015_mod.xml')"
   ]
  },
  {
   "cell_type": "code",
   "execution_count": 35,
   "id": "128f9fad-ddf0-4509-863b-ae2603c2883b",
   "metadata": {},
   "outputs": [
    {
     "data": {
      "text/html": [
       "\n",
       "        <table>\n",
       "            <tr>\n",
       "                <td><strong>Name</strong></td>\n",
       "                <td>MODEL1510060001</td>\n",
       "            </tr><tr>\n",
       "                <td><strong>Memory address</strong></td>\n",
       "                <td>7f254ffb79a0</td>\n",
       "            </tr><tr>\n",
       "                <td><strong>Number of metabolites</strong></td>\n",
       "                <td>1239</td>\n",
       "            </tr><tr>\n",
       "                <td><strong>Number of reactions</strong></td>\n",
       "                <td>1464</td>\n",
       "            </tr><tr>\n",
       "                <td><strong>Number of genes</strong></td>\n",
       "                <td>735</td>\n",
       "            </tr><tr>\n",
       "                <td><strong>Number of groups</strong></td>\n",
       "                <td>59</td>\n",
       "            </tr><tr>\n",
       "                <td><strong>Objective expression</strong></td>\n",
       "                <td>0</td>\n",
       "            </tr><tr>\n",
       "                <td><strong>Compartments</strong></td>\n",
       "                <td>Cytosol, Mitochondria, Extra_organism, Nucleus, Peroxisome, Endoplasmic_Reticulum, Golgi_Apparatus, Vacuole</td>\n",
       "            </tr>\n",
       "          </table>"
      ],
      "text/plain": [
       "<Model MODEL1510060001 at 0x7f254ffb79a0>"
      ]
     },
     "execution_count": 35,
     "metadata": {},
     "output_type": "execute_result"
    }
   ],
   "source": [
    "model"
   ]
  },
  {
   "cell_type": "code",
   "execution_count": 36,
   "id": "47ba4998-9c25-42c3-90cb-d98a979aec13",
   "metadata": {},
   "outputs": [],
   "source": [
    "Oleic_Acid = model.metabolites.get_by_id('ocdcea_c')"
   ]
  },
  {
   "cell_type": "code",
   "execution_count": 37,
   "id": "71617e85-6ea3-4755-84e1-340e0b456f55",
   "metadata": {},
   "outputs": [
    {
     "data": {
      "text/html": [
       "\n",
       "        <table>\n",
       "            <tr>\n",
       "                <td><strong>Metabolite identifier</strong></td><td>ocdcea_c</td>\n",
       "            </tr><tr>\n",
       "                <td><strong>Name</strong></td><td>M_octadecenoate__n_C181__C18H33O2</td>\n",
       "            </tr><tr>\n",
       "                <td><strong>Memory address</strong></td>\n",
       "                <td>0x7f255083ffa0</td>\n",
       "            </tr><tr>\n",
       "                <td><strong>Formula</strong></td><td>C18H33O2</td>\n",
       "            </tr><tr>\n",
       "                <td><strong>Compartment</strong></td><td>Cytosol</td>\n",
       "            </tr><tr>\n",
       "                <td><strong>In 10 reaction(s)</strong></td><td>\n",
       "                    DGL, SEH_ergst, SEH_fecost, FA181ACPH, SEH_epist, MGL, SEH_lanost, OCDCEAt, FACOAL181, SEH_zymst\n",
       "                    </td>\n",
       "            </tr>\n",
       "        </table>"
      ],
      "text/plain": [
       "<Metabolite ocdcea_c at 0x7f255083ffa0>"
      ]
     },
     "execution_count": 37,
     "metadata": {},
     "output_type": "execute_result"
    }
   ],
   "source": [
    "Oleic_Acid"
   ]
  },
  {
   "cell_type": "markdown",
   "id": "4f7e8094-d821-4995-a20c-1889bf6ce53a",
   "metadata": {},
   "source": [
    "# Name the metabolites we need"
   ]
  },
  {
   "cell_type": "code",
   "execution_count": 38,
   "id": "17997f9f-afa7-49c6-a1b9-1d0b752c6aa6",
   "metadata": {
    "tags": []
   },
   "outputs": [
    {
     "data": {
      "text/html": [
       "\n",
       "        <table>\n",
       "            <tr>\n",
       "                <td><strong>Metabolite identifier</strong></td><td>linoleate</td>\n",
       "            </tr><tr>\n",
       "                <td><strong>Name</strong></td><td>linoleate</td>\n",
       "            </tr><tr>\n",
       "                <td><strong>Memory address</strong></td>\n",
       "                <td>0x7f254ffb7f70</td>\n",
       "            </tr><tr>\n",
       "                <td><strong>Formula</strong></td><td>C18H32O2</td>\n",
       "            </tr><tr>\n",
       "                <td><strong>Compartment</strong></td><td>c</td>\n",
       "            </tr><tr>\n",
       "                <td><strong>In 0 reaction(s)</strong></td><td>\n",
       "                    \n",
       "                    </td>\n",
       "            </tr>\n",
       "        </table>"
      ],
      "text/plain": [
       "<Metabolite linoleate at 0x7f254ffb7f70>"
      ]
     },
     "execution_count": 38,
     "metadata": {},
     "output_type": "execute_result"
    }
   ],
   "source": [
    "linoleate = Metabolite(id = 'linoleate', compartment = 'c', name = 'linoleate', formula = 'C18H32O2')\n",
    "linoleate"
   ]
  },
  {
   "cell_type": "code",
   "execution_count": 39,
   "id": "6ad0b1fb-6136-4806-bd03-52915d099dd6",
   "metadata": {
    "tags": []
   },
   "outputs": [
    {
     "data": {
      "text/html": [
       "\n",
       "        <table>\n",
       "            <tr>\n",
       "                <td><strong>Metabolite identifier</strong></td><td>Eicosadienoic_Acid</td>\n",
       "            </tr><tr>\n",
       "                <td><strong>Name</strong></td><td>EDA</td>\n",
       "            </tr><tr>\n",
       "                <td><strong>Memory address</strong></td>\n",
       "                <td>0x7f254ffb71f0</td>\n",
       "            </tr><tr>\n",
       "                <td><strong>Formula</strong></td><td>C20H36O2</td>\n",
       "            </tr><tr>\n",
       "                <td><strong>Compartment</strong></td><td>c</td>\n",
       "            </tr><tr>\n",
       "                <td><strong>In 0 reaction(s)</strong></td><td>\n",
       "                    \n",
       "                    </td>\n",
       "            </tr>\n",
       "        </table>"
      ],
      "text/plain": [
       "<Metabolite Eicosadienoic_Acid at 0x7f254ffb71f0>"
      ]
     },
     "execution_count": 39,
     "metadata": {},
     "output_type": "execute_result"
    }
   ],
   "source": [
    "EDA = Metabolite(id = 'Eicosadienoic_Acid', compartment = 'c', name = 'EDA', formula = 'C20H36O2')\n",
    "EDA"
   ]
  },
  {
   "cell_type": "code",
   "execution_count": 40,
   "id": "2d9af296-50c0-4a47-90e2-0b2937edbe85",
   "metadata": {
    "tags": []
   },
   "outputs": [
    {
     "data": {
      "text/html": [
       "\n",
       "        <table>\n",
       "            <tr>\n",
       "                <td><strong>Metabolite identifier</strong></td><td>Dihomo_g_linolenic_acid</td>\n",
       "            </tr><tr>\n",
       "                <td><strong>Name</strong></td><td>DGLA</td>\n",
       "            </tr><tr>\n",
       "                <td><strong>Memory address</strong></td>\n",
       "                <td>0x7f254ffb73a0</td>\n",
       "            </tr><tr>\n",
       "                <td><strong>Formula</strong></td><td>C20H34O2</td>\n",
       "            </tr><tr>\n",
       "                <td><strong>Compartment</strong></td><td>c</td>\n",
       "            </tr><tr>\n",
       "                <td><strong>In 0 reaction(s)</strong></td><td>\n",
       "                    \n",
       "                    </td>\n",
       "            </tr>\n",
       "        </table>"
      ],
      "text/plain": [
       "<Metabolite Dihomo_g_linolenic_acid at 0x7f254ffb73a0>"
      ]
     },
     "execution_count": 40,
     "metadata": {},
     "output_type": "execute_result"
    }
   ],
   "source": [
    "DGLA = Metabolite(id = 'Dihomo_g_linolenic_acid', compartment = 'c', name = 'DGLA', formula = 'C20H34O2')\n",
    "DGLA"
   ]
  },
  {
   "cell_type": "code",
   "execution_count": 41,
   "id": "bee2c36b-2924-4f02-a20a-3fee4feee1e7",
   "metadata": {
    "tags": []
   },
   "outputs": [
    {
     "data": {
      "text/html": [
       "\n",
       "        <table>\n",
       "            <tr>\n",
       "                <td><strong>Metabolite identifier</strong></td><td>Arachidonic_acid</td>\n",
       "            </tr><tr>\n",
       "                <td><strong>Name</strong></td><td>ARA</td>\n",
       "            </tr><tr>\n",
       "                <td><strong>Memory address</strong></td>\n",
       "                <td>0x7f254ffb7dc0</td>\n",
       "            </tr><tr>\n",
       "                <td><strong>Formula</strong></td><td>C20H32O2</td>\n",
       "            </tr><tr>\n",
       "                <td><strong>Compartment</strong></td><td>c</td>\n",
       "            </tr><tr>\n",
       "                <td><strong>In 0 reaction(s)</strong></td><td>\n",
       "                    \n",
       "                    </td>\n",
       "            </tr>\n",
       "        </table>"
      ],
      "text/plain": [
       "<Metabolite Arachidonic_acid at 0x7f254ffb7dc0>"
      ]
     },
     "execution_count": 41,
     "metadata": {},
     "output_type": "execute_result"
    }
   ],
   "source": [
    "ARA = Metabolite(id = 'Arachidonic_acid', compartment = 'c', name = 'ARA', formula = 'C20H32O2')\n",
    "ARA"
   ]
  },
  {
   "cell_type": "code",
   "execution_count": 42,
   "id": "8f8f7e0e-ee90-408d-988c-75489a3b6fcf",
   "metadata": {
    "tags": []
   },
   "outputs": [
    {
     "data": {
      "text/html": [
       "\n",
       "        <table>\n",
       "            <tr>\n",
       "                <td><strong>Metabolite identifier</strong></td><td>Eicosapentaenoic_Acid</td>\n",
       "            </tr><tr>\n",
       "                <td><strong>Name</strong></td><td>EPA</td>\n",
       "            </tr><tr>\n",
       "                <td><strong>Memory address</strong></td>\n",
       "                <td>0x7f254ffb7400</td>\n",
       "            </tr><tr>\n",
       "                <td><strong>Formula</strong></td><td>C20H30O2</td>\n",
       "            </tr><tr>\n",
       "                <td><strong>Compartment</strong></td><td>c</td>\n",
       "            </tr><tr>\n",
       "                <td><strong>In 0 reaction(s)</strong></td><td>\n",
       "                    \n",
       "                    </td>\n",
       "            </tr>\n",
       "        </table>"
      ],
      "text/plain": [
       "<Metabolite Eicosapentaenoic_Acid at 0x7f254ffb7400>"
      ]
     },
     "execution_count": 42,
     "metadata": {},
     "output_type": "execute_result"
    }
   ],
   "source": [
    "EPA = Metabolite(id = 'Eicosapentaenoic_Acid', compartment = 'c', name = 'EPA', formula = 'C20H30O2')\n",
    "EPA"
   ]
  },
  {
   "cell_type": "markdown",
   "id": "0ac31ccb-cbb6-456b-bed7-e9992d760279",
   "metadata": {},
   "source": [
    "# Now for the reactions"
   ]
  },
  {
   "cell_type": "code",
   "execution_count": 43,
   "id": "e16a038b-6ccb-4624-865f-13be1fa6fd36",
   "metadata": {},
   "outputs": [],
   "source": [
    "D_12_desaturase = Reaction('D12ds')\n",
    "D_9_Elongase = Reaction('D9E')\n",
    "D_8_desaturase = Reaction('D8ds')\n",
    "D_5_desaturase = Reaction('D5ds')\n",
    "D_17_desaturase = Reaction('D17ds')"
   ]
  },
  {
   "cell_type": "markdown",
   "id": "d27049e6-15d2-4163-950b-1a776da7bacb",
   "metadata": {},
   "source": [
    "# Adding the metabolites to the reactions"
   ]
  },
  {
   "cell_type": "code",
   "execution_count": 44,
   "id": "cb78656c-18d3-4cab-b862-ac401a2fbbee",
   "metadata": {
    "tags": []
   },
   "outputs": [],
   "source": [
    "D_12_desaturase.add_metabolites(({model.metabolites.get_by_id('ocdcea_c'): -1, #Oleic Acid\n",
    "                                  linoleate: 1, \n",
    "                                  model.metabolites.get_by_id('nadph_c'): -2, #NADPH\n",
    "                                  model.metabolites.get_by_id('nadp_m'): 2,  #NADP+\n",
    "                                  model.metabolites.get_by_id('h2o_c'): 2,  #H2O\n",
    "                                  model.metabolites.get_by_id('o2_c'): -2, #Oxygen\n",
    "                              }))"
   ]
  },
  {
   "cell_type": "code",
   "execution_count": 45,
   "id": "5cd453ac-1241-483c-8ad1-3c94ab1fac1b",
   "metadata": {},
   "outputs": [],
   "source": [
    "D_9_Elongase.add_metabolites(({model.metabolites.get_by_id('malcoa_c'): -1, #Malonyl-CoA\n",
    "                               linoleate: -1,\n",
    "                               EDA: 1,\n",
    "                               model.metabolites.get_by_id('h2o_c'): 1,  #H20\n",
    "                               model.metabolites.get_by_id('nadph_c'): -2, #NADPH\n",
    "                               model.metabolites.get_by_id('co2_c'): 1,  #CO2\n",
    "                               model.metabolites.get_by_id('nadp_m'): 2,  #NADP+\n",
    "                               model.metabolites.get_by_id('h_c'): -2, #H+\n",
    "                               model.metabolites.get_by_id('coa_c'): 1,  #Coenzyme A (CoA)\n",
    "                              }))"
   ]
  },
  {
   "cell_type": "code",
   "execution_count": 46,
   "id": "c9845ef5-5f38-4b34-a34e-1a1cac8f61fc",
   "metadata": {},
   "outputs": [],
   "source": [
    "D_8_desaturase.add_metabolites(({EDA: -1,\n",
    "                                 DGLA: 1,\n",
    "                                 model.metabolites.get_by_id('nadph_c'): -2, #NADPH\n",
    "                                 model.metabolites.get_by_id('nadp_m'): 2,  #NADP+\n",
    "                                 model.metabolites.get_by_id('h2o_c'): 2,  #H2O\n",
    "                                 model.metabolites.get_by_id('o2_c'): -2, #Oxygen\n",
    "                              }))"
   ]
  },
  {
   "cell_type": "code",
   "execution_count": 47,
   "id": "806b4d35-727b-4988-a072-7bff3258856a",
   "metadata": {},
   "outputs": [],
   "source": [
    "D_5_desaturase.add_metabolites(({ARA: 1,\n",
    "                                 DGLA: -1,\n",
    "                                 model.metabolites.get_by_id('nadph_c'): -2, #NADPH\n",
    "                                 model.metabolites.get_by_id('nadp_m'): 2,  #NADP+\n",
    "                                 model.metabolites.get_by_id('h2o_c'): 2,  #H2O\n",
    "                                 model.metabolites.get_by_id('o2_c'): -2, #Oxygen\n",
    "                              }))"
   ]
  },
  {
   "cell_type": "code",
   "execution_count": 48,
   "id": "858a5bc7-d92c-4bf6-a973-d99b1d4f0d8d",
   "metadata": {},
   "outputs": [],
   "source": [
    "D_17_desaturase.add_metabolites(({ARA: -1,\n",
    "                                 EPA: 1,\n",
    "                                 model.metabolites.get_by_id('nadph_c'): -2, #NADPH\n",
    "                                 model.metabolites.get_by_id('nadp_m'): 2,  #NADP+\n",
    "                                 model.metabolites.get_by_id('h2o_c'): 2,  #H2O\n",
    "                                 model.metabolites.get_by_id('o2_c'): -2, #Oxygen\n",
    "                              }))"
   ]
  },
  {
   "cell_type": "markdown",
   "id": "3e3a7617-b4ea-4a4c-a3e6-68309c4d2d3e",
   "metadata": {},
   "source": [
    "# Get the reactions into the model"
   ]
  },
  {
   "cell_type": "code",
   "execution_count": 49,
   "id": "4360f03d-9937-49d4-9927-c9d72f8a6f7d",
   "metadata": {},
   "outputs": [],
   "source": [
    "model.add_reactions([D_12_desaturase])\n",
    "model.reactions.D12ds.name = \"D_12_desaturase\"\n",
    "model.add_reactions([D_9_Elongase])\n",
    "model.reactions.D9E.name = \"D_9_Elongase\"\n",
    "model.add_reactions([D_8_desaturase])\n",
    "model.reactions.D8ds.name = \"D_8_desaturase\"\n",
    "model.add_reactions([D_5_desaturase])\n",
    "model.reactions.D5ds.name = \"D_5_desaturase\"\n",
    "model.add_reactions([D_17_desaturase])\n",
    "model.reactions.D12ds.name = \"D_12_desaturase\""
   ]
  },
  {
   "cell_type": "markdown",
   "id": "63bfa9a8-4528-4ba7-90ae-3342b0f23ea7",
   "metadata": {},
   "source": [
    "# Only metabolites from the intracellular space are utilized"
   ]
  },
  {
   "cell_type": "code",
   "execution_count": 50,
   "id": "156458c3-e696-4606-8900-65cc40c67b80",
   "metadata": {},
   "outputs": [
    {
     "data": {
      "text/html": [
       "\n",
       "        <table>\n",
       "            <tr>\n",
       "                <td><strong>Reaction identifier</strong></td><td>DM_Eicosapentaenoic_Acid</td>\n",
       "            </tr><tr>\n",
       "                <td><strong>Name</strong></td><td>EPA demand</td>\n",
       "            </tr><tr>\n",
       "                <td><strong>Memory address</strong></td>\n",
       "                <td>0x7f254f6fdff0</td>\n",
       "            </tr><tr>\n",
       "                <td><strong>Stoichiometry</strong></td>\n",
       "                <td>\n",
       "                    <p style='text-align:right'>Eicosapentaenoic_Acid --></p>\n",
       "                    <p style='text-align:right'>EPA --></p>\n",
       "                </td>\n",
       "            </tr><tr>\n",
       "                <td><strong>GPR</strong></td><td></td>\n",
       "            </tr><tr>\n",
       "                <td><strong>Lower bound</strong></td><td>0</td>\n",
       "            </tr><tr>\n",
       "                <td><strong>Upper bound</strong></td><td>1000.0</td>\n",
       "            </tr>\n",
       "        </table>\n",
       "        "
      ],
      "text/plain": [
       "<Reaction DM_Eicosapentaenoic_Acid at 0x7f254f6fdff0>"
      ]
     },
     "execution_count": 50,
     "metadata": {},
     "output_type": "execute_result"
    }
   ],
   "source": [
    "model.add_boundary(model.metabolites.linoleate, type='demand')\n",
    "model.add_boundary(model.metabolites.Eicosadienoic_Acid, type='demand')\n",
    "model.add_boundary(model.metabolites.Dihomo_g_linolenic_acid, type='demand')\n",
    "model.add_boundary(model.metabolites.Arachidonic_acid, type='demand')\n",
    "model.add_boundary(model.metabolites.Eicosapentaenoic_Acid, type='demand')"
   ]
  },
  {
   "cell_type": "code",
   "execution_count": 51,
   "id": "c1834b6a-7326-4687-a86a-34bb5586797b",
   "metadata": {},
   "outputs": [],
   "source": [
    "#?model.add_boundary"
   ]
  },
  {
   "cell_type": "code",
   "execution_count": 53,
   "id": "cc86e18b-de37-4e23-b5a8-43e3559c40be",
   "metadata": {},
   "outputs": [
    {
     "data": {
      "text/html": [
       "\n",
       "        <table>\n",
       "            <tr>\n",
       "                <td><strong>Reaction identifier</strong></td><td>D5ds</td>\n",
       "            </tr><tr>\n",
       "                <td><strong>Name</strong></td><td>D_5_desaturase</td>\n",
       "            </tr><tr>\n",
       "                <td><strong>Memory address</strong></td>\n",
       "                <td>0x7f254ffb77c0</td>\n",
       "            </tr><tr>\n",
       "                <td><strong>Stoichiometry</strong></td>\n",
       "                <td>\n",
       "                    <p style='text-align:right'>Dihomo_g_linolenic_acid + 2 nadph_c + 2 o2_c --> Arachidonic_acid + 2 h2o_c + 2 nadp_m</p>\n",
       "                    <p style='text-align:right'>DGLA + 2 M_Nicotinamide_adenine_dinucleotide_phosphate___reduced_C21H26N7O17P3 + 2 M_O2_O2 --> ARA + 2 M_H2O_H2O + 2 M_Nicotinamide_adenine_dinucleotide_phosphate_C21H25N7O17P3</p>\n",
       "                </td>\n",
       "            </tr><tr>\n",
       "                <td><strong>GPR</strong></td><td></td>\n",
       "            </tr><tr>\n",
       "                <td><strong>Lower bound</strong></td><td>0.0</td>\n",
       "            </tr><tr>\n",
       "                <td><strong>Upper bound</strong></td><td>1000.0</td>\n",
       "            </tr>\n",
       "        </table>\n",
       "        "
      ],
      "text/plain": [
       "<Reaction D5ds at 0x7f254ffb77c0>"
      ]
     },
     "execution_count": 53,
     "metadata": {},
     "output_type": "execute_result"
    }
   ],
   "source": [
    "model.reactions.D12ds\n",
    "model.reactions.D5ds"
   ]
  },
  {
   "cell_type": "code",
   "execution_count": 54,
   "metadata": {},
   "outputs": [],
   "source": [
    "#Writing the model to store it with the heterologous pathways inserted\n",
    "write_sbml_model(model,\"Kavscek2015_het.xml\")"
   ]
  }
 ],
 "metadata": {
  "kernelspec": {
   "display_name": "Python 3 (ipykernel)",
   "language": "python",
   "name": "python3"
  },
  "language_info": {
   "codemirror_mode": {
    "name": "ipython",
    "version": 3
   },
   "file_extension": ".py",
   "mimetype": "text/x-python",
   "name": "python",
   "nbconvert_exporter": "python",
   "pygments_lexer": "ipython3",
   "version": "3.10.8"
  }
 },
 "nbformat": 4,
 "nbformat_minor": 5
}
