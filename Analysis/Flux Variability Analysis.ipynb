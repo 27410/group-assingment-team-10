{
 "cells": [
  {
   "cell_type": "code",
   "execution_count": 2,
   "id": "0e534c7d-fc67-44cd-8842-13196e747966",
   "metadata": {
    "collapsed": true,
    "jupyter": {
     "outputs_hidden": true
    }
   },
   "outputs": [
    {
     "name": "stdout",
     "output_type": "stream",
     "text": [
      "Collecting mewpy\n",
      "  Downloading mewpy-0.1.31-py2.py3-none-any.whl.metadata (1.9 kB)\n",
      "Requirement already satisfied: cobra in /usr/local/python/3.10.13/lib/python3.10/site-packages (from mewpy) (0.29.0)\n",
      "Requirement already satisfied: inspyred in /usr/local/python/3.10.13/lib/python3.10/site-packages (from mewpy) (1.0.2)\n",
      "Collecting jmetalpy<=1.5.5 (from mewpy)\n",
      "  Downloading jmetalpy-1.5.5.tar.gz (110 kB)\n",
      "\u001b[2K     \u001b[90m━━━━━━━━━━━━━━━━━━━━━━━━━━━━━━━━━━━━━━━\u001b[0m \u001b[32m110.0/110.0 kB\u001b[0m \u001b[31m2.6 MB/s\u001b[0m eta \u001b[36m0:00:00\u001b[0ma \u001b[36m0:00:01\u001b[0m\n",
      "\u001b[?25h  Installing build dependencies ... \u001b[?25ldone\n",
      "\u001b[?25h  Getting requirements to build wheel ... \u001b[?25ldone\n",
      "\u001b[?25h  Preparing metadata (pyproject.toml) ... \u001b[?25ldone\n",
      "\u001b[?25hCollecting reframed (from mewpy)\n",
      "  Downloading reframed-1.5.0-py3-none-any.whl.metadata (4.9 kB)\n",
      "Requirement already satisfied: networkx in /home/codespace/.local/lib/python3.10/site-packages (from mewpy) (3.2.1)\n",
      "Collecting matplotlib<=3.5.0 (from mewpy)\n",
      "  Downloading matplotlib-3.5.0-cp310-cp310-manylinux_2_17_x86_64.manylinux2014_x86_64.whl (11.9 MB)\n",
      "\u001b[2K     \u001b[90m━━━━━━━━━━━━━━━━━━━━━━━━━━━━━━━━━━━━━━━━\u001b[0m \u001b[32m11.9/11.9 MB\u001b[0m \u001b[31m32.4 MB/s\u001b[0m eta \u001b[36m0:00:00\u001b[0m00:01\u001b[0m0:01\u001b[0m\n",
      "\u001b[?25hRequirement already satisfied: joblib in /home/codespace/.local/lib/python3.10/site-packages (from mewpy) (1.3.2)\n",
      "Collecting tdqm (from mewpy)\n",
      "  Downloading tdqm-0.0.1.tar.gz (1.4 kB)\n",
      "  Installing build dependencies ... \u001b[?25ldone\n",
      "\u001b[?25h  Getting requirements to build wheel ... \u001b[?25ldone\n",
      "\u001b[?25h  Preparing metadata (pyproject.toml) ... \u001b[?25ldone\n",
      "\u001b[?25hCollecting httpx<=0.23.0 (from mewpy)\n",
      "  Downloading httpx-0.23.0-py3-none-any.whl (84 kB)\n",
      "\u001b[2K     \u001b[90m━━━━━━━━━━━━━━━━━━━━━━━━━━━━━━━━━━━━━━━━\u001b[0m \u001b[32m84.8/84.8 kB\u001b[0m \u001b[31m2.3 MB/s\u001b[0m eta \u001b[36m0:00:00\u001b[0m\n",
      "\u001b[?25hRequirement already satisfied: certifi in /home/codespace/.local/lib/python3.10/site-packages (from httpx<=0.23.0->mewpy) (2023.7.22)\n",
      "Requirement already satisfied: sniffio in /home/codespace/.local/lib/python3.10/site-packages (from httpx<=0.23.0->mewpy) (1.3.0)\n",
      "Collecting rfc3986<2,>=1.3 (from rfc3986[idna2008]<2,>=1.3->httpx<=0.23.0->mewpy)\n",
      "  Downloading rfc3986-1.5.0-py2.py3-none-any.whl (31 kB)\n",
      "Collecting httpcore<0.16.0,>=0.15.0 (from httpx<=0.23.0->mewpy)\n",
      "  Downloading httpcore-0.15.0-py3-none-any.whl (68 kB)\n",
      "\u001b[2K     \u001b[90m━━━━━━━━━━━━━━━━━━━━━━━━━━━━━━━━━━━━━━━━\u001b[0m \u001b[32m68.4/68.4 kB\u001b[0m \u001b[31m1.5 MB/s\u001b[0m eta \u001b[36m0:00:00\u001b[0mta \u001b[36m0:00:01\u001b[0m\n",
      "\u001b[?25hRequirement already satisfied: tqdm in /usr/local/python/3.10.13/lib/python3.10/site-packages (from jmetalpy<=1.5.5->mewpy) (4.66.1)\n",
      "Requirement already satisfied: numpy>=1.16.0 in /home/codespace/.local/lib/python3.10/site-packages (from jmetalpy<=1.5.5->mewpy) (1.26.2)\n",
      "Requirement already satisfied: pandas>=0.24.2 in /home/codespace/.local/lib/python3.10/site-packages (from jmetalpy<=1.5.5->mewpy) (2.1.3)\n",
      "Requirement already satisfied: plotly>=3.3.0 in /home/codespace/.local/lib/python3.10/site-packages (from jmetalpy<=1.5.5->mewpy) (5.18.0)\n",
      "Requirement already satisfied: scipy>=1.3.0 in /home/codespace/.local/lib/python3.10/site-packages (from jmetalpy<=1.5.5->mewpy) (1.11.3)\n",
      "Collecting statsmodels>=0.9.0 (from jmetalpy<=1.5.5->mewpy)\n",
      "  Downloading statsmodels-0.14.0-cp310-cp310-manylinux_2_17_x86_64.manylinux2014_x86_64.whl (10.1 MB)\n",
      "\u001b[2K     \u001b[90m━━━━━━━━━━━━━━━━━━━━━━━━━━━━━━━━━━━━━━━━\u001b[0m \u001b[32m10.1/10.1 MB\u001b[0m \u001b[31m28.9 MB/s\u001b[0m eta \u001b[36m0:00:00\u001b[0m00:01\u001b[0m0:01\u001b[0m\n",
      "\u001b[?25hRequirement already satisfied: cycler>=0.10 in /home/codespace/.local/lib/python3.10/site-packages (from matplotlib<=3.5.0->mewpy) (0.12.1)\n",
      "Requirement already satisfied: fonttools>=4.22.0 in /home/codespace/.local/lib/python3.10/site-packages (from matplotlib<=3.5.0->mewpy) (4.44.3)\n",
      "Requirement already satisfied: kiwisolver>=1.0.1 in /home/codespace/.local/lib/python3.10/site-packages (from matplotlib<=3.5.0->mewpy) (1.4.5)\n",
      "Requirement already satisfied: packaging>=20.0 in /home/codespace/.local/lib/python3.10/site-packages (from matplotlib<=3.5.0->mewpy) (23.2)\n",
      "Requirement already satisfied: pillow>=6.2.0 in /home/codespace/.local/lib/python3.10/site-packages (from matplotlib<=3.5.0->mewpy) (10.1.0)\n",
      "Requirement already satisfied: pyparsing>=2.2.1 in /home/codespace/.local/lib/python3.10/site-packages (from matplotlib<=3.5.0->mewpy) (3.1.1)\n",
      "Requirement already satisfied: python-dateutil>=2.7 in /home/codespace/.local/lib/python3.10/site-packages (from matplotlib<=3.5.0->mewpy) (2.8.2)\n",
      "Collecting setuptools-scm>=4 (from matplotlib<=3.5.0->mewpy)\n",
      "  Downloading setuptools_scm-8.0.4-py3-none-any.whl.metadata (6.4 kB)\n",
      "Requirement already satisfied: appdirs~=1.4 in /usr/local/python/3.10.13/lib/python3.10/site-packages (from cobra->mewpy) (1.4.4)\n",
      "Requirement already satisfied: depinfo~=2.2 in /usr/local/python/3.10.13/lib/python3.10/site-packages (from cobra->mewpy) (2.2.0)\n",
      "Requirement already satisfied: diskcache~=5.0 in /usr/local/python/3.10.13/lib/python3.10/site-packages (from cobra->mewpy) (5.6.3)\n",
      "Requirement already satisfied: future in /usr/local/python/3.10.13/lib/python3.10/site-packages (from cobra->mewpy) (0.18.3)\n",
      "INFO: pip is looking at multiple versions of cobra to determine which version is compatible with other requirements. This could take a while.\n",
      "Collecting cobra (from mewpy)\n",
      "  Downloading cobra-0.28.0-py2.py3-none-any.whl.metadata (9.3 kB)\n",
      "  Downloading cobra-0.27.0-py2.py3-none-any.whl.metadata (9.3 kB)\n",
      "Collecting depinfo~=1.7 (from cobra->mewpy)\n",
      "  Downloading depinfo-1.7.0-py2.py3-none-any.whl (8.6 kB)\n",
      "Collecting cobra (from mewpy)\n",
      "  Downloading cobra-0.26.3-py2.py3-none-any.whl (1.2 MB)\n",
      "\u001b[2K     \u001b[90m━━━━━━━━━━━━━━━━━━━━━━━━━━━━━━━━━━━━━━━━\u001b[0m \u001b[32m1.2/1.2 MB\u001b[0m \u001b[31m9.1 MB/s\u001b[0m eta \u001b[36m0:00:00\u001b[0m:00:01\u001b[0m00:01\u001b[0m\n",
      "\u001b[?25h  Downloading cobra-0.26.2-py2.py3-none-any.whl (1.2 MB)\n",
      "\u001b[2K     \u001b[90m━━━━━━━━━━━━━━━━━━━━━━━━━━━━━━━━━━━━━━━━\u001b[0m \u001b[32m1.2/1.2 MB\u001b[0m \u001b[31m7.8 MB/s\u001b[0m eta \u001b[36m0:00:00\u001b[0m:00:01\u001b[0m:00:01\u001b[0m\n",
      "\u001b[?25hRequirement already satisfied: importlib-resources in /usr/local/python/3.10.13/lib/python3.10/site-packages (from cobra->mewpy) (6.1.1)\n",
      "Collecting numpy>=1.16.0 (from jmetalpy<=1.5.5->mewpy)\n",
      "  Downloading numpy-1.23.5-cp310-cp310-manylinux_2_17_x86_64.manylinux2014_x86_64.whl (17.1 MB)\n",
      "\u001b[2K     \u001b[90m━━━━━━━━━━━━━━━━━━━━━━━━━━━━━━━━━━━━━━━━\u001b[0m \u001b[32m17.1/17.1 MB\u001b[0m \u001b[31m28.7 MB/s\u001b[0m eta \u001b[36m0:00:00\u001b[0m00:01\u001b[0m00:01\u001b[0m\n",
      "\u001b[?25hRequirement already satisfied: optlang~=1.5 in /usr/local/python/3.10.13/lib/python3.10/site-packages (from cobra->mewpy) (1.8.1)\n",
      "Collecting pandas>=0.24.2 (from jmetalpy<=1.5.5->mewpy)\n",
      "  Using cached pandas-1.5.3-cp310-cp310-manylinux_2_17_x86_64.manylinux2014_x86_64.whl (12.1 MB)\n",
      "Collecting pydantic~=1.6 (from cobra->mewpy)\n",
      "  Using cached pydantic-1.10.13-cp310-cp310-manylinux_2_17_x86_64.manylinux2014_x86_64.whl.metadata (149 kB)\n",
      "Requirement already satisfied: python-libsbml~=5.19 in /usr/local/python/3.10.13/lib/python3.10/site-packages (from cobra->mewpy) (5.20.2)\n",
      "Requirement already satisfied: rich>=8.0 in /usr/local/python/3.10.13/lib/python3.10/site-packages (from cobra->mewpy) (13.7.0)\n",
      "Requirement already satisfied: ruamel.yaml~=0.16 in /usr/local/python/3.10.13/lib/python3.10/site-packages (from cobra->mewpy) (0.18.5)\n",
      "Requirement already satisfied: swiglpk in /usr/local/python/3.10.13/lib/python3.10/site-packages (from cobra->mewpy) (5.0.10)\n",
      "Requirement already satisfied: Click>=6.0 in /usr/local/python/3.10.13/lib/python3.10/site-packages (from inspyred->mewpy) (8.1.7)\n",
      "Requirement already satisfied: sympy in /home/codespace/.local/lib/python3.10/site-packages (from reframed->mewpy) (1.12)\n",
      "Collecting h11<0.13,>=0.11 (from httpcore<0.16.0,>=0.15.0->httpx<=0.23.0->mewpy)\n",
      "  Downloading h11-0.12.0-py3-none-any.whl (54 kB)\n",
      "\u001b[2K     \u001b[90m━━━━━━━━━━━━━━━━━━━━━━━━━━━━━━━━━━━━━━━━\u001b[0m \u001b[32m54.9/54.9 kB\u001b[0m \u001b[31m1.2 MB/s\u001b[0m eta \u001b[36m0:00:00\u001b[0mta \u001b[36m0:00:01\u001b[0m\n",
      "\u001b[?25hCollecting anyio==3.* (from httpcore<0.16.0,>=0.15.0->httpx<=0.23.0->mewpy)\n",
      "  Downloading anyio-3.7.1-py3-none-any.whl.metadata (4.7 kB)\n",
      "Requirement already satisfied: idna>=2.8 in /home/codespace/.local/lib/python3.10/site-packages (from anyio==3.*->httpcore<0.16.0,>=0.15.0->httpx<=0.23.0->mewpy) (3.4)\n",
      "Requirement already satisfied: exceptiongroup in /home/codespace/.local/lib/python3.10/site-packages (from anyio==3.*->httpcore<0.16.0,>=0.15.0->httpx<=0.23.0->mewpy) (1.1.3)\n",
      "Requirement already satisfied: six>=1.9 in /home/codespace/.local/lib/python3.10/site-packages (from optlang~=1.5->cobra->mewpy) (1.16.0)\n",
      "Requirement already satisfied: pytz>=2020.1 in /home/codespace/.local/lib/python3.10/site-packages (from pandas>=0.24.2->jmetalpy<=1.5.5->mewpy) (2023.3.post1)\n",
      "Requirement already satisfied: tenacity>=6.2.0 in /home/codespace/.local/lib/python3.10/site-packages (from plotly>=3.3.0->jmetalpy<=1.5.5->mewpy) (8.2.3)\n",
      "Requirement already satisfied: typing-extensions>=4.2.0 in /home/codespace/.local/lib/python3.10/site-packages (from pydantic~=1.6->cobra->mewpy) (4.8.0)\n",
      "Requirement already satisfied: markdown-it-py>=2.2.0 in /usr/local/python/3.10.13/lib/python3.10/site-packages (from rich>=8.0->cobra->mewpy) (3.0.0)\n",
      "Requirement already satisfied: pygments<3.0.0,>=2.13.0 in /home/codespace/.local/lib/python3.10/site-packages (from rich>=8.0->cobra->mewpy) (2.16.1)\n",
      "Requirement already satisfied: ruamel.yaml.clib>=0.2.7 in /usr/local/python/3.10.13/lib/python3.10/site-packages (from ruamel.yaml~=0.16->cobra->mewpy) (0.2.8)\n",
      "Requirement already satisfied: setuptools in /home/codespace/.local/lib/python3.10/site-packages (from setuptools-scm>=4->matplotlib<=3.5.0->mewpy) (68.2.2)\n",
      "Requirement already satisfied: tomli>=1 in /home/codespace/.local/lib/python3.10/site-packages (from setuptools-scm>=4->matplotlib<=3.5.0->mewpy) (2.0.1)\n",
      "Collecting patsy>=0.5.2 (from statsmodels>=0.9.0->jmetalpy<=1.5.5->mewpy)\n",
      "  Downloading patsy-0.5.4-py2.py3-none-any.whl.metadata (3.4 kB)\n",
      "Requirement already satisfied: mpmath>=0.19 in /home/codespace/.local/lib/python3.10/site-packages (from sympy->reframed->mewpy) (1.3.0)\n",
      "Requirement already satisfied: mdurl~=0.1 in /usr/local/python/3.10.13/lib/python3.10/site-packages (from markdown-it-py>=2.2.0->rich>=8.0->cobra->mewpy) (0.1.2)\n",
      "Downloading mewpy-0.1.31-py2.py3-none-any.whl (976 kB)\n",
      "\u001b[2K   \u001b[90m━━━━━━━━━━━━━━━━━━━━━━━━━━━━━━━━━━━━━━━━\u001b[0m \u001b[32m976.1/976.1 kB\u001b[0m \u001b[31m14.6 MB/s\u001b[0m eta \u001b[36m0:00:00\u001b[0m00:01\u001b[0m\n",
      "\u001b[?25hDownloading reframed-1.5.0-py3-none-any.whl (602 kB)\n",
      "\u001b[2K   \u001b[90m━━━━━━━━━━━━━━━━━━━━━━━━━━━━━━━━━━━━━━━━\u001b[0m \u001b[32m602.6/602.6 kB\u001b[0m \u001b[31m11.4 MB/s\u001b[0m eta \u001b[36m0:00:00\u001b[0m00:01\u001b[0m\n",
      "\u001b[?25hDownloading anyio-3.7.1-py3-none-any.whl (80 kB)\n",
      "\u001b[2K   \u001b[90m━━━━━━━━━━━━━━━━━━━━━━━━━━━━━━━━━━━━━━━━\u001b[0m \u001b[32m80.9/80.9 kB\u001b[0m \u001b[31m1.7 MB/s\u001b[0m eta \u001b[36m0:00:00\u001b[0meta \u001b[36m0:00:01\u001b[0m\n",
      "\u001b[?25hUsing cached pydantic-1.10.13-cp310-cp310-manylinux_2_17_x86_64.manylinux2014_x86_64.whl (3.1 MB)\n",
      "Downloading setuptools_scm-8.0.4-py3-none-any.whl (42 kB)\n",
      "\u001b[2K   \u001b[90m━━━━━━━━━━━━━━━━━━━━━━━━━━━━━━━━━━━━━━━━\u001b[0m \u001b[32m42.1/42.1 kB\u001b[0m \u001b[31m804.3 kB/s\u001b[0m eta \u001b[36m0:00:00\u001b[0m \u001b[36m0:00:01\u001b[0m\n",
      "\u001b[?25hDownloading patsy-0.5.4-py2.py3-none-any.whl (233 kB)\n",
      "\u001b[2K   \u001b[90m━━━━━━━━━━━━━━━━━━━━━━━━━━━━━━━━━━━━━━━━\u001b[0m \u001b[32m233.9/233.9 kB\u001b[0m \u001b[31m5.7 MB/s\u001b[0m eta \u001b[36m0:00:00\u001b[0m\n",
      "\u001b[?25hBuilding wheels for collected packages: jmetalpy, tdqm\n",
      "  Building wheel for jmetalpy (pyproject.toml) ... \u001b[?25ldone\n",
      "\u001b[?25h  Created wheel for jmetalpy: filename=jmetalpy-1.5.5-py3-none-any.whl size=196200 sha256=280f6cda4fa68b8f5a13c56935d44443fb1c1750cacf03666e68ec13096fe577\n",
      "  Stored in directory: /home/codespace/.cache/pip/wheels/10/25/d8/4fd41a54548e49fbea680fd531ca906150f1744871c7238384\n",
      "  Building wheel for tdqm (pyproject.toml) ... \u001b[?25ldone\n",
      "\u001b[?25h  Created wheel for tdqm: filename=tdqm-0.0.1-py3-none-any.whl size=1322 sha256=6a56e9c41b121f176df4fa8ecc9125deebbacc619cfd34abec68dbcd9b351213\n",
      "  Stored in directory: /home/codespace/.cache/pip/wheels/37/31/b8/7b711038035720ba0df14376af06e5e76b9bd61759c861ad92\n",
      "Successfully built jmetalpy tdqm\n",
      "Installing collected packages: rfc3986, tdqm, setuptools-scm, pydantic, numpy, h11, depinfo, anyio, patsy, pandas, matplotlib, httpcore, statsmodels, reframed, httpx, jmetalpy, cobra, mewpy\n",
      "  Attempting uninstall: pydantic\n",
      "    Found existing installation: pydantic 2.5.2\n",
      "    Uninstalling pydantic-2.5.2:\n",
      "      Successfully uninstalled pydantic-2.5.2\n",
      "  Attempting uninstall: numpy\n",
      "    Found existing installation: numpy 1.26.2\n",
      "    Uninstalling numpy-1.26.2:\n",
      "      Successfully uninstalled numpy-1.26.2\n",
      "  Attempting uninstall: h11\n",
      "    Found existing installation: h11 0.14.0\n",
      "    Uninstalling h11-0.14.0:\n",
      "      Successfully uninstalled h11-0.14.0\n",
      "  Attempting uninstall: depinfo\n",
      "    Found existing installation: depinfo 2.2.0\n",
      "    Uninstalling depinfo-2.2.0:\n",
      "      Successfully uninstalled depinfo-2.2.0\n",
      "  Attempting uninstall: anyio\n",
      "    Found existing installation: anyio 4.0.0\n",
      "    Uninstalling anyio-4.0.0:\n",
      "      Successfully uninstalled anyio-4.0.0\n",
      "  Attempting uninstall: pandas\n",
      "    Found existing installation: pandas 2.1.3\n",
      "    Uninstalling pandas-2.1.3:\n",
      "      Successfully uninstalled pandas-2.1.3\n",
      "  Attempting uninstall: matplotlib\n",
      "    Found existing installation: matplotlib 3.8.1\n",
      "    Uninstalling matplotlib-3.8.1:\n",
      "      Successfully uninstalled matplotlib-3.8.1\n",
      "  Attempting uninstall: httpcore\n",
      "    Found existing installation: httpcore 1.0.2\n",
      "    Uninstalling httpcore-1.0.2:\n",
      "      Successfully uninstalled httpcore-1.0.2\n",
      "  Attempting uninstall: httpx\n",
      "    Found existing installation: httpx 0.25.2\n",
      "    Uninstalling httpx-0.25.2:\n",
      "      Successfully uninstalled httpx-0.25.2\n",
      "  Attempting uninstall: cobra\n",
      "    Found existing installation: cobra 0.29.0\n",
      "    Uninstalling cobra-0.29.0:\n",
      "      Successfully uninstalled cobra-0.29.0\n",
      "Successfully installed anyio-3.7.1 cobra-0.26.2 depinfo-1.7.0 h11-0.12.0 httpcore-0.15.0 httpx-0.23.0 jmetalpy-1.5.5 matplotlib-3.5.0 mewpy-0.1.31 numpy-1.23.5 pandas-1.5.3 patsy-0.5.4 pydantic-1.10.13 reframed-1.5.0 rfc3986-1.5.0 setuptools-scm-8.0.4 statsmodels-0.14.0 tdqm-0.0.1\n"
     ]
    }
   ],
   "source": [
    "!pip install mewpy"
   ]
  },
  {
   "cell_type": "code",
   "execution_count": 7,
   "id": "97baeb35-a046-4b5f-9ece-ef7b9a7d454d",
   "metadata": {},
   "outputs": [],
   "source": [
    "from mewpy.io import Reader, Engines, read_model\n",
    "from mewpy.germ.analysis import fva, single_gene_deletion, single_reaction_deletion"
   ]
  },
  {
   "cell_type": "code",
   "execution_count": 34,
   "id": "c4bfb37f-b1db-443f-9aa0-e603518d44f1",
   "metadata": {},
   "outputs": [],
   "source": [
    "def load_yeast_model():\n",
    "    core_gem_reader = Reader(Engines.MetabolicSBML, 'iND750.xml')\n",
    "    model = read_model(core_gem_reader)\n",
    "    return model"
   ]
  },
  {
   "cell_type": "code",
   "execution_count": 52,
   "id": "ef111034-6bf7-4e3d-bd89-89d8accdba42",
   "metadata": {},
   "outputs": [
    {
     "data": {
      "text/html": [
       "\n",
       "            <table>\n",
       "                <tr><th>Identifier</th><td>YKL182W</td></tr><tr><th>Name</th><td>FAS1</td></tr><tr><th>Aliases</th><td>FAS1, YKL182W</td></tr><tr><th>Model</th><td>iND750</td></tr><tr><th>Types</th><td>gene</td></tr><tr><th>Coefficients</th><td>(0.0, 1.0)</td></tr><tr><th>Active</th><td>True</td></tr><tr><th>Reactions</th><td>FA120ACPHi, FA140ACPHi, FA141ACPHi, FA160ACPHi, FA161ACPHi, FA180ACPH, FA181ACPH, FA182ACPH, ACOATA, MCOATA, FAS100, FAS100COA, FAS120, FAS120COA, FAS140, FAS140COA, FAS160, FAS160COA, FAS180, FAS180COA, FAS80COA_L, FAS80_L</td></tr>\n",
       "            </table>\n",
       "        "
      ],
      "text/plain": [
       "FAS1"
      ]
     },
     "execution_count": 52,
     "metadata": {},
     "output_type": "execute_result"
    }
   ],
   "source": [
    "model.genes['YKL182W']"
   ]
  },
  {
   "cell_type": "code",
   "execution_count": 46,
   "id": "dbaea295-f427-4760-8e70-c40ef29315d0",
   "metadata": {},
   "outputs": [
    {
     "ename": "TypeError",
     "evalue": "'Gene' object is not iterable",
     "output_type": "error",
     "traceback": [
      "\u001b[0;31m---------------------------------------------------------------------------\u001b[0m",
      "\u001b[0;31mTypeError\u001b[0m                                 Traceback (most recent call last)",
      "Cell \u001b[0;32mIn[46], line 12\u001b[0m\n\u001b[1;32m      9\u001b[0m single_reaction_deletion(model)\n\u001b[1;32m     11\u001b[0m \u001b[38;5;66;03m# single gene deletion for specific genes\u001b[39;00m\n\u001b[0;32m---> 12\u001b[0m \u001b[43msingle_gene_deletion\u001b[49m\u001b[43m(\u001b[49m\u001b[43mmodel\u001b[49m\u001b[43m,\u001b[49m\u001b[43m \u001b[49m\u001b[43mgenes\u001b[49m\u001b[38;5;241;43m=\u001b[39;49m\u001b[43mmodel\u001b[49m\u001b[38;5;241;43m.\u001b[39;49m\u001b[43mgenes\u001b[49m\u001b[43m[\u001b[49m\u001b[38;5;124;43m'\u001b[39;49m\u001b[38;5;124;43mYKL182W\u001b[39;49m\u001b[38;5;124;43m'\u001b[39;49m\u001b[43m]\u001b[49m\u001b[43m)\u001b[49m\n",
      "File \u001b[0;32m/usr/local/python/3.10.13/lib/python3.10/site-packages/mewpy/germ/analysis/metabolic_analysis.py:142\u001b[0m, in \u001b[0;36msingle_gene_deletion\u001b[0;34m(model, genes, constraints)\u001b[0m\n\u001b[1;32m    140\u001b[0m     genes \u001b[38;5;241m=\u001b[39m model\u001b[38;5;241m.\u001b[39myield_genes()\n\u001b[1;32m    141\u001b[0m \u001b[38;5;28;01melse\u001b[39;00m:\n\u001b[0;32m--> 142\u001b[0m     genes \u001b[38;5;241m=\u001b[39m [model\u001b[38;5;241m.\u001b[39mgenes[gene] \u001b[38;5;28;01mfor\u001b[39;00m gene \u001b[38;5;129;01min\u001b[39;00m genes \u001b[38;5;28;01mif\u001b[39;00m gene \u001b[38;5;129;01min\u001b[39;00m model\u001b[38;5;241m.\u001b[39mgenes]\n\u001b[1;32m    144\u001b[0m fba \u001b[38;5;241m=\u001b[39m FBA(model)\u001b[38;5;241m.\u001b[39mbuild()\n\u001b[1;32m    145\u001b[0m wt_objective_value, wt_status \u001b[38;5;241m=\u001b[39m run_method_and_decode(method\u001b[38;5;241m=\u001b[39mfba, constraints\u001b[38;5;241m=\u001b[39mconstraints)\n",
      "\u001b[0;31mTypeError\u001b[0m: 'Gene' object is not iterable"
     ]
    }
   ],
   "source": [
    "# reading the E. coli core model\n",
    "core_gem_reader = Reader(Engines.MetabolicSBML, 'iND750.xml')\n",
    "model = read_model(core_gem_reader)\n",
    "\n",
    "# FVA returns the DataFrame with minium and maximum values of each reaction\n",
    "fva(model)\n",
    "\n",
    "# single reaction deletion\n",
    "single_reaction_deletion(model)\n",
    "\n",
    "# single gene deletion for specific genes\n",
    "single_gene_deletion(model, genes=model.genes['YKL182W'])"
   ]
  }
 ],
 "metadata": {
  "kernelspec": {
   "display_name": "Python 3 (ipykernel)",
   "language": "python",
   "name": "python3"
  },
  "language_info": {
   "codemirror_mode": {
    "name": "ipython",
    "version": 3
   },
   "file_extension": ".py",
   "mimetype": "text/x-python",
   "name": "python",
   "nbconvert_exporter": "python",
   "pygments_lexer": "ipython3",
   "version": "3.10.13"
  }
 },
 "nbformat": 4,
 "nbformat_minor": 5
}
