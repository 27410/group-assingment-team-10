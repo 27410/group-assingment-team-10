{
 "cells": [
  {
   "cell_type": "code",
   "execution_count": 1,
   "id": "f60a02be-5c6b-453f-b20a-1f235fc63b95",
   "metadata": {},
   "outputs": [],
   "source": [
    "import cobra\n",
    "import numpy as np\n",
    "from tqdm import tqdm\n",
    "\n",
    "from scipy.integrate import solve_ivp\n",
    "\n",
    "import matplotlib.pyplot as plt\n",
    "%matplotlib inline"
   ]
  },
  {
   "cell_type": "markdown",
   "id": "5978a1f5-41a7-4fe8-992c-b9d910e40c18",
   "metadata": {},
   "source": [
    "# Dynamic Flux Based Analaysis"
   ]
  },
  {
   "cell_type": "code",
   "execution_count": 2,
   "id": "5fad9935-70a9-412b-944c-f50bd098a7fb",
   "metadata": {},
   "outputs": [],
   "source": [
    "%run Scaffold_Y_lipo.ipynb #Loading the model"
   ]
  },
  {
   "cell_type": "code",
   "execution_count": 3,
   "id": "4fdb3f08-9c21-4f89-8d01-1f2bea486661",
   "metadata": {},
   "outputs": [],
   "source": [
    "medium = model.medium\n",
    "\n",
    "medium['EX_so4_e'] = 1000\n",
    "medium['EX_pi_e'] = 1000\n",
    "medium['EX_o2_e'] = 1000\n",
    "medium['EX_nh4_e'] = 1000\n",
    "medium['EX_glc__D_e'] = 20\n",
    "medium['EX_h2o_e'] = 1000\n",
    "\n",
    "model.medium = medium\n",
    "model.medium\n",
    "\n",
    "glucose = model.reactions.EX_glc__D_e\n",
    "biomass = model.reactions.BIOMASS_SC4_bal\n"
   ]
  },
  {
   "cell_type": "markdown",
   "id": "9760fdbd-2ef3-4f17-8284-56ca1725f2d2",
   "metadata": {},
   "source": [
    "Medium should be loaded directly from the optimized section"
   ]
  },
  {
   "cell_type": "code",
   "execution_count": 4,
   "id": "a7fdf1bb-a937-4ba2-987f-9fa080b9f3dc",
   "metadata": {},
   "outputs": [],
   "source": [
    "def add_dynamic_bounds(model, y):\n",
    "    \"\"\"Use external concentrations to bound the uptake flux of glucose.\"\"\"\n",
    "    biomass, glucose = y  # expand the boundary species\n",
    "    glucose_max_import = -10 * glucose / (5 + glucose)\n",
    "    model.reactions.EX_glc__D_e.lower_bound = glucose_max_import\n",
    "\n",
    "\n",
    "def dynamic_system(t, y):\n",
    "    \"\"\"Calculate the time derivative of external species.\"\"\"\n",
    "\n",
    "    biomass, glucose = y  # expand the boundary species\n",
    "\n",
    "    # Calculate the specific exchanges fluxes at the given external concentrations.\n",
    "    with model:\n",
    "        add_dynamic_bounds(model, y)\n",
    "\n",
    "        cobra.util.add_lp_feasibility(model)\n",
    "        feasibility = cobra.util.fix_objective_as_constraint(model)\n",
    "        lex_constraints = cobra.util.add_lexicographic_constraints(\n",
    "            model, ['BIOMASS_SC4_bal', 'EX_glc__D_e'], ['max', 'max'])\n",
    "\n",
    "    # Since the calculated fluxes are specific rates, we multiply them by the\n",
    "    # biomass concentration to get the bulk exchange rates.\n",
    "    fluxes = lex_constraints.values\n",
    "    fluxes *= biomass\n",
    "\n",
    "    # This implementation is **not** efficient, so I display the current\n",
    "    # simulation time using a progress bar.\n",
    "    if dynamic_system.pbar is not None:\n",
    "        dynamic_system.pbar.update(1)\n",
    "        dynamic_system.pbar.set_description('t = {:.3f}'.format(t))\n",
    "\n",
    "    return fluxes\n",
    "\n",
    "dynamic_system.pbar = None\n",
    "\n",
    "\n",
    "def infeasible_event(t, y):\n",
    "    \"\"\"\n",
    "    Determine solution feasibility.\n",
    "\n",
    "    Avoiding infeasible solutions is handled by solve_ivp's built-in event detection.\n",
    "    This function re-solves the LP to determine whether or not the solution is feasible\n",
    "    (and if not, how far it is from feasibility). When the sign of this function changes\n",
    "    from -epsilon to positive, we know the solution is no longer feasible.\n",
    "\n",
    "    \"\"\"\n",
    "\n",
    "    with model:\n",
    "\n",
    "        add_dynamic_bounds(model, y)\n",
    "\n",
    "        cobra.util.add_lp_feasibility(model)\n",
    "        feasibility = cobra.util.fix_objective_as_constraint(model)\n",
    "\n",
    "    return feasibility - infeasible_event.epsilon\n",
    "\n",
    "infeasible_event.epsilon = 1E-6\n",
    "infeasible_event.direction = 1\n",
    "infeasible_event.terminal = True"
   ]
  },
  {
   "cell_type": "code",
   "execution_count": 5,
   "id": "d4dcbea3-3721-410f-8a67-a95c049f5bd6",
   "metadata": {},
   "outputs": [
    {
     "name": "stderr",
     "output_type": "stream",
     "text": [
      "t = 15.000: : 339it [15:02,  2.66s/it]\n"
     ]
    }
   ],
   "source": [
    "ts = np.linspace(0, 15, 10)  # Desired integration resolution and interval\n",
    "y0 = [0.1, 5]\n",
    "\n",
    "with tqdm() as pbar:\n",
    "    dynamic_system.pbar = pbar\n",
    "\n",
    "    sol = solve_ivp(\n",
    "        fun=dynamic_system,\n",
    "        events=[infeasible_event],\n",
    "        t_span=(ts.min(), ts.max()),\n",
    "        y0=y0,\n",
    "        t_eval=ts,\n",
    "        rtol=1e-6,\n",
    "        atol=1e-8,\n",
    "        method='BDF'\n",
    "    )"
   ]
  },
  {
   "cell_type": "code",
   "execution_count": 8,
   "id": "276e190f-9e91-42d9-8148-07e84ae7d410",
   "metadata": {},
   "outputs": [
    {
     "data": {
      "text/plain": [
       "  message: The solver successfully reached the end of the integration interval.\n",
       "  success: True\n",
       "   status: 0\n",
       "        t: [ 0.000e+00  1.667e+00  3.333e+00  5.000e+00  6.667e+00\n",
       "             8.333e+00  1.000e+01  1.167e+01  1.333e+01  1.500e+01]\n",
       "        y: [[ 1.000e-01  2.148e-01 ...  5.866e-01  5.866e-01]\n",
       "            [ 5.000e+00  3.820e+00 ...  3.981e-05  5.637e-06]]\n",
       "      sol: None\n",
       " t_events: [array([], dtype=float64)]\n",
       " y_events: [array([], dtype=float64)]\n",
       "     nfev: 333\n",
       "     njev: 2\n",
       "      nlu: 25"
      ]
     },
     "execution_count": 8,
     "metadata": {},
     "output_type": "execute_result"
    }
   ],
   "source": [
    "sol"
   ]
  },
  {
   "cell_type": "code",
   "execution_count": 9,
   "id": "94e35cd3-fa15-4ae6-9179-c77836d25008",
   "metadata": {},
   "outputs": [
    {
     "data": {
      "text/plain": [
       "Text(0, 0.5, 'Glucose')"
      ]
     },
     "execution_count": 9,
     "metadata": {},
     "output_type": "execute_result"
    },
    {
     "data": {
      "image/png": "[encoded data removed]",
      "text/plain": [
       "<Figure size 640x480 with 2 Axes>"
      ]
     },
     "metadata": {},
     "output_type": "display_data"
    }
   ],
   "source": [
    "ax = plt.subplot(111)\n",
    "ax.plot(sol.t, sol.y.T[:, 0])\n",
    "ax2 = plt.twinx(ax)\n",
    "ax2.plot(sol.t, sol.y.T[:, 1], color='r')\n",
    "\n",
    "ax.set_ylabel('Biomass', color='b')\n",
    "ax2.set_ylabel('Glucose', color='r')"
   ]
  }
 ],
 "metadata": {
  "kernelspec": {
   "display_name": "Python 3 (ipykernel)",
   "language": "python",
   "name": "python3"
  },
  "language_info": {
   "codemirror_mode": {
    "name": "ipython",
    "version": 3
   },
   "file_extension": ".py",
   "mimetype": "text/x-python",
   "name": "python",
   "nbconvert_exporter": "python",
   "pygments_lexer": "ipython3",
   "version": "3.10.8"
  }
 },
 "nbformat": 4,
 "nbformat_minor": 5
}
