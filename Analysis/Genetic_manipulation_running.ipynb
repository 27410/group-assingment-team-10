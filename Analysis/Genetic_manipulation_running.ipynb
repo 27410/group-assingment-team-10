{
 "cells": [
  {
   "cell_type": "code",
   "execution_count": 1,
   "id": "ed40c71b-7f45-4bf4-aa00-63600407cf22",
   "metadata": {},
   "outputs": [
    {
     "data": {
      "text/html": [
       "\n",
       "        <table>\n",
       "            <tr>\n",
       "                <td><strong>Name</strong></td>\n",
       "                <td>iND750</td>\n",
       "            </tr><tr>\n",
       "                <td><strong>Memory address</strong></td>\n",
       "                <td>0x01efc9da0708</td>\n",
       "            </tr><tr>\n",
       "                <td><strong>Number of metabolites</strong></td>\n",
       "                <td>1064</td>\n",
       "            </tr><tr>\n",
       "                <td><strong>Number of reactions</strong></td>\n",
       "                <td>1276</td>\n",
       "            </tr><tr>\n",
       "                <td><strong>Number of groups</strong></td>\n",
       "                <td>0</td>\n",
       "            </tr><tr>\n",
       "                <td><strong>Objective expression</strong></td>\n",
       "                <td>1.0*BIOMASS_SC4_bal - 1.0*BIOMASS_SC4_bal_reverse_bb385</td>\n",
       "            </tr><tr>\n",
       "                <td><strong>Compartments</strong></td>\n",
       "                <td>extracellular space, cytosol, mitochondria, peroxisome/glyoxysome, nucleus, golgi apparatus, vacuole, endoplasmic reticulum</td>\n",
       "            </tr>\n",
       "          </table>"
      ],
      "text/plain": [
       "<Model iND750 at 0x1efc9da0708>"
      ]
     },
     "execution_count": 1,
     "metadata": {},
     "output_type": "execute_result"
    }
   ],
   "source": [
    "%run Scaffold_Y_lipo.ipynb\n",
    "model"
   ]
  },
  {
   "cell_type": "markdown",
   "id": "7fef103f-f0d0-4c54-b467-cd12063b5a2f",
   "metadata": {},
   "source": [
    "# OptGene"
   ]
  },
  {
   "cell_type": "code",
   "execution_count": 2,
   "id": "afae1ff4-70d5-4fec-bc83-1e729447caf7",
   "metadata": {},
   "outputs": [],
   "source": [
    "from cameo import models\n",
    "from cameo import phenotypic_phase_plane\n",
    "from collections.abc import Mapping\n",
    "from cameo.strain_design.heuristic.evolutionary_based import OptGene"
   ]
  },
  {
   "cell_type": "code",
   "execution_count": 3,
   "id": "3fb2707f-7669-48a3-9715-2ba3d3a0f92f",
   "metadata": {},
   "outputs": [],
   "source": [
    "from cameo.strain_design import OptGene\n",
    "optgene = OptGene(model)"
   ]
  },
  {
   "cell_type": "code",
   "execution_count": 7,
   "id": "ee2b8c97-aa2f-4d00-865a-b6f9f0e6799b",
   "metadata": {},
   "outputs": [],
   "source": [
    "import logging\n",
    "# Set the logging level to ignore Bokeh warnings\n",
    "logging.getLogger(\"bokeh\").setLevel(logging.ERROR)"
   ]
  },
  {
   "cell_type": "code",
   "execution_count": 8,
   "id": "3c70d156-14c5-49ae-a747-a4903d2e8e24",
   "metadata": {},
   "outputs": [
    {
     "name": "stdout",
     "output_type": "stream",
     "text": [
      "Starting optimization at Sun, 03 Dec 2023 15:45:20\n"
     ]
    },
    {
     "data": {
      "application/vnd.jupyter.widget-view+json": {
       "model_id": "cfcfc8eb160e4b5c9e82edb87313e5fa",
       "version_major": 2,
       "version_minor": 0
      },
      "text/plain": [
       "HBox()"
      ]
     },
     "metadata": {},
     "output_type": "display_data"
    },
    {
     "name": "stdout",
     "output_type": "stream",
     "text": [
      "Finished after 00:08:04\n"
     ]
    }
   ],
   "source": [
    "result = optgene.run(target=model.reactions.DM_Eicosapentaenoic_Acid,\n",
    "                     biomass=model.reactions.BIOMASS_SC4_bal,\n",
    "                     substrate=model.metabolites.glc__D_e,\n",
    "                     max_evaluations=5000,\n",
    "                     plot=True)\n"
   ]
  },
  {
   "cell_type": "code",
   "execution_count": null,
   "id": "a71ec4d6-5cbe-421e-8d45-c4246b0434f0",
   "metadata": {},
   "outputs": [],
   "source": [
    "print(\"Length of x:\", len(x_data))\n",
    "print(\"Length of y:\", len(y_data))\n",
    "\n",
    "# Create ColumnDataSource\n",
    "source = ColumnDataSource(data=dict(x=x_data, y=y_data))"
   ]
  },
  {
   "cell_type": "code",
   "execution_count": null,
   "id": "1aeb7306-544e-47ee-9ca5-9d3bda052d41",
   "metadata": {
    "tags": []
   },
   "outputs": [],
   "source": [
    "result = optgene.run(...)  # Assuming you have an OptGeneResult object\n",
    "print(dir(result))"
   ]
  },
  {
   "cell_type": "code",
   "execution_count": 10,
   "id": "d59e2671-3f39-41ec-abbc-30c7205f9af4",
   "metadata": {},
   "outputs": [
    {
     "name": "stdout",
     "output_type": "stream",
     "text": [
      "['_OptGeneResult__aggregation_function', '__add__', '__class__', '__delattr__', '__dict__', '__dir__', '__doc__', '__eq__', '__format__', '__ge__', '__getattribute__', '__gt__', '__hash__', '__init__', '__init_subclass__', '__iter__', '__le__', '__len__', '__lt__', '__method_name__', '__module__', '__ne__', '__new__', '__reduce__', '__reduce_ex__', '__repr__', '__setattr__', '__sizeof__', '__str__', '__subclasshook__', '__weakref__', '_aggreate_functions_', '_biomass', '_designs', '_generate_designs', '_knockouts', '_manipulation_type', '_meta_information', '_model', '_objective_function', '_process_gene_knockout_solutions', '_process_reaction_knockout_solutions', '_process_solutions', '_processed_solutions', '_repr_html_', '_simulation_kwargs', '_simulation_method', '_substrate', '_target', 'data_frame', 'display_on_map', 'meta_information', 'plot']\n"
     ]
    }
   ],
   "source": [
    "print(dir(result))"
   ]
  },
  {
   "cell_type": "markdown",
   "id": "f1c9693a-183e-4763-a569-b887ad0ddbea",
   "metadata": {},
   "source": [
    "## OptKnock"
   ]
  },
  {
   "cell_type": "code",
   "execution_count": 2,
   "id": "4667f0e9-9d5f-43f6-819a-aaa5a5a6dab6",
   "metadata": {},
   "outputs": [],
   "source": [
    "from cameo.strain_design import OptKnock\n",
    "from cameo.strain_design import OptGene"
   ]
  },
  {
   "cell_type": "code",
   "execution_count": 3,
   "id": "89c8e882-38ac-4007-a16b-fab186c44df9",
   "metadata": {},
   "outputs": [
    {
     "name": "stderr",
     "output_type": "stream",
     "text": [
      "c:\\Users\\willi\\anaconda3\\envs\\Python3_7_16\\lib\\site-packages\\cameo\\strain_design\\deterministic\\linear_programming.py:119: UserWarning: You are trying to run OptKnock with glpk_interface. This might not end well.\n",
      "  self._model.solver.interface.__name__.split(\".\")[-1])\n"
     ]
    }
   ],
   "source": [
    "optknock = OptKnock(model, fraction_of_optimum=0.1)\n",
    "result = optknock.run(max_knockouts=1, target=\"DM_Eicosapentaenoic_Acid\", biomass=\"BIOMASS_SC4_bal\")\n",
    "result"
   ]
  },
  {
   "cell_type": "code",
   "execution_count": null,
   "id": "6d4614a0-3240-4bdb-9c34-95e489ba1700",
   "metadata": {},
   "outputs": [],
   "source": [
    "result"
   ]
  }
 ],
 "metadata": {
  "kernelspec": {
   "display_name": "Python 3 (ipykernel)",
   "language": "python",
   "name": "python3"
  },
  "language_info": {
   "codemirror_mode": {
    "name": "ipython",
    "version": 3
   },
   "file_extension": ".py",
   "mimetype": "text/x-python",
   "name": "python",
   "nbconvert_exporter": "python",
   "pygments_lexer": "ipython3",
   "version": "3.7.12"
  }
 },
 "nbformat": 4,
 "nbformat_minor": 5
}
