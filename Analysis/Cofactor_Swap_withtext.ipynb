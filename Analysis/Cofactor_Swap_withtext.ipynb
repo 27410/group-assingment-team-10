{
 "cells": [
  {
   "cell_type": "markdown",
   "metadata": {},
   "source": [
    "In the reactions forming our final product of Eicosapentaenoic Acid, NADPH is used several times as H donor. To increase yield, a higher available concentration of NADPH might allow for the reactions to run faster and result in more EDA. To test this theory, cofactor swapping was used to find reactions where NADPH could be exchanged for NADH, as to increase the amount of NADPH available for product reactions. "
   ]
  },
  {
   "cell_type": "code",
   "execution_count": 1,
   "id": "02d02411-8c76-4d11-be8e-cd709962483d",
   "metadata": {
    "collapsed": true,
    "jupyter": {
     "outputs_hidden": true
    }
   },
   "outputs": [
    {
     "name": "stdout",
     "output_type": "stream",
     "text": [
      "Requirement already satisfied: cobra==0.20.0 in c:\\users\\willi\\anaconda3\\envs\\python3_7_16\\lib\\site-packages (0.20.0)\n",
      "Requirement already satisfied: appdirs~=1.4 in c:\\users\\willi\\anaconda3\\envs\\python3_7_16\\lib\\site-packages (from cobra==0.20.0) (1.4.4)\n",
      "Requirement already satisfied: depinfo in c:\\users\\willi\\anaconda3\\envs\\python3_7_16\\lib\\site-packages (from cobra==0.20.0) (2.2.0)\n",
      "Requirement already satisfied: diskcache~=5.0 in c:\\users\\willi\\anaconda3\\envs\\python3_7_16\\lib\\site-packages (from cobra==0.20.0) (5.6.3)\n",
      "Requirement already satisfied: future in c:\\users\\willi\\anaconda3\\envs\\python3_7_16\\lib\\site-packages (from cobra==0.20.0) (0.18.3)\n",
      "Requirement already satisfied: httpx~=0.14 in c:\\users\\willi\\anaconda3\\envs\\python3_7_16\\lib\\site-packages (from cobra==0.20.0) (0.24.1)\n",
      "Requirement already satisfied: importlib-resources in c:\\users\\willi\\anaconda3\\envs\\python3_7_16\\lib\\site-packages (from cobra==0.20.0) (5.12.0)\n",
      "Requirement already satisfied: numpy~=1.13 in c:\\users\\willi\\anaconda3\\envs\\python3_7_16\\lib\\site-packages (from cobra==0.20.0) (1.21.6)\n",
      "Requirement already satisfied: optlang<1.4.6 in c:\\users\\willi\\anaconda3\\envs\\python3_7_16\\lib\\site-packages (from cobra==0.20.0) (1.4.4)\n",
      "Requirement already satisfied: pandas~=1.0 in c:\\users\\willi\\anaconda3\\envs\\python3_7_16\\lib\\site-packages (from cobra==0.20.0) (1.3.5)\n",
      "Requirement already satisfied: pydantic~=1.6 in c:\\users\\willi\\anaconda3\\envs\\python3_7_16\\lib\\site-packages (from cobra==0.20.0) (1.9.2)\n",
      "Requirement already satisfied: python-libsbml-experimental==5.18.3 in c:\\users\\willi\\anaconda3\\envs\\python3_7_16\\lib\\site-packages (from cobra==0.20.0) (5.18.3)\n",
      "Requirement already satisfied: rich~=6.0 in c:\\users\\willi\\anaconda3\\envs\\python3_7_16\\lib\\site-packages (from cobra==0.20.0) (6.2.0)\n",
      "Requirement already satisfied: ruamel.yaml~=0.16 in c:\\users\\willi\\anaconda3\\envs\\python3_7_16\\lib\\site-packages (from cobra==0.20.0) (0.18.5)\n",
      "Requirement already satisfied: six in c:\\users\\willi\\anaconda3\\envs\\python3_7_16\\lib\\site-packages (from cobra==0.20.0) (1.16.0)\n",
      "Requirement already satisfied: swiglpk in c:\\users\\willi\\anaconda3\\envs\\python3_7_16\\lib\\site-packages (from cobra==0.20.0) (5.0.10)\n",
      "Requirement already satisfied: certifi in c:\\users\\willi\\anaconda3\\envs\\python3_7_16\\lib\\site-packages (from httpx~=0.14->cobra==0.20.0) (2023.11.17)\n",
      "Requirement already satisfied: httpcore<0.18.0,>=0.15.0 in c:\\users\\willi\\anaconda3\\envs\\python3_7_16\\lib\\site-packages (from httpx~=0.14->cobra==0.20.0) (0.17.3)\n",
      "Requirement already satisfied: idna in c:\\users\\willi\\anaconda3\\envs\\python3_7_16\\lib\\site-packages (from httpx~=0.14->cobra==0.20.0) (3.6)\n",
      "Requirement already satisfied: sniffio in c:\\users\\willi\\anaconda3\\envs\\python3_7_16\\lib\\site-packages (from httpx~=0.14->cobra==0.20.0) (1.3.0)\n",
      "Requirement already satisfied: sympy>=1.0.0 in c:\\users\\willi\\anaconda3\\envs\\python3_7_16\\lib\\site-packages (from optlang<1.4.6->cobra==0.20.0) (1.10.1)\n",
      "Requirement already satisfied: python-dateutil>=2.7.3 in c:\\users\\willi\\anaconda3\\envs\\python3_7_16\\lib\\site-packages (from pandas~=1.0->cobra==0.20.0) (2.8.2)\n",
      "Requirement already satisfied: pytz>=2017.3 in c:\\users\\willi\\anaconda3\\envs\\python3_7_16\\lib\\site-packages (from pandas~=1.0->cobra==0.20.0) (2023.3.post1)\n",
      "Requirement already satisfied: typing-extensions>=3.7.4.3 in c:\\users\\willi\\anaconda3\\envs\\python3_7_16\\lib\\site-packages (from pydantic~=1.6->cobra==0.20.0) (3.10.0.2)\n",
      "Requirement already satisfied: colorama<0.5.0,>=0.4.0 in c:\\users\\willi\\anaconda3\\envs\\python3_7_16\\lib\\site-packages (from rich~=6.0->cobra==0.20.0) (0.4.6)\n",
      "Requirement already satisfied: commonmark<0.10.0,>=0.9.0 in c:\\users\\willi\\anaconda3\\envs\\python3_7_16\\lib\\site-packages (from rich~=6.0->cobra==0.20.0) (0.9.1)\n",
      "Requirement already satisfied: pygments<3.0.0,>=2.6.0 in c:\\users\\willi\\anaconda3\\envs\\python3_7_16\\lib\\site-packages (from rich~=6.0->cobra==0.20.0) (2.17.2)\n",
      "Requirement already satisfied: ruamel.yaml.clib>=0.2.7 in c:\\users\\willi\\anaconda3\\envs\\python3_7_16\\lib\\site-packages (from ruamel.yaml~=0.16->cobra==0.20.0) (0.2.8)\n",
      "Requirement already satisfied: importlib-metadata in c:\\users\\willi\\anaconda3\\envs\\python3_7_16\\lib\\site-packages (from depinfo->cobra==0.20.0) (6.7.0)\n",
      "Requirement already satisfied: zipp>=3.1.0 in c:\\users\\willi\\anaconda3\\envs\\python3_7_16\\lib\\site-packages (from importlib-resources->cobra==0.20.0) (3.15.0)\n",
      "Requirement already satisfied: h11<0.15,>=0.13 in c:\\users\\willi\\anaconda3\\envs\\python3_7_16\\lib\\site-packages (from httpcore<0.18.0,>=0.15.0->httpx~=0.14->cobra==0.20.0) (0.14.0)\n",
      "Requirement already satisfied: anyio<5.0,>=3.0 in c:\\users\\willi\\anaconda3\\envs\\python3_7_16\\lib\\site-packages (from httpcore<0.18.0,>=0.15.0->httpx~=0.14->cobra==0.20.0) (3.7.1)\n",
      "Requirement already satisfied: mpmath>=0.19 in c:\\users\\willi\\anaconda3\\envs\\python3_7_16\\lib\\site-packages (from sympy>=1.0.0->optlang<1.4.6->cobra==0.20.0) (1.3.0)\n",
      "Requirement already satisfied: exceptiongroup in c:\\users\\willi\\anaconda3\\envs\\python3_7_16\\lib\\site-packages (from anyio<5.0,>=3.0->httpcore<0.18.0,>=0.15.0->httpx~=0.14->cobra==0.20.0) (1.2.0)\n",
      "Note: you may need to restart the kernel to use updated packages.\n"
     ]
    }
   ],
   "source": [
    "#requirements\n",
    "pip install cobra==0.20.0\n",
    "pip install cameo\n",
    "pip install markupsafe==2.0.1\n"
   ]
  },
  {
   "cell_type": "code",
   "execution_count": 2,
   "id": "9ec55f37-4802-4dfe-841a-713540bf7d59",
   "metadata": {},
   "outputs": [],
   "source": [
    "#load model\n",
    "%run Scaffold_Y_lipo.ipynb"
   ]
  },
  {
   "cell_type": "code",
   "execution_count": 3,
   "id": "b9e97514-a398-4879-a182-73751d2385a3",
   "metadata": {},
   "outputs": [
    {
     "data": {
      "text/plain": [
       "{'EX_nh4_e': 1000,\n",
       " 'EX_o2_e': 1000,\n",
       " 'EX_pi_e': 1000,\n",
       " 'EX_so4_e': 1000,\n",
       " 'EX_glyc_e': 1000,\n",
       " 'EX_glc__D_e': 300,\n",
       " 'EX_h2o_e': 1000}"
      ]
     },
     "execution_count": 3,
     "metadata": {},
     "output_type": "execute_result"
    }
   ],
   "source": [
    "#medium is defined here?\n",
    "medium = model.medium\n",
    "\n",
    "medium['EX_so4_e'] = 1000\n",
    "medium['EX_pi_e'] = 1000\n",
    "medium['EX_o2_e'] = 1000\n",
    "medium['EX_nh4_e'] = 1000\n",
    "medium['EX_glc__D_e'] = 300\n",
    "medium['EX_h2o_e'] = 1000\n",
    "medium['EX_glyc_e'] = 1000\n",
    "\n",
    "model.medium = medium\n",
    "model.medium\n",
    "\n"
   ]
  },
  {
   "cell_type": "code",
   "execution_count": 6,
   "id": "d888d313-dbcc-444e-b6c6-5ef46304ec5e",
   "metadata": {},
   "outputs": [],
   "source": [
    "from collections.abc import Mapping"
   ]
  },
  {
   "cell_type": "code",
   "execution_count": 7,
   "id": "dd573a4b-c9f7-44ec-81ba-0bd201e9fce2",
   "metadata": {},
   "outputs": [],
   "source": [
    "from cameo.strain_design.heuristic.evolutionary_based import CofactorSwapOptimization\n",
    "from cameo.strain_design.heuristic.evolutionary.objective_functions import product_yield\n",
    "from cameo.strain_design.heuristic.evolutionary.optimization import CofactorSwapOptimization, NADH_NADPH\n",
    "\n",
    "#parameters for the function, defining biomass reaction, the reaction to be optimized\n",
    "\n",
    "model.solver = \"glpk\" \n",
    "biomass = model.reactions.BIOMASS_SC4_bal\n",
    "biomass.lower_bound = 0.1 \n",
    "demand = model.reactions.DM_Eicosapentaenoic_Acid\n",
    "\n",
    "model.objective = demand\n",
    "product_yield = product_yield(demand, model.reactions.EX_glc__D_e)"
   ]
  },
  {
   "cell_type": "code",
   "execution_count": 15,
   "metadata": {},
   "outputs": [],
   "source": [
    "#running CofactorSwapOptimization\n",
    "swap_opt = CofactorSwapOptimization(model=model, objective_function=product_yield, plot=True, cofactor_id_swaps=(['nadp_c', 'nadph_c'], ['nad_c', 'nadh_c']))"
   ]
  },
  {
   "cell_type": "code",
   "execution_count": 16,
   "metadata": {},
   "outputs": [
    {
     "name": "stdout",
     "output_type": "stream",
     "text": [
      "Starting optimization at Sun, 03 Dec 2023 14:58:15\n"
     ]
    },
    {
     "data": {
      "application/vnd.jupyter.widget-view+json": {
       "model_id": "505bf5b6b20d485b8668d446ae4e480b",
       "version_major": 2,
       "version_minor": 0
      },
      "text/plain": [
       "HBox()"
      ]
     },
     "metadata": {},
     "output_type": "display_data"
    },
    {
     "name": "stdout",
     "output_type": "stream",
     "text": [
      "Finished after 00:00:31\n"
     ]
    }
   ],
   "source": [
    "\n",
    "result = swap_opt.run(max_size=5)"
   ]
  },
  {
   "cell_type": "code",
   "execution_count": 17,
   "metadata": {},
   "outputs": [
    {
     "data": {
      "text/html": [
       "\n",
       "        <h4>Result:</h4>\n",
       "        <ul>\n",
       "            <li>model: iND750</li>\n",
       "            <li>heuristic: GA</li>\n",
       "            <li>objective function: $$yield = \\frac{DM\\_Eicosapentaenoic\\_Acid}{EX\\_glc\\_\\_D\\_e}$$</li>\n",
       "            <li>simulation method: pfba</li>\n",
       "            <li>target type: cofactor-swap</li>\n",
       "        <ul>\n",
       "        <div>\n",
       "<style scoped>\n",
       "    .dataframe tbody tr th:only-of-type {\n",
       "        vertical-align: middle;\n",
       "    }\n",
       "\n",
       "    .dataframe tbody tr th {\n",
       "        vertical-align: top;\n",
       "    }\n",
       "\n",
       "    .dataframe thead th {\n",
       "        text-align: right;\n",
       "    }\n",
       "</style>\n",
       "<table border=\"1\" class=\"dataframe\">\n",
       "  <thead>\n",
       "    <tr style=\"text-align: right;\">\n",
       "      <th></th>\n",
       "      <th>index</th>\n",
       "      <th>targets</th>\n",
       "      <th>fitness</th>\n",
       "    </tr>\n",
       "  </thead>\n",
       "  <tbody>\n",
       "    <tr>\n",
       "      <th>0</th>\n",
       "      <td>0</td>\n",
       "      <td>(D9E, GAPD)</td>\n",
       "      <td>0.961075</td>\n",
       "    </tr>\n",
       "    <tr>\n",
       "      <th>1</th>\n",
       "      <td>1</td>\n",
       "      <td>(GAPD,)</td>\n",
       "      <td>0.947726</td>\n",
       "    </tr>\n",
       "    <tr>\n",
       "      <th>2</th>\n",
       "      <td>2</td>\n",
       "      <td>(MDH, D8ds)</td>\n",
       "      <td>0.917238</td>\n",
       "    </tr>\n",
       "    <tr>\n",
       "      <th>3</th>\n",
       "      <td>3</td>\n",
       "      <td>(FAS160, MDH)</td>\n",
       "      <td>0.913101</td>\n",
       "    </tr>\n",
       "    <tr>\n",
       "      <th>4</th>\n",
       "      <td>4</td>\n",
       "      <td>(FAS80COA_L, D5ds)</td>\n",
       "      <td>0.905296</td>\n",
       "    </tr>\n",
       "    <tr>\n",
       "      <th>5</th>\n",
       "      <td>5</td>\n",
       "      <td>(MDH, IMPD)</td>\n",
       "      <td>0.904834</td>\n",
       "    </tr>\n",
       "    <tr>\n",
       "      <th>6</th>\n",
       "      <td>6</td>\n",
       "      <td>(MDH,)</td>\n",
       "      <td>0.904833</td>\n",
       "    </tr>\n",
       "  </tbody>\n",
       "</table>\n",
       "</div>"
      ],
      "text/plain": [
       "<cameo.strain_design.heuristic.evolutionary.optimization.TargetOptimizationResult at 0x19dd63e1308>"
      ]
     },
     "execution_count": 17,
     "metadata": {},
     "output_type": "execute_result"
    }
   ],
   "source": [
    "#Results\n",
    "result"
   ]
  },
  {
   "cell_type": "markdown",
   "metadata": {},
   "source": [
    "The reactions found to be using NADPH as a cofactor are shown here. After finding the reactions in the model, some of our inserted reactions that use NADPH (D9E, D8ds and D5ds) were found, however not all of them which is unexpected, as all the added reactions use either NADPH or NADP. The remaining reactions are IMP dehydrogenase, Malate dehydrogenase and Glyceraldehyde dehydrogenase, as well as general fatty acid synthesis reactions that precede EPA formation. To increase the flux through these reactions, analysis could be done to find limiting steps, and change the cofactor to NADH instead, as it is possible that the overreliance on NADPH thorughout these reactions are rate limiting. "
   ]
  },
  {
   "cell_type": "code",
   "execution_count": 24,
   "metadata": {},
   "outputs": [
    {
     "data": {
      "text/html": [
       "\n",
       "        <table>\n",
       "            <tr>\n",
       "                <td><strong>Reaction identifier</strong></td><td>IMPD</td>\n",
       "            </tr><tr>\n",
       "                <td><strong>Name</strong></td><td>IMP dehydrogenase</td>\n",
       "            </tr><tr>\n",
       "                <td><strong>Memory address</strong></td>\n",
       "                <td>0x019dd5384048</td>\n",
       "            </tr><tr>\n",
       "                <td><strong>Stoichiometry</strong></td>\n",
       "                <td>\n",
       "                    <p style='text-align:right'>h2o_c + imp_c + nad_c --> h_c + nadh_c + xmp_c</p>\n",
       "                    <p style='text-align:right'>H2O H2O + IMP C10H11N4O8P + Nicotinamide adenine dinucleotide --> H+ + Nicotinamide adenine dinucleotide - reduced + Xanthosine 5'-phosphate</p>\n",
       "                </td>\n",
       "            </tr><tr>\n",
       "                <td><strong>GPR</strong></td><td>YAR073W or YML056C or YLR432W or YHR216W or YAR075W</td>\n",
       "            </tr><tr>\n",
       "                <td><strong>Lower bound</strong></td><td>0.0</td>\n",
       "            </tr><tr>\n",
       "                <td><strong>Upper bound</strong></td><td>999999.0</td>\n",
       "            </tr>\n",
       "        </table>\n",
       "        "
      ],
      "text/plain": [
       "<Reaction IMPD at 0x19dd5384048>"
      ]
     },
     "execution_count": 24,
     "metadata": {},
     "output_type": "execute_result"
    }
   ],
   "source": [
    "model.reactions.IMPD"
   ]
  },
  {
   "cell_type": "code",
   "execution_count": 20,
   "metadata": {},
   "outputs": [
    {
     "data": {
      "text/html": [
       "\n",
       "        <table>\n",
       "            <tr>\n",
       "                <td><strong>Reaction identifier</strong></td><td>GAPD</td>\n",
       "            </tr><tr>\n",
       "                <td><strong>Name</strong></td><td>Glyceraldehyde-3-phosphate dehydrogenase</td>\n",
       "            </tr><tr>\n",
       "                <td><strong>Memory address</strong></td>\n",
       "                <td>0x019dd5223288</td>\n",
       "            </tr><tr>\n",
       "                <td><strong>Stoichiometry</strong></td>\n",
       "                <td>\n",
       "                    <p style='text-align:right'>g3p_c + nad_c + pi_c <=> 13dpg_c + h_c + nadh_c</p>\n",
       "                    <p style='text-align:right'>Glyceraldehyde 3-phosphate + Nicotinamide adenine dinucleotide + Phosphate <=> 3-Phospho-D-glyceroyl phosphate + H+ + Nicotinamide adenine dinucleotide - reduced</p>\n",
       "                </td>\n",
       "            </tr><tr>\n",
       "                <td><strong>GPR</strong></td><td>YJL052W or YGR192C or YJR009C</td>\n",
       "            </tr><tr>\n",
       "                <td><strong>Lower bound</strong></td><td>-999999.0</td>\n",
       "            </tr><tr>\n",
       "                <td><strong>Upper bound</strong></td><td>999999.0</td>\n",
       "            </tr>\n",
       "        </table>\n",
       "        "
      ],
      "text/plain": [
       "<Reaction GAPD at 0x19dd5223288>"
      ]
     },
     "execution_count": 20,
     "metadata": {},
     "output_type": "execute_result"
    }
   ],
   "source": [
    "model.reactions.GAPD"
   ]
  },
  {
   "cell_type": "code",
   "execution_count": 26,
   "metadata": {},
   "outputs": [
    {
     "data": {
      "text/html": [
       "\n",
       "        <table>\n",
       "            <tr>\n",
       "                <td><strong>Reaction identifier</strong></td><td>MDH</td>\n",
       "            </tr><tr>\n",
       "                <td><strong>Name</strong></td><td>Malate dehydrogenase</td>\n",
       "            </tr><tr>\n",
       "                <td><strong>Memory address</strong></td>\n",
       "                <td>0x019dd4ce9f88</td>\n",
       "            </tr><tr>\n",
       "                <td><strong>Stoichiometry</strong></td>\n",
       "                <td>\n",
       "                    <p style='text-align:right'>mal__L_c + nad_c <=> h_c + nadh_c + oaa_c</p>\n",
       "                    <p style='text-align:right'>L-Malate + Nicotinamide adenine dinucleotide <=> H+ + Nicotinamide adenine dinucleotide - reduced + Oxaloacetate</p>\n",
       "                </td>\n",
       "            </tr><tr>\n",
       "                <td><strong>GPR</strong></td><td>YOL126C</td>\n",
       "            </tr><tr>\n",
       "                <td><strong>Lower bound</strong></td><td>-999999.0</td>\n",
       "            </tr><tr>\n",
       "                <td><strong>Upper bound</strong></td><td>999999.0</td>\n",
       "            </tr>\n",
       "        </table>\n",
       "        "
      ],
      "text/plain": [
       "<Reaction MDH at 0x19dd4ce9f88>"
      ]
     },
     "execution_count": 26,
     "metadata": {},
     "output_type": "execute_result"
    }
   ],
   "source": [
    "model.reactions.MDH"
   ]
  },
  {
   "cell_type": "code",
   "execution_count": 27,
   "metadata": {},
   "outputs": [
    {
     "data": {
      "text/html": [
       "\n",
       "        <table>\n",
       "            <tr>\n",
       "                <td><strong>Reaction identifier</strong></td><td>FAS160</td>\n",
       "            </tr><tr>\n",
       "                <td><strong>Name</strong></td><td>Fatty acid synthase n C160</td>\n",
       "            </tr><tr>\n",
       "                <td><strong>Memory address</strong></td>\n",
       "                <td>0x019dd5157b88</td>\n",
       "            </tr><tr>\n",
       "                <td><strong>Stoichiometry</strong></td>\n",
       "                <td>\n",
       "                    <p style='text-align:right'>3.0 h_c + malcoa_c + 2.0 nadph_c + ttdca_c --> co2_c + coa_c + h2o_c + hdca_c + 2.0 nadp_c</p>\n",
       "                    <p style='text-align:right'>3.0 H+ + Malonyl CoA C24H33N7O19P3S + 2.0 Nicotinamide adenine dinucleotide phosphate - reduced + Tetradecanoate (n-C14:0) --> CO2 CO2 + Coenzyme A + H2O H2O + Hexadecanoate (n-C16:0) + 2.0...</p>\n",
       "                </td>\n",
       "            </tr><tr>\n",
       "                <td><strong>GPR</strong></td><td>YGR037C and YKL182W and YPL231W and YNR016C</td>\n",
       "            </tr><tr>\n",
       "                <td><strong>Lower bound</strong></td><td>0.0</td>\n",
       "            </tr><tr>\n",
       "                <td><strong>Upper bound</strong></td><td>999999.0</td>\n",
       "            </tr>\n",
       "        </table>\n",
       "        "
      ],
      "text/plain": [
       "<Reaction FAS160 at 0x19dd5157b88>"
      ]
     },
     "execution_count": 27,
     "metadata": {},
     "output_type": "execute_result"
    }
   ],
   "source": [
    "model.reactions.FAS160"
   ]
  },
  {
   "cell_type": "code",
   "execution_count": 28,
   "metadata": {},
   "outputs": [
    {
     "data": {
      "text/html": [
       "\n",
       "        <table>\n",
       "            <tr>\n",
       "                <td><strong>Reaction identifier</strong></td><td>FAS80COA_L</td>\n",
       "            </tr><tr>\n",
       "                <td><strong>Name</strong></td><td>Fatty acyl CoA synthase n C80CoA lumped reaction</td>\n",
       "            </tr><tr>\n",
       "                <td><strong>Memory address</strong></td>\n",
       "                <td>0x019dd518f788</td>\n",
       "            </tr><tr>\n",
       "                <td><strong>Stoichiometry</strong></td>\n",
       "                <td>\n",
       "                    <p style='text-align:right'>accoa_c + 9.0 h_c + 3.0 malcoa_c + 6.0 nadph_c --> 3.0 co2_c + 3.0 coa_c + 3.0 h2o_c + 6.0 nadp_c + occoa_c</p>\n",
       "                    <p style='text-align:right'>Acetyl-CoA + 9.0 H+ + 3.0 Malonyl CoA C24H33N7O19P3S + 6.0 Nicotinamide adenine dinucleotide phosphate - reduced --> 3.0 CO2 CO2 + 3.0 Coenzyme A + 3.0 H2O H2O + 6.0 Nicotinamide adenine...</p>\n",
       "                </td>\n",
       "            </tr><tr>\n",
       "                <td><strong>GPR</strong></td><td>YGR037C and YKL182W and YPL231W and YNR016C</td>\n",
       "            </tr><tr>\n",
       "                <td><strong>Lower bound</strong></td><td>0.0</td>\n",
       "            </tr><tr>\n",
       "                <td><strong>Upper bound</strong></td><td>999999.0</td>\n",
       "            </tr>\n",
       "        </table>\n",
       "        "
      ],
      "text/plain": [
       "<Reaction FAS80COA_L at 0x19dd518f788>"
      ]
     },
     "execution_count": 28,
     "metadata": {},
     "output_type": "execute_result"
    }
   ],
   "source": [
    "model.reactions.FAS80COA_L"
   ]
  },
  {
   "cell_type": "code",
   "execution_count": null,
   "metadata": {},
   "outputs": [],
   "source": []
  }
 ],
 "metadata": {
  "kernelspec": {
   "display_name": "Python 3 (ipykernel)",
   "language": "python",
   "name": "python3"
  },
  "language_info": {
   "codemirror_mode": {
    "name": "ipython",
    "version": 3
   },
   "file_extension": ".py",
   "mimetype": "text/x-python",
   "name": "python",
   "nbconvert_exporter": "python",
   "pygments_lexer": "ipython3",
   "version": "3.7.12"
  }
 },
 "nbformat": 4,
 "nbformat_minor": 5
}
