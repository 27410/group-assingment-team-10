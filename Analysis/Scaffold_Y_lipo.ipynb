{
 "cells": [
  {
   "cell_type": "code",
   "execution_count": 6,
   "id": "b0af06f1-f693-49ab-adae-6be5127f70fa",
   "metadata": {
    "scrolled": true
   },
   "outputs": [
    {
     "name": "stdout",
     "output_type": "stream",
     "text": [
      "Requirement already satisfied: cobra in /usr/local/python/3.10.13/lib/python3.10/site-packages (0.29.0)\n",
      "Requirement already satisfied: appdirs~=1.4 in /usr/local/python/3.10.13/lib/python3.10/site-packages (from cobra) (1.4.4)\n",
      "Requirement already satisfied: depinfo~=2.2 in /usr/local/python/3.10.13/lib/python3.10/site-packages (from cobra) (2.2.0)\n",
      "Requirement already satisfied: diskcache~=5.0 in /usr/local/python/3.10.13/lib/python3.10/site-packages (from cobra) (5.6.3)\n",
      "Requirement already satisfied: future in /usr/local/python/3.10.13/lib/python3.10/site-packages (from cobra) (0.18.3)\n",
      "Requirement already satisfied: httpx~=0.24 in /usr/local/python/3.10.13/lib/python3.10/site-packages (from cobra) (0.25.2)\n",
      "Requirement already satisfied: importlib-resources in /usr/local/python/3.10.13/lib/python3.10/site-packages (from cobra) (6.1.1)\n",
      "Requirement already satisfied: numpy>=1.13 in /home/codespace/.local/lib/python3.10/site-packages (from cobra) (1.26.2)\n",
      "Requirement already satisfied: optlang~=1.8 in /usr/local/python/3.10.13/lib/python3.10/site-packages (from cobra) (1.8.1)\n",
      "Requirement already satisfied: pandas<3.0,>=1.0 in /home/codespace/.local/lib/python3.10/site-packages (from cobra) (2.1.3)\n",
      "Requirement already satisfied: pydantic>=1.6 in /usr/local/python/3.10.13/lib/python3.10/site-packages (from cobra) (2.5.2)\n",
      "Requirement already satisfied: python-libsbml~=5.19 in /usr/local/python/3.10.13/lib/python3.10/site-packages (from cobra) (5.20.2)\n",
      "Requirement already satisfied: rich>=8.0 in /usr/local/python/3.10.13/lib/python3.10/site-packages (from cobra) (13.7.0)\n",
      "Requirement already satisfied: ruamel.yaml~=0.16 in /usr/local/python/3.10.13/lib/python3.10/site-packages (from cobra) (0.18.5)\n",
      "Requirement already satisfied: swiglpk in /usr/local/python/3.10.13/lib/python3.10/site-packages (from cobra) (5.0.10)\n",
      "Requirement already satisfied: anyio in /home/codespace/.local/lib/python3.10/site-packages (from httpx~=0.24->cobra) (4.0.0)\n",
      "Requirement already satisfied: certifi in /home/codespace/.local/lib/python3.10/site-packages (from httpx~=0.24->cobra) (2023.7.22)\n",
      "Requirement already satisfied: httpcore==1.* in /usr/local/python/3.10.13/lib/python3.10/site-packages (from httpx~=0.24->cobra) (1.0.2)\n",
      "Requirement already satisfied: idna in /home/codespace/.local/lib/python3.10/site-packages (from httpx~=0.24->cobra) (3.4)\n",
      "Requirement already satisfied: sniffio in /home/codespace/.local/lib/python3.10/site-packages (from httpx~=0.24->cobra) (1.3.0)\n",
      "Requirement already satisfied: h11<0.15,>=0.13 in /usr/local/python/3.10.13/lib/python3.10/site-packages (from httpcore==1.*->httpx~=0.24->cobra) (0.14.0)\n",
      "Requirement already satisfied: six>=1.9 in /home/codespace/.local/lib/python3.10/site-packages (from optlang~=1.8->cobra) (1.16.0)\n",
      "Requirement already satisfied: sympy>=1.12.0 in /home/codespace/.local/lib/python3.10/site-packages (from optlang~=1.8->cobra) (1.12)\n",
      "Requirement already satisfied: python-dateutil>=2.8.2 in /home/codespace/.local/lib/python3.10/site-packages (from pandas<3.0,>=1.0->cobra) (2.8.2)\n",
      "Requirement already satisfied: pytz>=2020.1 in /home/codespace/.local/lib/python3.10/site-packages (from pandas<3.0,>=1.0->cobra) (2023.3.post1)\n",
      "Requirement already satisfied: tzdata>=2022.1 in /home/codespace/.local/lib/python3.10/site-packages (from pandas<3.0,>=1.0->cobra) (2023.3)\n",
      "Requirement already satisfied: annotated-types>=0.4.0 in /usr/local/python/3.10.13/lib/python3.10/site-packages (from pydantic>=1.6->cobra) (0.6.0)\n",
      "Requirement already satisfied: pydantic-core==2.14.5 in /usr/local/python/3.10.13/lib/python3.10/site-packages (from pydantic>=1.6->cobra) (2.14.5)\n",
      "Requirement already satisfied: typing-extensions>=4.6.1 in /home/codespace/.local/lib/python3.10/site-packages (from pydantic>=1.6->cobra) (4.8.0)\n",
      "Requirement already satisfied: markdown-it-py>=2.2.0 in /usr/local/python/3.10.13/lib/python3.10/site-packages (from rich>=8.0->cobra) (3.0.0)\n",
      "Requirement already satisfied: pygments<3.0.0,>=2.13.0 in /home/codespace/.local/lib/python3.10/site-packages (from rich>=8.0->cobra) (2.16.1)\n",
      "Requirement already satisfied: ruamel.yaml.clib>=0.2.7 in /usr/local/python/3.10.13/lib/python3.10/site-packages (from ruamel.yaml~=0.16->cobra) (0.2.8)\n",
      "Requirement already satisfied: mdurl~=0.1 in /usr/local/python/3.10.13/lib/python3.10/site-packages (from markdown-it-py>=2.2.0->rich>=8.0->cobra) (0.1.2)\n",
      "Requirement already satisfied: mpmath>=0.19 in /home/codespace/.local/lib/python3.10/site-packages (from sympy>=1.12.0->optlang~=1.8->cobra) (1.3.0)\n",
      "Requirement already satisfied: exceptiongroup>=1.0.2 in /home/codespace/.local/lib/python3.10/site-packages (from anyio->httpx~=0.24->cobra) (1.1.3)\n",
      "Requirement already satisfied: cameo in /usr/local/python/3.10.13/lib/python3.10/site-packages (0.13.6)\n",
      "Requirement already satisfied: numpy>=1.9.1 in /home/codespace/.local/lib/python3.10/site-packages (from cameo) (1.26.2)\n",
      "Requirement already satisfied: scipy>=0.14.0 in /home/codespace/.local/lib/python3.10/site-packages (from cameo) (1.11.3)\n",
      "Requirement already satisfied: blessings>=1.5.1 in /usr/local/python/3.10.13/lib/python3.10/site-packages (from cameo) (1.7)\n",
      "Requirement already satisfied: pandas>=1.1.3 in /home/codespace/.local/lib/python3.10/site-packages (from cameo) (2.1.3)\n",
      "Requirement already satisfied: ordered-set>=1.2 in /usr/local/python/3.10.13/lib/python3.10/site-packages (from cameo) (4.1.0)\n",
      "Requirement already satisfied: cobra>=0.11.1 in /usr/local/python/3.10.13/lib/python3.10/site-packages (from cameo) (0.29.0)\n",
      "Requirement already satisfied: future>=0.15.2 in /usr/local/python/3.10.13/lib/python3.10/site-packages (from cameo) (0.18.3)\n",
      "Requirement already satisfied: optlang>=1.4.2 in /usr/local/python/3.10.13/lib/python3.10/site-packages (from cameo) (1.8.1)\n",
      "Requirement already satisfied: numexpr>=2.4 in /usr/local/python/3.10.13/lib/python3.10/site-packages (from cameo) (2.8.7)\n",
      "Requirement already satisfied: requests>=2.10.0 in /home/codespace/.local/lib/python3.10/site-packages (from cameo) (2.31.0)\n",
      "Requirement already satisfied: networkx>=2.4 in /home/codespace/.local/lib/python3.10/site-packages (from cameo) (3.2.1)\n",
      "Requirement already satisfied: escher>=1.1.2 in /usr/local/python/3.10.13/lib/python3.10/site-packages (from cameo) (1.7.3)\n",
      "Requirement already satisfied: IProgress>=0.4 in /usr/local/python/3.10.13/lib/python3.10/site-packages (from cameo) (0.4)\n",
      "Requirement already satisfied: inspyred>=1.0 in /usr/local/python/3.10.13/lib/python3.10/site-packages (from cameo) (1.0.2)\n",
      "Requirement already satisfied: lazy-object-proxy>=1.2.0 in /usr/local/python/3.10.13/lib/python3.10/site-packages (from cameo) (1.9.0)\n",
      "Requirement already satisfied: palettable>=2.1.1 in /usr/local/python/3.10.13/lib/python3.10/site-packages (from cameo) (3.3.3)\n",
      "Requirement already satisfied: gnomic==1.0.1 in /usr/local/python/3.10.13/lib/python3.10/site-packages (from cameo) (1.0.1)\n",
      "Requirement already satisfied: openpyxl>=2.4.5 in /usr/local/python/3.10.13/lib/python3.10/site-packages (from cameo) (3.1.2)\n",
      "Requirement already satisfied: click>=6.7 in /usr/local/python/3.10.13/lib/python3.10/site-packages (from cameo) (8.1.7)\n",
      "Requirement already satisfied: grako==3.18.1 in /usr/local/python/3.10.13/lib/python3.10/site-packages (from gnomic==1.0.1->cameo) (3.18.1)\n",
      "Requirement already satisfied: six>=1.8.0 in /home/codespace/.local/lib/python3.10/site-packages (from gnomic==1.0.1->cameo) (1.16.0)\n",
      "Requirement already satisfied: appdirs~=1.4 in /usr/local/python/3.10.13/lib/python3.10/site-packages (from cobra>=0.11.1->cameo) (1.4.4)\n",
      "Requirement already satisfied: depinfo~=2.2 in /usr/local/python/3.10.13/lib/python3.10/site-packages (from cobra>=0.11.1->cameo) (2.2.0)\n",
      "Requirement already satisfied: diskcache~=5.0 in /usr/local/python/3.10.13/lib/python3.10/site-packages (from cobra>=0.11.1->cameo) (5.6.3)\n",
      "Requirement already satisfied: httpx~=0.24 in /usr/local/python/3.10.13/lib/python3.10/site-packages (from cobra>=0.11.1->cameo) (0.25.2)\n",
      "Requirement already satisfied: importlib-resources in /usr/local/python/3.10.13/lib/python3.10/site-packages (from cobra>=0.11.1->cameo) (6.1.1)\n",
      "Requirement already satisfied: pydantic>=1.6 in /usr/local/python/3.10.13/lib/python3.10/site-packages (from cobra>=0.11.1->cameo) (2.5.2)\n",
      "Requirement already satisfied: python-libsbml~=5.19 in /usr/local/python/3.10.13/lib/python3.10/site-packages (from cobra>=0.11.1->cameo) (5.20.2)\n",
      "Requirement already satisfied: rich>=8.0 in /usr/local/python/3.10.13/lib/python3.10/site-packages (from cobra>=0.11.1->cameo) (13.7.0)\n",
      "Requirement already satisfied: ruamel.yaml~=0.16 in /usr/local/python/3.10.13/lib/python3.10/site-packages (from cobra>=0.11.1->cameo) (0.18.5)\n",
      "Requirement already satisfied: swiglpk in /usr/local/python/3.10.13/lib/python3.10/site-packages (from cobra>=0.11.1->cameo) (5.0.10)\n",
      "Requirement already satisfied: Jinja2<3,>=2.7.3 in /usr/local/python/3.10.13/lib/python3.10/site-packages (from escher>=1.1.2->cameo) (2.11.3)\n",
      "Requirement already satisfied: pytest<5,>=4.0.1 in /usr/local/python/3.10.13/lib/python3.10/site-packages (from escher>=1.1.2->cameo) (4.6.11)\n",
      "Requirement already satisfied: jsonschema<4,>=3.0.1 in /usr/local/python/3.10.13/lib/python3.10/site-packages (from escher>=1.1.2->cameo) (3.2.0)\n",
      "Requirement already satisfied: ipywidgets<8,>=7.4.0 in /usr/local/python/3.10.13/lib/python3.10/site-packages (from escher>=1.1.2->cameo) (7.8.1)\n",
      "Requirement already satisfied: et-xmlfile in /usr/local/python/3.10.13/lib/python3.10/site-packages (from openpyxl>=2.4.5->cameo) (1.1.0)\n",
      "Requirement already satisfied: sympy>=1.12.0 in /home/codespace/.local/lib/python3.10/site-packages (from optlang>=1.4.2->cameo) (1.12)\n",
      "Requirement already satisfied: python-dateutil>=2.8.2 in /home/codespace/.local/lib/python3.10/site-packages (from pandas>=1.1.3->cameo) (2.8.2)\n",
      "Requirement already satisfied: pytz>=2020.1 in /home/codespace/.local/lib/python3.10/site-packages (from pandas>=1.1.3->cameo) (2023.3.post1)\n",
      "Requirement already satisfied: tzdata>=2022.1 in /home/codespace/.local/lib/python3.10/site-packages (from pandas>=1.1.3->cameo) (2023.3)\n",
      "Requirement already satisfied: charset-normalizer<4,>=2 in /home/codespace/.local/lib/python3.10/site-packages (from requests>=2.10.0->cameo) (3.3.2)\n",
      "Requirement already satisfied: idna<4,>=2.5 in /home/codespace/.local/lib/python3.10/site-packages (from requests>=2.10.0->cameo) (3.4)\n",
      "Requirement already satisfied: urllib3<3,>=1.21.1 in /usr/local/python/3.10.13/lib/python3.10/site-packages (from requests>=2.10.0->cameo) (2.0.7)\n",
      "Requirement already satisfied: certifi>=2017.4.17 in /home/codespace/.local/lib/python3.10/site-packages (from requests>=2.10.0->cameo) (2023.7.22)\n",
      "Requirement already satisfied: anyio in /home/codespace/.local/lib/python3.10/site-packages (from httpx~=0.24->cobra>=0.11.1->cameo) (4.0.0)\n",
      "Requirement already satisfied: httpcore==1.* in /usr/local/python/3.10.13/lib/python3.10/site-packages (from httpx~=0.24->cobra>=0.11.1->cameo) (1.0.2)\n",
      "Requirement already satisfied: sniffio in /home/codespace/.local/lib/python3.10/site-packages (from httpx~=0.24->cobra>=0.11.1->cameo) (1.3.0)\n",
      "Requirement already satisfied: h11<0.15,>=0.13 in /usr/local/python/3.10.13/lib/python3.10/site-packages (from httpcore==1.*->httpx~=0.24->cobra>=0.11.1->cameo) (0.14.0)\n",
      "Requirement already satisfied: comm>=0.1.3 in /home/codespace/.local/lib/python3.10/site-packages (from ipywidgets<8,>=7.4.0->escher>=1.1.2->cameo) (0.2.0)\n",
      "Requirement already satisfied: ipython-genutils~=0.2.0 in /usr/local/python/3.10.13/lib/python3.10/site-packages (from ipywidgets<8,>=7.4.0->escher>=1.1.2->cameo) (0.2.0)\n",
      "Requirement already satisfied: traitlets>=4.3.1 in /home/codespace/.local/lib/python3.10/site-packages (from ipywidgets<8,>=7.4.0->escher>=1.1.2->cameo) (5.13.0)\n",
      "Requirement already satisfied: widgetsnbextension~=3.6.6 in /usr/local/python/3.10.13/lib/python3.10/site-packages (from ipywidgets<8,>=7.4.0->escher>=1.1.2->cameo) (3.6.6)\n",
      "Requirement already satisfied: ipython>=4.0.0 in /home/codespace/.local/lib/python3.10/site-packages (from ipywidgets<8,>=7.4.0->escher>=1.1.2->cameo) (8.17.2)\n",
      "Requirement already satisfied: jupyterlab-widgets<3,>=1.0.0 in /usr/local/python/3.10.13/lib/python3.10/site-packages (from ipywidgets<8,>=7.4.0->escher>=1.1.2->cameo) (1.1.7)\n",
      "Requirement already satisfied: MarkupSafe>=0.23 in /home/codespace/.local/lib/python3.10/site-packages (from Jinja2<3,>=2.7.3->escher>=1.1.2->cameo) (2.1.3)\n",
      "Requirement already satisfied: attrs>=17.4.0 in /home/codespace/.local/lib/python3.10/site-packages (from jsonschema<4,>=3.0.1->escher>=1.1.2->cameo) (23.1.0)\n",
      "Requirement already satisfied: pyrsistent>=0.14.0 in /usr/local/python/3.10.13/lib/python3.10/site-packages (from jsonschema<4,>=3.0.1->escher>=1.1.2->cameo) (0.20.0)\n",
      "Requirement already satisfied: setuptools in /home/codespace/.local/lib/python3.10/site-packages (from jsonschema<4,>=3.0.1->escher>=1.1.2->cameo) (68.2.2)\n",
      "Requirement already satisfied: annotated-types>=0.4.0 in /usr/local/python/3.10.13/lib/python3.10/site-packages (from pydantic>=1.6->cobra>=0.11.1->cameo) (0.6.0)\n",
      "Requirement already satisfied: pydantic-core==2.14.5 in /usr/local/python/3.10.13/lib/python3.10/site-packages (from pydantic>=1.6->cobra>=0.11.1->cameo) (2.14.5)\n",
      "Requirement already satisfied: typing-extensions>=4.6.1 in /home/codespace/.local/lib/python3.10/site-packages (from pydantic>=1.6->cobra>=0.11.1->cameo) (4.8.0)\n",
      "Requirement already satisfied: py>=1.5.0 in /usr/local/python/3.10.13/lib/python3.10/site-packages (from pytest<5,>=4.0.1->escher>=1.1.2->cameo) (1.11.0)\n",
      "Requirement already satisfied: packaging in /home/codespace/.local/lib/python3.10/site-packages (from pytest<5,>=4.0.1->escher>=1.1.2->cameo) (23.2)\n",
      "Requirement already satisfied: atomicwrites>=1.0 in /usr/local/python/3.10.13/lib/python3.10/site-packages (from pytest<5,>=4.0.1->escher>=1.1.2->cameo) (1.4.1)\n",
      "Requirement already satisfied: pluggy<1.0,>=0.12 in /usr/local/python/3.10.13/lib/python3.10/site-packages (from pytest<5,>=4.0.1->escher>=1.1.2->cameo) (0.13.1)\n",
      "Requirement already satisfied: wcwidth in /home/codespace/.local/lib/python3.10/site-packages (from pytest<5,>=4.0.1->escher>=1.1.2->cameo) (0.2.10)\n",
      "Requirement already satisfied: more-itertools>=4.0.0 in /usr/local/python/3.10.13/lib/python3.10/site-packages (from pytest<5,>=4.0.1->escher>=1.1.2->cameo) (10.1.0)\n",
      "Requirement already satisfied: markdown-it-py>=2.2.0 in /usr/local/python/3.10.13/lib/python3.10/site-packages (from rich>=8.0->cobra>=0.11.1->cameo) (3.0.0)\n",
      "Requirement already satisfied: pygments<3.0.0,>=2.13.0 in /home/codespace/.local/lib/python3.10/site-packages (from rich>=8.0->cobra>=0.11.1->cameo) (2.16.1)\n",
      "Requirement already satisfied: ruamel.yaml.clib>=0.2.7 in /usr/local/python/3.10.13/lib/python3.10/site-packages (from ruamel.yaml~=0.16->cobra>=0.11.1->cameo) (0.2.8)\n",
      "Requirement already satisfied: mpmath>=0.19 in /home/codespace/.local/lib/python3.10/site-packages (from sympy>=1.12.0->optlang>=1.4.2->cameo) (1.3.0)\n",
      "Requirement already satisfied: decorator in /home/codespace/.local/lib/python3.10/site-packages (from ipython>=4.0.0->ipywidgets<8,>=7.4.0->escher>=1.1.2->cameo) (5.1.1)\n",
      "Requirement already satisfied: jedi>=0.16 in /home/codespace/.local/lib/python3.10/site-packages (from ipython>=4.0.0->ipywidgets<8,>=7.4.0->escher>=1.1.2->cameo) (0.19.1)\n",
      "Requirement already satisfied: matplotlib-inline in /home/codespace/.local/lib/python3.10/site-packages (from ipython>=4.0.0->ipywidgets<8,>=7.4.0->escher>=1.1.2->cameo) (0.1.6)\n",
      "Requirement already satisfied: prompt-toolkit!=3.0.37,<3.1.0,>=3.0.30 in /home/codespace/.local/lib/python3.10/site-packages (from ipython>=4.0.0->ipywidgets<8,>=7.4.0->escher>=1.1.2->cameo) (3.0.41)\n",
      "Requirement already satisfied: stack-data in /home/codespace/.local/lib/python3.10/site-packages (from ipython>=4.0.0->ipywidgets<8,>=7.4.0->escher>=1.1.2->cameo) (0.6.3)\n",
      "Requirement already satisfied: exceptiongroup in /home/codespace/.local/lib/python3.10/site-packages (from ipython>=4.0.0->ipywidgets<8,>=7.4.0->escher>=1.1.2->cameo) (1.1.3)\n",
      "Requirement already satisfied: pexpect>4.3 in /home/codespace/.local/lib/python3.10/site-packages (from ipython>=4.0.0->ipywidgets<8,>=7.4.0->escher>=1.1.2->cameo) (4.8.0)\n",
      "Requirement already satisfied: mdurl~=0.1 in /usr/local/python/3.10.13/lib/python3.10/site-packages (from markdown-it-py>=2.2.0->rich>=8.0->cobra>=0.11.1->cameo) (0.1.2)\n",
      "Requirement already satisfied: notebook>=4.4.1 in /usr/local/python/3.10.13/lib/python3.10/site-packages (from widgetsnbextension~=3.6.6->ipywidgets<8,>=7.4.0->escher>=1.1.2->cameo) (6.5.6)\n",
      "Requirement already satisfied: parso<0.9.0,>=0.8.3 in /home/codespace/.local/lib/python3.10/site-packages (from jedi>=0.16->ipython>=4.0.0->ipywidgets<8,>=7.4.0->escher>=1.1.2->cameo) (0.8.3)\n",
      "Requirement already satisfied: tornado>=6.1 in /home/codespace/.local/lib/python3.10/site-packages (from notebook>=4.4.1->widgetsnbextension~=3.6.6->ipywidgets<8,>=7.4.0->escher>=1.1.2->cameo) (6.3.3)\n",
      "Requirement already satisfied: pyzmq<25,>=17 in /usr/local/python/3.10.13/lib/python3.10/site-packages (from notebook>=4.4.1->widgetsnbextension~=3.6.6->ipywidgets<8,>=7.4.0->escher>=1.1.2->cameo) (24.0.1)\n",
      "Requirement already satisfied: argon2-cffi in /home/codespace/.local/lib/python3.10/site-packages (from notebook>=4.4.1->widgetsnbextension~=3.6.6->ipywidgets<8,>=7.4.0->escher>=1.1.2->cameo) (23.1.0)\n",
      "Requirement already satisfied: jupyter-core>=4.6.1 in /home/codespace/.local/lib/python3.10/site-packages (from notebook>=4.4.1->widgetsnbextension~=3.6.6->ipywidgets<8,>=7.4.0->escher>=1.1.2->cameo) (5.5.0)\n",
      "Requirement already satisfied: jupyter-client<8,>=5.3.4 in /usr/local/python/3.10.13/lib/python3.10/site-packages (from notebook>=4.4.1->widgetsnbextension~=3.6.6->ipywidgets<8,>=7.4.0->escher>=1.1.2->cameo) (7.4.9)\n",
      "Requirement already satisfied: nbformat in /home/codespace/.local/lib/python3.10/site-packages (from notebook>=4.4.1->widgetsnbextension~=3.6.6->ipywidgets<8,>=7.4.0->escher>=1.1.2->cameo) (5.9.2)\n",
      "Requirement already satisfied: nbconvert>=5 in /usr/local/python/3.10.13/lib/python3.10/site-packages (from notebook>=4.4.1->widgetsnbextension~=3.6.6->ipywidgets<8,>=7.4.0->escher>=1.1.2->cameo) (6.4.5)\n",
      "Requirement already satisfied: nest-asyncio>=1.5 in /home/codespace/.local/lib/python3.10/site-packages (from notebook>=4.4.1->widgetsnbextension~=3.6.6->ipywidgets<8,>=7.4.0->escher>=1.1.2->cameo) (1.5.8)\n",
      "Requirement already satisfied: ipykernel in /home/codespace/.local/lib/python3.10/site-packages (from notebook>=4.4.1->widgetsnbextension~=3.6.6->ipywidgets<8,>=7.4.0->escher>=1.1.2->cameo) (6.26.0)\n",
      "Requirement already satisfied: Send2Trash>=1.8.0 in /home/codespace/.local/lib/python3.10/site-packages (from notebook>=4.4.1->widgetsnbextension~=3.6.6->ipywidgets<8,>=7.4.0->escher>=1.1.2->cameo) (1.8.2)\n",
      "Requirement already satisfied: terminado>=0.8.3 in /home/codespace/.local/lib/python3.10/site-packages (from notebook>=4.4.1->widgetsnbextension~=3.6.6->ipywidgets<8,>=7.4.0->escher>=1.1.2->cameo) (0.18.0)\n",
      "Requirement already satisfied: prometheus-client in /home/codespace/.local/lib/python3.10/site-packages (from notebook>=4.4.1->widgetsnbextension~=3.6.6->ipywidgets<8,>=7.4.0->escher>=1.1.2->cameo) (0.18.0)\n",
      "Requirement already satisfied: nbclassic>=0.4.7 in /usr/local/python/3.10.13/lib/python3.10/site-packages (from notebook>=4.4.1->widgetsnbextension~=3.6.6->ipywidgets<8,>=7.4.0->escher>=1.1.2->cameo) (1.0.0)\n",
      "Requirement already satisfied: ptyprocess>=0.5 in /home/codespace/.local/lib/python3.10/site-packages (from pexpect>4.3->ipython>=4.0.0->ipywidgets<8,>=7.4.0->escher>=1.1.2->cameo) (0.7.0)\n",
      "Requirement already satisfied: executing>=1.2.0 in /home/codespace/.local/lib/python3.10/site-packages (from stack-data->ipython>=4.0.0->ipywidgets<8,>=7.4.0->escher>=1.1.2->cameo) (2.0.1)\n",
      "Requirement already satisfied: asttokens>=2.1.0 in /home/codespace/.local/lib/python3.10/site-packages (from stack-data->ipython>=4.0.0->ipywidgets<8,>=7.4.0->escher>=1.1.2->cameo) (2.4.1)\n",
      "Requirement already satisfied: pure-eval in /home/codespace/.local/lib/python3.10/site-packages (from stack-data->ipython>=4.0.0->ipywidgets<8,>=7.4.0->escher>=1.1.2->cameo) (0.2.2)\n",
      "Requirement already satisfied: entrypoints in /usr/local/python/3.10.13/lib/python3.10/site-packages (from jupyter-client<8,>=5.3.4->notebook>=4.4.1->widgetsnbextension~=3.6.6->ipywidgets<8,>=7.4.0->escher>=1.1.2->cameo) (0.4)\n",
      "Requirement already satisfied: platformdirs>=2.5 in /home/codespace/.local/lib/python3.10/site-packages (from jupyter-core>=4.6.1->notebook>=4.4.1->widgetsnbextension~=3.6.6->ipywidgets<8,>=7.4.0->escher>=1.1.2->cameo) (4.0.0)\n",
      "Requirement already satisfied: jupyter-server>=1.8 in /usr/local/python/3.10.13/lib/python3.10/site-packages (from nbclassic>=0.4.7->notebook>=4.4.1->widgetsnbextension~=3.6.6->ipywidgets<8,>=7.4.0->escher>=1.1.2->cameo) (2.10.0)\n",
      "Requirement already satisfied: notebook-shim>=0.2.3 in /home/codespace/.local/lib/python3.10/site-packages (from nbclassic>=0.4.7->notebook>=4.4.1->widgetsnbextension~=3.6.6->ipywidgets<8,>=7.4.0->escher>=1.1.2->cameo) (0.2.3)\n",
      "Requirement already satisfied: mistune<2,>=0.8.1 in /usr/local/python/3.10.13/lib/python3.10/site-packages (from nbconvert>=5->notebook>=4.4.1->widgetsnbextension~=3.6.6->ipywidgets<8,>=7.4.0->escher>=1.1.2->cameo) (0.8.4)\n",
      "Requirement already satisfied: jupyterlab-pygments in /home/codespace/.local/lib/python3.10/site-packages (from nbconvert>=5->notebook>=4.4.1->widgetsnbextension~=3.6.6->ipywidgets<8,>=7.4.0->escher>=1.1.2->cameo) (0.2.2)\n",
      "Requirement already satisfied: bleach in /home/codespace/.local/lib/python3.10/site-packages (from nbconvert>=5->notebook>=4.4.1->widgetsnbextension~=3.6.6->ipywidgets<8,>=7.4.0->escher>=1.1.2->cameo) (6.1.0)\n",
      "Requirement already satisfied: pandocfilters>=1.4.1 in /home/codespace/.local/lib/python3.10/site-packages (from nbconvert>=5->notebook>=4.4.1->widgetsnbextension~=3.6.6->ipywidgets<8,>=7.4.0->escher>=1.1.2->cameo) (1.5.0)\n",
      "Requirement already satisfied: testpath in /usr/local/python/3.10.13/lib/python3.10/site-packages (from nbconvert>=5->notebook>=4.4.1->widgetsnbextension~=3.6.6->ipywidgets<8,>=7.4.0->escher>=1.1.2->cameo) (0.6.0)\n",
      "Requirement already satisfied: defusedxml in /home/codespace/.local/lib/python3.10/site-packages (from nbconvert>=5->notebook>=4.4.1->widgetsnbextension~=3.6.6->ipywidgets<8,>=7.4.0->escher>=1.1.2->cameo) (0.7.1)\n",
      "Requirement already satisfied: beautifulsoup4 in /home/codespace/.local/lib/python3.10/site-packages (from nbconvert>=5->notebook>=4.4.1->widgetsnbextension~=3.6.6->ipywidgets<8,>=7.4.0->escher>=1.1.2->cameo) (4.12.2)\n",
      "Requirement already satisfied: nbclient<0.6.0,>=0.5.0 in /usr/local/python/3.10.13/lib/python3.10/site-packages (from nbconvert>=5->notebook>=4.4.1->widgetsnbextension~=3.6.6->ipywidgets<8,>=7.4.0->escher>=1.1.2->cameo) (0.5.13)\n",
      "Requirement already satisfied: fastjsonschema in /home/codespace/.local/lib/python3.10/site-packages (from nbformat->notebook>=4.4.1->widgetsnbextension~=3.6.6->ipywidgets<8,>=7.4.0->escher>=1.1.2->cameo) (2.19.0)\n",
      "Requirement already satisfied: argon2-cffi-bindings in /home/codespace/.local/lib/python3.10/site-packages (from argon2-cffi->notebook>=4.4.1->widgetsnbextension~=3.6.6->ipywidgets<8,>=7.4.0->escher>=1.1.2->cameo) (21.2.0)\n",
      "Requirement already satisfied: debugpy>=1.6.5 in /home/codespace/.local/lib/python3.10/site-packages (from ipykernel->notebook>=4.4.1->widgetsnbextension~=3.6.6->ipywidgets<8,>=7.4.0->escher>=1.1.2->cameo) (1.8.0)\n",
      "Requirement already satisfied: psutil in /home/codespace/.local/lib/python3.10/site-packages (from ipykernel->notebook>=4.4.1->widgetsnbextension~=3.6.6->ipywidgets<8,>=7.4.0->escher>=1.1.2->cameo) (5.9.6)\n",
      "Requirement already satisfied: jupyter-events>=0.6.0 in /usr/local/python/3.10.13/lib/python3.10/site-packages (from jupyter-server>=1.8->nbclassic>=0.4.7->notebook>=4.4.1->widgetsnbextension~=3.6.6->ipywidgets<8,>=7.4.0->escher>=1.1.2->cameo) (0.6.3)\n",
      "Requirement already satisfied: jupyter-server-terminals in /home/codespace/.local/lib/python3.10/site-packages (from jupyter-server>=1.8->nbclassic>=0.4.7->notebook>=4.4.1->widgetsnbextension~=3.6.6->ipywidgets<8,>=7.4.0->escher>=1.1.2->cameo) (0.4.4)\n",
      "Requirement already satisfied: overrides in /home/codespace/.local/lib/python3.10/site-packages (from jupyter-server>=1.8->nbclassic>=0.4.7->notebook>=4.4.1->widgetsnbextension~=3.6.6->ipywidgets<8,>=7.4.0->escher>=1.1.2->cameo) (7.4.0)\n",
      "Requirement already satisfied: websocket-client in /home/codespace/.local/lib/python3.10/site-packages (from jupyter-server>=1.8->nbclassic>=0.4.7->notebook>=4.4.1->widgetsnbextension~=3.6.6->ipywidgets<8,>=7.4.0->escher>=1.1.2->cameo) (1.6.4)\n",
      "Requirement already satisfied: cffi>=1.0.1 in /home/codespace/.local/lib/python3.10/site-packages (from argon2-cffi-bindings->argon2-cffi->notebook>=4.4.1->widgetsnbextension~=3.6.6->ipywidgets<8,>=7.4.0->escher>=1.1.2->cameo) (1.16.0)\n",
      "Requirement already satisfied: soupsieve>1.2 in /home/codespace/.local/lib/python3.10/site-packages (from beautifulsoup4->nbconvert>=5->notebook>=4.4.1->widgetsnbextension~=3.6.6->ipywidgets<8,>=7.4.0->escher>=1.1.2->cameo) (2.5)\n",
      "Requirement already satisfied: webencodings in /home/codespace/.local/lib/python3.10/site-packages (from bleach->nbconvert>=5->notebook>=4.4.1->widgetsnbextension~=3.6.6->ipywidgets<8,>=7.4.0->escher>=1.1.2->cameo) (0.5.1)\n",
      "Requirement already satisfied: pycparser in /home/codespace/.local/lib/python3.10/site-packages (from cffi>=1.0.1->argon2-cffi-bindings->argon2-cffi->notebook>=4.4.1->widgetsnbextension~=3.6.6->ipywidgets<8,>=7.4.0->escher>=1.1.2->cameo) (2.21)\n",
      "Requirement already satisfied: python-json-logger>=2.0.4 in /home/codespace/.local/lib/python3.10/site-packages (from jupyter-events>=0.6.0->jupyter-server>=1.8->nbclassic>=0.4.7->notebook>=4.4.1->widgetsnbextension~=3.6.6->ipywidgets<8,>=7.4.0->escher>=1.1.2->cameo) (2.0.7)\n",
      "Requirement already satisfied: pyyaml>=5.3 in /home/codespace/.local/lib/python3.10/site-packages (from jupyter-events>=0.6.0->jupyter-server>=1.8->nbclassic>=0.4.7->notebook>=4.4.1->widgetsnbextension~=3.6.6->ipywidgets<8,>=7.4.0->escher>=1.1.2->cameo) (6.0.1)\n",
      "Requirement already satisfied: rfc3339-validator in /home/codespace/.local/lib/python3.10/site-packages (from jupyter-events>=0.6.0->jupyter-server>=1.8->nbclassic>=0.4.7->notebook>=4.4.1->widgetsnbextension~=3.6.6->ipywidgets<8,>=7.4.0->escher>=1.1.2->cameo) (0.1.4)\n",
      "Requirement already satisfied: rfc3986-validator>=0.1.1 in /home/codespace/.local/lib/python3.10/site-packages (from jupyter-events>=0.6.0->jupyter-server>=1.8->nbclassic>=0.4.7->notebook>=4.4.1->widgetsnbextension~=3.6.6->ipywidgets<8,>=7.4.0->escher>=1.1.2->cameo) (0.1.1)\n",
      "\u001b[33mWARNING: jsonschema 3.2.0 does not provide the extra 'format-nongpl'\u001b[0m\u001b[33m\n",
      "\u001b[0m\u001b[31mERROR: Could not find a version that satisfies the requirement upgrade (from versions: none)\u001b[0m\u001b[31m\n",
      "\u001b[0m\u001b[31mERROR: No matching distribution found for upgrade\u001b[0m\u001b[31m\n",
      "\u001b[0m"
     ]
    }
   ],
   "source": [
    "!pip install cobra\n",
    "!pip install cameo\n",
    "!pip install upgrade MarkupSafe==2.0.1\n",
    "import cobra\n",
    "from cobra.io import read_sbml_model, write_sbml_model\n",
    "from cobra import Reaction, Metabolite\n",
    "model = read_sbml_model('iND750.xml')"
   ]
  },
  {
   "cell_type": "code",
   "execution_count": 2,
   "id": "128f9fad-ddf0-4509-863b-ae2603c2883b",
   "metadata": {},
   "outputs": [
    {
     "data": {
      "text/html": [
       "\n",
       "        <table>\n",
       "            <tr>\n",
       "                <td><strong>Name</strong></td>\n",
       "                <td>iND750</td>\n",
       "            </tr><tr>\n",
       "                <td><strong>Memory address</strong></td>\n",
       "                <td>1465cdb40</td>\n",
       "            </tr><tr>\n",
       "                <td><strong>Number of metabolites</strong></td>\n",
       "                <td>1059</td>\n",
       "            </tr><tr>\n",
       "                <td><strong>Number of reactions</strong></td>\n",
       "                <td>1266</td>\n",
       "            </tr><tr>\n",
       "                <td><strong>Number of genes</strong></td>\n",
       "                <td>750</td>\n",
       "            </tr><tr>\n",
       "                <td><strong>Number of groups</strong></td>\n",
       "                <td>0</td>\n",
       "            </tr><tr>\n",
       "                <td><strong>Objective expression</strong></td>\n",
       "                <td>1.0*BIOMASS_SC4_bal - 1.0*BIOMASS_SC4_bal_reverse_bb385</td>\n",
       "            </tr><tr>\n",
       "                <td><strong>Compartments</strong></td>\n",
       "                <td>extracellular space, cytosol, mitochondria, peroxisome/glyoxysome, nucleus, golgi apparatus, vacuole, endoplasmic reticulum</td>\n",
       "            </tr>\n",
       "          </table>"
      ],
      "text/plain": [
       "<Model iND750 at 0x1465cdb40>"
      ]
     },
     "execution_count": 2,
     "metadata": {},
     "output_type": "execute_result"
    }
   ],
   "source": [
    "model"
   ]
  },
  {
   "cell_type": "code",
   "execution_count": 3,
   "id": "2ac5fd09-6abe-4c1c-aa1d-8ae2e7f12632",
   "metadata": {},
   "outputs": [
    {
     "data": {
      "text/html": [
       "\n",
       "        <table>\n",
       "            <tr>\n",
       "                <td><strong>Metabolite identifier</strong></td><td>ocdca_e</td>\n",
       "            </tr><tr>\n",
       "                <td><strong>Name</strong></td><td>Octadecanoate (n-C18:0)</td>\n",
       "            </tr><tr>\n",
       "                <td><strong>Memory address</strong></td>\n",
       "                <td>0x1465cf640</td>\n",
       "            </tr><tr>\n",
       "                <td><strong>Formula</strong></td><td>C18H35O2</td>\n",
       "            </tr><tr>\n",
       "                <td><strong>Compartment</strong></td><td>e</td>\n",
       "            </tr><tr>\n",
       "                <td><strong>In 2 reaction(s)</strong></td><td>\n",
       "                    OCDCAt, EX_ocdca_e\n",
       "                    </td>\n",
       "            </tr>\n",
       "        </table>"
      ],
      "text/plain": [
       "<Metabolite ocdca_e at 0x1465cf640>"
      ]
     },
     "execution_count": 3,
     "metadata": {},
     "output_type": "execute_result"
    }
   ],
   "source": [
    "model.metabolites.get_by_id(\"ocdca_e\") #Stearic Acid"
   ]
  },
  {
   "cell_type": "code",
   "execution_count": 4,
   "id": "341a7709-b46e-4f58-a5de-a8a74b045fea",
   "metadata": {},
   "outputs": [],
   "source": [
    "Oleic_Acid = Metabolite(id = 's_1260[c]', compartment='c', name='oleate [cytoplasm]', formula='C18H33O2')"
   ]
  },
  {
   "cell_type": "code",
   "execution_count": 5,
   "id": "71617e85-6ea3-4755-84e1-340e0b456f55",
   "metadata": {},
   "outputs": [
    {
     "data": {
      "text/html": [
       "\n",
       "        <table>\n",
       "            <tr>\n",
       "                <td><strong>Metabolite identifier</strong></td><td>s_1260[c]</td>\n",
       "            </tr><tr>\n",
       "                <td><strong>Name</strong></td><td>oleate [cytoplasm]</td>\n",
       "            </tr><tr>\n",
       "                <td><strong>Memory address</strong></td>\n",
       "                <td>0x1471319c0</td>\n",
       "            </tr><tr>\n",
       "                <td><strong>Formula</strong></td><td>C18H33O2</td>\n",
       "            </tr><tr>\n",
       "                <td><strong>Compartment</strong></td><td>c</td>\n",
       "            </tr><tr>\n",
       "                <td><strong>In 0 reaction(s)</strong></td><td>\n",
       "                    \n",
       "                    </td>\n",
       "            </tr>\n",
       "        </table>"
      ],
      "text/plain": [
       "<Metabolite s_1260[c] at 0x1471319c0>"
      ]
     },
     "execution_count": 5,
     "metadata": {},
     "output_type": "execute_result"
    }
   ],
   "source": [
    "Oleic_Acid"
   ]
  },
  {
   "cell_type": "code",
   "execution_count": 6,
   "id": "ad54b067-26ae-4b18-9d07-1b06fec2837d",
   "metadata": {
    "tags": []
   },
   "outputs": [
    {
     "data": {
      "text/html": [
       "\n",
       "        <table>\n",
       "            <tr>\n",
       "                <td><strong>Metabolite identifier</strong></td><td>ocdcea_e</td>\n",
       "            </tr><tr>\n",
       "                <td><strong>Name</strong></td><td>Octadecenoate (n-C18:1)</td>\n",
       "            </tr><tr>\n",
       "                <td><strong>Memory address</strong></td>\n",
       "                <td>0x1465cf6a0</td>\n",
       "            </tr><tr>\n",
       "                <td><strong>Formula</strong></td><td>C18H33O2</td>\n",
       "            </tr><tr>\n",
       "                <td><strong>Compartment</strong></td><td>e</td>\n",
       "            </tr><tr>\n",
       "                <td><strong>In 2 reaction(s)</strong></td><td>\n",
       "                    EX_ocdcea_e, OCDCEAt\n",
       "                    </td>\n",
       "            </tr>\n",
       "        </table>"
      ],
      "text/plain": [
       "<Metabolite ocdcea_e at 0x1465cf6a0>"
      ]
     },
     "execution_count": 6,
     "metadata": {},
     "output_type": "execute_result"
    }
   ],
   "source": [
    "model.metabolites.get_by_id('ocdcea_e')"
   ]
  },
  {
   "cell_type": "markdown",
   "id": "4f7e8094-d821-4995-a20c-1889bf6ce53a",
   "metadata": {},
   "source": [
    "# Name the metabolites we need"
   ]
  },
  {
   "cell_type": "code",
   "execution_count": 7,
   "id": "17997f9f-afa7-49c6-a1b9-1d0b752c6aa6",
   "metadata": {
    "tags": []
   },
   "outputs": [
    {
     "data": {
      "text/html": [
       "\n",
       "        <table>\n",
       "            <tr>\n",
       "                <td><strong>Metabolite identifier</strong></td><td>linoleate</td>\n",
       "            </tr><tr>\n",
       "                <td><strong>Name</strong></td><td>linoleate</td>\n",
       "            </tr><tr>\n",
       "                <td><strong>Memory address</strong></td>\n",
       "                <td>0x147131210</td>\n",
       "            </tr><tr>\n",
       "                <td><strong>Formula</strong></td><td>C18H31O2</td>\n",
       "            </tr><tr>\n",
       "                <td><strong>Compartment</strong></td><td>c</td>\n",
       "            </tr><tr>\n",
       "                <td><strong>In 0 reaction(s)</strong></td><td>\n",
       "                    \n",
       "                    </td>\n",
       "            </tr>\n",
       "        </table>"
      ],
      "text/plain": [
       "<Metabolite linoleate at 0x147131210>"
      ]
     },
     "execution_count": 7,
     "metadata": {},
     "output_type": "execute_result"
    }
   ],
   "source": [
    "linoleate = Metabolite(id = 'linoleate', compartment = 'c', name = 'linoleate', formula = 'C18H31O2')\n",
    "linoleate"
   ]
  },
  {
   "cell_type": "code",
   "execution_count": 8,
   "id": "6ad0b1fb-6136-4806-bd03-52915d099dd6",
   "metadata": {
    "tags": []
   },
   "outputs": [
    {
     "data": {
      "text/html": [
       "\n",
       "        <table>\n",
       "            <tr>\n",
       "                <td><strong>Metabolite identifier</strong></td><td>Eicosadienoic_Acid</td>\n",
       "            </tr><tr>\n",
       "                <td><strong>Name</strong></td><td>EDA</td>\n",
       "            </tr><tr>\n",
       "                <td><strong>Memory address</strong></td>\n",
       "                <td>0x1471317e0</td>\n",
       "            </tr><tr>\n",
       "                <td><strong>Formula</strong></td><td>C20H35O2</td>\n",
       "            </tr><tr>\n",
       "                <td><strong>Compartment</strong></td><td>c</td>\n",
       "            </tr><tr>\n",
       "                <td><strong>In 0 reaction(s)</strong></td><td>\n",
       "                    \n",
       "                    </td>\n",
       "            </tr>\n",
       "        </table>"
      ],
      "text/plain": [
       "<Metabolite Eicosadienoic_Acid at 0x1471317e0>"
      ]
     },
     "execution_count": 8,
     "metadata": {},
     "output_type": "execute_result"
    }
   ],
   "source": [
    "EDA = Metabolite(id = 'Eicosadienoic_Acid', compartment = 'c', name = 'EDA', formula = 'C20H35O2')\n",
    "EDA"
   ]
  },
  {
   "cell_type": "code",
   "execution_count": 9,
   "id": "2d9af296-50c0-4a47-90e2-0b2937edbe85",
   "metadata": {
    "tags": []
   },
   "outputs": [
    {
     "data": {
      "text/html": [
       "\n",
       "        <table>\n",
       "            <tr>\n",
       "                <td><strong>Metabolite identifier</strong></td><td>Dihomo_g_linolenic_acid</td>\n",
       "            </tr><tr>\n",
       "                <td><strong>Name</strong></td><td>DGLA</td>\n",
       "            </tr><tr>\n",
       "                <td><strong>Memory address</strong></td>\n",
       "                <td>0x147131840</td>\n",
       "            </tr><tr>\n",
       "                <td><strong>Formula</strong></td><td>C20H33O2</td>\n",
       "            </tr><tr>\n",
       "                <td><strong>Compartment</strong></td><td>c</td>\n",
       "            </tr><tr>\n",
       "                <td><strong>In 0 reaction(s)</strong></td><td>\n",
       "                    \n",
       "                    </td>\n",
       "            </tr>\n",
       "        </table>"
      ],
      "text/plain": [
       "<Metabolite Dihomo_g_linolenic_acid at 0x147131840>"
      ]
     },
     "execution_count": 9,
     "metadata": {},
     "output_type": "execute_result"
    }
   ],
   "source": [
    "DGLA = Metabolite(id = 'Dihomo_g_linolenic_acid', compartment = 'c', name = 'DGLA', formula = 'C20H33O2')\n",
    "DGLA"
   ]
  },
  {
   "cell_type": "code",
   "execution_count": 10,
   "id": "bee2c36b-2924-4f02-a20a-3fee4feee1e7",
   "metadata": {
    "tags": []
   },
   "outputs": [
    {
     "data": {
      "text/html": [
       "\n",
       "        <table>\n",
       "            <tr>\n",
       "                <td><strong>Metabolite identifier</strong></td><td>Arachidonic_acid</td>\n",
       "            </tr><tr>\n",
       "                <td><strong>Name</strong></td><td>ARA</td>\n",
       "            </tr><tr>\n",
       "                <td><strong>Memory address</strong></td>\n",
       "                <td>0x147131a20</td>\n",
       "            </tr><tr>\n",
       "                <td><strong>Formula</strong></td><td>C20H31O2</td>\n",
       "            </tr><tr>\n",
       "                <td><strong>Compartment</strong></td><td>c</td>\n",
       "            </tr><tr>\n",
       "                <td><strong>In 0 reaction(s)</strong></td><td>\n",
       "                    \n",
       "                    </td>\n",
       "            </tr>\n",
       "        </table>"
      ],
      "text/plain": [
       "<Metabolite Arachidonic_acid at 0x147131a20>"
      ]
     },
     "execution_count": 10,
     "metadata": {},
     "output_type": "execute_result"
    }
   ],
   "source": [
    "ARA = Metabolite(id = 'Arachidonic_acid', compartment = 'c', name = 'ARA', formula = 'C20H31O2')\n",
    "ARA"
   ]
  },
  {
   "cell_type": "code",
   "execution_count": 11,
   "id": "8f8f7e0e-ee90-408d-988c-75489a3b6fcf",
   "metadata": {
    "tags": []
   },
   "outputs": [
    {
     "data": {
      "text/html": [
       "\n",
       "        <table>\n",
       "            <tr>\n",
       "                <td><strong>Metabolite identifier</strong></td><td>Eicosapentaenoic_Acid</td>\n",
       "            </tr><tr>\n",
       "                <td><strong>Name</strong></td><td>EPA</td>\n",
       "            </tr><tr>\n",
       "                <td><strong>Memory address</strong></td>\n",
       "                <td>0x147131cc0</td>\n",
       "            </tr><tr>\n",
       "                <td><strong>Formula</strong></td><td>C20H29O2</td>\n",
       "            </tr><tr>\n",
       "                <td><strong>Compartment</strong></td><td>c</td>\n",
       "            </tr><tr>\n",
       "                <td><strong>In 0 reaction(s)</strong></td><td>\n",
       "                    \n",
       "                    </td>\n",
       "            </tr>\n",
       "        </table>"
      ],
      "text/plain": [
       "<Metabolite Eicosapentaenoic_Acid at 0x147131cc0>"
      ]
     },
     "execution_count": 11,
     "metadata": {},
     "output_type": "execute_result"
    }
   ],
   "source": [
    "EPA = Metabolite(id = 'Eicosapentaenoic_Acid', compartment = 'c', name = 'EPA', formula = 'C20H29O2')\n",
    "EPA"
   ]
  },
  {
   "cell_type": "markdown",
   "id": "0ac31ccb-cbb6-456b-bed7-e9992d760279",
   "metadata": {},
   "source": [
    "# Now for the reactions"
   ]
  },
  {
   "cell_type": "code",
   "execution_count": 12,
   "id": "e16a038b-6ccb-4624-865f-13be1fa6fd36",
   "metadata": {},
   "outputs": [],
   "source": [
    "D_12_desaturase = Reaction('D12ds')\n",
    "D_9_Elongase = Reaction('D9E')\n",
    "D_8_desaturase = Reaction('D8ds')\n",
    "D_5_desaturase = Reaction('D5ds')\n",
    "D_17_desaturase = Reaction('D17ds')"
   ]
  },
  {
   "cell_type": "code",
   "execution_count": 13,
   "id": "1408c3f2-cbc7-49a2-8949-0e3530e19d0b",
   "metadata": {},
   "outputs": [],
   "source": [
    "#model.metabolites.get_by_id('s_1260[c]')"
   ]
  },
  {
   "cell_type": "markdown",
   "id": "d27049e6-15d2-4163-950b-1a776da7bacb",
   "metadata": {},
   "source": [
    "# Adding the metabolites to the reactions"
   ]
  },
  {
   "cell_type": "code",
   "execution_count": 14,
   "id": "cb78656c-18d3-4cab-b862-ac401a2fbbee",
   "metadata": {
    "tags": []
   },
   "outputs": [],
   "source": [
    "D_12_desaturase.add_metabolites(({model.metabolites.get_by_id('ocdcea_c'): -1, #Oleic Acid\n",
    "                                  linoleate: 1, \n",
    "                                  model.metabolites.get_by_id('nadph_c'): -2, #NADPH\n",
    "                                  model.metabolites.get_by_id('nadp_c'): 2,  #NADP+\n",
    "                                  model.metabolites.get_by_id('h2o_c'): 2,  #H2O\n",
    "                                  model.metabolites.get_by_id('o2_c'): -2, #Oxygen\n",
    "                              }))"
   ]
  },
  {
   "cell_type": "code",
   "execution_count": 15,
   "id": "5cd453ac-1241-483c-8ad1-3c94ab1fac1b",
   "metadata": {},
   "outputs": [],
   "source": [
    "D_9_Elongase.add_metabolites(({model.metabolites.get_by_id('malcoa_c'): -1, #Malonyl-CoA\n",
    "                               linoleate: -1,\n",
    "                               EDA: 1,\n",
    "                               model.metabolites.get_by_id('h2o_c'): 1,  #H20\n",
    "                               model.metabolites.get_by_id('nadph_c'): -2, #NADPH\n",
    "                               model.metabolites.get_by_id('co2_c'): 1,  #CO2\n",
    "                               model.metabolites.get_by_id('nadp_c'): 2,  #NADP+\n",
    "                               model.metabolites.get_by_id('h_c'): -2, #H+\n",
    "                               model.metabolites.get_by_id('coa_c'): 1,  #Coenzyme A (CoA)\n",
    "                              }))"
   ]
  },
  {
   "cell_type": "code",
   "execution_count": 16,
   "id": "c9845ef5-5f38-4b34-a34e-1a1cac8f61fc",
   "metadata": {},
   "outputs": [],
   "source": [
    "D_8_desaturase.add_metabolites(({EDA: -1,\n",
    "                                 DGLA: 1,\n",
    "                                 model.metabolites.get_by_id('nadph_c'): -2, #NADPH\n",
    "                                 model.metabolites.get_by_id('nadp_c'): 2,  #NADP+\n",
    "                                 model.metabolites.get_by_id('h2o_c'): 2,  #H2O\n",
    "                                 model.metabolites.get_by_id('o2_c'): -2, #Oxygen\n",
    "                              }))"
   ]
  },
  {
   "cell_type": "code",
   "execution_count": 17,
   "id": "806b4d35-727b-4988-a072-7bff3258856a",
   "metadata": {},
   "outputs": [],
   "source": [
    "D_5_desaturase.add_metabolites(({ARA: 1,\n",
    "                                 DGLA: -1,\n",
    "                                 model.metabolites.get_by_id('nadph_c'): -2, #NADPH\n",
    "                                 model.metabolites.get_by_id('nadp_c'): 2,  #NADP+\n",
    "                                 model.metabolites.get_by_id('h2o_c'): 2,  #H2O\n",
    "                                 model.metabolites.get_by_id('o2_c'): -2, #Oxygen\n",
    "                              }))"
   ]
  },
  {
   "cell_type": "code",
   "execution_count": 18,
   "id": "858a5bc7-d92c-4bf6-a973-d99b1d4f0d8d",
   "metadata": {},
   "outputs": [],
   "source": [
    "D_17_desaturase.add_metabolites(({ARA: -1,\n",
    "                                 EPA: 1,\n",
    "                                 model.metabolites.get_by_id('nadph_c'): -2, #NADPH\n",
    "                                 model.metabolites.get_by_id('nadp_c'): 2,  #NADP+\n",
    "                                 model.metabolites.get_by_id('h2o_c'): 2,  #H2O\n",
    "                                 model.metabolites.get_by_id('o2_c'): -2, #Oxygen\n",
    "                              }))"
   ]
  },
  {
   "cell_type": "markdown",
   "id": "3e3a7617-b4ea-4a4c-a3e6-68309c4d2d3e",
   "metadata": {},
   "source": [
    "# Get the reactions into the model"
   ]
  },
  {
   "cell_type": "code",
   "execution_count": 19,
   "id": "4360f03d-9937-49d4-9927-c9d72f8a6f7d",
   "metadata": {},
   "outputs": [],
   "source": [
    "model.add_reactions([D_12_desaturase])\n",
    "model.add_reactions([D_9_Elongase])\n",
    "model.add_reactions([D_8_desaturase])\n",
    "model.add_reactions([D_5_desaturase])\n",
    "model.add_reactions([D_17_desaturase])"
   ]
  },
  {
   "cell_type": "markdown",
   "id": "63bfa9a8-4528-4ba7-90ae-3342b0f23ea7",
   "metadata": {},
   "source": [
    "# Only metabolites from the intracellular space are utilized"
   ]
  },
  {
   "cell_type": "code",
   "execution_count": 20,
   "id": "156458c3-e696-4606-8900-65cc40c67b80",
   "metadata": {},
   "outputs": [
    {
     "data": {
      "text/html": [
       "\n",
       "        <table>\n",
       "            <tr>\n",
       "                <td><strong>Reaction identifier</strong></td><td>DM_Eicosapentaenoic_Acid</td>\n",
       "            </tr><tr>\n",
       "                <td><strong>Name</strong></td><td>EPA demand</td>\n",
       "            </tr><tr>\n",
       "                <td><strong>Memory address</strong></td>\n",
       "                <td>0x1471659f0</td>\n",
       "            </tr><tr>\n",
       "                <td><strong>Stoichiometry</strong></td>\n",
       "                <td>\n",
       "                    <p style='text-align:right'>Eicosapentaenoic_Acid --></p>\n",
       "                    <p style='text-align:right'>EPA --></p>\n",
       "                </td>\n",
       "            </tr><tr>\n",
       "                <td><strong>GPR</strong></td><td></td>\n",
       "            </tr><tr>\n",
       "                <td><strong>Lower bound</strong></td><td>0</td>\n",
       "            </tr><tr>\n",
       "                <td><strong>Upper bound</strong></td><td>1000.0</td>\n",
       "            </tr>\n",
       "        </table>\n",
       "        "
      ],
      "text/plain": [
       "<Reaction DM_Eicosapentaenoic_Acid at 0x1471659f0>"
      ]
     },
     "execution_count": 20,
     "metadata": {},
     "output_type": "execute_result"
    }
   ],
   "source": [
    "model.add_boundary(model.metabolites.linoleate, type='demand')\n",
    "model.add_boundary(model.metabolites.Eicosadienoic_Acid, type='demand')\n",
    "model.add_boundary(model.metabolites.Dihomo_g_linolenic_acid, type='demand')\n",
    "model.add_boundary(model.metabolites.Arachidonic_acid, type='demand')\n",
    "model.add_boundary(model.metabolites.Eicosapentaenoic_Acid, type='demand')"
   ]
  },
  {
   "cell_type": "code",
   "execution_count": 21,
   "id": "c1834b6a-7326-4687-a86a-34bb5586797b",
   "metadata": {},
   "outputs": [],
   "source": [
    "#?model.add_boundary"
   ]
  },
  {
   "cell_type": "code",
   "execution_count": 22,
   "id": "cc86e18b-de37-4e23-b5a8-43e3559c40be",
   "metadata": {},
   "outputs": [
    {
     "data": {
      "text/html": [
       "\n",
       "        <table>\n",
       "            <tr>\n",
       "                <td><strong>Reaction identifier</strong></td><td>D12ds</td>\n",
       "            </tr><tr>\n",
       "                <td><strong>Name</strong></td><td></td>\n",
       "            </tr><tr>\n",
       "                <td><strong>Memory address</strong></td>\n",
       "                <td>0x147133310</td>\n",
       "            </tr><tr>\n",
       "                <td><strong>Stoichiometry</strong></td>\n",
       "                <td>\n",
       "                    <p style='text-align:right'>2 nadph_c + 2 o2_c + ocdcea_c --> 2 h2o_c + linoleate + 2 nadp_c</p>\n",
       "                    <p style='text-align:right'>2 Nicotinamide adenine dinucleotide phosphate - reduced + 2 O2 O2 + Octadecenoate (n-C18:1) --> 2 H2O H2O + linoleate + 2 Nicotinamide adenine dinucleotide phosphate</p>\n",
       "                </td>\n",
       "            </tr><tr>\n",
       "                <td><strong>GPR</strong></td><td></td>\n",
       "            </tr><tr>\n",
       "                <td><strong>Lower bound</strong></td><td>0.0</td>\n",
       "            </tr><tr>\n",
       "                <td><strong>Upper bound</strong></td><td>1000.0</td>\n",
       "            </tr>\n",
       "        </table>\n",
       "        "
      ],
      "text/plain": [
       "<Reaction D12ds at 0x147133310>"
      ]
     },
     "execution_count": 22,
     "metadata": {},
     "output_type": "execute_result"
    }
   ],
   "source": [
    "model.reactions.D12ds"
   ]
  }
 ],
 "metadata": {
  "kernelspec": {
   "display_name": "Python 3 (ipykernel)",
   "language": "python",
   "name": "python3"
  },
  "language_info": {
   "codemirror_mode": {
    "name": "ipython",
    "version": 3
   },
   "file_extension": ".py",
   "mimetype": "text/x-python",
   "name": "python",
   "nbconvert_exporter": "python",
   "pygments_lexer": "ipython3",
   "version": "3.10.13"
  }
 },
 "nbformat": 4,
 "nbformat_minor": 5
}
