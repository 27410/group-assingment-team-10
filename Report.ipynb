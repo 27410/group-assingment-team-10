{
 "cells": [
  {
   "cell_type": "markdown",
   "metadata": {},
   "source": [
    "# [Title]"
   ]
  },
  {
   "cell_type": "markdown",
   "metadata": {},
   "source": [
    "## 1. Introduction"
   ]
  },
  {
   "cell_type": "markdown",
   "metadata": {},
   "source": [
    "### 1.1 Literature review of the compound (<500 words)"
   ]
  },
  {
   "cell_type": "markdown",
   "metadata": {},
   "source": [
    "### 1.2 Literature review of the cell factory (<500 words)"
   ]
  },
  {
   "cell_type": "markdown",
   "metadata": {},
   "source": [
    "The cell factory chosen for this project, is the ascomycete yeast *Yarrowia lipolytica*, that is a certified GRAS (generally recognized as safe) organism *(1)*.  It is a versatile organism capable of utilizing a wide array of carbon substrates *(2)*, and simultaneously also has a diverse portfolio of products from weak acids and proteins to biofuels and lipids. In general, the products of interest are derived from the yeasts’ ability to secrete enzymes / proteins and accumulate high amounts of lipid *(3)*. \n",
    "\t\t\t\n",
    "For the lasts 50 years, extensive work has been done to genetically engineer *Y. lipolytica* and several engineering strategies have been established such as CRISPR-Cas9 genome editing, DNA assembly methods, replicative vectors etc. Amongst these are 3 in silico models that will be mentioned later *(4)*. To this end, various strains are now being developed to support the engineering strategies, leading to specialized cell factories.\n",
    "\n",
    "The yeast however also has its drawbacks, as there exist several challenges for *Y. lipolytica* as a cell factory at an industrial level. The most immediate of them is the growth rate, which generally is low for oleaginous yeasts, resulting in lower yields of the desired products. However, the extensive research into *Y. lipolytica* can help improve growth rates and production yield for the specific product *(5)*. \n",
    "\n",
    "For this project *Y. lipolytica* was chosen to produce the omega-3 fatty acids, EPA and DHA. As mentioned, the yeast at its core is an outstanding producer of lipids and already has a strong base for genetic engineering, with in silico models at the ready. \n",
    "Other considerations for the cell factory of choice, include another oleaginous yeast named *Trichosporon oleaginosus*, which can utilize aromatic based feedstock as substrate, while accumulating up to 70% of its biomass as lipids *(6)*. Even though this is highly interesting to the project, the industrial applications and genetic engineering strategies are not on the same level compared to *Y. lipolytica*. \n",
    "\n",
    "Another contender is probably the most well researched yeast, *Saccharomyces cerevisiae*. The yeast is well known as a reliable cell factory with robust genetic tools and high relevance in the industry. Several papers have been written on the accumulation of fatty acid production from the yeast *(6)*. However, for this paper, *Y. lipolytica* is of higher interest, as the initial high accumulation of lipids pave the way for a theoretically higher yield than S. cerevisiae would provide, though it might be easier to practically engineer. \n"
   ]
  },
  {
   "cell_type": "markdown",
   "metadata": {},
   "source": [
    "  *(1)* https://www.sciencedirect.com/science/article/pii/B9781893997738500074 \n",
    "\n",
    "  *(2)* https://backend.orbit.dtu.dk/ws/files/124169843/RRB_poster_Patrice.pdf\n",
    "\n",
    "  *(3)* Engineering Yarrowia lipolytica for Use in Biotechnological Applications: A Review of Major Achievements and Recent Innovations\n",
    "\n",
    "  *(4)* https://pubs-acs-org.proxy.findit.cvt.dk/doi/full/10.1021/acssynbio.2c00569\n",
    "\n",
    "  *(5)* https://www.ncbi.nlm.nih.gov/pmc/articles/PMC3970049/\n",
    "\n",
    "  *(6)* https://link-springer-com.proxy.findit.cvt.dk/article/10.1186/s12934-017-0820-8\n",
    "  \n",
    "  *(7)* https://pubs-acs-org.proxy.findit.cvt.dk/doi/full/10.1021/acsomega.7b00065\n"
   ]
  },
  {
   "cell_type": "markdown",
   "metadata": {},
   "source": [
    "## 2. Problem definition (<300 words)"
   ]
  },
  {
   "cell_type": "markdown",
   "metadata": {},
   "source": [
    "## 3. *If Project category I:* Reconstruction of a new GSM for your cell factory host of interest (<1500 words)"
   ]
  },
  {
   "cell_type": "markdown",
   "metadata": {},
   "source": [
    "or"
   ]
  },
  {
   "cell_type": "markdown",
   "metadata": {},
   "source": [
    "## 3. *If Project category II:* Selection and assessment of existing GSM (<500 words)"
   ]
  },
  {
   "cell_type": "markdown",
   "metadata": {},
   "source": [
    "## 4. Computer-Aided Cell Factory Engineering (<1500 words if Category II project; <500 words for Category I project)"
   ]
  },
  {
   "cell_type": "markdown",
   "metadata": {},
   "source": [
    "## 5. Discussion (<500 words)"
   ]
  },
  {
   "cell_type": "markdown",
   "metadata": {},
   "source": [
    "## 6. Conclusion (<200 words)"
   ]
  },
  {
   "cell_type": "markdown",
   "metadata": {},
   "source": [
    "## References"
   ]
  },
  {
   "cell_type": "code",
   "execution_count": null,
   "metadata": {},
   "outputs": [],
   "source": []
  }
 ],
 "metadata": {
  "kernelspec": {
   "display_name": "Python 3 (ipykernel)",
   "language": "python",
   "name": "python3"
  },
  "language_info": {
   "codemirror_mode": {
    "name": "ipython",
    "version": 3
   },
   "file_extension": ".py",
   "mimetype": "text/x-python",
   "name": "python",
   "nbconvert_exporter": "python",
   "pygments_lexer": "ipython3",
   "version": "3.10.8"
  }
 },
 "nbformat": 4,
 "nbformat_minor": 4
}
