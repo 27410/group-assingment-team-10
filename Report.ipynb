{
 "cells": [
  {
   "cell_type": "markdown",
   "metadata": {},
   "source": [
    "# [Title]"
   ]
  },
  {
   "cell_type": "markdown",
   "metadata": {},
   "source": [
    "## 1. Introduction"
   ]
  },
  {
   "cell_type": "markdown",
   "metadata": {},
   "source": [
    "### 1.1 Literature review of the compound (<500 words)"
   ]
  },
  {
   "cell_type": "markdown",
   "metadata": {},
   "source": [
    "Omega-3 fatty acids has been known to have beneficial effects on human health, due to their anti-inflammatory, antithrombotic and antiarrhythmic properties [1]. Fatty acids have a carboxyl group in one end and a methyl group in the other end, where the carboxyl group is the reactive group. Fatty acids that contain a double bond in the hydrocarbon chain is known as an unsaturated fatty acid. If it contains more than one double, it is known as a polyunsaturated fatty acid (PUFA). Omega-3 fatty acids are PUFA and they are named this way due to the fact that the first double bond is located on carbon number 3 [2].\n",
    "Among the omega-3 fatty acids, both eicosapentaenoic acid (EPA) and docosahexaenoic acid (DHA) has shown to have beneficial properties. EPA and DHA can both be found in algae and fatty fish such as tuna and salmon [1]. EPA consist of 20 carbons and 5 double bonds, whereas DHA consists of 22 carbons and 6 double bonds. The human body cannot naturally synthesize these fatty acids, therefore we need to get them through our diet [2]. Studies have also shown that EPA and DHA have a critical role in fetal retina and brain development, which is why pregnant women are advised to eat food with omega-3 fatty acids in their diet, since the developing fetus’ only source of fatty acids is coming from the mother via the placenta  [3]. However, pregnant woman has to be careful when eating fatty fish in order to get EPA and DHA, since the presence of methyl mercury (MeHg) in fish can be harmful to the fetus [4]. Since EPA and DHA have these beneficial properties, it could therefore be advantageous to find other ways for people to intake these fatty acids beside eating fatty fish. Vegans do not eat fish, so they would also lack EPA and DHA in their diet. Supplements in the form of fish oil pills exist, however these pills are produced from the remains of fish in aquaculture  [5], which vegans would still be unable to consume. Therefore, a way to produce EPA and DHA without the use of fish, but having cells produce the PUFA would be beneficial. \n",
    "\n",
    "[1] Covington, Maggie B. \"Omega-3 fatty acids.\" American family physician 70.1 (2004): 133-140. \n",
    "\n",
    "[2] Calder, Philip C., and Parveen Yaqoob. \"Understanding omega-3 polyunsaturated fatty acids.\" Postgraduate medicine 121.6 (2009): 148-157. \n",
    "\n",
    "[3] Shrestha, Nirajan, et al. \"Role Of Omega‐6 and Omega‐3 fatty acids in fetal programming.\" Clinical and Experimental Pharmacology and Physiology 47.5 (2020): 907-915. \n",
    "\n",
    "[4] Jinadasa, B. K. K. K., et al. \"Mitigating the impact of mercury contaminants in fish and other seafood—A review.\" Marine Pollution Bulletin 171 (2021): 112710.\n",
    "\n",
    "[5] https://maring.org/a-sustainable-industry/fish-meal-and-fish-oil-production/ "
   ]
  },
  {
   "cell_type": "markdown",
   "metadata": {},
   "source": [
    "### 1.2 Literature review of the cell factory (<500 words)"
   ]
  },
  {
   "cell_type": "markdown",
   "metadata": {},
   "source": [
    "## 2. Problem definition (<300 words)\n",
    "\n",
    "The main contributors of omega-3 fatty acids, more specifically EPA (and DHA), in a normal diet are naturally fatty sea food products **[1]**. They can also be obtained through dietary supplements, which are either directly extracted from algae, or from fish **[2]**. One of the disadvantages of extracting the fatty acids from fish, is that it limits who can use these supplements, as vegans and vegetarians will not use them. Another disadvantage is that it is tedious to both farm the fish, and extract the oils from them **[3]**. The problem with algae bioreactors is that they are more challenging than other types of bioreactors, and require more space for the same volume. That is because in order for the algae to grow, they need sunlight for photosynthesis, which cannot penetrate very deep into the reactor, resulting in a reactor design with a larger surface area, and not very efficient in terms of volume **[4]**.\n",
    "\n",
    "In order to solve these problems the omega-3 fatty acids could be produced by heterogeneous expression in *Y. lipolytica*. By using a yeast such as *Y. lipolytica*, both the disadvantages from production in fish, and in algae are circumvented. It is both easier and less strenuous on the environment than production in fish, and there would be none of the dietary restrictions as mentioned before. It would also be more space efficient than production in algae.\n",
    "\n",
    "1.\thttps://doi.org/10.1017/S0007114512001456 \n",
    "2.\thttps://doi.org/10.1186/1475-2859-11-96 \n",
    "3.\thttps://doi.org/10.1016/j.rser.2012.01.026 \n",
    "4.\thttps://doi.org/10.1016/j.rser.2012.01.026 "
   ]
  },
  {
   "cell_type": "markdown",
   "metadata": {},
   "source": [
    "## 3. *If Project category I:* Reconstruction of a new GSM for your cell factory host of interest (<1500 words)"
   ]
  },
  {
   "cell_type": "markdown",
   "metadata": {},
   "source": [
    "or"
   ]
  },
  {
   "cell_type": "markdown",
   "metadata": {},
   "source": [
    "## 3. *If Project category II:* Selection and assessment of existing GSM (<500 words)"
   ]
  },
  {
   "cell_type": "markdown",
   "metadata": {},
   "source": [
    "## 4. Computer-Aided Cell Factory Engineering (<1500 words if Category II project; <500 words for Category I project)"
   ]
  },
  {
   "cell_type": "markdown",
   "metadata": {},
   "source": [
    "## Selection and optimization of media\n",
    "\n",
    "When selecting a media for the model, the first thing to do is check the default media included in the model. In the iND750 model the default media is not something you would see in practice with very high concentrations of all substrates. Therefore, a new media has to be constructed and as it is a yeast model, Yeast Extract Peptone Dextrose (YEPD or YPD) media was chosen. It should be noted that the model does lack both zinc and iron, which should have been added with the media.\n",
    "\n",
    "With the media constructed we can now find the maximum biomass and EPA productivities, showcased in the table below:\n",
    "\n",
    "<center>\n",
    "\n",
    "**Biomass and EPA productivities**\n",
    "|**Media**|**Biomass *(/h)***|**EPA *(mmol/gDW⋅h)***|\n",
    "|:---|:---:|:---:|\n",
    "|Default|0.097|0.159|\n",
    "|YPD + Glc|6.385|9.797|\n",
    "|YPD + Gly|5.169|8.062|\n",
    "|YPD + Suc|4.492|7.214|\n",
    "|YPD + Xyl|5.941|9.021|\n",
    "\n",
    "</center>\n",
    "\n",
    "\n",
    "\n",
    "'<center>\n",
    "**Default media in model iND750**\n",
    "|**Substrate**|**Concentration**|\n",
    "|-------------|-----------------|\n",
    "|Ammonia|999999|\n",
    "|Oxygen|999999|\n",
    "|Phosphate|999999|\n",
    "|Sulphate|999999|\n",
    "|Glucose|1|\n",
    "|Water|999999|\n",
    "</center>"
   ]
  },
  {
   "cell_type": "markdown",
   "metadata": {},
   "source": [
    "## 5. Discussion (<500 words)"
   ]
  },
  {
   "cell_type": "markdown",
   "metadata": {},
   "source": [
    "## 6. Conclusion (<200 words)"
   ]
  },
  {
   "cell_type": "markdown",
   "metadata": {},
   "source": [
    "## References"
   ]
  },
  {
   "cell_type": "code",
   "execution_count": null,
   "metadata": {},
   "outputs": [],
   "source": []
  }
 ],
 "metadata": {
  "kernelspec": {
   "display_name": "python3.6",
   "language": "python",
   "name": "python3.6"
  },
  "language_info": {
   "codemirror_mode": {
    "name": "ipython",
    "version": 3
   },
   "file_extension": ".py",
   "mimetype": "text/x-python",
   "name": "python",
   "nbconvert_exporter": "python",
   "pygments_lexer": "ipython3",
   "version": "3.6.11"
  }
 },
 "nbformat": 4,
 "nbformat_minor": 4
}
