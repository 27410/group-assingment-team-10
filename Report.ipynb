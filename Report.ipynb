{
 "cells": [
  {
   "cell_type": "code",
   "execution_count": 2,
   "metadata": {},
   "outputs": [],
   "source": [
    "\n",
    "from IPython.display import FileLink, FileLinks"
   ]
  },
  {
   "cell_type": "markdown",
   "metadata": {},
   "source": [
    "# [Title]"
   ]
  },
  {
   "cell_type": "code",
   "execution_count": 2,
   "metadata": {},
   "outputs": [],
   "source": [
    "from IPython.display import FileLink, FileLinks"
   ]
  },
  {
   "cell_type": "markdown",
   "metadata": {},
   "source": [
    "## 1. Introduction"
   ]
  },
  {
   "cell_type": "markdown",
   "metadata": {},
   "source": [
    "### 1.1 Literature review of the compound (<500 words)"
   ]
  },
  {
   "cell_type": "markdown",
   "metadata": {},
   "source": [
    "Omega-3 fatty acids has been known to have beneficial effects on human health, due to their anti-inflammatory, antithrombotic and antiarrhythmic properties [1]. Fatty acids have a carboxyl group in one end and a methyl group in the other end, where the carboxyl group is the reactive group. Fatty acids that contain a double bond in the hydrocarbon chain is known as an unsaturated fatty acid. If it contains more than one double, it is known as a polyunsaturated fatty acid (PUFA). Omega-3 fatty acids are PUFA and they are named this way due to the fact that the first double bond is located on carbon number 3 [2].\n",
    "Among the omega-3 fatty acids, both eicosapentaenoic acid (EPA) and docosahexaenoic acid (DHA) has shown to have beneficial properties. EPA and DHA can both be found in algae and fatty fish such as tuna and salmon [1]. EPA consist of 20 carbons and 5 double bonds, whereas DHA consists of 22 carbons and 6 double bonds. The human body cannot naturally synthesize these fatty acids, therefore we need to get them through our diet [2]. Studies have also shown that EPA and DHA have a critical role in fetal retina and brain development, which is why pregnant women are advised to eat food with omega-3 fatty acids in their diet, since the developing fetus’ only source of fatty acids is coming from the mother via the placenta  [3]. However, pregnant woman has to be careful when eating fatty fish in order to get EPA and DHA, since the presence of methyl mercury (MeHg) in fish can be harmful to the fetus [4]. Since EPA and DHA have these beneficial properties, it could therefore be advantageous to find other ways for people to intake these fatty acids beside eating fatty fish. Vegans do not eat fish, so they would also lack EPA and DHA in their diet. Supplements in the form of fish oil pills exist, however these pills are produced from the remains of fish in aquaculture  [5], which vegans would still be unable to consume. Therefore, a way to produce EPA and DHA without the use of fish, but having cells produce the PUFA would be beneficial. \n",
    "Underneath is figure 1, showcasing the heterologous pathway we have to insert into our model to produce EPA. The pathway consist of omega-6 fatty acids such as linoleic acid (LA), Eicosadieonic acid (EDA), Dihomo-G-linoleic acid (DGLA) and arachidonic acid (ARA) which are precursors to EPA. The enzymes needed to synthesize the omega-6 fatty into EPA are delta9-elongase (LA to EDA), delta8-desaturase (EDA to DGLA), delta5-desaturase (DGLA to ARA) and delta17-desaturase (ARA to EPA) [6]. \n",
    "\n",
    "[1] Covington, Maggie B. \"Omega-3 fatty acids.\" American family physician 70.1 (2004): 133-140. \n",
    "\n",
    "[2] Calder, Philip C., and Parveen Yaqoob. \"Understanding omega-3 polyunsaturated fatty acids.\" Postgraduate medicine 121.6 (2009): 148-157. \n",
    "\n",
    "[3] Shrestha, Nirajan, et al. \"Role Of Omega‐6 and Omega‐3 fatty acids in fetal programming.\" Clinical and Experimental Pharmacology and Physiology 47.5 (2020): 907-915. \n",
    "\n",
    "[4] Jinadasa, B. K. K. K., et al. \"Mitigating the impact of mercury contaminants in fish and other seafood—A review.\" Marine Pollution Bulletin 171 (2021): 112710.\n",
    "\n",
    "[5] https://maring.org/a-sustainable-industry/fish-meal-and-fish-oil-production/ \n",
    "\n",
    "[6] Xue, Zhixiong, et al. \"Production of omega-3 eicosapentaenoic acid by metabolic engineering of Yarrowia lipolytica.\" Nature biotechnology 31.8 (2013): 734-740.\n"
   ]
  },
  {
   "cell_type": "markdown",
   "metadata": {},
   "source": [
    "![Glycerol PPP](Figures/EPA_pathway.png \"Figure xx: Shows the EPA pathway\") \n",
    "Figure 1: Biosynthetic pathway of EPA. Red number from the right indicate the which carbon the first double bond is located on and the blue numbers indicate the carbon number from the carboxyl end. Delta9-elongase, delta8-desaturase, delta5-desaturase and delta17-desaturase are all needed to synthesize EPA from LA. Figure is adapted from Zhixiong Xue et al. [6] "
   ]
  },
  {
   "cell_type": "markdown",
   "metadata": {},
   "source": [
    "### 1.2 Literature review of the cell factory (<500 words)"
   ]
  },
  {
   "cell_type": "markdown",
   "metadata": {},
   "source": [
    "## 2. Problem definition (<300 words)\n",
    "\n",
    "The main contributors of omega-3 fatty acids, more specifically EPA (and DHA), in a normal diet are naturally fatty sea food products **[1]**. They can also be obtained through dietary supplements, which are either directly extracted from algae, or from fish **[2]**. One of the disadvantages of extracting the fatty acids from fish, is that it limits who can use these supplements, as vegans and vegetarians will not use them. Another disadvantage is that it is tedious to both farm the fish, and extract the oils from them **[3]**. The problem with algae bioreactors is that they are more challenging than other types of bioreactors, and require more space for the same volume. That is because in order for the algae to grow, they need sunlight for photosynthesis, which cannot penetrate very deep into the reactor, resulting in a reactor design with a larger surface area, and not very efficient in terms of volume **[4]**.\n",
    "\n",
    "In order to solve these problems the omega-3 fatty acids could be produced by heterogeneous expression in *Y. lipolytica*. By using a yeast such as *Y. lipolytica*, both the disadvantages from production in fish, and in algae are circumvented. It is both easier and less strenuous on the environment than production in fish, and there would be none of the dietary restrictions as mentioned before. It would also be more space efficient than production in algae.\n",
    "\n",
    "1.\thttps://doi.org/10.1017/S0007114512001456 \n",
    "2.\thttps://doi.org/10.1186/1475-2859-11-96 \n",
    "3.\thttps://doi.org/10.1016/j.rser.2012.01.026 \n",
    "4.\thttps://doi.org/10.1016/j.rser.2012.01.026 "
   ]
  },
  {
   "cell_type": "markdown",
   "metadata": {},
   "source": [
    "## 3. *If Project category I:* Reconstruction of a new GSM for your cell factory host of interest (<1500 words)"
   ]
  },
  {
   "cell_type": "markdown",
   "metadata": {},
   "source": [
    "or"
   ]
  },
  {
   "cell_type": "markdown",
   "metadata": {},
   "source": [
    "## 3. *If Project category II:* Selection and assessment of existing GSM (<500 words)"
   ]
  },
  {
   "cell_type": "markdown",
   "metadata": {},
   "source": [
    "## 4. Computer-Aided Cell Factory Engineering (<1500 words if Category II project; <500 words for Category I project)"
   ]
  },
  {
   "cell_type": "markdown",
   "metadata": {},
   "source": [
    "## Heterologous insertion of pathway leading to Eicosapentaenoic Acid (EPA)\n",
    "\n",
    "Inserting the pathway meant annotating the metabolites and enzymes utilized in the reaction, followed by adding the metabolites to the reactions and balancing out the stoichiometry. The pathway was succesfully inserted as can be seen from the maximum yield analysis and the selection and optimization of media"
   ]
  },
  {
   "cell_type": "code",
   "execution_count": 3,
   "metadata": {},
   "outputs": [
    {
     "data": {
      "text/html": [
       "<a href='Analysis/Scaffold_Y_lipo.ipynb' target='_blank'>Analysis/Scaffold_Y_lipo.ipynb</a><br>"
      ],
      "text/plain": [
       "/workspaces/group-assingment-team-10/Analysis/Scaffold_Y_lipo.ipynb"
      ]
     },
     "execution_count": 3,
     "metadata": {},
     "output_type": "execute_result"
    }
   ],
   "source": [
    "FileLink('Analysis/Scaffold_Y_lipo.ipynb')"
   ]
  },
  {
   "cell_type": "markdown",
   "metadata": {},
   "source": [
    "## Selection and optimization of media\n",
    "\n",
    "When selecting a media for the model, the first thing to do is check the default media included in the model. In the iND750 model the default media is not something you would see in practice with very high concentrations of all substrates. Therefore, a new media has to be constructed and as it is a yeast model, Yeast Extract Peptone Dextrose (YEPD or YPD) media was chosen. It should be noted that the model does lack both zinc and iron, which should have been added with the media.\n",
    "\n",
    "With the media constructed we can now find the maximum biomass and EPA productivities, showcased in the table below:\n",
    "\n",
    "\n",
    "| **Media** | **Biomass (/h)** |\t**EPA (mmol/gDW⋅h)** |\n",
    "| ---- | ---- | - |\n",
    "|Default|0.097|0.159|\n",
    "|YPD + Glc|6.385|9.797|\n",
    "|YPD + Gly|5.169|8.062|\n",
    "|YPD + Suc|4.492|7.214|\n",
    "|YPD + Xyl|5.941|9.021|\n",
    "\n",
    "To better visualize these results, they have also been plotted:\n",
    "\n",
    "<p align=\"center\">\n",
    "  <img src=\"Figures/Biomass_and_EPA_productivities.png\" alt=\"Carbon source significance\">\n",
    "  <br>\n",
    "  <em>FigX. Significance of carbon source in media</em>\n",
    "</p>\n",
    "\n",
    "As it is evident from the figure above, the yeast performs best on glucose, closely followed by xylose. But also, the other tested sugar compounds perform relatively well, meaning that the cost could be reduced in production (even though yield would be reduced), or an alternative carbon source could be used in lack of better carbon sources. The alternative carbon sources are also benefecial as they have less uses in other industries (such as the food industry).\n",
    "\n",
    "#### Glucose optimization\n",
    "\n",
    "With the media chosen, we can find the optimal concentration of glucose, by several iterations of changing glucose concentrations, and plotting them:\n",
    "\n",
    "<p align=\"center\">\n",
    "  <img src=\"Figures/Max_Glucose_concentration.png\" alt=\"Sugar concentration significance\">\n",
    "  <br>\n",
    "  <em>FigX. Significance of carbon source concentration in media</em>\n",
    "</p>\n",
    "\n",
    "As can be seen on the figure above, the growth stops at approximately 300 mmol/L glucose, and EPA production stops at approximately 400 mmol/L glucose. following is the conversion from mmol/L to g/L:\n",
    "\n",
    "$$\n",
    "m = n \\cdot M\n",
    "$$\n",
    "$$\n",
    "n_{Growth curve} = 0.3 mol/L\n",
    "$$\n",
    "$$\n",
    "n_{EPA curve}\n",
    "$$\n",
    "$$\n",
    "M = 180.156 g/mol\n",
    "$$\n",
    "$$\n",
    "m_{Growth curve} = 0.3 mol/L \\cdot 180.156 g/mol = 54 g/L\n",
    "$$\n",
    "$$\n",
    "m_{EPA curve} = 0.4 mol/L \\cdot 180.156 g/mol = 72 g/L\n",
    "$$\n",
    "\n",
    "According to an article about growth and fermentation of *S. cerevisiae* **[1]**, the optimal growth conditions are achieved at a glucose concentration of 200 g/L. This is significantly higher than the results shown above, but their study focused on another product (ethanol) which could be the reason, or it might be due to other limiting factors in the media.\n",
    "\n",
    "1. https://doi.org/10.4014/jmb.1307.07050"
   ]
  },
  {
   "cell_type": "code",
   "execution_count": 3,
   "metadata": {},
   "outputs": [
    {
     "data": {
      "text/html": [
       "<a href='Analysis/Medium_Opt_New_Model.ipynb' target='_blank'>Analysis/Medium_Opt_New_Model.ipynb</a><br>"
      ],
      "text/plain": [
       "/workspaces/group-assingment-team-10/Analysis/Medium_Opt_New_Model.ipynb"
      ]
     },
     "execution_count": 3,
     "metadata": {},
     "output_type": "execute_result"
    }
   ],
   "source": [
    "FileLink('Analysis/Medium_Opt_New_Model.ipynb')"
   ]
  },
  {
   "cell_type": "markdown",
   "metadata": {},
   "source": [
    "## Phenotypic phase plane "
   ]
  },
  {
   "cell_type": "code",
   "execution_count": 3,
   "metadata": {},
   "outputs": [
    {
     "data": {
      "text/html": [
       "<a href='Analysis/PPP_analysis.ipynb' target='_blank'>Analysis/PPP_analysis.ipynb</a><br>"
      ],
      "text/plain": [
       "/workspaces/group-assingment-team-10/Analysis/PPP_analysis.ipynb"
      ]
     },
     "execution_count": 3,
     "metadata": {},
     "output_type": "execute_result"
    }
   ],
   "source": [
    "FileLink('Analysis/PPP_analysis.ipynb')"
   ]
  },
  {
   "cell_type": "markdown",
   "metadata": {},
   "source": [
    "A Phenotypic Phase Plane (PPP) analysis was made to access which substrate our cells grew best on and how the production of our desired product (EPA) was in each of the substrates and on different levels of the substrate. In the medium composition analysis, it was shown that our model grew best on glucose, but could also grow on xylose and glycerol. The production of EPA was also best on glucose. First a PPP was made on glycerol, which showed that our cell is able to grow on glycerol and also produce EPA. Afterwards a PPP was made on oxygen, and from that it can also be concluded that the cell is able to grow and produce EPA with oxygen present, however at lower rates than glycerol. \n",
    "Next, a PPP was made on xylose and glucose respectively, and it showed that the cell could grow and produce EPA as well, however both in higher rates than glycerol and oxygen. Glucose showed the biggest biomass and EPA production, which falls in line with what we concluded from the medium composition analysis. \n",
    "All plots can be seen in figure xx"
   ]
  },
  {
   "cell_type": "markdown",
   "metadata": {},
   "source": [
    "![Glycerol PPP](Figures/Biomass_and_EPA_on_glycerol.png \"Figure xx: Plots of biomass and EPA production with glycerol, oxygen,xylose and glucose\")\n",
    "![Glycerol PPP](Figures/Biomass_and_EPA_on_oxygen.png \"Figure xx: Plots of biomass and EPA production with glycerol, oxygen,xylose and glucose\")\n",
    "![Glycerol PPP](Figures/Biomass_and_EPA_on_xylose.png \"Figure xx: Plots of biomass and EPA production with glycerol, oxygen,xylose and glucose\")\n",
    "![Glycerol PPP](Figures/Biomass_and_EPA_on_glucose.png \"Figure xx: Plots of biomass and EPA production with glycerol, oxygen,xylose and glucose\")\n",
    "\n",
    "Figure xx: Plots of biomass and EPA production with glycerol, oxygen,xylose and glucose"
   ]
  },
  {
   "cell_type": "markdown",
   "metadata": {},
   "source": [
    "We also wanted to analyze how the cell grew without the presence of oxygen in the medium. The same methods was used as above, with a changed medium composition. It was shown that the cell cannot grow and produce EPA when there is no oxygen present with glycerol. However, it could grow on xylose and glucose with no oxygen present, but at much lower rates with little to no production of EPA. The plots of this analysis can be seen in the analysis. "
   ]
  },
  {
   "cell_type": "markdown",
   "metadata": {},
   "source": [
    "## 5. Discussion (<500 words)"
   ]
  },
  {
   "cell_type": "markdown",
   "metadata": {},
   "source": [
    "## 6. Conclusion (<200 words)"
   ]
  },
  {
   "cell_type": "markdown",
   "metadata": {},
   "source": [
    "## References"
   ]
  },
  {
   "cell_type": "code",
   "execution_count": null,
   "metadata": {},
   "outputs": [],
   "source": []
  }
 ],
 "metadata": {
  "kernelspec": {
   "display_name": "Python 3 (ipykernel)",
   "language": "python",
   "name": "python3"
  },
  "language_info": {
   "codemirror_mode": {
    "name": "ipython",
    "version": 3
   },
   "file_extension": ".py",
   "mimetype": "text/x-python",
   "name": "python",
   "nbconvert_exporter": "python",
   "pygments_lexer": "ipython3",
   "version": "3.10.13"
  }
 },
 "nbformat": 4,
 "nbformat_minor": 4
}
