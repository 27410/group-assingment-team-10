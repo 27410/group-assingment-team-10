{
 "cells": [
  {
   "cell_type": "markdown",
   "metadata": {},
   "source": [
    "# [Title]"
   ]
  },
  {
   "cell_type": "markdown",
   "metadata": {},
   "source": [
    "## 1. Introduction"
   ]
  },
  {
   "cell_type": "markdown",
   "metadata": {},
   "source": [
    "### 1.1 Literature review of the compound (<500 words)"
   ]
  },
  {
   "cell_type": "markdown",
   "metadata": {},
   "source": [
    "### 1.2 Literature review of the cell factory (<500 words)"
   ]
  },
  {
   "cell_type": "markdown",
   "metadata": {},
   "source": [
    "## 2. Problem definition (<300 words)"
   ]
  },
  {
   "cell_type": "markdown",
   "metadata": {},
   "source": [
    "The main contributors of omega-3 fatty acids, more specifically EPA (and DHA), in a normal diet are naturally fatty sea food products **[1]**. They can also be obtained through dietary supplements, which are either directly extracted from algae, or from fish **[2]**. One of the disadvantages of extracting the fatty acids from fish, is that it limits who can use these supplements, as vegans and vegetarians will not use them. Another disadvantage is that it is tedious to both farm the fish, and extract the oils from them **[3]**. The problem with algae bioreactors is that they are more challenging than other types of bioreactors, and require more space for the same volume. That is because in order for the algae to grow, they need sunlight for photosynthesis, which cannot penetrate very deep into the reactor, resulting in a reactor design with a larger surface area, and not very efficient in terms of volume **[4]**.\n",
    "\n",
    "In order to solve these problems the omega-3 fatty acids could be produced by heterogeneous expression in *Y. lipolytica*. By using a yeast such as *Y. lipolytica*, both the disadvantages from production in fish, and in algae are circumvented. It is both easier and less strenuous on the environment than production in fish, and there would be none of the dietary restrictions as mentioned before. It would also be more space efficient than production in algae.\n",
    "\n",
    "1.\thttps://doi.org/10.1017/S0007114512001456 \n",
    "2.\thttps://doi.org/10.1186/1475-2859-11-96 \n",
    "3.\thttps://doi.org/10.1016/j.rser.2012.01.026 \n",
    "4.\thttps://doi.org/10.1016/j.rser.2012.01.026 "
   ]
  },
  {
   "cell_type": "markdown",
   "metadata": {},
   "source": [
    "## 3. Selection and assessment of existing GSM (<500 words)"
   ]
  },
  {
   "cell_type": "markdown",
   "metadata": {},
   "source": [
    "## 4. Computer-Aided Cell Factory Engineering (<1500)"
   ]
  },
  {
   "cell_type": "markdown",
   "metadata": {},
   "source": [
    "## Selection and optimization of media\n",
    "\n",
    "When selecting a media for the model, the first thing to do is check the default media included in the model. In the iND750 model the default media is not something you would see in practice with very high concentrations of all substrates. Therefore, a new media has to be constructed and as it is a yeast model, Yeast Extract Peptone Dextrose (YEPD or YPD) media was chosen. It should be noted that the model does lack both zinc and iron, which should have been added with the media.\n",
    "\n",
    "With the media constructed we can now find the maximum biomass and EPA productivities, showcased in the table below:\n",
    "\n",
    "<center>\n",
    "\n",
    "**Biomass and EPA productivities**\n",
    "\n",
    "| **Media** | **Biomass (/h)** |\t**EPA (mmol/gDW⋅h)** |\n",
    "| ---- | ---- | - |\n",
    "|Default|0.097|0.159|\n",
    "|YPD + Glc|6.385|9.797|\n",
    "|YPD + Gly|5.169|8.062|\n",
    "|YPD + Suc|4.492|7.214|\n",
    "|YPD + Xyl|5.941|9.021|\n",
    "\n",
    "</center>\n",
    "\n",
    "| **Media** | **Biomass (/h)** |\t**EPA (mmol/gDW⋅h)** |\n",
    "| ---- | ---- | - |\n",
    "|Default|0.097|0.159|\n",
    "|YPD + Glc|6.385|9.797|\n",
    "|YPD + Gly|5.169|8.062|\n",
    "|YPD + Suc|4.492|7.214|\n",
    "|YPD + Xyl|5.941|9.021|"
   ]
  },
  {
   "cell_type": "markdown",
   "metadata": {},
   "source": [
    "## 5. Discussion (<500 words)"
   ]
  },
  {
   "cell_type": "markdown",
   "metadata": {},
   "source": [
    "## 6. Conclusion (<200 words)"
   ]
  },
  {
   "cell_type": "markdown",
   "metadata": {},
   "source": [
    "## References"
   ]
  },
  {
   "cell_type": "code",
   "execution_count": null,
   "metadata": {},
   "outputs": [],
   "source": []
  }
 ],
 "metadata": {
  "kernelspec": {
   "display_name": "python3.6",
   "language": "python",
   "name": "python3.6"
  },
  "language_info": {
   "codemirror_mode": {
    "name": "ipython",
    "version": 3
   },
   "file_extension": ".py",
   "mimetype": "text/x-python",
   "name": "python",
   "nbconvert_exporter": "python",
   "pygments_lexer": "ipython3",
   "version": "3.6.11"
  }
 },
 "nbformat": 4,
 "nbformat_minor": 4
}
