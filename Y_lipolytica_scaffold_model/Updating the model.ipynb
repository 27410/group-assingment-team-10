{
 "cells": [
  {
   "cell_type": "code",
   "execution_count": 8,
   "id": "7c65cc48-a9ee-4f32-ad48-feadfe5c1e9e",
   "metadata": {},
   "outputs": [
    {
     "ename": "AttributeError",
     "evalue": "'str' object has no attribute 'id'",
     "output_type": "error",
     "traceback": [
      "\u001b[0;31m---------------------------------------------------------------------------\u001b[0m",
      "\u001b[0;31mAttributeError\u001b[0m                            Traceback (most recent call last)",
      "Cell \u001b[0;32mIn[8], line 3\u001b[0m\n\u001b[1;32m      1\u001b[0m \u001b[38;5;28;01mfrom\u001b[39;00m \u001b[38;5;21;01mcobra\u001b[39;00m\u001b[38;5;21;01m.\u001b[39;00m\u001b[38;5;21;01mio\u001b[39;00m \u001b[38;5;28;01mimport\u001b[39;00m read_sbml_model, write_sbml_model\n\u001b[1;32m      2\u001b[0m \u001b[38;5;28;01mfrom\u001b[39;00m \u001b[38;5;21;01mcobra\u001b[39;00m \u001b[38;5;28;01mimport\u001b[39;00m Reaction, Metabolite\n\u001b[0;32m----> 3\u001b[0m model \u001b[38;5;241m=\u001b[39m \u001b[43mwrite_sbml_model\u001b[49m\u001b[43m(\u001b[49m\u001b[38;5;124;43m'\u001b[39;49m\u001b[38;5;124;43mScaffold_model.xml\u001b[39;49m\u001b[38;5;124;43m'\u001b[39;49m\u001b[43m,\u001b[49m\u001b[38;5;124;43m'\u001b[39;49m\u001b[38;5;124;43miND750.xml\u001b[39;49m\u001b[38;5;124;43m'\u001b[39;49m\u001b[43m)\u001b[49m\n",
      "File \u001b[0;32m/usr/local/python/3.10.8/lib/python3.10/site-packages/cobra/io/sbml.py:1171\u001b[0m, in \u001b[0;36mwrite_sbml_model\u001b[0;34m(cobra_model, filename, f_replace, **kwargs)\u001b[0m\n\u001b[1;32m   1136\u001b[0m \u001b[38;5;28;01mdef\u001b[39;00m \u001b[38;5;21mwrite_sbml_model\u001b[39m(\n\u001b[1;32m   1137\u001b[0m     cobra_model: Model,\n\u001b[1;32m   1138\u001b[0m     filename: Union[\u001b[38;5;28mstr\u001b[39m, IO, Path],\n\u001b[1;32m   1139\u001b[0m     f_replace: \u001b[38;5;28mdict\u001b[39m \u001b[38;5;241m=\u001b[39m F_REPLACE,\n\u001b[1;32m   1140\u001b[0m     \u001b[38;5;241m*\u001b[39m\u001b[38;5;241m*\u001b[39mkwargs,\n\u001b[1;32m   1141\u001b[0m ) \u001b[38;5;241m-\u001b[39m\u001b[38;5;241m>\u001b[39m \u001b[38;5;28;01mNone\u001b[39;00m:\n\u001b[1;32m   1142\u001b[0m \u001b[38;5;250m    \u001b[39m\u001b[38;5;124;03m\"\"\"Write cobra model to filename.\u001b[39;00m\n\u001b[1;32m   1143\u001b[0m \n\u001b[1;32m   1144\u001b[0m \u001b[38;5;124;03m    The created model is SBML level 3 version 1 (L1V3) with\u001b[39;00m\n\u001b[0;32m   (...)\u001b[0m\n\u001b[1;32m   1169\u001b[0m \u001b[38;5;124;03m        Further keyword arguments are passed on.\u001b[39;00m\n\u001b[1;32m   1170\u001b[0m \u001b[38;5;124;03m    \"\"\"\u001b[39;00m\n\u001b[0;32m-> 1171\u001b[0m     doc \u001b[38;5;241m=\u001b[39m \u001b[43m_model_to_sbml\u001b[49m\u001b[43m(\u001b[49m\u001b[43mcobra_model\u001b[49m\u001b[43m,\u001b[49m\u001b[43m \u001b[49m\u001b[43mf_replace\u001b[49m\u001b[38;5;241;43m=\u001b[39;49m\u001b[43mf_replace\u001b[49m\u001b[43m,\u001b[49m\u001b[43m \u001b[49m\u001b[38;5;241;43m*\u001b[39;49m\u001b[38;5;241;43m*\u001b[39;49m\u001b[43mkwargs\u001b[49m\u001b[43m)\u001b[49m\n\u001b[1;32m   1173\u001b[0m     \u001b[38;5;28;01mif\u001b[39;00m \u001b[38;5;28misinstance\u001b[39m(filename, \u001b[38;5;28mstr\u001b[39m):\n\u001b[1;32m   1174\u001b[0m         \u001b[38;5;66;03m# write to path\u001b[39;00m\n\u001b[1;32m   1175\u001b[0m         libsbml\u001b[38;5;241m.\u001b[39mwriteSBMLToFile(doc, filename)\n",
      "File \u001b[0;32m/usr/local/python/3.10.8/lib/python3.10/site-packages/cobra/io/sbml.py:1216\u001b[0m, in \u001b[0;36m_model_to_sbml\u001b[0;34m(cobra_model, f_replace, units)\u001b[0m\n\u001b[1;32m   1213\u001b[0m model_fbc: \u001b[38;5;124m\"\u001b[39m\u001b[38;5;124mlibsbml.FbcModelPlugin\u001b[39m\u001b[38;5;124m\"\u001b[39m \u001b[38;5;241m=\u001b[39m model\u001b[38;5;241m.\u001b[39mgetPlugin(\u001b[38;5;124m\"\u001b[39m\u001b[38;5;124mfbc\u001b[39m\u001b[38;5;124m\"\u001b[39m)\n\u001b[1;32m   1214\u001b[0m model_fbc\u001b[38;5;241m.\u001b[39msetStrict(\u001b[38;5;28;01mTrue\u001b[39;00m)\n\u001b[0;32m-> 1216\u001b[0m \u001b[38;5;28;01mif\u001b[39;00m \u001b[43mcobra_model\u001b[49m\u001b[38;5;241;43m.\u001b[39;49m\u001b[43mid\u001b[49m \u001b[38;5;129;01mis\u001b[39;00m \u001b[38;5;129;01mnot\u001b[39;00m \u001b[38;5;28;01mNone\u001b[39;00m:\n\u001b[1;32m   1217\u001b[0m     model\u001b[38;5;241m.\u001b[39msetId(cobra_model\u001b[38;5;241m.\u001b[39mid)\n\u001b[1;32m   1218\u001b[0m     model\u001b[38;5;241m.\u001b[39msetMetaId(\u001b[38;5;124m\"\u001b[39m\u001b[38;5;124mmeta_\u001b[39m\u001b[38;5;124m\"\u001b[39m \u001b[38;5;241m+\u001b[39m cobra_model\u001b[38;5;241m.\u001b[39mid)\n",
      "\u001b[0;31mAttributeError\u001b[0m: 'str' object has no attribute 'id'"
     ]
    }
   ],
   "source": [
    "from cobra.io import read_sbml_model, write_sbml_model\n",
    "from cobra import Reaction, Metabolite\n",
    "model = write_sbml_model('Scaffold_model,'iND750.xml')"
   ]
  }
 ],
 "metadata": {
  "kernelspec": {
   "display_name": "Python 3 (ipykernel)",
   "language": "python",
   "name": "python3"
  },
  "language_info": {
   "codemirror_mode": {
    "name": "ipython",
    "version": 3
   },
   "file_extension": ".py",
   "mimetype": "text/x-python",
   "name": "python",
   "nbconvert_exporter": "python",
   "pygments_lexer": "ipython3",
   "version": "3.10.8"
  }
 },
 "nbformat": 4,
 "nbformat_minor": 5
}
