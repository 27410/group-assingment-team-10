{
 "cells": [
  {
   "cell_type": "code",
   "execution_count": 1,
   "id": "7c65cc48-a9ee-4f32-ad48-feadfe5c1e9e",
   "metadata": {},
   "outputs": [],
   "source": [
    "from cobra.io import read_sbml_model, write_sbml_model\n",
    "from cobra import Reaction, Metabolite\n",
    "model = read_sbml_model('iND750.xml')"
   ]
  },
  {
   "cell_type": "code",
   "execution_count": 2,
   "id": "cc28a4e7-ccc8-48f6-9eec-f96348908b84",
   "metadata": {},
   "outputs": [],
   "source": [
    "write_sbml_model(model, \"Scaffold_model\")"
   ]
  }
 ],
 "metadata": {
  "kernelspec": {
   "display_name": "Python 3 (ipykernel)",
   "language": "python",
   "name": "python3"
  },
  "language_info": {
   "codemirror_mode": {
    "name": "ipython",
    "version": 3
   },
   "file_extension": ".py",
   "mimetype": "text/x-python",
   "name": "python",
   "nbconvert_exporter": "python",
   "pygments_lexer": "ipython3",
   "version": "3.10.8"
  }
 },
 "nbformat": 4,
 "nbformat_minor": 5
}
