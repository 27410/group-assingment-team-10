{
 "cells": [
  {
   "cell_type": "code",
   "execution_count": 50,
   "id": "b0af06f1-f693-49ab-adae-6be5127f70fa",
   "metadata": {},
   "outputs": [
    {
     "ename": "CobraSBMLError",
     "evalue": "Something went wrong reading the SBML model. Most likely the SBML model is not valid. Please check that your model is valid using the `cobra.io.sbml.validate_sbml_model` function or via the online validator at https://sbml.org/validator_servlet/ .\n\t`(model, errors) = validate_sbml_model(filename)`\nIf the model is valid and cannot be read please open an issue at https://github.com/opencobra/cobrapy/issues .",
     "output_type": "error",
     "traceback": [
      "\u001b[0;31m---------------------------------------------------------------------------\u001b[0m",
      "\u001b[0;31mCobraSBMLError\u001b[0m                            Traceback (most recent call last)",
      "File \u001b[0;32m/usr/local/python/3.10.8/lib/python3.10/site-packages/cobra/io/sbml.py:458\u001b[0m, in \u001b[0;36mread_sbml_model\u001b[0;34m(filename, number, f_replace, **kwargs)\u001b[0m\n\u001b[1;32m    457\u001b[0m     doc \u001b[38;5;241m=\u001b[39m _get_doc_from_filename(filename)\n\u001b[0;32m--> 458\u001b[0m     \u001b[38;5;28;01mreturn\u001b[39;00m \u001b[43m_sbml_to_model\u001b[49m\u001b[43m(\u001b[49m\u001b[43mdoc\u001b[49m\u001b[43m,\u001b[49m\u001b[43m \u001b[49m\u001b[43mnumber\u001b[49m\u001b[38;5;241;43m=\u001b[39;49m\u001b[43mnumber\u001b[49m\u001b[43m,\u001b[49m\u001b[43m \u001b[49m\u001b[43mf_replace\u001b[49m\u001b[38;5;241;43m=\u001b[39;49m\u001b[43mf_replace\u001b[49m\u001b[43m,\u001b[49m\u001b[43m \u001b[49m\u001b[38;5;241;43m*\u001b[39;49m\u001b[38;5;241;43m*\u001b[39;49m\u001b[43mkwargs\u001b[49m\u001b[43m)\u001b[49m\n\u001b[1;32m    459\u001b[0m \u001b[38;5;28;01mexcept\u001b[39;00m \u001b[38;5;167;01mIOError\u001b[39;00m \u001b[38;5;28;01mas\u001b[39;00m e:\n",
      "File \u001b[0;32m/usr/local/python/3.10.8/lib/python3.10/site-packages/cobra/io/sbml.py:563\u001b[0m, in \u001b[0;36m_sbml_to_model\u001b[0;34m(doc, number, f_replace, set_missing_bounds, **kwargs)\u001b[0m\n\u001b[1;32m    562\u001b[0m \u001b[38;5;28;01mif\u001b[39;00m model \u001b[38;5;129;01mis\u001b[39;00m \u001b[38;5;28;01mNone\u001b[39;00m:\n\u001b[0;32m--> 563\u001b[0m     \u001b[38;5;28;01mraise\u001b[39;00m CobraSBMLError(\u001b[38;5;124m\"\u001b[39m\u001b[38;5;124mNo SBML model detected in file.\u001b[39m\u001b[38;5;124m\"\u001b[39m)\n\u001b[1;32m    564\u001b[0m model_fbc: \u001b[38;5;124m\"\u001b[39m\u001b[38;5;124mlibsbml.FbcModelPlugin\u001b[39m\u001b[38;5;124m\"\u001b[39m \u001b[38;5;241m=\u001b[39m model\u001b[38;5;241m.\u001b[39mgetPlugin(\u001b[38;5;124m\"\u001b[39m\u001b[38;5;124mfbc\u001b[39m\u001b[38;5;124m\"\u001b[39m)\n",
      "\u001b[0;31mCobraSBMLError\u001b[0m: No SBML model detected in file.",
      "\nThe above exception was the direct cause of the following exception:\n",
      "\u001b[0;31mCobraSBMLError\u001b[0m                            Traceback (most recent call last)",
      "Cell \u001b[0;32mIn[50], line 3\u001b[0m\n\u001b[1;32m      1\u001b[0m \u001b[38;5;28;01mfrom\u001b[39;00m \u001b[38;5;21;01mcobra\u001b[39;00m\u001b[38;5;21;01m.\u001b[39;00m\u001b[38;5;21;01mio\u001b[39;00m \u001b[38;5;28;01mimport\u001b[39;00m read_sbml_model, write_sbml_model\n\u001b[1;32m      2\u001b[0m \u001b[38;5;28;01mfrom\u001b[39;00m \u001b[38;5;21;01mcobra\u001b[39;00m \u001b[38;5;28;01mimport\u001b[39;00m Reaction, Metabolite\n\u001b[0;32m----> 3\u001b[0m model \u001b[38;5;241m=\u001b[39m \u001b[43mread_sbml_model\u001b[49m\u001b[43m(\u001b[49m\u001b[38;5;124;43m'\u001b[39;49m\u001b[38;5;124;43mScaffold_model.xml\u001b[39;49m\u001b[38;5;124;43m'\u001b[39;49m\u001b[43m)\u001b[49m\n",
      "File \u001b[0;32m/usr/local/python/3.10.8/lib/python3.10/site-packages/cobra/io/sbml.py:472\u001b[0m, in \u001b[0;36mread_sbml_model\u001b[0;34m(filename, number, f_replace, **kwargs)\u001b[0m\n\u001b[1;32m    462\u001b[0m \u001b[38;5;28;01mexcept\u001b[39;00m \u001b[38;5;167;01mException\u001b[39;00m \u001b[38;5;28;01mas\u001b[39;00m original_error:\n\u001b[1;32m    463\u001b[0m     cobra_error \u001b[38;5;241m=\u001b[39m CobraSBMLError(\n\u001b[1;32m    464\u001b[0m         \u001b[38;5;124m\"\u001b[39m\u001b[38;5;124mSomething went wrong reading the SBML model. Most likely the SBML\u001b[39m\u001b[38;5;124m\"\u001b[39m\n\u001b[1;32m    465\u001b[0m         \u001b[38;5;124m\"\u001b[39m\u001b[38;5;124m model is not valid. Please check that your model is valid using \u001b[39m\u001b[38;5;124m\"\u001b[39m\n\u001b[0;32m   (...)\u001b[0m\n\u001b[1;32m    470\u001b[0m         \u001b[38;5;124m\"\u001b[39m\u001b[38;5;124mat https://github.com/opencobra/cobrapy/issues .\u001b[39m\u001b[38;5;124m\"\u001b[39m\n\u001b[1;32m    471\u001b[0m     )\n\u001b[0;32m--> 472\u001b[0m     \u001b[38;5;28;01mraise\u001b[39;00m cobra_error \u001b[38;5;28;01mfrom\u001b[39;00m \u001b[38;5;21;01moriginal_error\u001b[39;00m\n",
      "\u001b[0;31mCobraSBMLError\u001b[0m: Something went wrong reading the SBML model. Most likely the SBML model is not valid. Please check that your model is valid using the `cobra.io.sbml.validate_sbml_model` function or via the online validator at https://sbml.org/validator_servlet/ .\n\t`(model, errors) = validate_sbml_model(filename)`\nIf the model is valid and cannot be read please open an issue at https://github.com/opencobra/cobrapy/issues ."
     ]
    }
   ],
   "source": [
    "from cobra.io import read_sbml_model, write_sbml_model\n",
    "from cobra import Reaction, Metabolite\n",
    "model = read_sbml_model('Scaffold_model.xml')"
   ]
  },
  {
   "cell_type": "code",
   "execution_count": 29,
   "id": "128f9fad-ddf0-4509-863b-ae2603c2883b",
   "metadata": {},
   "outputs": [
    {
     "data": {
      "text/html": [
       "\n",
       "        <table>\n",
       "            <tr>\n",
       "                <td><strong>Name</strong></td>\n",
       "                <td>iND750</td>\n",
       "            </tr><tr>\n",
       "                <td><strong>Memory address</strong></td>\n",
       "                <td>7fdc4dbaac80</td>\n",
       "            </tr><tr>\n",
       "                <td><strong>Number of metabolites</strong></td>\n",
       "                <td>1059</td>\n",
       "            </tr><tr>\n",
       "                <td><strong>Number of reactions</strong></td>\n",
       "                <td>1266</td>\n",
       "            </tr><tr>\n",
       "                <td><strong>Number of genes</strong></td>\n",
       "                <td>750</td>\n",
       "            </tr><tr>\n",
       "                <td><strong>Number of groups</strong></td>\n",
       "                <td>0</td>\n",
       "            </tr><tr>\n",
       "                <td><strong>Objective expression</strong></td>\n",
       "                <td>1.0*BIOMASS_SC4_bal - 1.0*BIOMASS_SC4_bal_reverse_bb385</td>\n",
       "            </tr><tr>\n",
       "                <td><strong>Compartments</strong></td>\n",
       "                <td>extracellular space, cytosol, mitochondria, peroxisome/glyoxysome, nucleus, golgi apparatus, vacuole, endoplasmic reticulum</td>\n",
       "            </tr>\n",
       "          </table>"
      ],
      "text/plain": [
       "<Model iND750 at 0x7fdc4dbaac80>"
      ]
     },
     "execution_count": 29,
     "metadata": {},
     "output_type": "execute_result"
    }
   ],
   "source": [
    "model"
   ]
  },
  {
   "cell_type": "code",
   "execution_count": 30,
   "id": "2ac5fd09-6abe-4c1c-aa1d-8ae2e7f12632",
   "metadata": {},
   "outputs": [
    {
     "data": {
      "text/html": [
       "\n",
       "        <table>\n",
       "            <tr>\n",
       "                <td><strong>Metabolite identifier</strong></td><td>ocdca_e</td>\n",
       "            </tr><tr>\n",
       "                <td><strong>Name</strong></td><td>Octadecanoate (n-C18:0)</td>\n",
       "            </tr><tr>\n",
       "                <td><strong>Memory address</strong></td>\n",
       "                <td>0x7fdc4c9cff40</td>\n",
       "            </tr><tr>\n",
       "                <td><strong>Formula</strong></td><td>C18H35O2</td>\n",
       "            </tr><tr>\n",
       "                <td><strong>Compartment</strong></td><td>e</td>\n",
       "            </tr><tr>\n",
       "                <td><strong>In 2 reaction(s)</strong></td><td>\n",
       "                    OCDCAt, EX_ocdca_e\n",
       "                    </td>\n",
       "            </tr>\n",
       "        </table>"
      ],
      "text/plain": [
       "<Metabolite ocdca_e at 0x7fdc4c9cff40>"
      ]
     },
     "execution_count": 30,
     "metadata": {},
     "output_type": "execute_result"
    }
   ],
   "source": [
    "model.metabolites.get_by_id(\"ocdca_e\") #Stearic Acid"
   ]
  },
  {
   "cell_type": "code",
   "execution_count": 31,
   "id": "341a7709-b46e-4f58-a5de-a8a74b045fea",
   "metadata": {},
   "outputs": [],
   "source": [
    "Oleic_Acid = Metabolite(id = 's_1260[c]', compartment='c', name='oleate [cytoplasm]', formula='C18H33O2')"
   ]
  },
  {
   "cell_type": "code",
   "execution_count": 32,
   "id": "71617e85-6ea3-4755-84e1-340e0b456f55",
   "metadata": {},
   "outputs": [
    {
     "data": {
      "text/html": [
       "\n",
       "        <table>\n",
       "            <tr>\n",
       "                <td><strong>Metabolite identifier</strong></td><td>s_1260[c]</td>\n",
       "            </tr><tr>\n",
       "                <td><strong>Name</strong></td><td>oleate [cytoplasm]</td>\n",
       "            </tr><tr>\n",
       "                <td><strong>Memory address</strong></td>\n",
       "                <td>0x7fdc4d3ce530</td>\n",
       "            </tr><tr>\n",
       "                <td><strong>Formula</strong></td><td>C18H33O2</td>\n",
       "            </tr><tr>\n",
       "                <td><strong>Compartment</strong></td><td>c</td>\n",
       "            </tr><tr>\n",
       "                <td><strong>In 0 reaction(s)</strong></td><td>\n",
       "                    \n",
       "                    </td>\n",
       "            </tr>\n",
       "        </table>"
      ],
      "text/plain": [
       "<Metabolite s_1260[c] at 0x7fdc4d3ce530>"
      ]
     },
     "execution_count": 32,
     "metadata": {},
     "output_type": "execute_result"
    }
   ],
   "source": [
    "Oleic_Acid"
   ]
  },
  {
   "cell_type": "code",
   "execution_count": 33,
   "id": "ad54b067-26ae-4b18-9d07-1b06fec2837d",
   "metadata": {
    "tags": []
   },
   "outputs": [
    {
     "data": {
      "text/html": [
       "\n",
       "        <table>\n",
       "            <tr>\n",
       "                <td><strong>Metabolite identifier</strong></td><td>ocdcea_e</td>\n",
       "            </tr><tr>\n",
       "                <td><strong>Name</strong></td><td>Octadecenoate (n-C18:1)</td>\n",
       "            </tr><tr>\n",
       "                <td><strong>Memory address</strong></td>\n",
       "                <td>0x7fdc4c9cffa0</td>\n",
       "            </tr><tr>\n",
       "                <td><strong>Formula</strong></td><td>C18H33O2</td>\n",
       "            </tr><tr>\n",
       "                <td><strong>Compartment</strong></td><td>e</td>\n",
       "            </tr><tr>\n",
       "                <td><strong>In 2 reaction(s)</strong></td><td>\n",
       "                    OCDCEAt, EX_ocdcea_e\n",
       "                    </td>\n",
       "            </tr>\n",
       "        </table>"
      ],
      "text/plain": [
       "<Metabolite ocdcea_e at 0x7fdc4c9cffa0>"
      ]
     },
     "execution_count": 33,
     "metadata": {},
     "output_type": "execute_result"
    }
   ],
   "source": [
    "model.metabolites.get_by_id('ocdcea_e')"
   ]
  },
  {
   "cell_type": "markdown",
   "id": "4f7e8094-d821-4995-a20c-1889bf6ce53a",
   "metadata": {},
   "source": [
    "# Name the metabolites we need"
   ]
  },
  {
   "cell_type": "code",
   "execution_count": 34,
   "id": "17997f9f-afa7-49c6-a1b9-1d0b752c6aa6",
   "metadata": {
    "tags": []
   },
   "outputs": [
    {
     "data": {
      "text/html": [
       "\n",
       "        <table>\n",
       "            <tr>\n",
       "                <td><strong>Metabolite identifier</strong></td><td>linoleate</td>\n",
       "            </tr><tr>\n",
       "                <td><strong>Name</strong></td><td>linoleate</td>\n",
       "            </tr><tr>\n",
       "                <td><strong>Memory address</strong></td>\n",
       "                <td>0x7fdc4d422ad0</td>\n",
       "            </tr><tr>\n",
       "                <td><strong>Formula</strong></td><td>C18H31O2</td>\n",
       "            </tr><tr>\n",
       "                <td><strong>Compartment</strong></td><td>c</td>\n",
       "            </tr><tr>\n",
       "                <td><strong>In 0 reaction(s)</strong></td><td>\n",
       "                    \n",
       "                    </td>\n",
       "            </tr>\n",
       "        </table>"
      ],
      "text/plain": [
       "<Metabolite linoleate at 0x7fdc4d422ad0>"
      ]
     },
     "execution_count": 34,
     "metadata": {},
     "output_type": "execute_result"
    }
   ],
   "source": [
    "linoleate = Metabolite(id = 'linoleate', compartment = 'c', name = 'linoleate', formula = 'C18H31O2')\n",
    "linoleate"
   ]
  },
  {
   "cell_type": "code",
   "execution_count": 35,
   "id": "6ad0b1fb-6136-4806-bd03-52915d099dd6",
   "metadata": {
    "tags": []
   },
   "outputs": [
    {
     "data": {
      "text/html": [
       "\n",
       "        <table>\n",
       "            <tr>\n",
       "                <td><strong>Metabolite identifier</strong></td><td>Eicosadienoic_Acid</td>\n",
       "            </tr><tr>\n",
       "                <td><strong>Name</strong></td><td>EDA</td>\n",
       "            </tr><tr>\n",
       "                <td><strong>Memory address</strong></td>\n",
       "                <td>0x7fdc4d4547c0</td>\n",
       "            </tr><tr>\n",
       "                <td><strong>Formula</strong></td><td>C20H35O2</td>\n",
       "            </tr><tr>\n",
       "                <td><strong>Compartment</strong></td><td>c</td>\n",
       "            </tr><tr>\n",
       "                <td><strong>In 0 reaction(s)</strong></td><td>\n",
       "                    \n",
       "                    </td>\n",
       "            </tr>\n",
       "        </table>"
      ],
      "text/plain": [
       "<Metabolite Eicosadienoic_Acid at 0x7fdc4d4547c0>"
      ]
     },
     "execution_count": 35,
     "metadata": {},
     "output_type": "execute_result"
    }
   ],
   "source": [
    "EDA = Metabolite(id = 'Eicosadienoic_Acid', compartment = 'c', name = 'EDA', formula = 'C20H35O2')\n",
    "EDA"
   ]
  },
  {
   "cell_type": "code",
   "execution_count": 36,
   "id": "2d9af296-50c0-4a47-90e2-0b2937edbe85",
   "metadata": {
    "tags": []
   },
   "outputs": [
    {
     "data": {
      "text/html": [
       "\n",
       "        <table>\n",
       "            <tr>\n",
       "                <td><strong>Metabolite identifier</strong></td><td>Dihomo_g_linolenic_acid</td>\n",
       "            </tr><tr>\n",
       "                <td><strong>Name</strong></td><td>DGLA</td>\n",
       "            </tr><tr>\n",
       "                <td><strong>Memory address</strong></td>\n",
       "                <td>0x7fdc4d3f4df0</td>\n",
       "            </tr><tr>\n",
       "                <td><strong>Formula</strong></td><td>C20H33O2</td>\n",
       "            </tr><tr>\n",
       "                <td><strong>Compartment</strong></td><td>c</td>\n",
       "            </tr><tr>\n",
       "                <td><strong>In 0 reaction(s)</strong></td><td>\n",
       "                    \n",
       "                    </td>\n",
       "            </tr>\n",
       "        </table>"
      ],
      "text/plain": [
       "<Metabolite Dihomo_g_linolenic_acid at 0x7fdc4d3f4df0>"
      ]
     },
     "execution_count": 36,
     "metadata": {},
     "output_type": "execute_result"
    }
   ],
   "source": [
    "DGLA = Metabolite(id = 'Dihomo_g_linolenic_acid', compartment = 'c', name = 'DGLA', formula = 'C20H33O2')\n",
    "DGLA"
   ]
  },
  {
   "cell_type": "code",
   "execution_count": 37,
   "id": "bee2c36b-2924-4f02-a20a-3fee4feee1e7",
   "metadata": {
    "tags": []
   },
   "outputs": [
    {
     "data": {
      "text/html": [
       "\n",
       "        <table>\n",
       "            <tr>\n",
       "                <td><strong>Metabolite identifier</strong></td><td>Arachidonic_acid</td>\n",
       "            </tr><tr>\n",
       "                <td><strong>Name</strong></td><td>ARA</td>\n",
       "            </tr><tr>\n",
       "                <td><strong>Memory address</strong></td>\n",
       "                <td>0x7fdc4d456a70</td>\n",
       "            </tr><tr>\n",
       "                <td><strong>Formula</strong></td><td>C20H31O2</td>\n",
       "            </tr><tr>\n",
       "                <td><strong>Compartment</strong></td><td>c</td>\n",
       "            </tr><tr>\n",
       "                <td><strong>In 0 reaction(s)</strong></td><td>\n",
       "                    \n",
       "                    </td>\n",
       "            </tr>\n",
       "        </table>"
      ],
      "text/plain": [
       "<Metabolite Arachidonic_acid at 0x7fdc4d456a70>"
      ]
     },
     "execution_count": 37,
     "metadata": {},
     "output_type": "execute_result"
    }
   ],
   "source": [
    "ARA = Metabolite(id = 'Arachidonic_acid', compartment = 'c', name = 'ARA', formula = 'C20H31O2')\n",
    "ARA"
   ]
  },
  {
   "cell_type": "code",
   "execution_count": 38,
   "id": "8f8f7e0e-ee90-408d-988c-75489a3b6fcf",
   "metadata": {
    "tags": []
   },
   "outputs": [
    {
     "data": {
      "text/html": [
       "\n",
       "        <table>\n",
       "            <tr>\n",
       "                <td><strong>Metabolite identifier</strong></td><td>Eicosapentaenoic_Acid</td>\n",
       "            </tr><tr>\n",
       "                <td><strong>Name</strong></td><td>EPA</td>\n",
       "            </tr><tr>\n",
       "                <td><strong>Memory address</strong></td>\n",
       "                <td>0x7fdc4d3f7d90</td>\n",
       "            </tr><tr>\n",
       "                <td><strong>Formula</strong></td><td>C20H29O2</td>\n",
       "            </tr><tr>\n",
       "                <td><strong>Compartment</strong></td><td>c</td>\n",
       "            </tr><tr>\n",
       "                <td><strong>In 0 reaction(s)</strong></td><td>\n",
       "                    \n",
       "                    </td>\n",
       "            </tr>\n",
       "        </table>"
      ],
      "text/plain": [
       "<Metabolite Eicosapentaenoic_Acid at 0x7fdc4d3f7d90>"
      ]
     },
     "execution_count": 38,
     "metadata": {},
     "output_type": "execute_result"
    }
   ],
   "source": [
    "EPA = Metabolite(id = 'Eicosapentaenoic_Acid', compartment = 'c', name = 'EPA', formula = 'C20H29O2')\n",
    "EPA"
   ]
  },
  {
   "cell_type": "markdown",
   "id": "0ac31ccb-cbb6-456b-bed7-e9992d760279",
   "metadata": {},
   "source": [
    "# Now for the reactions"
   ]
  },
  {
   "cell_type": "code",
   "execution_count": 39,
   "id": "e16a038b-6ccb-4624-865f-13be1fa6fd36",
   "metadata": {},
   "outputs": [],
   "source": [
    "D_12_desaturase = Reaction('D12ds')\n",
    "D_9_Elongase = Reaction('D9E')\n",
    "D_8_desaturase = Reaction('D8ds')\n",
    "D_5_desaturase = Reaction('D5ds')\n",
    "D_17_desaturase = Reaction('D17ds')"
   ]
  },
  {
   "cell_type": "code",
   "execution_count": 40,
   "id": "1408c3f2-cbc7-49a2-8949-0e3530e19d0b",
   "metadata": {},
   "outputs": [],
   "source": [
    "#model.metabolites.get_by_id('s_1260[c]')"
   ]
  },
  {
   "cell_type": "markdown",
   "id": "d27049e6-15d2-4163-950b-1a776da7bacb",
   "metadata": {},
   "source": [
    "# Adding the metabolites to the reactions"
   ]
  },
  {
   "cell_type": "code",
   "execution_count": 41,
   "id": "cb78656c-18d3-4cab-b862-ac401a2fbbee",
   "metadata": {
    "tags": []
   },
   "outputs": [],
   "source": [
    "D_12_desaturase.add_metabolites(({model.metabolites.get_by_id('ocdcea_c'): -1, #Oleic Acid\n",
    "                                  linoleate: 1, \n",
    "                                  model.metabolites.get_by_id('nadph_c'): -2, #NADPH\n",
    "                                  model.metabolites.get_by_id('nadp_c'): 2,  #NADP+\n",
    "                                  model.metabolites.get_by_id('h2o_c'): 2,  #H2O\n",
    "                                  model.metabolites.get_by_id('o2_c'): -2, #Oxygen\n",
    "                              }))"
   ]
  },
  {
   "cell_type": "code",
   "execution_count": 42,
   "id": "5cd453ac-1241-483c-8ad1-3c94ab1fac1b",
   "metadata": {},
   "outputs": [],
   "source": [
    "D_9_Elongase.add_metabolites(({model.metabolites.get_by_id('malcoa_c'): -1, #Malonyl-CoA\n",
    "                               linoleate: -1,\n",
    "                               EDA: 1,\n",
    "                               model.metabolites.get_by_id('h2o_c'): 1,  #H20\n",
    "                               model.metabolites.get_by_id('nadph_c'): -2, #NADPH\n",
    "                               model.metabolites.get_by_id('co2_c'): 1,  #CO2\n",
    "                               model.metabolites.get_by_id('nadp_c'): 2,  #NADP+\n",
    "                               model.metabolites.get_by_id('h_c'): -2, #H+\n",
    "                               model.metabolites.get_by_id('coa_c'): 1,  #Coenzyme A (CoA)\n",
    "                              }))"
   ]
  },
  {
   "cell_type": "code",
   "execution_count": 43,
   "id": "c9845ef5-5f38-4b34-a34e-1a1cac8f61fc",
   "metadata": {},
   "outputs": [],
   "source": [
    "D_8_desaturase.add_metabolites(({EDA: -1,\n",
    "                                 DGLA: 1,\n",
    "                                 model.metabolites.get_by_id('nadph_c'): -2, #NADPH\n",
    "                                 model.metabolites.get_by_id('nadp_c'): 2,  #NADP+\n",
    "                                 model.metabolites.get_by_id('h2o_c'): 2,  #H2O\n",
    "                                 model.metabolites.get_by_id('o2_c'): -2, #Oxygen\n",
    "                              }))"
   ]
  },
  {
   "cell_type": "code",
   "execution_count": 44,
   "id": "806b4d35-727b-4988-a072-7bff3258856a",
   "metadata": {},
   "outputs": [],
   "source": [
    "D_5_desaturase.add_metabolites(({ARA: 1,\n",
    "                                 DGLA: -1,\n",
    "                                 model.metabolites.get_by_id('nadph_c'): -2, #NADPH\n",
    "                                 model.metabolites.get_by_id('nadp_c'): 2,  #NADP+\n",
    "                                 model.metabolites.get_by_id('h2o_c'): 2,  #H2O\n",
    "                                 model.metabolites.get_by_id('o2_c'): -2, #Oxygen\n",
    "                              }))"
   ]
  },
  {
   "cell_type": "code",
   "execution_count": 45,
   "id": "858a5bc7-d92c-4bf6-a973-d99b1d4f0d8d",
   "metadata": {},
   "outputs": [],
   "source": [
    "D_17_desaturase.add_metabolites(({ARA: -1,\n",
    "                                 EPA: 1,\n",
    "                                 model.metabolites.get_by_id('nadph_c'): -2, #NADPH\n",
    "                                 model.metabolites.get_by_id('nadp_c'): 2,  #NADP+\n",
    "                                 model.metabolites.get_by_id('h2o_c'): 2,  #H2O\n",
    "                                 model.metabolites.get_by_id('o2_c'): -2, #Oxygen\n",
    "                              }))"
   ]
  },
  {
   "cell_type": "markdown",
   "id": "3e3a7617-b4ea-4a4c-a3e6-68309c4d2d3e",
   "metadata": {},
   "source": [
    "# Get the reactions into the model"
   ]
  },
  {
   "cell_type": "code",
   "execution_count": 46,
   "id": "4360f03d-9937-49d4-9927-c9d72f8a6f7d",
   "metadata": {},
   "outputs": [],
   "source": [
    "model.add_reactions([D_12_desaturase])\n",
    "model.add_reactions([D_9_Elongase])\n",
    "model.add_reactions([D_8_desaturase])\n",
    "model.add_reactions([D_5_desaturase])\n",
    "model.add_reactions([D_17_desaturase])"
   ]
  },
  {
   "cell_type": "markdown",
   "id": "63bfa9a8-4528-4ba7-90ae-3342b0f23ea7",
   "metadata": {},
   "source": [
    "# Only metabolites from the intracellular space are utilized"
   ]
  },
  {
   "cell_type": "code",
   "execution_count": 47,
   "id": "156458c3-e696-4606-8900-65cc40c67b80",
   "metadata": {},
   "outputs": [
    {
     "data": {
      "text/html": [
       "\n",
       "        <table>\n",
       "            <tr>\n",
       "                <td><strong>Reaction identifier</strong></td><td>DM_Eicosapentaenoic_Acid</td>\n",
       "            </tr><tr>\n",
       "                <td><strong>Name</strong></td><td>EPA demand</td>\n",
       "            </tr><tr>\n",
       "                <td><strong>Memory address</strong></td>\n",
       "                <td>0x7fdc4d19fd00</td>\n",
       "            </tr><tr>\n",
       "                <td><strong>Stoichiometry</strong></td>\n",
       "                <td>\n",
       "                    <p style='text-align:right'>Eicosapentaenoic_Acid --></p>\n",
       "                    <p style='text-align:right'>EPA --></p>\n",
       "                </td>\n",
       "            </tr><tr>\n",
       "                <td><strong>GPR</strong></td><td></td>\n",
       "            </tr><tr>\n",
       "                <td><strong>Lower bound</strong></td><td>0</td>\n",
       "            </tr><tr>\n",
       "                <td><strong>Upper bound</strong></td><td>1000.0</td>\n",
       "            </tr>\n",
       "        </table>\n",
       "        "
      ],
      "text/plain": [
       "<Reaction DM_Eicosapentaenoic_Acid at 0x7fdc4d19fd00>"
      ]
     },
     "execution_count": 47,
     "metadata": {},
     "output_type": "execute_result"
    }
   ],
   "source": [
    "model.add_boundary(model.metabolites.linoleate, type='demand')\n",
    "model.add_boundary(model.metabolites.Eicosadienoic_Acid, type='demand')\n",
    "model.add_boundary(model.metabolites.Dihomo_g_linolenic_acid, type='demand')\n",
    "model.add_boundary(model.metabolites.Arachidonic_acid, type='demand')\n",
    "model.add_boundary(model.metabolites.Eicosapentaenoic_Acid, type='demand')"
   ]
  },
  {
   "cell_type": "code",
   "execution_count": 48,
   "id": "c1834b6a-7326-4687-a86a-34bb5586797b",
   "metadata": {},
   "outputs": [],
   "source": [
    "#?model.add_boundary"
   ]
  },
  {
   "cell_type": "code",
   "execution_count": 49,
   "id": "cc86e18b-de37-4e23-b5a8-43e3559c40be",
   "metadata": {},
   "outputs": [
    {
     "data": {
      "text/html": [
       "\n",
       "        <table>\n",
       "            <tr>\n",
       "                <td><strong>Reaction identifier</strong></td><td>D12ds</td>\n",
       "            </tr><tr>\n",
       "                <td><strong>Name</strong></td><td></td>\n",
       "            </tr><tr>\n",
       "                <td><strong>Memory address</strong></td>\n",
       "                <td>0x7fdc4d2f8130</td>\n",
       "            </tr><tr>\n",
       "                <td><strong>Stoichiometry</strong></td>\n",
       "                <td>\n",
       "                    <p style='text-align:right'>2 nadph_c + 2 o2_c + ocdcea_c --> 2 h2o_c + linoleate + 2 nadp_c</p>\n",
       "                    <p style='text-align:right'>2 Nicotinamide adenine dinucleotide phosphate - reduced + 2 O2 O2 + Octadecenoate (n-C18:1) --> 2 H2O H2O + linoleate + 2 Nicotinamide adenine dinucleotide phosphate</p>\n",
       "                </td>\n",
       "            </tr><tr>\n",
       "                <td><strong>GPR</strong></td><td></td>\n",
       "            </tr><tr>\n",
       "                <td><strong>Lower bound</strong></td><td>0.0</td>\n",
       "            </tr><tr>\n",
       "                <td><strong>Upper bound</strong></td><td>1000.0</td>\n",
       "            </tr>\n",
       "        </table>\n",
       "        "
      ],
      "text/plain": [
       "<Reaction D12ds at 0x7fdc4d2f8130>"
      ]
     },
     "execution_count": 49,
     "metadata": {},
     "output_type": "execute_result"
    }
   ],
   "source": [
    "model.reactions.D12ds"
   ]
  }
 ],
 "metadata": {
  "kernelspec": {
   "display_name": "Python 3 (ipykernel)",
   "language": "python",
   "name": "python3"
  },
  "language_info": {
   "codemirror_mode": {
    "name": "ipython",
    "version": 3
   },
   "file_extension": ".py",
   "mimetype": "text/x-python",
   "name": "python",
   "nbconvert_exporter": "python",
   "pygments_lexer": "ipython3",
   "version": "3.10.8"
  }
 },
 "nbformat": 4,
 "nbformat_minor": 5
}
