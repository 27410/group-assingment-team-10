{
 "cells": [
  {
   "cell_type": "code",
   "execution_count": 1,
   "id": "63e7a57e-2d56-4daa-94d3-576e6b504176",
   "metadata": {},
   "outputs": [],
   "source": [
    "%run Scaffold_Y_lipo.ipynb"
   ]
  },
  {
   "cell_type": "code",
   "execution_count": 2,
   "id": "7f34891f-b145-4aa8-b2fa-ba59a2c5ccd3",
   "metadata": {},
   "outputs": [
    {
     "data": {
      "text/plain": [
       "{'e': 'extracellular space',\n",
       " 'c': 'cytosol',\n",
       " 'm': 'mitochondria',\n",
       " 'x': 'peroxisome/glyoxysome',\n",
       " 'n': 'nucleus',\n",
       " 'g': 'golgi apparatus',\n",
       " 'v': 'vacuole',\n",
       " 'r': 'endoplasmic reticulum'}"
      ]
     },
     "execution_count": 2,
     "metadata": {},
     "output_type": "execute_result"
    }
   ],
   "source": [
    "model.compartments"
   ]
  },
  {
   "cell_type": "code",
   "execution_count": 3,
   "id": "e1296810-70fb-4a99-9bb8-a7140f96ba4a",
   "metadata": {},
   "outputs": [
    {
     "name": "stdout",
     "output_type": "stream",
     "text": [
      "Maximize\n",
      "1.0*BIOMASS_SC4_bal - 1.0*BIOMASS_SC4_bal_reverse_bb385\n"
     ]
    }
   ],
   "source": [
    "print(model.objective)"
   ]
  },
  {
   "cell_type": "code",
   "execution_count": 4,
   "id": "b5b97861-38c2-43f2-82de-d5738f435b25",
   "metadata": {},
   "outputs": [
    {
     "data": {
      "text/plain": [
       "{'EX_nh4_e': 1000,\n",
       " 'EX_o2_e': 1000,\n",
       " 'EX_pi_e': 1000,\n",
       " 'EX_so4_e': 1000,\n",
       " 'EX_glc__D_e': 300,\n",
       " 'EX_h2o_e': 1000}"
      ]
     },
     "execution_count": 4,
     "metadata": {},
     "output_type": "execute_result"
    }
   ],
   "source": [
    "medium = model.medium\n",
    "\n",
    "medium['EX_so4_e'] = 1000\n",
    "medium['EX_pi_e'] = 1000\n",
    "medium['EX_o2_e'] = 1000\n",
    "medium['EX_nh4_e'] = 1000\n",
    "medium['EX_glc__D_e'] = 300\n",
    "medium['EX_h2o_e'] = 1000\n",
    "\n",
    "model.medium = medium\n",
    "model.medium\n"
   ]
  },
  {
   "cell_type": "markdown",
   "id": "8fb97e03-9592-4793-8af8-4f2e8797fcc7",
   "metadata": {},
   "source": [
    "Testing the model with its original objective"
   ]
  },
  {
   "cell_type": "code",
   "execution_count": 5,
   "id": "0dd8808a-470b-4121-bc9c-7ed25dffbba7",
   "metadata": {},
   "outputs": [
    {
     "name": "stdout",
     "output_type": "stream",
     "text": [
      "Maximum productivity = 19.46467518075362 mmol/gDW*h\n",
      "Maximum theoretical yield = 0.0973233759037681 mmol-EPA/mmol-glc\n",
      "Objective of model is = Maximize\n",
      "1.0*BIOMASS_SC4_bal - 1.0*BIOMASS_SC4_bal_reverse_bb385\n"
     ]
    }
   ],
   "source": [
    "medium = model.medium\n",
    "with model:\n",
    "    medium['EX_glc__D_e'] = 200\n",
    "    model.medium = medium\n",
    "    EPA_production = model.optimize().objective_value\n",
    "    print('Maximum productivity =', EPA_production, 'mmol/gDW*h')\n",
    "    maximum_yield = EPA_production / (-1*(model.reactions.get_by_id('EX_glc__D_e').flux))\n",
    "    print('Maximum theoretical yield =', maximum_yield, 'mmol-EPA/mmol-glc')\n",
    "    print('Objective of model is =', model.objective)"
   ]
  },
  {
   "cell_type": "markdown",
   "id": "9ced8505-ce4d-4ae0-96e2-fc22cb4072e5",
   "metadata": {},
   "source": [
    "Testing the model with the objective of EPA"
   ]
  },
  {
   "cell_type": "code",
   "execution_count": 6,
   "id": "39496422-fd85-45b3-90b5-559321e8be91",
   "metadata": {},
   "outputs": [
    {
     "name": "stdout",
     "output_type": "stream",
     "text": [
      "Maximum productivity = 31.800467653936046 mmol/gDW*h\n",
      "Maximum theoretical yield = 0.15900233826968024 mmol-EPA/mmol-glc\n",
      "Objective of model is = Maximize\n",
      "1.0*DM_Eicosapentaenoic_Acid - 1.0*DM_Eicosapentaenoic_Acid_reverse_e7faa\n"
     ]
    }
   ],
   "source": [
    "model.objective = model.reactions.DM_Eicosapentaenoic_Acid\n",
    "medium = model.medium\n",
    "with model:\n",
    "    medium['EX_glc__D_e'] = 200\n",
    "    model.medium = medium\n",
    "    EPA_production = model.optimize().objective_value\n",
    "    print('Maximum productivity =', EPA_production, 'mmol/gDW*h')\n",
    "    maximum_yield = EPA_production / (-1*(model.reactions.get_by_id('EX_glc__D_e').flux))\n",
    "    print('Maximum theoretical yield =', maximum_yield, 'mmol-EPA/mmol-glc')\n",
    "    print('Objective of model is =', model.objective)\n"
   ]
  },
  {
   "cell_type": "code",
   "execution_count": 7,
   "id": "0247b7a3-3d7d-466e-851f-c8b18819d21e",
   "metadata": {},
   "outputs": [
    {
     "data": {
      "text/html": [
       "\n",
       "        <table>\n",
       "            <tr>\n",
       "                <td><strong>Reaction identifier</strong></td><td>DM_Eicosapentaenoic_Acid</td>\n",
       "            </tr><tr>\n",
       "                <td><strong>Name</strong></td><td>EPA demand</td>\n",
       "            </tr><tr>\n",
       "                <td><strong>Memory address</strong></td>\n",
       "                <td>0x15be45c90</td>\n",
       "            </tr><tr>\n",
       "                <td><strong>Stoichiometry</strong></td>\n",
       "                <td>\n",
       "                    <p style='text-align:right'>Eicosapentaenoic_Acid --></p>\n",
       "                    <p style='text-align:right'>EPA --></p>\n",
       "                </td>\n",
       "            </tr><tr>\n",
       "                <td><strong>GPR</strong></td><td></td>\n",
       "            </tr><tr>\n",
       "                <td><strong>Lower bound</strong></td><td>0</td>\n",
       "            </tr><tr>\n",
       "                <td><strong>Upper bound</strong></td><td>1000.0</td>\n",
       "            </tr>\n",
       "        </table>\n",
       "        "
      ],
      "text/plain": [
       "<Reaction DM_Eicosapentaenoic_Acid at 0x15be45c90>"
      ]
     },
     "execution_count": 7,
     "metadata": {},
     "output_type": "execute_result"
    }
   ],
   "source": [
    "model.reactions.DM_Eicosapentaenoic_Acid"
   ]
  },
  {
   "cell_type": "markdown",
   "id": "8ad98093-c9c0-438b-9785-18bd8ba18caf",
   "metadata": {},
   "source": [
    "### Lets try to optimize the medium\n",
    "\n",
    "According to [https://onlinelibrary.wiley.com/doi/epdf/10.1002/ejlt.200700224], the optimal medium for *L. starkeyi* is: \n",
    "mixed  sugar 73.3 g/L  (glucose  48.9 g/L,  xylose  24.4 g/L),  yeast  extract 7.9 g/L, FeSO 44.0 mg/L, KH2PO 47.0 g/L, Na2HPO 42.0 g/L, MgSO4-7H2O 1.0 g/L, and NH4Cl 0.5 g/L."
   ]
  },
  {
   "cell_type": "code",
   "execution_count": 8,
   "id": "85502a1a-bfde-417a-a8db-c89ec56a9d72",
   "metadata": {},
   "outputs": [
    {
     "ename": "KeyError",
     "evalue": "'r_1718'",
     "output_type": "error",
     "traceback": [
      "\u001b[0;31m---------------------------------------------------------------------------\u001b[0m",
      "\u001b[0;31mKeyError\u001b[0m                                  Traceback (most recent call last)",
      "Cell \u001b[0;32mIn[8], line 23\u001b[0m\n\u001b[1;32m     19\u001b[0m OPTmedium[\u001b[38;5;124m\"\u001b[39m\u001b[38;5;124mr_4600\u001b[39m\u001b[38;5;124m\"\u001b[39m] \u001b[38;5;241m=\u001b[39m \u001b[38;5;241m10\u001b[39m \u001b[38;5;66;03m#Ca2+\u001b[39;00m\n\u001b[1;32m     21\u001b[0m \u001b[38;5;66;03m# Maybe some amino acids should also be considered - All have exchange reactions in the model\u001b[39;00m\n\u001b[0;32m---> 23\u001b[0m model\u001b[38;5;241m.\u001b[39mmedium \u001b[38;5;241m=\u001b[39m OPTmedium\n\u001b[1;32m     25\u001b[0m model\u001b[38;5;241m.\u001b[39mobjective \u001b[38;5;241m=\u001b[39m model\u001b[38;5;241m.\u001b[39mreactions\u001b[38;5;241m.\u001b[39mDM_Eicosapentaenoic_Acid\n\u001b[1;32m     26\u001b[0m medium \u001b[38;5;241m=\u001b[39m model\u001b[38;5;241m.\u001b[39mmedium\n",
      "File \u001b[0;32m~/anaconda3/lib/python3.10/site-packages/cobra/core/model.py:355\u001b[0m, in \u001b[0;36mModel.medium\u001b[0;34m(self, medium)\u001b[0m\n\u001b[1;32m    353\u001b[0m exchange_rxns \u001b[38;5;241m=\u001b[39m \u001b[38;5;28mfrozenset\u001b[39m(\u001b[38;5;28mself\u001b[39m\u001b[38;5;241m.\u001b[39mexchanges)\n\u001b[1;32m    354\u001b[0m \u001b[38;5;28;01mfor\u001b[39;00m rxn_id, rxn_bound \u001b[38;5;129;01min\u001b[39;00m medium\u001b[38;5;241m.\u001b[39mitems():\n\u001b[0;32m--> 355\u001b[0m     rxn \u001b[38;5;241m=\u001b[39m \u001b[38;5;28;43mself\u001b[39;49m\u001b[38;5;241;43m.\u001b[39;49m\u001b[43mreactions\u001b[49m\u001b[38;5;241;43m.\u001b[39;49m\u001b[43mget_by_id\u001b[49m\u001b[43m(\u001b[49m\u001b[43mrxn_id\u001b[49m\u001b[43m)\u001b[49m\n\u001b[1;32m    356\u001b[0m     \u001b[38;5;28;01mif\u001b[39;00m rxn \u001b[38;5;129;01mnot\u001b[39;00m \u001b[38;5;129;01min\u001b[39;00m exchange_rxns:\n\u001b[1;32m    357\u001b[0m         logger\u001b[38;5;241m.\u001b[39mwarning(\n\u001b[1;32m    358\u001b[0m             \u001b[38;5;124mf\u001b[39m\u001b[38;5;124m\"\u001b[39m\u001b[38;5;132;01m{\u001b[39;00mrxn\u001b[38;5;241m.\u001b[39mid\u001b[38;5;132;01m}\u001b[39;00m\u001b[38;5;124m does not seem to be an an exchange reaction. \u001b[39m\u001b[38;5;124m\"\u001b[39m\n\u001b[1;32m    359\u001b[0m             \u001b[38;5;124mf\u001b[39m\u001b[38;5;124m\"\u001b[39m\u001b[38;5;124mApplying bounds anyway.\u001b[39m\u001b[38;5;124m\"\u001b[39m\n\u001b[1;32m    360\u001b[0m         )\n",
      "File \u001b[0;32m~/anaconda3/lib/python3.10/site-packages/cobra/core/dictlist.py:73\u001b[0m, in \u001b[0;36mDictList.get_by_id\u001b[0;34m(self, id)\u001b[0m\n\u001b[1;32m     71\u001b[0m \u001b[38;5;28;01mdef\u001b[39;00m \u001b[38;5;21mget_by_id\u001b[39m(\u001b[38;5;28mself\u001b[39m, \u001b[38;5;28mid\u001b[39m: Union[Object, \u001b[38;5;28mstr\u001b[39m]) \u001b[38;5;241m-\u001b[39m\u001b[38;5;241m>\u001b[39m Object:\n\u001b[1;32m     72\u001b[0m \u001b[38;5;250m    \u001b[39m\u001b[38;5;124;03m\"\"\"Return the element with a matching id.\"\"\"\u001b[39;00m\n\u001b[0;32m---> 73\u001b[0m     \u001b[38;5;28;01mreturn\u001b[39;00m \u001b[38;5;28mlist\u001b[39m\u001b[38;5;241m.\u001b[39m\u001b[38;5;21m__getitem__\u001b[39m(\u001b[38;5;28mself\u001b[39m, \u001b[38;5;28;43mself\u001b[39;49m\u001b[38;5;241;43m.\u001b[39;49m\u001b[43m_dict\u001b[49m\u001b[43m[\u001b[49m\u001b[38;5;28;43mid\u001b[39;49m\u001b[43m]\u001b[49m)\n",
      "\u001b[0;31mKeyError\u001b[0m: 'r_1718'"
     ]
    }
   ],
   "source": [
    "OPTmedium = model.medium\n",
    "\n",
    "OPTmedium[\"r_1718\"] = 100 #Xylose exchange\n",
    "OPTmedium[\"r_1714\"] = 100 #Glucose exchange\n",
    "OPTmedium[\"r_2020\"] = 1 #Potassium exchange\n",
    "OPTmedium[\"r_1861\"] = 1#Fe2+\n",
    "OPTmedium[\"r_2049\"] = 1 #Sodium\n",
    "OPTmedium[\"r_1654\"] = 1 #Ammonium\n",
    "OPTmedium[\"r_1832\"] = 10 #H+\n",
    "OPTmedium[\"r_1992\"] = 10 #Oxygen\n",
    "OPTmedium[\"r_2005\"] = 10 #Phosphate\n",
    "OPTmedium[\"r_2060\"] = 10 #Sulphate\n",
    "OPTmedium[\"r_2100\"] = 5 #H20\n",
    "OPTmedium[\"r_4593\"] = 10 #Chloride\n",
    "OPTmedium[\"r_4594\"] = 10 #Cu2+\n",
    "OPTmedium[\"r_4595\"] = 10 #Mn2+\n",
    "OPTmedium[\"r_4596\"] = 10 #Zn2+\n",
    "OPTmedium[\"r_4597\"] = 10 #Mg2+\n",
    "OPTmedium[\"r_4600\"] = 10 #Ca2+\n",
    "\n",
    "# Maybe some amino acids should also be considered - All have exchange reactions in the model\n",
    "\n",
    "model.medium = OPTmedium\n",
    "\n",
    "model.objective = model.reactions.DM_Eicosapentaenoic_Acid\n",
    "medium = model.medium\n",
    "with model:\n",
    "    medium['r_1714'] = 20\n",
    "    model.medium = medium\n",
    "    EPA_production = model.optimize().objective_value\n",
    "    print('Maximum productivity =', EPA_production, 'mmol/gDW*h')\n",
    "    maximum_yield = EPA_production / (-1*(model.reactions.get_by_id('r_1714').flux))\n",
    "    print('Maximum theoretical yield =', maximum_yield, 'mmol-EPA/mmol-glc')\n",
    "    print('Objective of model is =', model.objective)"
   ]
  },
  {
   "cell_type": "code",
   "execution_count": null,
   "id": "916636ae-99bc-4c7d-8698-12766255a5fa",
   "metadata": {},
   "outputs": [],
   "source": [
    "model.objective = model.reactions.get_by_id('r_2111')\n",
    "solution = model.optimize()\n",
    "print('Maximum theoretical biomass productivity:', solution.fluxes['r_2111'], '/h') \n",
    "\n",
    "model.objective = model.reactions.DM_Eicosapentaenoic_Acid\n",
    "EPA_prod = model.optimize().objective_value\n",
    "print('Maximum theoretical productivity of EPA:', EPA_prod, 'mmol/gDW*h')"
   ]
  },
  {
   "cell_type": "code",
   "execution_count": null,
   "id": "05695ac2-b188-41eb-95f0-baf4ee532183",
   "metadata": {},
   "outputs": [],
   "source": [
    "solution.fluxes['r_2111']"
   ]
  },
  {
   "cell_type": "markdown",
   "id": "0c0105ee-6516-4637-aaef-4f8f8e63e804",
   "metadata": {},
   "source": [
    "## Find the optimal medium for the model by setting bounds and optimizing the model"
   ]
  },
  {
   "cell_type": "code",
   "execution_count": null,
   "id": "55d655e7-a468-4dba-8a4b-19eec59ce3d5",
   "metadata": {},
   "outputs": [],
   "source": [
    "model.reactions.get_by_id('r_2111')"
   ]
  },
  {
   "cell_type": "code",
   "execution_count": null,
   "id": "644342bf-5cc6-4853-8ecc-bb1accc98c95",
   "metadata": {},
   "outputs": [],
   "source": []
  }
 ],
 "metadata": {
  "kernelspec": {
   "display_name": "Python 3 (ipykernel)",
   "language": "python",
   "name": "python3"
  },
  "language_info": {
   "codemirror_mode": {
    "name": "ipython",
    "version": 3
   },
   "file_extension": ".py",
   "mimetype": "text/x-python",
   "name": "python",
   "nbconvert_exporter": "python",
   "pygments_lexer": "ipython3",
   "version": "3.10.8"
  }
 },
 "nbformat": 4,
 "nbformat_minor": 5
}
