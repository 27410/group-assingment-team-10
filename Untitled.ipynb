{
 "cells": [
  {
   "cell_type": "code",
   "execution_count": 3,
   "id": "683d9da5-8e16-49a2-ab39-11fe2953615a",
   "metadata": {},
   "outputs": [],
   "source": [
    "import memote\n",
    "import pandas as pd\n",
    "import matplotlib.pyplot as plt\n",
    "from cobra.io import read_sbml_model"
   ]
  },
  {
   "cell_type": "code",
   "execution_count": 5,
   "metadata": {},
   "outputs": [
    {
     "ename": "OSError",
     "evalue": "The file with 'group-assingment-team-10/Loira2012_MODEL1111190000.xml' does not exist, or is not an SBML string. Provide the path to an existing SBML file or a valid SBML string representation:\n",
     "output_type": "error",
     "traceback": [
      "\u001b[0;31m---------------------------------------------------------------------------\u001b[0m",
      "\u001b[0;31mOSError\u001b[0m                                   Traceback (most recent call last)",
      "\u001b[1;32m/workspaces/group-assingment-team-10/Untitled.ipynb Cell 2\u001b[0m line \u001b[0;36m1\n\u001b[0;32m----> <a href='vscode-notebook-cell://codespaces%2Blaughing-yodel-jj59x5pr4xg6h5x46/workspaces/group-assingment-team-10/Untitled.ipynb#W4sdnNjb2RlLXJlbW90ZQ%3D%3D?line=0'>1</a>\u001b[0m model \u001b[39m=\u001b[39m read_sbml_model(\u001b[39m\"\u001b[39;49m\u001b[39mgroup-assingment-team-10/Loira2012_MODEL1111190000.xml\u001b[39;49m\u001b[39m\"\u001b[39;49m)\n",
      "File \u001b[0;32m~/.python/current/lib/python3.10/site-packages/cobra/io/sbml.py:460\u001b[0m, in \u001b[0;36mread_sbml_model\u001b[0;34m(filename, number, f_replace, **kwargs)\u001b[0m\n\u001b[1;32m    458\u001b[0m     \u001b[39mreturn\u001b[39;00m _sbml_to_model(doc, number\u001b[39m=\u001b[39mnumber, f_replace\u001b[39m=\u001b[39mf_replace, \u001b[39m*\u001b[39m\u001b[39m*\u001b[39mkwargs)\n\u001b[1;32m    459\u001b[0m \u001b[39mexcept\u001b[39;00m \u001b[39mIOError\u001b[39;00m \u001b[39mas\u001b[39;00m e:\n\u001b[0;32m--> 460\u001b[0m     \u001b[39mraise\u001b[39;00m e\n\u001b[1;32m    462\u001b[0m \u001b[39mexcept\u001b[39;00m \u001b[39mException\u001b[39;00m \u001b[39mas\u001b[39;00m original_error:\n\u001b[1;32m    463\u001b[0m     cobra_error \u001b[39m=\u001b[39m CobraSBMLError(\n\u001b[1;32m    464\u001b[0m         \u001b[39m\"\u001b[39m\u001b[39mSomething went wrong reading the SBML model. Most likely the SBML\u001b[39m\u001b[39m\"\u001b[39m\n\u001b[1;32m    465\u001b[0m         \u001b[39m\"\u001b[39m\u001b[39m model is not valid. Please check that your model is valid using \u001b[39m\u001b[39m\"\u001b[39m\n\u001b[0;32m   (...)\u001b[0m\n\u001b[1;32m    470\u001b[0m         \u001b[39m\"\u001b[39m\u001b[39mat https://github.com/opencobra/cobrapy/issues .\u001b[39m\u001b[39m\"\u001b[39m\n\u001b[1;32m    471\u001b[0m     )\n",
      "File \u001b[0;32m~/.python/current/lib/python3.10/site-packages/cobra/io/sbml.py:457\u001b[0m, in \u001b[0;36mread_sbml_model\u001b[0;34m(filename, number, f_replace, **kwargs)\u001b[0m\n\u001b[1;32m    402\u001b[0m \u001b[39m\u001b[39m\u001b[39m\"\"\"Read SBML model from given filename.\u001b[39;00m\n\u001b[1;32m    403\u001b[0m \n\u001b[1;32m    404\u001b[0m \u001b[39mIf the given filename ends with the suffix ''.gz'' (for example,\u001b[39;00m\n\u001b[0;32m   (...)\u001b[0m\n\u001b[1;32m    454\u001b[0m \u001b[39mFile handles to compressed files are not supported yet.\u001b[39;00m\n\u001b[1;32m    455\u001b[0m \u001b[39m\"\"\"\u001b[39;00m\n\u001b[1;32m    456\u001b[0m \u001b[39mtry\u001b[39;00m:\n\u001b[0;32m--> 457\u001b[0m     doc \u001b[39m=\u001b[39m _get_doc_from_filename(filename)\n\u001b[1;32m    458\u001b[0m     \u001b[39mreturn\u001b[39;00m _sbml_to_model(doc, number\u001b[39m=\u001b[39mnumber, f_replace\u001b[39m=\u001b[39mf_replace, \u001b[39m*\u001b[39m\u001b[39m*\u001b[39mkwargs)\n\u001b[1;32m    459\u001b[0m \u001b[39mexcept\u001b[39;00m \u001b[39mIOError\u001b[39;00m \u001b[39mas\u001b[39;00m e:\n",
      "File \u001b[0;32m~/.python/current/lib/python3.10/site-packages/cobra/io/sbml.py:504\u001b[0m, in \u001b[0;36m_get_doc_from_filename\u001b[0;34m(filename)\u001b[0m\n\u001b[1;32m    501\u001b[0m         doc: libsbml\u001b[39m.\u001b[39mSBMLDocument \u001b[39m=\u001b[39m libsbml\u001b[39m.\u001b[39mreadSBMLFromFile(filename)\n\u001b[1;32m    502\u001b[0m     \u001b[39melse\u001b[39;00m:\n\u001b[1;32m    503\u001b[0m         \u001b[39m# string representation\u001b[39;00m\n\u001b[0;32m--> 504\u001b[0m         \u001b[39mraise\u001b[39;00m \u001b[39mIOError\u001b[39;00m(\n\u001b[1;32m    505\u001b[0m             \u001b[39mf\u001b[39m\u001b[39m\"\u001b[39m\u001b[39mThe file with \u001b[39m\u001b[39m'\u001b[39m\u001b[39m{\u001b[39;00mfilename\u001b[39m}\u001b[39;00m\u001b[39m'\u001b[39m\u001b[39m does not exist, \u001b[39m\u001b[39m\"\u001b[39m\n\u001b[1;32m    506\u001b[0m             \u001b[39mf\u001b[39m\u001b[39m\"\u001b[39m\u001b[39mor is not an SBML string. Provide the path to \u001b[39m\u001b[39m\"\u001b[39m\n\u001b[1;32m    507\u001b[0m             \u001b[39mf\u001b[39m\u001b[39m\"\u001b[39m\u001b[39man existing SBML file or a valid SBML string representation:\u001b[39m\u001b[39m\\n\u001b[39;00m\u001b[39m\"\u001b[39m\n\u001b[1;32m    508\u001b[0m         )\n\u001b[1;32m    509\u001b[0m \u001b[39melif\u001b[39;00m \u001b[39mhasattr\u001b[39m(filename, \u001b[39m\"\u001b[39m\u001b[39mread\u001b[39m\u001b[39m\"\u001b[39m):\n\u001b[1;32m    510\u001b[0m     \u001b[39m# file handle\u001b[39;00m\n\u001b[1;32m    511\u001b[0m     doc: libsbml\u001b[39m.\u001b[39mSBMLDocument \u001b[39m=\u001b[39m libsbml\u001b[39m.\u001b[39mreadSBMLFromString(filename\u001b[39m.\u001b[39mread())\n",
      "\u001b[0;31mOSError\u001b[0m: The file with 'group-assingment-team-10/Loira2012_MODEL1111190000.xml' does not exist, or is not an SBML string. Provide the path to an existing SBML file or a valid SBML string representation:\n"
     ]
    }
   ],
   "source": [
    "model = read_sbml_model(\"group-assingment-team-10/Loira2012_MODEL1111190000.xml\")"
   ]
  },
  {
   "cell_type": "code",
   "execution_count": 2,
   "id": "77215f3d-2571-4da7-99da-8350b510d638",
   "metadata": {},
   "outputs": [
    {
     "ename": "TypeError",
     "evalue": "Report.__init__() missing 1 required positional argument: 'configuration'",
     "output_type": "error",
     "traceback": [
      "\u001b[0;31m---------------------------------------------------------------------------\u001b[0m",
      "\u001b[0;31mTypeError\u001b[0m                                 Traceback (most recent call last)",
      "\u001b[1;32m/workspaces/group-assingment-team-10/Untitled.ipynb Cell 2\u001b[0m line \u001b[0;36m1\n\u001b[0;32m----> <a href='vscode-notebook-cell://codespaces%2Blaughing-yodel-jj59x5pr4xg6h5x46/workspaces/group-assingment-team-10/Untitled.ipynb#W1sdnNjb2RlLXJlbW90ZQ%3D%3D?line=0'>1</a>\u001b[0m memote\u001b[39m.\u001b[39;49mReport(\u001b[39m\"\u001b[39;49m\u001b[39mgroup-assingment-team-10/Loira2012_MODEL1111190000.xml\u001b[39;49m\u001b[39m\"\u001b[39;49m)\n",
      "\u001b[0;31mTypeError\u001b[0m: Report.__init__() missing 1 required positional argument: 'configuration'"
     ]
    }
   ],
   "source": [
    "\n",
    "\n",
    "\n",
    "memote.Report(\"group-assingment-team-10/Loira2012_MODEL1111190000.xml\")"
   ]
  },
  {
   "cell_type": "code",
   "execution_count": 9,
   "id": "e90a6081-6b9a-47f8-9884-17c8af19c106",
   "metadata": {},
   "outputs": [
    {
     "ename": "NameError",
     "evalue": "name 'snapshot' is not defined",
     "output_type": "error",
     "traceback": [
      "\u001b[0;31m---------------------------------------------------------------------------\u001b[0m",
      "\u001b[0;31mNameError\u001b[0m                                 Traceback (most recent call last)",
      "\u001b[1;32m/workspaces/group-assingment-team-10/Untitled.ipynb Cell 3\u001b[0m line \u001b[0;36m1\n\u001b[0;32m----> <a href='vscode-notebook-cell://codespaces%2Blaughing-yodel-jj59x5pr4xg6h5x46/workspaces/group-assingment-team-10/Untitled.ipynb#W2sdnNjb2RlLXJlbW90ZQ%3D%3D?line=0'>1</a>\u001b[0m memote\u001b[39m.\u001b[39mReport(configuration\u001b[39m=\u001b[39msnapshot)\n",
      "\u001b[0;31mNameError\u001b[0m: name 'snapshot' is not defined"
     ]
    }
   ],
   "source": [
    "memote.Report(configuration=)"
   ]
  },
  {
   "cell_type": "code",
   "execution_count": null,
   "metadata": {},
   "outputs": [],
   "source": []
  }
 ],
 "metadata": {
  "kernelspec": {
   "display_name": "Python 3 (ipykernel)",
   "language": "python",
   "name": "python3"
  },
  "language_info": {
   "codemirror_mode": {
    "name": "ipython",
    "version": 3
   },
   "file_extension": ".py",
   "mimetype": "text/x-python",
   "name": "python",
   "nbconvert_exporter": "python",
   "pygments_lexer": "ipython3",
   "version": "3.10.8"
  }
 },
 "nbformat": 4,
 "nbformat_minor": 5
}
