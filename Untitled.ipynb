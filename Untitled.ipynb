{
 "cells": [
  {
   "cell_type": "code",
   "execution_count": 25,
   "id": "683d9da5-8e16-49a2-ab39-11fe2953615a",
   "metadata": {},
   "outputs": [],
   "source": [
    "import memote\n",
    "import pandas as pd\n",
    "import matplotlib.pyplot as plt\n",
    "from cobra.io import read_sbml_model\n",
    "from cobra.io import validate_sbml_model\n",
    "from cobra.io import write_sbml_model"
   ]
  },
  {
   "cell_type": "code",
   "execution_count": 26,
   "metadata": {},
   "outputs": [
    {
     "data": {
      "text/plain": [
       "(<Model MODEL1508190002 at 0x7f5281d275e0>,\n",
       " {'SBML_FATAL': [],\n",
       "  'SBML_ERROR': [],\n",
       "  'SBML_SCHEMA_ERROR': [],\n",
       "  'SBML_WARNING': [],\n",
       "  'COBRA_FATAL': [],\n",
       "  'COBRA_ERROR': [],\n",
       "  'COBRA_WARNING': [],\n",
       "  'COBRA_CHECK': []})"
      ]
     },
     "execution_count": 26,
     "metadata": {},
     "output_type": "execute_result"
    }
   ],
   "source": [
    "validate_sbml_model('/workspaces/group-assingment-team-10/Kerkhoven2016_MODEL1508190002_2.xml')"
   ]
  },
  {
   "cell_type": "code",
   "execution_count": null,
   "metadata": {},
   "outputs": [],
   "source": []
  },
  {
   "cell_type": "code",
   "execution_count": 27,
   "metadata": {},
   "outputs": [],
   "source": [
    "model = read_sbml_model(\"/workspaces/group-assingment-team-10/Kerkhoven2016_MODEL1508190002_2.xml\")"
   ]
  },
  {
   "cell_type": "code",
   "execution_count": 30,
   "id": "77215f3d-2571-4da7-99da-8350b510d638",
   "metadata": {},
   "outputs": [
    {
     "ename": "AttributeError",
     "evalue": "'str' object has no attribute 'id'",
     "output_type": "error",
     "traceback": [
      "\u001b[0;31m---------------------------------------------------------------------------\u001b[0m",
      "\u001b[0;31mAttributeError\u001b[0m                            Traceback (most recent call last)",
      "\u001b[1;32m/workspaces/group-assingment-team-10/Untitled.ipynb Cell 5\u001b[0m line \u001b[0;36m1\n\u001b[0;32m----> <a href='vscode-notebook-cell://codespaces%2Blaughing-yodel-jj59x5pr4xg6h5x46/workspaces/group-assingment-team-10/Untitled.ipynb#W2sdnNjb2RlLXJlbW90ZQ%3D%3D?line=0'>1</a>\u001b[0m write_sbml_model(\u001b[39m'\u001b[39;49m\u001b[39m/workspaces/group-assingment-team-10/onlinemodel/iYali.xml\u001b[39;49m\u001b[39m'\u001b[39;49m,\u001b[39m'\u001b[39;49m\u001b[39m/onlinemodel\u001b[39;49m\u001b[39m'\u001b[39;49m)\n",
      "File \u001b[0;32m~/.python/current/lib/python3.10/site-packages/cobra/io/sbml.py:1171\u001b[0m, in \u001b[0;36mwrite_sbml_model\u001b[0;34m(cobra_model, filename, f_replace, **kwargs)\u001b[0m\n\u001b[1;32m   1136\u001b[0m \u001b[39mdef\u001b[39;00m \u001b[39mwrite_sbml_model\u001b[39m(\n\u001b[1;32m   1137\u001b[0m     cobra_model: Model,\n\u001b[1;32m   1138\u001b[0m     filename: Union[\u001b[39mstr\u001b[39m, IO, Path],\n\u001b[1;32m   1139\u001b[0m     f_replace: \u001b[39mdict\u001b[39m \u001b[39m=\u001b[39m F_REPLACE,\n\u001b[1;32m   1140\u001b[0m     \u001b[39m*\u001b[39m\u001b[39m*\u001b[39mkwargs,\n\u001b[1;32m   1141\u001b[0m ) \u001b[39m-\u001b[39m\u001b[39m>\u001b[39m \u001b[39mNone\u001b[39;00m:\n\u001b[1;32m   1142\u001b[0m \u001b[39m    \u001b[39m\u001b[39m\"\"\"Write cobra model to filename.\u001b[39;00m\n\u001b[1;32m   1143\u001b[0m \n\u001b[1;32m   1144\u001b[0m \u001b[39m    The created model is SBML level 3 version 1 (L1V3) with\u001b[39;00m\n\u001b[0;32m   (...)\u001b[0m\n\u001b[1;32m   1169\u001b[0m \u001b[39m        Further keyword arguments are passed on.\u001b[39;00m\n\u001b[1;32m   1170\u001b[0m \u001b[39m    \"\"\"\u001b[39;00m\n\u001b[0;32m-> 1171\u001b[0m     doc \u001b[39m=\u001b[39m _model_to_sbml(cobra_model, f_replace\u001b[39m=\u001b[39;49mf_replace, \u001b[39m*\u001b[39;49m\u001b[39m*\u001b[39;49mkwargs)\n\u001b[1;32m   1173\u001b[0m     \u001b[39mif\u001b[39;00m \u001b[39misinstance\u001b[39m(filename, \u001b[39mstr\u001b[39m):\n\u001b[1;32m   1174\u001b[0m         \u001b[39m# write to path\u001b[39;00m\n\u001b[1;32m   1175\u001b[0m         libsbml\u001b[39m.\u001b[39mwriteSBMLToFile(doc, filename)\n",
      "File \u001b[0;32m~/.python/current/lib/python3.10/site-packages/cobra/io/sbml.py:1216\u001b[0m, in \u001b[0;36m_model_to_sbml\u001b[0;34m(cobra_model, f_replace, units)\u001b[0m\n\u001b[1;32m   1213\u001b[0m model_fbc: \u001b[39m\"\u001b[39m\u001b[39mlibsbml.FbcModelPlugin\u001b[39m\u001b[39m\"\u001b[39m \u001b[39m=\u001b[39m model\u001b[39m.\u001b[39mgetPlugin(\u001b[39m\"\u001b[39m\u001b[39mfbc\u001b[39m\u001b[39m\"\u001b[39m)\n\u001b[1;32m   1214\u001b[0m model_fbc\u001b[39m.\u001b[39msetStrict(\u001b[39mTrue\u001b[39;00m)\n\u001b[0;32m-> 1216\u001b[0m \u001b[39mif\u001b[39;00m cobra_model\u001b[39m.\u001b[39;49mid \u001b[39mis\u001b[39;00m \u001b[39mnot\u001b[39;00m \u001b[39mNone\u001b[39;00m:\n\u001b[1;32m   1217\u001b[0m     model\u001b[39m.\u001b[39msetId(cobra_model\u001b[39m.\u001b[39mid)\n\u001b[1;32m   1218\u001b[0m     model\u001b[39m.\u001b[39msetMetaId(\u001b[39m\"\u001b[39m\u001b[39mmeta_\u001b[39m\u001b[39m\"\u001b[39m \u001b[39m+\u001b[39m cobra_model\u001b[39m.\u001b[39mid)\n",
      "\u001b[0;31mAttributeError\u001b[0m: 'str' object has no attribute 'id'"
     ]
    }
   ],
   "source": [
    "write_sbml_model('/workspaces/group-assingment-team-10/onlinemodel/iYali.xml','/onlinemodel')"
   ]
  },
  {
   "cell_type": "code",
   "execution_count": 21,
   "id": "e90a6081-6b9a-47f8-9884-17c8af19c106",
   "metadata": {},
   "outputs": [
    {
     "name": "stdout",
     "output_type": "stream",
     "text": [
      "Help on package memote:\n",
      "\n",
      "NAME\n",
      "    memote - (me)tabolic (mo)del (te)sts.\n",
      "\n",
      "DESCRIPTION\n",
      "    The memote Python package is a community-driven effort towards a standardized\n",
      "    genome-scale metabolic model test suite.\n",
      "\n",
      "PACKAGE CONTENTS\n",
      "    _version\n",
      "    experimental (package)\n",
      "    jinja2_extension\n",
      "    suite (package)\n",
      "    support (package)\n",
      "    utils\n",
      "\n",
      "SUBMODULES\n",
      "    config\n",
      "    diff\n",
      "    history\n",
      "    history_manager\n",
      "    models\n",
      "    repo_result_manager\n",
      "    report\n",
      "    result\n",
      "    result_manager\n",
      "    snapshot\n",
      "    sql_result_manager\n",
      "\n",
      "DATA\n",
      "    LOGGER = <Logger memote.suite.reporting.history (WARNING)>\n",
      "    __email__ = 'midnighter@posteo.net'\n",
      "    absolute_import = _Feature((2, 5, 0, 'alpha', 1), (3, 0, 0, 'alpha', 0...\n",
      "\n",
      "VERSION\n",
      "    0.15.0\n",
      "\n",
      "AUTHOR\n",
      "    Moritz E. Beber\n",
      "\n",
      "FILE\n",
      "    /home/codespace/.python/current/lib/python3.10/site-packages/memote/__init__.py\n",
      "\n",
      "\n"
     ]
    }
   ],
   "source": [
    "help(memote)\n"
   ]
  },
  {
   "cell_type": "code",
   "execution_count": null,
   "metadata": {},
   "outputs": [],
   "source": []
  }
 ],
 "metadata": {
  "kernelspec": {
   "display_name": "Python 3 (ipykernel)",
   "language": "python",
   "name": "python3"
  },
  "language_info": {
   "codemirror_mode": {
    "name": "ipython",
    "version": 3
   },
   "file_extension": ".py",
   "mimetype": "text/x-python",
   "name": "python",
   "nbconvert_exporter": "python",
   "pygments_lexer": "ipython3",
   "version": "3.10.8"
  }
 },
 "nbformat": 4,
 "nbformat_minor": 5
}
