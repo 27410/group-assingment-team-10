{
 "cells": [
  {
   "cell_type": "code",
   "execution_count": 3,
   "id": "683d9da5-8e16-49a2-ab39-11fe2953615a",
   "metadata": {},
   "outputs": [],
   "source": [
    "import memote\n",
    "import pandas as pd\n",
    "import matplotlib.pyplot as plt"
   ]
  },
  {
   "cell_type": "code",
   "execution_count": 7,
   "id": "77215f3d-2571-4da7-99da-8350b510d638",
   "metadata": {},
   "outputs": [
    {
     "ename": "TypeError",
     "evalue": "Report.__init__() missing 1 required positional argument: 'configuration'",
     "output_type": "error",
     "traceback": [
      "\u001b[0;31m---------------------------------------------------------------------------\u001b[0m",
      "\u001b[0;31mTypeError\u001b[0m                                 Traceback (most recent call last)",
      "\u001b[1;32m/workspaces/group-assingment-team-10/Untitled.ipynb Cell 2\u001b[0m line \u001b[0;36m1\n\u001b[0;32m----> <a href='vscode-notebook-cell://codespaces%2Blaughing-yodel-jj59x5pr4xg6h5x46/workspaces/group-assingment-team-10/Untitled.ipynb#W1sdnNjb2RlLXJlbW90ZQ%3D%3D?line=0'>1</a>\u001b[0m memote\u001b[39m.\u001b[39;49mReport(\u001b[39m\"\u001b[39;49m\u001b[39mgroup-assingment-team-10/Kavšček2015_iMK735_MODEL1510060001.xml\u001b[39;49m\u001b[39m\"\u001b[39;49m)\n",
      "\u001b[0;31mTypeError\u001b[0m: Report.__init__() missing 1 required positional argument: 'configuration'"
     ]
    }
   ],
   "source": [
    "memote.Report(\"group-assingment-team-10/Kavšček2015_iMK735_MODEL1510060001.xml\")"
   ]
  },
  {
   "cell_type": "code",
   "execution_count": 9,
   "id": "e90a6081-6b9a-47f8-9884-17c8af19c106",
   "metadata": {},
   "outputs": [
    {
     "ename": "NameError",
     "evalue": "name 'snapshot' is not defined",
     "output_type": "error",
     "traceback": [
      "\u001b[0;31m---------------------------------------------------------------------------\u001b[0m",
      "\u001b[0;31mNameError\u001b[0m                                 Traceback (most recent call last)",
      "\u001b[1;32m/workspaces/group-assingment-team-10/Untitled.ipynb Cell 3\u001b[0m line \u001b[0;36m1\n\u001b[0;32m----> <a href='vscode-notebook-cell://codespaces%2Blaughing-yodel-jj59x5pr4xg6h5x46/workspaces/group-assingment-team-10/Untitled.ipynb#W2sdnNjb2RlLXJlbW90ZQ%3D%3D?line=0'>1</a>\u001b[0m memote\u001b[39m.\u001b[39mReport(configuration\u001b[39m=\u001b[39msnapshot)\n",
      "\u001b[0;31mNameError\u001b[0m: name 'snapshot' is not defined"
     ]
    }
   ],
   "source": [
    "memote.Report(configuration=)"
   ]
  },
  {
   "cell_type": "code",
   "execution_count": null,
   "metadata": {},
   "outputs": [],
   "source": []
  }
 ],
 "metadata": {
  "kernelspec": {
   "display_name": "Python 3 (ipykernel)",
   "language": "python",
   "name": "python3"
  },
  "language_info": {
   "codemirror_mode": {
    "name": "ipython",
    "version": 3
   },
   "file_extension": ".py",
   "mimetype": "text/x-python",
   "name": "python",
   "nbconvert_exporter": "python",
   "pygments_lexer": "ipython3",
   "version": "3.10.8"
  }
 },
 "nbformat": 4,
 "nbformat_minor": 5
}
