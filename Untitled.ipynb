{
 "cells": [
  {
   "cell_type": "code",
   "execution_count": 1,
   "id": "683d9da5-8e16-49a2-ab39-11fe2953615a",
   "metadata": {},
   "outputs": [],
   "source": [
    "import memote\n",
    "import pandas as pd\n",
    "import matplotlib.pyplot as plt\n",
    "from cobra.io import read_sbml_model\n",
    "from cobra.io import validate_sbml_model\n",
    "from cobra.io import write_sbml_model"
   ]
  },
  {
   "cell_type": "code",
   "execution_count": 2,
   "metadata": {},
   "outputs": [
    {
     "data": {
      "text/plain": [
       "(<Model M_yeastGEM_v8__46__3__46__5 at 0x7f300c204520>,\n",
       " {'SBML_FATAL': [],\n",
       "  'SBML_ERROR': [],\n",
       "  'SBML_SCHEMA_ERROR': [],\n",
       "  'SBML_WARNING': [],\n",
       "  'COBRA_FATAL': [],\n",
       "  'COBRA_ERROR': [],\n",
       "  'COBRA_WARNING': [],\n",
       "  'COBRA_CHECK': []})"
      ]
     },
     "execution_count": 2,
     "metadata": {},
     "output_type": "execute_result"
    }
   ],
   "source": [
    "validate_sbml_model('/workspaces/group-assingment-team-10/Yarrowia_lipolytica.xml')"
   ]
  },
  {
   "cell_type": "code",
   "execution_count": 3,
   "metadata": {},
   "outputs": [],
   "source": [
    "model = read_sbml_model('/workspaces/group-assingment-team-10/Yarrowia_lipolytica.xml')"
   ]
  },
  {
   "cell_type": "code",
   "execution_count": 5,
   "id": "77215f3d-2571-4da7-99da-8350b510d638",
   "metadata": {},
   "outputs": [
    {
     "ename": "CobraSBMLError",
     "evalue": "Something went wrong reading the SBML model. Most likely the SBML model is not valid. Please check that your model is valid using the `cobra.io.sbml.validate_sbml_model` function or via the online validator at https://sbml.org/validator_servlet/ .\n\t`(model, errors) = validate_sbml_model(filename)`\nIf the model is valid and cannot be read please open an issue at https://github.com/opencobra/cobrapy/issues .",
     "output_type": "error",
     "traceback": [
      "\u001b[0;31m---------------------------------------------------------------------------\u001b[0m",
      "\u001b[0;31mCobraSBMLError\u001b[0m                            Traceback (most recent call last)",
      "File \u001b[0;32m~/.python/current/lib/python3.10/site-packages/cobra/io/sbml.py:458\u001b[0m, in \u001b[0;36mread_sbml_model\u001b[0;34m(filename, number, f_replace, **kwargs)\u001b[0m\n\u001b[1;32m    457\u001b[0m     doc \u001b[39m=\u001b[39m _get_doc_from_filename(filename)\n\u001b[0;32m--> 458\u001b[0m     \u001b[39mreturn\u001b[39;00m _sbml_to_model(doc, number\u001b[39m=\u001b[39;49mnumber, f_replace\u001b[39m=\u001b[39;49mf_replace, \u001b[39m*\u001b[39;49m\u001b[39m*\u001b[39;49mkwargs)\n\u001b[1;32m    459\u001b[0m \u001b[39mexcept\u001b[39;00m \u001b[39mIOError\u001b[39;00m \u001b[39mas\u001b[39;00m e:\n",
      "File \u001b[0;32m~/.python/current/lib/python3.10/site-packages/cobra/io/sbml.py:563\u001b[0m, in \u001b[0;36m_sbml_to_model\u001b[0;34m(doc, number, f_replace, set_missing_bounds, **kwargs)\u001b[0m\n\u001b[1;32m    562\u001b[0m \u001b[39mif\u001b[39;00m model \u001b[39mis\u001b[39;00m \u001b[39mNone\u001b[39;00m:\n\u001b[0;32m--> 563\u001b[0m     \u001b[39mraise\u001b[39;00m CobraSBMLError(\u001b[39m\"\u001b[39m\u001b[39mNo SBML model detected in file.\u001b[39m\u001b[39m\"\u001b[39m)\n\u001b[1;32m    564\u001b[0m model_fbc: \u001b[39m\"\u001b[39m\u001b[39mlibsbml.FbcModelPlugin\u001b[39m\u001b[39m\"\u001b[39m \u001b[39m=\u001b[39m model\u001b[39m.\u001b[39mgetPlugin(\u001b[39m\"\u001b[39m\u001b[39mfbc\u001b[39m\u001b[39m\"\u001b[39m)\n",
      "\u001b[0;31mCobraSBMLError\u001b[0m: No SBML model detected in file.",
      "\nThe above exception was the direct cause of the following exception:\n",
      "\u001b[0;31mCobraSBMLError\u001b[0m                            Traceback (most recent call last)",
      "\u001b[1;32m/workspaces/group-assingment-team-10/Untitled.ipynb Cell 5\u001b[0m line \u001b[0;36m1\n\u001b[0;32m----> <a href='vscode-notebook-cell://codespaces%2Blaughing-yodel-jj59x5pr4xg6h5x46/workspaces/group-assingment-team-10/Untitled.ipynb#W4sdnNjb2RlLXJlbW90ZQ%3D%3D?line=0'>1</a>\u001b[0m read_sbml_model(\u001b[39m'\u001b[39;49m\u001b[39m/workspaces/group-assingment-team-10/onlinemodel/iYali.xml\u001b[39;49m\u001b[39m'\u001b[39;49m)\n",
      "File \u001b[0;32m~/.python/current/lib/python3.10/site-packages/cobra/io/sbml.py:472\u001b[0m, in \u001b[0;36mread_sbml_model\u001b[0;34m(filename, number, f_replace, **kwargs)\u001b[0m\n\u001b[1;32m    462\u001b[0m \u001b[39mexcept\u001b[39;00m \u001b[39mException\u001b[39;00m \u001b[39mas\u001b[39;00m original_error:\n\u001b[1;32m    463\u001b[0m     cobra_error \u001b[39m=\u001b[39m CobraSBMLError(\n\u001b[1;32m    464\u001b[0m         \u001b[39m\"\u001b[39m\u001b[39mSomething went wrong reading the SBML model. Most likely the SBML\u001b[39m\u001b[39m\"\u001b[39m\n\u001b[1;32m    465\u001b[0m         \u001b[39m\"\u001b[39m\u001b[39m model is not valid. Please check that your model is valid using \u001b[39m\u001b[39m\"\u001b[39m\n\u001b[0;32m   (...)\u001b[0m\n\u001b[1;32m    470\u001b[0m         \u001b[39m\"\u001b[39m\u001b[39mat https://github.com/opencobra/cobrapy/issues .\u001b[39m\u001b[39m\"\u001b[39m\n\u001b[1;32m    471\u001b[0m     )\n\u001b[0;32m--> 472\u001b[0m     \u001b[39mraise\u001b[39;00m cobra_error \u001b[39mfrom\u001b[39;00m \u001b[39moriginal_error\u001b[39;00m\n",
      "\u001b[0;31mCobraSBMLError\u001b[0m: Something went wrong reading the SBML model. Most likely the SBML model is not valid. Please check that your model is valid using the `cobra.io.sbml.validate_sbml_model` function or via the online validator at https://sbml.org/validator_servlet/ .\n\t`(model, errors) = validate_sbml_model(filename)`\nIf the model is valid and cannot be read please open an issue at https://github.com/opencobra/cobrapy/issues ."
     ]
    }
   ],
   "source": []
  },
  {
   "cell_type": "code",
   "execution_count": 21,
   "id": "e90a6081-6b9a-47f8-9884-17c8af19c106",
   "metadata": {},
   "outputs": [
    {
     "name": "stdout",
     "output_type": "stream",
     "text": [
      "Help on package memote:\n",
      "\n",
      "NAME\n",
      "    memote - (me)tabolic (mo)del (te)sts.\n",
      "\n",
      "DESCRIPTION\n",
      "    The memote Python package is a community-driven effort towards a standardized\n",
      "    genome-scale metabolic model test suite.\n",
      "\n",
      "PACKAGE CONTENTS\n",
      "    _version\n",
      "    experimental (package)\n",
      "    jinja2_extension\n",
      "    suite (package)\n",
      "    support (package)\n",
      "    utils\n",
      "\n",
      "SUBMODULES\n",
      "    config\n",
      "    diff\n",
      "    history\n",
      "    history_manager\n",
      "    models\n",
      "    repo_result_manager\n",
      "    report\n",
      "    result\n",
      "    result_manager\n",
      "    snapshot\n",
      "    sql_result_manager\n",
      "\n",
      "DATA\n",
      "    LOGGER = <Logger memote.suite.reporting.history (WARNING)>\n",
      "    __email__ = 'midnighter@posteo.net'\n",
      "    absolute_import = _Feature((2, 5, 0, 'alpha', 1), (3, 0, 0, 'alpha', 0...\n",
      "\n",
      "VERSION\n",
      "    0.15.0\n",
      "\n",
      "AUTHOR\n",
      "    Moritz E. Beber\n",
      "\n",
      "FILE\n",
      "    /home/codespace/.python/current/lib/python3.10/site-packages/memote/__init__.py\n",
      "\n",
      "\n"
     ]
    }
   ],
   "source": [
    "help(memote)\n"
   ]
  },
  {
   "cell_type": "code",
   "execution_count": null,
   "metadata": {},
   "outputs": [],
   "source": []
  }
 ],
 "metadata": {
  "kernelspec": {
   "display_name": "Python 3 (ipykernel)",
   "language": "python",
   "name": "python3"
  },
  "language_info": {
   "codemirror_mode": {
    "name": "ipython",
    "version": 3
   },
   "file_extension": ".py",
   "mimetype": "text/x-python",
   "name": "python",
   "nbconvert_exporter": "python",
   "pygments_lexer": "ipython3",
   "version": "3.10.8"
  }
 },
 "nbformat": 4,
 "nbformat_minor": 5
}
