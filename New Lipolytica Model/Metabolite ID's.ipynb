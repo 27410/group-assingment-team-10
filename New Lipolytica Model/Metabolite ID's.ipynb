{
 "cells": [
  {
   "cell_type": "markdown",
   "id": "7e420218-4599-46c8-b92a-d9167c188488",
   "metadata": {},
   "source": [
    "Metabolite names:\n",
    "\n",
    "CO2 = M_co2_c\n",
    "\n",
    "H2O = M_h2o_c\n",
    "\n",
    "H+ = M_H_c\n",
    "\n",
    "Malonyl-coa = M_malcoa_c\n",
    "\n",
    "NADPH = M_nadph_c\n",
    "\n",
    "NADP(+) = M_nadp_m\n",
    "\n",
    "Coenzyme A (CoA) = M_coa_c\n",
    "\n",
    "Oxygen = M_o2_c\n",
    "\n",
    "D-glucose = M_glc_D_c"
   ]
  },
  {
   "cell_type": "code",
   "execution_count": 2,
   "metadata": {},
   "outputs": [
    {
     "name": "stderr",
     "output_type": "stream",
     "text": [
      "No objective coefficients in model. Unclear what should be optimized\n"
     ]
    },
    {
     "data": {
      "text/html": [
       "\n",
       "        <table>\n",
       "            <tr>\n",
       "                <td><strong>Metabolite identifier</strong></td><td>glc_D_e</td>\n",
       "            </tr><tr>\n",
       "                <td><strong>Name</strong></td><td>M_D_Glucose_C6H12O6</td>\n",
       "            </tr><tr>\n",
       "                <td><strong>Memory address</strong></td>\n",
       "                <td>0x7fac1f56dab0</td>\n",
       "            </tr><tr>\n",
       "                <td><strong>Formula</strong></td><td>C6H12O6</td>\n",
       "            </tr><tr>\n",
       "                <td><strong>Compartment</strong></td><td>Extra_organism</td>\n",
       "            </tr><tr>\n",
       "                <td><strong>In 3 reaction(s)</strong></td><td>\n",
       "                    GLCt1, EX_glc_e_, 13BGHe\n",
       "                    </td>\n",
       "            </tr>\n",
       "        </table>"
      ],
      "text/plain": [
       "<Metabolite glc_D_e at 0x7fac1f56dab0>"
      ]
     },
     "execution_count": 2,
     "metadata": {},
     "output_type": "execute_result"
    }
   ],
   "source": [
    "from cobra.io import read_sbml_model\n",
    "from cobra.io import write_sbml_model\n",
    "from cobra import Reaction,Metabolite\n",
    "\n",
    "model = read_sbml_model('Kavscek2015_mod.xml')\n",
    "model.metabolites.get_by_id('glc_D_e')"
   ]
  },
  {
   "cell_type": "code",
   "execution_count": 3,
   "id": "e8880237-2bc0-4fc7-8758-6981fcfe0ed1",
   "metadata": {},
   "outputs": [
    {
     "ename": "AttributeError",
     "evalue": "'Metabolite' object has no attribute 'fbc'",
     "output_type": "error",
     "traceback": [
      "\u001b[0;31m---------------------------------------------------------------------------\u001b[0m",
      "\u001b[0;31mAttributeError\u001b[0m                            Traceback (most recent call last)",
      "\u001b[1;32m/workspaces/group-assingment-team-10/Modify_model/Metabolite ID's.ipynb Zelle 3\u001b[0m line \u001b[0;36m5\n\u001b[1;32m      <a href='vscode-notebook-cell://codespaces%2Bbug-free-funicular-r4gwj775xxwwh5vqq/workspaces/group-assingment-team-10/Modify_model/Metabolite%20ID%27s.ipynb#W1sdnNjb2RlLXJlbW90ZQ%3D%3D?line=2'>3</a>\u001b[0m \u001b[39m# Iterate through the metabolites in the model\u001b[39;00m\n\u001b[1;32m      <a href='vscode-notebook-cell://codespaces%2Bbug-free-funicular-r4gwj775xxwwh5vqq/workspaces/group-assingment-team-10/Modify_model/Metabolite%20ID%27s.ipynb#W1sdnNjb2RlLXJlbW90ZQ%3D%3D?line=3'>4</a>\u001b[0m \u001b[39mfor\u001b[39;00m metabolite \u001b[39min\u001b[39;00m model\u001b[39m.\u001b[39mmetabolites:\n\u001b[0;32m----> <a href='vscode-notebook-cell://codespaces%2Bbug-free-funicular-r4gwj775xxwwh5vqq/workspaces/group-assingment-team-10/Modify_model/Metabolite%20ID%27s.ipynb#W1sdnNjb2RlLXJlbW90ZQ%3D%3D?line=4'>5</a>\u001b[0m     \u001b[39mif\u001b[39;00m {metabolite\u001b[39m.\u001b[39;49mfbc:chemicalFormula} \u001b[39m==\u001b[39m target_metabolite_formula:\n\u001b[1;32m      <a href='vscode-notebook-cell://codespaces%2Bbug-free-funicular-r4gwj775xxwwh5vqq/workspaces/group-assingment-team-10/Modify_model/Metabolite%20ID%27s.ipynb#W1sdnNjb2RlLXJlbW90ZQ%3D%3D?line=5'>6</a>\u001b[0m         \u001b[39m# Found the metabolite by name\u001b[39;00m\n\u001b[1;32m      <a href='vscode-notebook-cell://codespaces%2Bbug-free-funicular-r4gwj775xxwwh5vqq/workspaces/group-assingment-team-10/Modify_model/Metabolite%20ID%27s.ipynb#W1sdnNjb2RlLXJlbW90ZQ%3D%3D?line=6'>7</a>\u001b[0m         \u001b[39mprint\u001b[39m(\u001b[39mf\u001b[39m\u001b[39m\"\u001b[39m\u001b[39mMetabolite found: \u001b[39m\u001b[39m{\u001b[39;00mmetabolite\u001b[39m}\u001b[39;00m\u001b[39m\"\u001b[39m)\n\u001b[1;32m      <a href='vscode-notebook-cell://codespaces%2Bbug-free-funicular-r4gwj775xxwwh5vqq/workspaces/group-assingment-team-10/Modify_model/Metabolite%20ID%27s.ipynb#W1sdnNjb2RlLXJlbW90ZQ%3D%3D?line=7'>8</a>\u001b[0m         \u001b[39mbreak\u001b[39;00m\n",
      "\u001b[0;31mAttributeError\u001b[0m: 'Metabolite' object has no attribute 'fbc'"
     ]
    }
   ],
   "source": [
    "target_metabolite_formula = \"CO2\"\n",
    "\n",
    "# Iterate through the metabolites in the model\n",
    "for metabolite in model.metabolites:\n",
    "    if {metabolite.fbc:chemicalFormula} == target_metabolite_formula:\n",
    "        # Found the metabolite by name\n",
    "        print(f\"Metabolite found: {metabolite}\")\n",
    "        break\n",
    "else:\n",
    "    # Metabolite not found\n",
    "    print(f\"Metabolite with name '{target_metabolite_name}' not found in the model.\")"
   ]
  },
  {
   "cell_type": "code",
   "execution_count": null,
   "id": "55a8f22c-f3dd-4c43-8dff-2f648c63af67",
   "metadata": {},
   "outputs": [],
   "source": []
  }
 ],
 "metadata": {
  "kernelspec": {
   "display_name": "Python 3 (ipykernel)",
   "language": "python",
   "name": "python3"
  },
  "language_info": {
   "codemirror_mode": {
    "name": "ipython",
    "version": 3
   },
   "file_extension": ".py",
   "mimetype": "text/x-python",
   "name": "python",
   "nbconvert_exporter": "python",
   "pygments_lexer": "ipython3",
   "version": "3.10.8"
  }
 },
 "nbformat": 4,
 "nbformat_minor": 5
}
