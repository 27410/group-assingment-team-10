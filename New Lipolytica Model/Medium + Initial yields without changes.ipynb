{
 "cells": [
  {
   "cell_type": "code",
   "execution_count": 1,
   "id": "63e7a57e-2d56-4daa-94d3-576e6b504176",
   "metadata": {},
   "outputs": [
    {
     "name": "stderr",
     "output_type": "stream",
     "text": [
      "No objective coefficients in model. Unclear what should be optimized\n"
     ]
    }
   ],
   "source": [
    "%run Heterologous_insert.ipynb"
   ]
  },
  {
   "cell_type": "code",
   "execution_count": 2,
   "id": "c55781e6-4443-4572-9b04-4e33aab712c1",
   "metadata": {},
   "outputs": [
    {
     "data": {
      "text/plain": [
       "{'Cytosol': '',\n",
       " 'Mitochondria': '',\n",
       " 'Extra_organism': '',\n",
       " 'Nucleus': '',\n",
       " 'Peroxisome': '',\n",
       " 'Endoplasmic_Reticulum': '',\n",
       " 'Golgi_Apparatus': '',\n",
       " 'Vacuole': '',\n",
       " 'c': 'Cytosol'}"
      ]
     },
     "execution_count": 2,
     "metadata": {},
     "output_type": "execute_result"
    }
   ],
   "source": [
    "model.compartments"
   ]
  },
  {
   "cell_type": "code",
   "execution_count": 2,
   "id": "b5b97861-38c2-43f2-82de-d5738f435b25",
   "metadata": {},
   "outputs": [
    {
     "name": "stderr",
     "output_type": "stream",
     "text": [
      "Could not identify an external compartment by name and choosing one with the most boundary reactions. That might be complete nonsense or change suddenly. Consider renaming your compartments using `Model.compartments` to fix this.\n",
      "/usr/local/python/3.10.8/lib/python3.10/site-packages/cobra/medium/boundary_types.py:97: FutureWarning: Series.__getitem__ treating keys as positions is deprecated. In a future version, integer keys will always be treated as labels (consistent with DataFrame behavior). To access a value by position, use `ser.iloc[pos]`\n",
      "  return most[0]\n"
     ]
    },
    {
     "data": {
      "text/plain": [
       "{'EX_alc_b': 1000.0,\n",
       " 'EX_accoa_b': 1000.0,\n",
       " 'EX_ddecanol_b': 1000.0,\n",
       " 'EX_ddecanal_b': 1000.0,\n",
       " 'EX_ddca_b': 1000.0,\n",
       " 'EX_pmtcoa_b': 1000.0,\n",
       " 'EX_13BDglcn_b': 1000.0,\n",
       " 'EX_4abut_b': 1000.0,\n",
       " 'EX_5aop_b': 1000.0,\n",
       " 'EX_8aonn_b': 1000.0,\n",
       " 'EX_abt_b': 1000.0,\n",
       " 'EX_ac_b': 1000.0,\n",
       " 'EX_acald_b': 1000.0,\n",
       " 'EX_ade_b': 1000.0,\n",
       " 'EX_adn_b': 1000.0,\n",
       " 'EX_akg_b': 1000.0,\n",
       " 'EX_ala_L_b': 1000.0,\n",
       " 'EX_alltn_b': 1000.0,\n",
       " 'EX_alltt_b': 1000.0,\n",
       " 'EX_amet_b': 1000.0,\n",
       " 'EX_arab_D_b': 1000.0,\n",
       " 'EX_arab_L_b': 1000.0,\n",
       " 'EX_arg_L_b': 1000.0,\n",
       " 'EX_asn_L_b': 1000.0,\n",
       " 'EX_asp_L_b': 1000.0,\n",
       " 'EX_btn_b': 1000.0,\n",
       " 'EX_chol_b': 1000.0,\n",
       " 'EX_cit_b': 1000.0,\n",
       " 'EX_co2_b': 1000.0,\n",
       " 'EX_crn_b': 1000.0,\n",
       " 'EX_csn_b': 1000.0,\n",
       " 'EX_cys_L_b': 1000.0,\n",
       " 'EX_cytd_b': 1000.0,\n",
       " 'EX_dad_2_b': 1000.0,\n",
       " 'EX_dann_b': 1000.0,\n",
       " 'EX_dcyt_b': 1000.0,\n",
       " 'EX_dgsn_b': 1000.0,\n",
       " 'EX_din_b': 1000.0,\n",
       " 'EX_dttp_b': 1000.0,\n",
       " 'EX_duri_b': 1000.0,\n",
       " 'EX_ergst_b': 1000.0,\n",
       " 'EX_etoh_b': 1000.0,\n",
       " 'EX_fmn_b': 1000.0,\n",
       " 'EX_for_b': 1000.0,\n",
       " 'EX_fru_b': 1000.0,\n",
       " 'EX_fum_b': 1000.0,\n",
       " 'EX_gal_b': 1000.0,\n",
       " 'EX_gam6p_b': 1000.0,\n",
       " 'EX_gcald_b': 1000.0,\n",
       " 'EX_glc_D_b': 1000.0,\n",
       " 'EX_gln_L_b': 1000.0,\n",
       " 'EX_glu_L_b': 1000.0,\n",
       " 'EX_gly_b': 1000.0,\n",
       " 'EX_glyc_b': 1000.0,\n",
       " 'EX_gsn_b': 1000.0,\n",
       " 'EX_gthox_b': 1000.0,\n",
       " 'EX_gua_b': 1000.0,\n",
       " 'EX_h2o_b': 1000.0,\n",
       " 'EX_h_b': 1000.0,\n",
       " 'EX_hdca_b': 1000.0,\n",
       " 'EX_hdcea_b': 1000.0,\n",
       " 'EX_his_L_b': 1000.0,\n",
       " 'EX_hxan_b': 1000.0,\n",
       " 'EX_ile_L_b': 1000.0,\n",
       " 'EX_inost_b': 1000.0,\n",
       " 'EX_ins_b': 1000.0,\n",
       " 'EX_k_b': 1000.0,\n",
       " 'EX_lac_L_b': 1000.0,\n",
       " 'EX_leu_L_b': 1000.0,\n",
       " 'EX_lys_L_b': 1000.0,\n",
       " 'EX_mal_L_b': 1000.0,\n",
       " 'EX_malt_b': 1000.0,\n",
       " 'EX_man_b': 1000.0,\n",
       " 'EX_melib_b': 1000.0,\n",
       " 'EX_met_L_b': 1000.0,\n",
       " 'EX_mmet_b': 1000.0,\n",
       " 'EX_na1_b': 1000.0,\n",
       " 'EX_nh4_b': 1000.0,\n",
       " 'EX_nmn_b': 1000.0,\n",
       " 'EX_o2_b': 1000.0,\n",
       " 'EX_ocdca_b': 1000.0,\n",
       " 'EX_ocdcea_b': 1000.0,\n",
       " 'EX_ocdcya_b': 1000.0,\n",
       " 'EX_orn_b': 1000.0,\n",
       " 'EX_pap_b': 1000.0,\n",
       " 'EX_pepd_b': 1000.0,\n",
       " 'EX_phe_L_b': 1000.0,\n",
       " 'EX_pi_b': 1000.0,\n",
       " 'EX_pnto_R_b': 1000.0,\n",
       " 'EX_pro_L_b': 1000.0,\n",
       " 'EX_ptrc_b': 1000.0,\n",
       " 'EX_pyr_b': 1000.0,\n",
       " 'EX_rib_D_b': 1000.0,\n",
       " 'EX_ribflv_b': 1000.0,\n",
       " 'EX_sbt_D_b': 1000.0,\n",
       " 'EX_sbt_L_b': 1000.0,\n",
       " 'EX_ser_L_b': 1000.0,\n",
       " 'EX_so4_b': 1000.0,\n",
       " 'EX_spmd_b': 1000.0,\n",
       " 'EX_sprm_b': 1000.0,\n",
       " 'EX_srb_L_b': 1000.0,\n",
       " 'EX_succ_b': 1000.0,\n",
       " 'EX_sucr_b': 1000.0,\n",
       " 'EX_thm_b': 1000.0,\n",
       " 'EX_thmmp_b': 1000.0,\n",
       " 'EX_thmpp_b': 1000.0,\n",
       " 'EX_thr_L_b': 1000.0,\n",
       " 'EX_thym_b': 1000.0,\n",
       " 'EX_thymd_b': 1000.0,\n",
       " 'EX_tre_b': 1000.0,\n",
       " 'EX_trp_L_b': 1000.0,\n",
       " 'EX_ttdca_b': 1000.0,\n",
       " 'EX_tyr_L_b': 1000.0,\n",
       " 'EX_ura_b': 1000.0,\n",
       " 'EX_urea_b': 1000.0,\n",
       " 'EX_uri_b': 1000.0,\n",
       " 'EX_val_L_b': 1000.0,\n",
       " 'EX_xan_b': 1000.0,\n",
       " 'EX_xtsn_b': 1000.0,\n",
       " 'EX_xyl_D_b': 1000.0,\n",
       " 'EX_xylt_b': 1000.0,\n",
       " 'EX_zymst_b': 1000.0,\n",
       " 'EX_LDparticle_SC_e_b': 1000.0,\n",
       " 'EX_hxdcal_b': 1000.0,\n",
       " 'EX_hca_b': 1000.0,\n",
       " 'EX_buca_b': 1000.0,\n",
       " 'EX_triglyc_SC_b': 1000.0}"
      ]
     },
     "execution_count": 2,
     "metadata": {},
     "output_type": "execute_result"
    }
   ],
   "source": [
    "model.medium"
   ]
  },
  {
   "cell_type": "markdown",
   "id": "48358818-c955-4d7f-a672-bd5accd046bb",
   "metadata": {},
   "source": [
    "### Change medium?"
   ]
  },
  {
   "cell_type": "code",
   "execution_count": 10,
   "id": "26bfcd4b-24bf-46ff-82ba-1701b6e1f5c2",
   "metadata": {},
   "outputs": [
    {
     "name": "stderr",
     "output_type": "stream",
     "text": [
      "Could not identify an external compartment by name and choosing one with the most boundary reactions. That might be complete nonsense or change suddenly. Consider renaming your compartments using `Model.compartments` to fix this.\n",
      "/usr/local/python/3.10.8/lib/python3.10/site-packages/cobra/medium/boundary_types.py:97: FutureWarning: Series.__getitem__ treating keys as positions is deprecated. In a future version, integer keys will always be treated as labels (consistent with DataFrame behavior). To access a value by position, use `ser.iloc[pos]`\n",
      "  return most[0]\n",
      "Could not identify an external compartment by name and choosing one with the most boundary reactions. That might be complete nonsense or change suddenly. Consider renaming your compartments using `Model.compartments` to fix this.\n",
      "/usr/local/python/3.10.8/lib/python3.10/site-packages/cobra/medium/boundary_types.py:97: FutureWarning: Series.__getitem__ treating keys as positions is deprecated. In a future version, integer keys will always be treated as labels (consistent with DataFrame behavior). To access a value by position, use `ser.iloc[pos]`\n",
      "  return most[0]\n"
     ]
    },
    {
     "data": {
      "text/plain": [
       "{'EX_alc_b': 1000.0,\n",
       " 'EX_accoa_b': 1000.0,\n",
       " 'EX_ddecanol_b': 1000.0,\n",
       " 'EX_ddecanal_b': 1000.0,\n",
       " 'EX_ddca_b': 1000.0,\n",
       " 'EX_pmtcoa_b': 1000.0,\n",
       " 'EX_13BDglcn_b': 1000.0,\n",
       " 'EX_4abut_b': 1000.0,\n",
       " 'EX_5aop_b': 1000.0,\n",
       " 'EX_8aonn_b': 1000.0,\n",
       " 'EX_abt_b': 1000.0,\n",
       " 'EX_ac_b': 1000.0,\n",
       " 'EX_acald_b': 1000.0,\n",
       " 'EX_ade_b': 1000.0,\n",
       " 'EX_adn_b': 1000.0,\n",
       " 'EX_akg_b': 1000.0,\n",
       " 'EX_ala_L_b': 1000.0,\n",
       " 'EX_alltn_b': 1000.0,\n",
       " 'EX_alltt_b': 1000.0,\n",
       " 'EX_amet_b': 1000.0,\n",
       " 'EX_arab_D_b': 1000.0,\n",
       " 'EX_arab_L_b': 1000.0,\n",
       " 'EX_arg_L_b': 1000.0,\n",
       " 'EX_asn_L_b': 1000.0,\n",
       " 'EX_asp_L_b': 1000.0,\n",
       " 'EX_btn_b': 1000.0,\n",
       " 'EX_chol_b': 1000.0,\n",
       " 'EX_cit_b': 1000.0,\n",
       " 'EX_co2_b': 1000.0,\n",
       " 'EX_crn_b': 1000.0,\n",
       " 'EX_csn_b': 1000.0,\n",
       " 'EX_cys_L_b': 1000.0,\n",
       " 'EX_cytd_b': 1000.0,\n",
       " 'EX_dad_2_b': 1000.0,\n",
       " 'EX_dann_b': 1000.0,\n",
       " 'EX_dcyt_b': 1000.0,\n",
       " 'EX_dgsn_b': 1000.0,\n",
       " 'EX_din_b': 1000.0,\n",
       " 'EX_dttp_b': 1000.0,\n",
       " 'EX_duri_b': 1000.0,\n",
       " 'EX_ergst_b': 1000.0,\n",
       " 'EX_etoh_b': 1000.0,\n",
       " 'EX_fmn_b': 1000.0,\n",
       " 'EX_for_b': 1000.0,\n",
       " 'EX_fru_b': 1000.0,\n",
       " 'EX_fum_b': 1000.0,\n",
       " 'EX_gal_b': 1000.0,\n",
       " 'EX_gam6p_b': 1000.0,\n",
       " 'EX_gcald_b': 1000.0,\n",
       " 'EX_glc_D_b': 0,\n",
       " 'EX_gln_L_b': 1000.0,\n",
       " 'EX_glu_L_b': 1000.0,\n",
       " 'EX_gly_b': 1000.0,\n",
       " 'EX_glyc_b': 1000.0,\n",
       " 'EX_gsn_b': 1000.0,\n",
       " 'EX_gthox_b': 1000.0,\n",
       " 'EX_gua_b': 1000.0,\n",
       " 'EX_h2o_b': 1000.0,\n",
       " 'EX_h_b': 1000.0,\n",
       " 'EX_hdca_b': 1000.0,\n",
       " 'EX_hdcea_b': 1000.0,\n",
       " 'EX_his_L_b': 1000.0,\n",
       " 'EX_hxan_b': 1000.0,\n",
       " 'EX_ile_L_b': 1000.0,\n",
       " 'EX_inost_b': 1000.0,\n",
       " 'EX_ins_b': 1000.0,\n",
       " 'EX_k_b': 1000.0,\n",
       " 'EX_lac_L_b': 1000.0,\n",
       " 'EX_leu_L_b': 1000.0,\n",
       " 'EX_lys_L_b': 1000.0,\n",
       " 'EX_mal_L_b': 1000.0,\n",
       " 'EX_malt_b': 1000.0,\n",
       " 'EX_man_b': 1000.0,\n",
       " 'EX_melib_b': 1000.0,\n",
       " 'EX_met_L_b': 1000.0,\n",
       " 'EX_mmet_b': 1000.0,\n",
       " 'EX_na1_b': 1000.0,\n",
       " 'EX_nh4_b': 1000.0,\n",
       " 'EX_nmn_b': 1000.0,\n",
       " 'EX_o2_b': 1000.0,\n",
       " 'EX_ocdca_b': 1000.0,\n",
       " 'EX_ocdcea_b': 1000.0,\n",
       " 'EX_ocdcya_b': 1000.0,\n",
       " 'EX_orn_b': 1000.0,\n",
       " 'EX_pap_b': 1000.0,\n",
       " 'EX_pepd_b': 1000.0,\n",
       " 'EX_phe_L_b': 1000.0,\n",
       " 'EX_pi_b': 1000.0,\n",
       " 'EX_pnto_R_b': 1000.0,\n",
       " 'EX_pro_L_b': 1000.0,\n",
       " 'EX_ptrc_b': 1000.0,\n",
       " 'EX_pyr_b': 1000.0,\n",
       " 'EX_rib_D_b': 1000.0,\n",
       " 'EX_ribflv_b': 1000.0,\n",
       " 'EX_sbt_D_b': 1000.0,\n",
       " 'EX_sbt_L_b': 1000.0,\n",
       " 'EX_ser_L_b': 1000.0,\n",
       " 'EX_so4_b': 1000.0,\n",
       " 'EX_spmd_b': 1000.0,\n",
       " 'EX_sprm_b': 1000.0,\n",
       " 'EX_srb_L_b': 1000.0,\n",
       " 'EX_succ_b': 10,\n",
       " 'EX_sucr_b': 1000.0,\n",
       " 'EX_thm_b': 1000.0,\n",
       " 'EX_thmmp_b': 1000.0,\n",
       " 'EX_thmpp_b': 1000.0,\n",
       " 'EX_thr_L_b': 1000.0,\n",
       " 'EX_thym_b': 1000.0,\n",
       " 'EX_thymd_b': 1000.0,\n",
       " 'EX_tre_b': 1000.0,\n",
       " 'EX_trp_L_b': 1000.0,\n",
       " 'EX_ttdca_b': 1000.0,\n",
       " 'EX_tyr_L_b': 1000.0,\n",
       " 'EX_ura_b': 1000.0,\n",
       " 'EX_urea_b': 1000.0,\n",
       " 'EX_uri_b': 1000.0,\n",
       " 'EX_val_L_b': 1000.0,\n",
       " 'EX_xan_b': 1000.0,\n",
       " 'EX_xtsn_b': 1000.0,\n",
       " 'EX_xyl_D_b': 1000.0,\n",
       " 'EX_xylt_b': 1000.0,\n",
       " 'EX_zymst_b': 1000.0,\n",
       " 'EX_LDparticle_SC_e_b': 1000.0,\n",
       " 'EX_hxdcal_b': 1000.0,\n",
       " 'EX_hca_b': 1000.0,\n",
       " 'EX_buca_b': 1000.0,\n",
       " 'EX_triglyc_SC_b': 1000.0}"
      ]
     },
     "execution_count": 10,
     "metadata": {},
     "output_type": "execute_result"
    }
   ],
   "source": [
    "medium = model.medium\n",
    "with model:\n",
    "    medium['EX_glc_D_b'] = 0\n",
    "    medium['EX_succ_b'] = 10\n",
    "    model.medium = medium\n",
    "\n",
    "medium\n"
   ]
  },
  {
   "cell_type": "markdown",
   "id": "9ced8505-ce4d-4ae0-96e2-fc22cb4072e5",
   "metadata": {},
   "source": [
    "Not sure if we want to change the medium of growth - but here's a list\n",
    "\n",
    "### INSTEAD - Go check the metabolic activity "
   ]
  },
  {
   "cell_type": "code",
   "execution_count": 3,
   "id": "3be08bd6-e610-44f6-a08c-fecdcfb60503",
   "metadata": {},
   "outputs": [],
   "source": [
    "model.objective = model.reactions.DM_Eicosapentaenoic_Acid"
   ]
  },
  {
   "cell_type": "code",
   "execution_count": 4,
   "id": "8a2f8327-26d8-4f4b-bca5-3507efdae323",
   "metadata": {},
   "outputs": [
    {
     "name": "stdout",
     "output_type": "stream",
     "text": [
      "Maximum productivity = 0.0 mmol/gDW*h\n"
     ]
    },
    {
     "name": "stderr",
     "output_type": "stream",
     "text": [
      "/usr/local/python/3.10.8/lib/python3.10/site-packages/cobra/util/solver.py:554: UserWarning: Solver status is 'infeasible'.\n",
      "  warn(f\"Solver status is '{status}'.\", UserWarning)\n"
     ]
    }
   ],
   "source": [
    "EPA_production = model.optimize().objective_value\n",
    "print('Maximum productivity =', EPA_production, 'mmol/gDW*h')"
   ]
  },
  {
   "cell_type": "code",
   "execution_count": 11,
   "id": "7b01148f-0f1d-435f-ac63-082d05de757d",
   "metadata": {},
   "outputs": [
    {
     "ename": "ZeroDivisionError",
     "evalue": "float division by zero",
     "output_type": "error",
     "traceback": [
      "\u001b[0;31m---------------------------------------------------------------------------\u001b[0m",
      "\u001b[0;31mZeroDivisionError\u001b[0m                         Traceback (most recent call last)",
      "\u001b[1;32m/workspaces/group-assingment-team-10/Modify_model/Medium + Initial yields without changes.ipynb Zelle 7\u001b[0m line \u001b[0;36m1\n\u001b[0;32m----> <a href='vscode-notebook-cell://codespaces%2Bbug-free-funicular-r4gwj775xxwwh5vqq/workspaces/group-assingment-team-10/Modify_model/Medium%20%2B%20Initial%20yields%20without%20changes.ipynb#W6sdnNjb2RlLXJlbW90ZQ%3D%3D?line=0'>1</a>\u001b[0m maximum_yield \u001b[39m=\u001b[39m EPA_production \u001b[39m/\u001b[39;49m (\u001b[39m-\u001b[39;49m\u001b[39m1\u001b[39;49m\u001b[39m*\u001b[39;49m(model\u001b[39m.\u001b[39;49mreactions\u001b[39m.\u001b[39;49mget_by_id(\u001b[39m'\u001b[39;49m\u001b[39mGLCt1\u001b[39;49m\u001b[39m'\u001b[39;49m)\u001b[39m.\u001b[39;49mflux))\n\u001b[1;32m      <a href='vscode-notebook-cell://codespaces%2Bbug-free-funicular-r4gwj775xxwwh5vqq/workspaces/group-assingment-team-10/Modify_model/Medium%20%2B%20Initial%20yields%20without%20changes.ipynb#W6sdnNjb2RlLXJlbW90ZQ%3D%3D?line=1'>2</a>\u001b[0m \u001b[39mprint\u001b[39m(\u001b[39m'\u001b[39m\u001b[39mMaximum theoretical yield =\u001b[39m\u001b[39m'\u001b[39m, maximum_yield, \u001b[39m'\u001b[39m\u001b[39mmmol-EPA/mmol-glc\u001b[39m\u001b[39m'\u001b[39m)\n",
      "\u001b[0;31mZeroDivisionError\u001b[0m: float division by zero"
     ]
    }
   ],
   "source": [
    "   \n",
    "maximum_yield = EPA_production / (-1*(model.reactions.get_by_id('GLCt1').flux))\n",
    "print('Maximum theoretical yield =', maximum_yield, 'mmol-EPA/mmol-glc')"
   ]
  }
 ],
 "metadata": {
  "kernelspec": {
   "display_name": "Python 3 (ipykernel)",
   "language": "python",
   "name": "python3"
  },
  "language_info": {
   "codemirror_mode": {
    "name": "ipython",
    "version": 3
   },
   "file_extension": ".py",
   "mimetype": "text/x-python",
   "name": "python",
   "nbconvert_exporter": "python",
   "pygments_lexer": "ipython3",
   "version": "3.10.8"
  }
 },
 "nbformat": 4,
 "nbformat_minor": 5
}
