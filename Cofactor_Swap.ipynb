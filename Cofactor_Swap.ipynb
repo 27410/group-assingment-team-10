{
 "cells": [
  {
   "cell_type": "code",
   "execution_count": 1,
   "id": "02d02411-8c76-4d11-be8e-cd709962483d",
   "metadata": {
    "collapsed": true,
    "jupyter": {
     "outputs_hidden": true
    }
   },
   "outputs": [
    {
     "name": "stdout",
     "output_type": "stream",
     "text": [
      "Requirement already satisfied: cobra==0.20.0 in c:\\users\\willi\\anaconda3\\envs\\python3_7_16\\lib\\site-packages (0.20.0)\n",
      "Requirement already satisfied: appdirs~=1.4 in c:\\users\\willi\\anaconda3\\envs\\python3_7_16\\lib\\site-packages (from cobra==0.20.0) (1.4.4)\n",
      "Requirement already satisfied: depinfo in c:\\users\\willi\\anaconda3\\envs\\python3_7_16\\lib\\site-packages (from cobra==0.20.0) (2.2.0)\n",
      "Requirement already satisfied: diskcache~=5.0 in c:\\users\\willi\\anaconda3\\envs\\python3_7_16\\lib\\site-packages (from cobra==0.20.0) (5.6.3)\n",
      "Requirement already satisfied: future in c:\\users\\willi\\anaconda3\\envs\\python3_7_16\\lib\\site-packages (from cobra==0.20.0) (0.18.3)\n",
      "Requirement already satisfied: httpx~=0.14 in c:\\users\\willi\\anaconda3\\envs\\python3_7_16\\lib\\site-packages (from cobra==0.20.0) (0.24.1)\n",
      "Requirement already satisfied: importlib-resources in c:\\users\\willi\\anaconda3\\envs\\python3_7_16\\lib\\site-packages (from cobra==0.20.0) (5.12.0)\n",
      "Requirement already satisfied: numpy~=1.13 in c:\\users\\willi\\anaconda3\\envs\\python3_7_16\\lib\\site-packages (from cobra==0.20.0) (1.21.6)\n",
      "Requirement already satisfied: optlang<1.4.6 in c:\\users\\willi\\anaconda3\\envs\\python3_7_16\\lib\\site-packages (from cobra==0.20.0) (1.4.4)\n",
      "Requirement already satisfied: pandas~=1.0 in c:\\users\\willi\\anaconda3\\envs\\python3_7_16\\lib\\site-packages (from cobra==0.20.0) (1.3.5)\n",
      "Requirement already satisfied: pydantic~=1.6 in c:\\users\\willi\\anaconda3\\envs\\python3_7_16\\lib\\site-packages (from cobra==0.20.0) (1.9.2)\n",
      "Requirement already satisfied: python-libsbml-experimental==5.18.3 in c:\\users\\willi\\anaconda3\\envs\\python3_7_16\\lib\\site-packages (from cobra==0.20.0) (5.18.3)\n",
      "Requirement already satisfied: rich~=6.0 in c:\\users\\willi\\anaconda3\\envs\\python3_7_16\\lib\\site-packages (from cobra==0.20.0) (6.2.0)\n",
      "Requirement already satisfied: ruamel.yaml~=0.16 in c:\\users\\willi\\anaconda3\\envs\\python3_7_16\\lib\\site-packages (from cobra==0.20.0) (0.18.5)\n",
      "Requirement already satisfied: six in c:\\users\\willi\\anaconda3\\envs\\python3_7_16\\lib\\site-packages (from cobra==0.20.0) (1.16.0)\n",
      "Requirement already satisfied: swiglpk in c:\\users\\willi\\anaconda3\\envs\\python3_7_16\\lib\\site-packages (from cobra==0.20.0) (5.0.10)\n",
      "Requirement already satisfied: certifi in c:\\users\\willi\\anaconda3\\envs\\python3_7_16\\lib\\site-packages (from httpx~=0.14->cobra==0.20.0) (2023.11.17)\n",
      "Requirement already satisfied: httpcore<0.18.0,>=0.15.0 in c:\\users\\willi\\anaconda3\\envs\\python3_7_16\\lib\\site-packages (from httpx~=0.14->cobra==0.20.0) (0.17.3)\n",
      "Requirement already satisfied: idna in c:\\users\\willi\\anaconda3\\envs\\python3_7_16\\lib\\site-packages (from httpx~=0.14->cobra==0.20.0) (3.6)\n",
      "Requirement already satisfied: sniffio in c:\\users\\willi\\anaconda3\\envs\\python3_7_16\\lib\\site-packages (from httpx~=0.14->cobra==0.20.0) (1.3.0)\n",
      "Requirement already satisfied: sympy>=1.0.0 in c:\\users\\willi\\anaconda3\\envs\\python3_7_16\\lib\\site-packages (from optlang<1.4.6->cobra==0.20.0) (1.10.1)\n",
      "Requirement already satisfied: python-dateutil>=2.7.3 in c:\\users\\willi\\anaconda3\\envs\\python3_7_16\\lib\\site-packages (from pandas~=1.0->cobra==0.20.0) (2.8.2)\n",
      "Requirement already satisfied: pytz>=2017.3 in c:\\users\\willi\\anaconda3\\envs\\python3_7_16\\lib\\site-packages (from pandas~=1.0->cobra==0.20.0) (2023.3.post1)\n",
      "Requirement already satisfied: typing-extensions>=3.7.4.3 in c:\\users\\willi\\anaconda3\\envs\\python3_7_16\\lib\\site-packages (from pydantic~=1.6->cobra==0.20.0) (3.10.0.2)\n",
      "Requirement already satisfied: colorama<0.5.0,>=0.4.0 in c:\\users\\willi\\anaconda3\\envs\\python3_7_16\\lib\\site-packages (from rich~=6.0->cobra==0.20.0) (0.4.6)\n",
      "Requirement already satisfied: commonmark<0.10.0,>=0.9.0 in c:\\users\\willi\\anaconda3\\envs\\python3_7_16\\lib\\site-packages (from rich~=6.0->cobra==0.20.0) (0.9.1)\n",
      "Requirement already satisfied: pygments<3.0.0,>=2.6.0 in c:\\users\\willi\\anaconda3\\envs\\python3_7_16\\lib\\site-packages (from rich~=6.0->cobra==0.20.0) (2.17.2)\n",
      "Requirement already satisfied: ruamel.yaml.clib>=0.2.7 in c:\\users\\willi\\anaconda3\\envs\\python3_7_16\\lib\\site-packages (from ruamel.yaml~=0.16->cobra==0.20.0) (0.2.8)\n",
      "Requirement already satisfied: importlib-metadata in c:\\users\\willi\\anaconda3\\envs\\python3_7_16\\lib\\site-packages (from depinfo->cobra==0.20.0) (6.7.0)\n",
      "Requirement already satisfied: zipp>=3.1.0 in c:\\users\\willi\\anaconda3\\envs\\python3_7_16\\lib\\site-packages (from importlib-resources->cobra==0.20.0) (3.15.0)\n",
      "Requirement already satisfied: h11<0.15,>=0.13 in c:\\users\\willi\\anaconda3\\envs\\python3_7_16\\lib\\site-packages (from httpcore<0.18.0,>=0.15.0->httpx~=0.14->cobra==0.20.0) (0.14.0)\n",
      "Requirement already satisfied: anyio<5.0,>=3.0 in c:\\users\\willi\\anaconda3\\envs\\python3_7_16\\lib\\site-packages (from httpcore<0.18.0,>=0.15.0->httpx~=0.14->cobra==0.20.0) (3.7.1)\n",
      "Requirement already satisfied: mpmath>=0.19 in c:\\users\\willi\\anaconda3\\envs\\python3_7_16\\lib\\site-packages (from sympy>=1.0.0->optlang<1.4.6->cobra==0.20.0) (1.3.0)\n",
      "Requirement already satisfied: exceptiongroup in c:\\users\\willi\\anaconda3\\envs\\python3_7_16\\lib\\site-packages (from anyio<5.0,>=3.0->httpcore<0.18.0,>=0.15.0->httpx~=0.14->cobra==0.20.0) (1.2.0)\n",
      "Note: you may need to restart the kernel to use updated packages.\n"
     ]
    }
   ],
   "source": [
    "pip install cobra==0.20.0"
   ]
  },
  {
   "cell_type": "code",
   "execution_count": 2,
   "id": "9ec55f37-4802-4dfe-841a-713540bf7d59",
   "metadata": {},
   "outputs": [],
   "source": [
    "%run Scaffold_Y_lipo.ipynb"
   ]
  },
  {
   "cell_type": "code",
   "execution_count": 3,
   "id": "b9e97514-a398-4879-a182-73751d2385a3",
   "metadata": {},
   "outputs": [
    {
     "data": {
      "text/plain": [
       "{'EX_nh4_e': 1000,\n",
       " 'EX_o2_e': 1000,\n",
       " 'EX_pi_e': 1000,\n",
       " 'EX_so4_e': 1000,\n",
       " 'EX_glyc_e': 1000,\n",
       " 'EX_glc__D_e': 300,\n",
       " 'EX_h2o_e': 1000}"
      ]
     },
     "execution_count": 3,
     "metadata": {},
     "output_type": "execute_result"
    }
   ],
   "source": [
    "medium = model.medium\n",
    "\n",
    "medium['EX_so4_e'] = 1000\n",
    "medium['EX_pi_e'] = 1000\n",
    "medium['EX_o2_e'] = 1000\n",
    "medium['EX_nh4_e'] = 1000\n",
    "medium['EX_glc__D_e'] = 300\n",
    "medium['EX_h2o_e'] = 1000\n",
    "medium['EX_glyc_e'] = 1000\n",
    "\n",
    "model.medium = medium\n",
    "model.medium\n",
    "\n"
   ]
  },
  {
   "cell_type": "code",
   "execution_count": 4,
   "id": "ed73d28c-7de0-42ba-af61-d5accf5149bd",
   "metadata": {
    "scrolled": true
   },
   "outputs": [
    {
     "name": "stdout",
     "output_type": "stream",
     "text": [
      "Requirement already satisfied: cameo in c:\\users\\willi\\anaconda3\\envs\\python3_7_16\\lib\\site-packages (0.13.6)\n",
      "Requirement already satisfied: numpy>=1.9.1 in c:\\users\\willi\\anaconda3\\envs\\python3_7_16\\lib\\site-packages (from cameo) (1.21.6)\n",
      "Requirement already satisfied: scipy>=0.14.0 in c:\\users\\willi\\anaconda3\\envs\\python3_7_16\\lib\\site-packages (from cameo) (1.7.3)\n",
      "Requirement already satisfied: blessings>=1.5.1 in c:\\users\\willi\\anaconda3\\envs\\python3_7_16\\lib\\site-packages (from cameo) (1.7)\n",
      "Requirement already satisfied: pandas>=1.1.3 in c:\\users\\willi\\anaconda3\\envs\\python3_7_16\\lib\\site-packages (from cameo) (1.3.5)\n",
      "Note: you may need to restart the kernel to use updated packages.Requirement already satisfied: ordered-set>=1.2 in c:\\users\\willi\\anaconda3\\envs\\python3_7_16\\lib\\site-packages (from cameo) (4.1.0)\n",
      "\n",
      "Requirement already satisfied: cobra>=0.11.1 in c:\\users\\willi\\anaconda3\\envs\\python3_7_16\\lib\\site-packages (from cameo) (0.20.0)\n",
      "Requirement already satisfied: future>=0.15.2 in c:\\users\\willi\\anaconda3\\envs\\python3_7_16\\lib\\site-packages (from cameo) (0.18.3)\n",
      "Requirement already satisfied: optlang>=1.4.2 in c:\\users\\willi\\anaconda3\\envs\\python3_7_16\\lib\\site-packages (from cameo) (1.4.4)\n",
      "Requirement already satisfied: numexpr>=2.4 in c:\\users\\willi\\anaconda3\\envs\\python3_7_16\\lib\\site-packages (from cameo) (2.8.6)\n",
      "Requirement already satisfied: requests>=2.10.0 in c:\\users\\willi\\anaconda3\\envs\\python3_7_16\\lib\\site-packages (from cameo) (2.31.0)\n",
      "Requirement already satisfied: networkx>=2.4 in c:\\users\\willi\\anaconda3\\envs\\python3_7_16\\lib\\site-packages (from cameo) (2.6.3)\n",
      "Requirement already satisfied: escher>=1.1.2 in c:\\users\\willi\\anaconda3\\envs\\python3_7_16\\lib\\site-packages (from cameo) (1.7.3)\n",
      "Requirement already satisfied: IProgress>=0.4 in c:\\users\\willi\\anaconda3\\envs\\python3_7_16\\lib\\site-packages (from cameo) (0.4)\n",
      "Requirement already satisfied: inspyred>=1.0 in c:\\users\\willi\\anaconda3\\envs\\python3_7_16\\lib\\site-packages (from cameo) (1.0.2)\n",
      "Requirement already satisfied: lazy-object-proxy>=1.2.0 in c:\\users\\willi\\anaconda3\\envs\\python3_7_16\\lib\\site-packages (from cameo) (1.9.0)\n",
      "Requirement already satisfied: palettable>=2.1.1 in c:\\users\\willi\\anaconda3\\envs\\python3_7_16\\lib\\site-packages (from cameo) (3.3.3)\n",
      "Requirement already satisfied: gnomic==1.0.1 in c:\\users\\willi\\anaconda3\\envs\\python3_7_16\\lib\\site-packages (from cameo) (1.0.1)\n",
      "Requirement already satisfied: openpyxl>=2.4.5 in c:\\users\\willi\\anaconda3\\envs\\python3_7_16\\lib\\site-packages (from cameo) (3.1.2)\n",
      "Requirement already satisfied: click>=6.7 in c:\\users\\willi\\anaconda3\\envs\\python3_7_16\\lib\\site-packages (from cameo) (8.1.7)\n",
      "Requirement already satisfied: grako==3.18.1 in c:\\users\\willi\\anaconda3\\envs\\python3_7_16\\lib\\site-packages (from gnomic==1.0.1->cameo) (3.18.1)\n",
      "Requirement already satisfied: six>=1.8.0 in c:\\users\\willi\\anaconda3\\envs\\python3_7_16\\lib\\site-packages (from gnomic==1.0.1->cameo) (1.16.0)\n",
      "Requirement already satisfied: colorama in c:\\users\\willi\\anaconda3\\envs\\python3_7_16\\lib\\site-packages (from click>=6.7->cameo) (0.4.6)\n",
      "Requirement already satisfied: importlib-metadata in c:\\users\\willi\\anaconda3\\envs\\python3_7_16\\lib\\site-packages (from click>=6.7->cameo) (6.7.0)\n",
      "Requirement already satisfied: appdirs~=1.4 in c:\\users\\willi\\anaconda3\\envs\\python3_7_16\\lib\\site-packages (from cobra>=0.11.1->cameo) (1.4.4)\n",
      "Requirement already satisfied: depinfo in c:\\users\\willi\\anaconda3\\envs\\python3_7_16\\lib\\site-packages (from cobra>=0.11.1->cameo) (2.2.0)\n",
      "Requirement already satisfied: diskcache~=5.0 in c:\\users\\willi\\anaconda3\\envs\\python3_7_16\\lib\\site-packages (from cobra>=0.11.1->cameo) (5.6.3)\n",
      "Requirement already satisfied: httpx~=0.14 in c:\\users\\willi\\anaconda3\\envs\\python3_7_16\\lib\\site-packages (from cobra>=0.11.1->cameo) (0.24.1)\n",
      "Requirement already satisfied: importlib-resources in c:\\users\\willi\\anaconda3\\envs\\python3_7_16\\lib\\site-packages (from cobra>=0.11.1->cameo) (5.12.0)\n",
      "Requirement already satisfied: pydantic~=1.6 in c:\\users\\willi\\anaconda3\\envs\\python3_7_16\\lib\\site-packages (from cobra>=0.11.1->cameo) (1.9.2)\n",
      "Requirement already satisfied: python-libsbml-experimental==5.18.3 in c:\\users\\willi\\anaconda3\\envs\\python3_7_16\\lib\\site-packages (from cobra>=0.11.1->cameo) (5.18.3)\n",
      "Requirement already satisfied: rich~=6.0 in c:\\users\\willi\\anaconda3\\envs\\python3_7_16\\lib\\site-packages (from cobra>=0.11.1->cameo) (6.2.0)\n",
      "Requirement already satisfied: ruamel.yaml~=0.16 in c:\\users\\willi\\anaconda3\\envs\\python3_7_16\\lib\\site-packages (from cobra>=0.11.1->cameo) (0.18.5)\n",
      "Requirement already satisfied: swiglpk in c:\\users\\willi\\anaconda3\\envs\\python3_7_16\\lib\\site-packages (from cobra>=0.11.1->cameo) (5.0.10)\n",
      "Requirement already satisfied: Jinja2<3,>=2.7.3 in c:\\users\\willi\\anaconda3\\envs\\python3_7_16\\lib\\site-packages (from escher>=1.1.2->cameo) (2.11.3)\n",
      "Requirement already satisfied: pytest<5,>=4.0.1 in c:\\users\\willi\\anaconda3\\envs\\python3_7_16\\lib\\site-packages (from escher>=1.1.2->cameo) (4.6.11)\n",
      "Requirement already satisfied: jsonschema<4,>=3.0.1 in c:\\users\\willi\\anaconda3\\envs\\python3_7_16\\lib\\site-packages (from escher>=1.1.2->cameo) (3.2.0)"
     ]
    },
    {
     "name": "stdout",
     "output_type": "stream",
     "text": [
      "\n",
      "Requirement already satisfied: ipywidgets<8,>=7.4.0 in c:\\users\\willi\\anaconda3\\envs\\python3_7_16\\lib\\site-packages (from escher>=1.1.2->cameo) (7.8.1)\n",
      "Requirement already satisfied: et-xmlfile in c:\\users\\willi\\anaconda3\\envs\\python3_7_16\\lib\\site-packages (from openpyxl>=2.4.5->cameo) (1.1.0)\n",
      "Requirement already satisfied: sympy>=1.0.0 in c:\\users\\willi\\anaconda3\\envs\\python3_7_16\\lib\\site-packages (from optlang>=1.4.2->cameo) (1.10.1)\n",
      "Requirement already satisfied: python-dateutil>=2.7.3 in c:\\users\\willi\\anaconda3\\envs\\python3_7_16\\lib\\site-packages (from pandas>=1.1.3->cameo) (2.8.2)\n",
      "Requirement already satisfied: pytz>=2017.3 in c:\\users\\willi\\anaconda3\\envs\\python3_7_16\\lib\\site-packages (from pandas>=1.1.3->cameo) (2023.3.post1)\n",
      "Requirement already satisfied: charset-normalizer<4,>=2 in c:\\users\\willi\\anaconda3\\envs\\python3_7_16\\lib\\site-packages (from requests>=2.10.0->cameo) (3.3.2)\n",
      "Requirement already satisfied: idna<4,>=2.5 in c:\\users\\willi\\anaconda3\\envs\\python3_7_16\\lib\\site-packages (from requests>=2.10.0->cameo) (3.6)\n",
      "Requirement already satisfied: urllib3<3,>=1.21.1 in c:\\users\\willi\\anaconda3\\envs\\python3_7_16\\lib\\site-packages (from requests>=2.10.0->cameo) (2.0.7)\n",
      "Requirement already satisfied: certifi>=2017.4.17 in c:\\users\\willi\\anaconda3\\envs\\python3_7_16\\lib\\site-packages (from requests>=2.10.0->cameo) (2023.11.17)\n",
      "Requirement already satisfied: httpcore<0.18.0,>=0.15.0 in c:\\users\\willi\\anaconda3\\envs\\python3_7_16\\lib\\site-packages (from httpx~=0.14->cobra>=0.11.1->cameo) (0.17.3)\n",
      "Requirement already satisfied: sniffio in c:\\users\\willi\\anaconda3\\envs\\python3_7_16\\lib\\site-packages (from httpx~=0.14->cobra>=0.11.1->cameo) (1.3.0)\n",
      "Requirement already satisfied: comm>=0.1.3 in c:\\users\\willi\\anaconda3\\envs\\python3_7_16\\lib\\site-packages (from ipywidgets<8,>=7.4.0->escher>=1.1.2->cameo) (0.1.4)\n",
      "Requirement already satisfied: ipython-genutils~=0.2.0 in c:\\users\\willi\\anaconda3\\envs\\python3_7_16\\lib\\site-packages (from ipywidgets<8,>=7.4.0->escher>=1.1.2->cameo) (0.2.0)\n",
      "Requirement already satisfied: traitlets>=4.3.1 in c:\\users\\willi\\anaconda3\\envs\\python3_7_16\\lib\\site-packages (from ipywidgets<8,>=7.4.0->escher>=1.1.2->cameo) (5.9.0)\n",
      "Requirement already satisfied: widgetsnbextension~=3.6.6 in c:\\users\\willi\\anaconda3\\envs\\python3_7_16\\lib\\site-packages (from ipywidgets<8,>=7.4.0->escher>=1.1.2->cameo) (3.6.6)\n",
      "Requirement already satisfied: ipython>=4.0.0 in c:\\users\\willi\\anaconda3\\envs\\python3_7_16\\lib\\site-packages (from ipywidgets<8,>=7.4.0->escher>=1.1.2->cameo) (7.34.0)\n",
      "Requirement already satisfied: jupyterlab-widgets<3,>=1.0.0 in c:\\users\\willi\\anaconda3\\envs\\python3_7_16\\lib\\site-packages (from ipywidgets<8,>=7.4.0->escher>=1.1.2->cameo) (1.1.7)\n",
      "Requirement already satisfied: MarkupSafe>=0.23 in c:\\users\\willi\\anaconda3\\envs\\python3_7_16\\lib\\site-packages (from Jinja2<3,>=2.7.3->escher>=1.1.2->cameo) (2.0.1)\n",
      "Requirement already satisfied: attrs>=17.4.0 in c:\\users\\willi\\anaconda3\\envs\\python3_7_16\\lib\\site-packages (from jsonschema<4,>=3.0.1->escher>=1.1.2->cameo) (23.1.0)\n",
      "Requirement already satisfied: pyrsistent>=0.14.0 in c:\\users\\willi\\anaconda3\\envs\\python3_7_16\\lib\\site-packages (from jsonschema<4,>=3.0.1->escher>=1.1.2->cameo) (0.19.3)\n",
      "Requirement already satisfied: setuptools in c:\\users\\willi\\anaconda3\\envs\\python3_7_16\\lib\\site-packages (from jsonschema<4,>=3.0.1->escher>=1.1.2->cameo) (68.2.2)\n",
      "Requirement already satisfied: typing-extensions>=3.7.4.3 in c:\\users\\willi\\anaconda3\\envs\\python3_7_16\\lib\\site-packages (from pydantic~=1.6->cobra>=0.11.1->cameo) (3.10.0.2)\n",
      "Requirement already satisfied: py>=1.5.0 in c:\\users\\willi\\anaconda3\\envs\\python3_7_16\\lib\\site-packages (from pytest<5,>=4.0.1->escher>=1.1.2->cameo) (1.11.0)\n",
      "Requirement already satisfied: packaging in c:\\users\\willi\\anaconda3\\envs\\python3_7_16\\lib\\site-packages (from pytest<5,>=4.0.1->escher>=1.1.2->cameo) (23.2)\n",
      "Requirement already satisfied: atomicwrites>=1.0 in c:\\users\\willi\\anaconda3\\envs\\python3_7_16\\lib\\site-packages (from pytest<5,>=4.0.1->escher>=1.1.2->cameo) (1.4.1)\n",
      "Requirement already satisfied: pluggy<1.0,>=0.12 in c:\\users\\willi\\anaconda3\\envs\\python3_7_16\\lib\\site-packages (from pytest<5,>=4.0.1->escher>=1.1.2->cameo) (0.13.1)\n",
      "Requirement already satisfied: wcwidth in c:\\users\\willi\\anaconda3\\envs\\python3_7_16\\lib\\site-packages (from pytest<5,>=4.0.1->escher>=1.1.2->cameo) (0.2.12)\n",
      "Requirement already satisfied: more-itertools>=4.0.0 in c:\\users\\willi\\anaconda3\\envs\\python3_7_16\\lib\\site-packages (from pytest<5,>=4.0.1->escher>=1.1.2->cameo) (9.1.0)\n",
      "Requirement already satisfied: zipp>=0.5 in c:\\users\\willi\\anaconda3\\envs\\python3_7_16\\lib\\site-packages (from importlib-metadata->click>=6.7->cameo) (3.15.0)\n",
      "Requirement already satisfied: commonmark<0.10.0,>=0.9.0 in c:\\users\\willi\\anaconda3\\envs\\python3_7_16\\lib\\site-packages (from rich~=6.0->cobra>=0.11.1->cameo) (0.9.1)\n",
      "Requirement already satisfied: pygments<3.0.0,>=2.6.0 in c:\\users\\willi\\anaconda3\\envs\\python3_7_16\\lib\\site-packages (from rich~=6.0->cobra>=0.11.1->cameo) (2.17.2)\n",
      "Requirement already satisfied: ruamel.yaml.clib>=0.2.7 in c:\\users\\willi\\anaconda3\\envs\\python3_7_16\\lib\\site-packages (from ruamel.yaml~=0.16->cobra>=0.11.1->cameo) (0.2.8)\n",
      "Requirement already satisfied: mpmath>=0.19 in c:\\users\\willi\\anaconda3\\envs\\python3_7_16\\lib\\site-packages (from sympy>=1.0.0->optlang>=1.4.2->cameo) (1.3.0)\n",
      "Requirement already satisfied: h11<0.15,>=0.13 in c:\\users\\willi\\anaconda3\\envs\\python3_7_16\\lib\\site-packages (from httpcore<0.18.0,>=0.15.0->httpx~=0.14->cobra>=0.11.1->cameo) (0.14.0)\n",
      "Requirement already satisfied: anyio<5.0,>=3.0 in c:\\users\\willi\\anaconda3\\envs\\python3_7_16\\lib\\site-packages (from httpcore<0.18.0,>=0.15.0->httpx~=0.14->cobra>=0.11.1->cameo) (3.7.1)\n",
      "Requirement already satisfied: jedi>=0.16 in c:\\users\\willi\\anaconda3\\envs\\python3_7_16\\lib\\site-packages (from ipython>=4.0.0->ipywidgets<8,>=7.4.0->escher>=1.1.2->cameo) (0.19.1)\n",
      "Requirement already satisfied: decorator in c:\\users\\willi\\anaconda3\\envs\\python3_7_16\\lib\\site-packages (from ipython>=4.0.0->ipywidgets<8,>=7.4.0->escher>=1.1.2->cameo) (5.1.1)\n",
      "Requirement already satisfied: pickleshare in c:\\users\\willi\\anaconda3\\envs\\python3_7_16\\lib\\site-packages (from ipython>=4.0.0->ipywidgets<8,>=7.4.0->escher>=1.1.2->cameo) (0.7.5)\n",
      "Requirement already satisfied: prompt-toolkit!=3.0.0,!=3.0.1,<3.1.0,>=2.0.0 in c:\\users\\willi\\anaconda3\\envs\\python3_7_16\\lib\\site-packages (from ipython>=4.0.0->ipywidgets<8,>=7.4.0->escher>=1.1.2->cameo) (3.0.41)\n",
      "Requirement already satisfied: backcall in c:\\users\\willi\\anaconda3\\envs\\python3_7_16\\lib\\site-packages (from ipython>=4.0.0->ipywidgets<8,>=7.4.0->escher>=1.1.2->cameo) (0.2.0)\n",
      "Requirement already satisfied: matplotlib-inline in c:\\users\\willi\\anaconda3\\envs\\python3_7_16\\lib\\site-packages (from ipython>=4.0.0->ipywidgets<8,>=7.4.0->escher>=1.1.2->cameo) (0.1.6)\n",
      "Requirement already satisfied: notebook>=4.4.1 in c:\\users\\willi\\anaconda3\\envs\\python3_7_16\\lib\\site-packages (from widgetsnbextension~=3.6.6->ipywidgets<8,>=7.4.0->escher>=1.1.2->cameo) (6.5.6)\n",
      "Requirement already satisfied: exceptiongroup in c:\\users\\willi\\anaconda3\\envs\\python3_7_16\\lib\\site-packages (from anyio<5.0,>=3.0->httpcore<0.18.0,>=0.15.0->httpx~=0.14->cobra>=0.11.1->cameo) (1.2.0)\n",
      "Requirement already satisfied: parso<0.9.0,>=0.8.3 in c:\\users\\willi\\anaconda3\\envs\\python3_7_16\\lib\\site-packages (from jedi>=0.16->ipython>=4.0.0->ipywidgets<8,>=7.4.0->escher>=1.1.2->cameo) (0.8.3)\n",
      "Requirement already satisfied: tornado>=6.1 in c:\\users\\willi\\anaconda3\\envs\\python3_7_16\\lib\\site-packages (from notebook>=4.4.1->widgetsnbextension~=3.6.6->ipywidgets<8,>=7.4.0->escher>=1.1.2->cameo) (6.2)\n",
      "Requirement already satisfied: pyzmq<25,>=17 in c:\\users\\willi\\anaconda3\\envs\\python3_7_16\\lib\\site-packages (from notebook>=4.4.1->widgetsnbextension~=3.6.6->ipywidgets<8,>=7.4.0->escher>=1.1.2->cameo) (24.0.1)\n",
      "Requirement already satisfied: argon2-cffi in c:\\users\\willi\\anaconda3\\envs\\python3_7_16\\lib\\site-packages (from notebook>=4.4.1->widgetsnbextension~=3.6.6->ipywidgets<8,>=7.4.0->escher>=1.1.2->cameo) (23.1.0)\n",
      "Requirement already satisfied: jupyter-core>=4.6.1 in c:\\users\\willi\\anaconda3\\envs\\python3_7_16\\lib\\site-packages (from notebook>=4.4.1->widgetsnbextension~=3.6.6->ipywidgets<8,>=7.4.0->escher>=1.1.2->cameo) (4.12.0)\n",
      "Requirement already satisfied: jupyter-client<8,>=5.3.4 in c:\\users\\willi\\anaconda3\\envs\\python3_7_16\\lib\\site-packages (from notebook>=4.4.1->widgetsnbextension~=3.6.6->ipywidgets<8,>=7.4.0->escher>=1.1.2->cameo) (7.4.9)\n",
      "Requirement already satisfied: nbformat in c:\\users\\willi\\anaconda3\\envs\\python3_7_16\\lib\\site-packages (from notebook>=4.4.1->widgetsnbextension~=3.6.6->ipywidgets<8,>=7.4.0->escher>=1.1.2->cameo) (5.8.0)\n",
      "Requirement already satisfied: nbconvert>=5 in c:\\users\\willi\\anaconda3\\envs\\python3_7_16\\lib\\site-packages (from notebook>=4.4.1->widgetsnbextension~=3.6.6->ipywidgets<8,>=7.4.0->escher>=1.1.2->cameo) (6.4.5)\n",
      "Requirement already satisfied: nest-asyncio>=1.5 in c:\\users\\willi\\anaconda3\\envs\\python3_7_16\\lib\\site-packages (from notebook>=4.4.1->widgetsnbextension~=3.6.6->ipywidgets<8,>=7.4.0->escher>=1.1.2->cameo) (1.5.8)\n",
      "Requirement already satisfied: ipykernel in c:\\users\\willi\\anaconda3\\envs\\python3_7_16\\lib\\site-packages (from notebook>=4.4.1->widgetsnbextension~=3.6.6->ipywidgets<8,>=7.4.0->escher>=1.1.2->cameo) (6.16.2)\n",
      "Requirement already satisfied: Send2Trash>=1.8.0 in c:\\users\\willi\\anaconda3\\envs\\python3_7_16\\lib\\site-packages (from notebook>=4.4.1->widgetsnbextension~=3.6.6->ipywidgets<8,>=7.4.0->escher>=1.1.2->cameo) (1.8.2)\n",
      "Requirement already satisfied: terminado>=0.8.3 in c:\\users\\willi\\anaconda3\\envs\\python3_7_16\\lib\\site-packages (from notebook>=4.4.1->widgetsnbextension~=3.6.6->ipywidgets<8,>=7.4.0->escher>=1.1.2->cameo) (0.17.1)\n",
      "Requirement already satisfied: prometheus-client in c:\\users\\willi\\anaconda3\\envs\\python3_7_16\\lib\\site-packages (from notebook>=4.4.1->widgetsnbextension~=3.6.6->ipywidgets<8,>=7.4.0->escher>=1.1.2->cameo) (0.17.1)\n",
      "Requirement already satisfied: nbclassic>=0.4.7 in c:\\users\\willi\\anaconda3\\envs\\python3_7_16\\lib\\site-packages (from notebook>=4.4.1->widgetsnbextension~=3.6.6->ipywidgets<8,>=7.4.0->escher>=1.1.2->cameo) (1.0.0)\n",
      "Requirement already satisfied: entrypoints in c:\\users\\willi\\anaconda3\\envs\\python3_7_16\\lib\\site-packages (from jupyter-client<8,>=5.3.4->notebook>=4.4.1->widgetsnbextension~=3.6.6->ipywidgets<8,>=7.4.0->escher>=1.1.2->cameo) (0.4)\n",
      "Requirement already satisfied: pywin32>=1.0 in c:\\users\\willi\\anaconda3\\envs\\python3_7_16\\lib\\site-packages (from jupyter-core>=4.6.1->notebook>=4.4.1->widgetsnbextension~=3.6.6->ipywidgets<8,>=7.4.0->escher>=1.1.2->cameo) (306)\n",
      "Requirement already satisfied: jupyter-server>=1.8 in c:\\users\\willi\\anaconda3\\envs\\python3_7_16\\lib\\site-packages (from nbclassic>=0.4.7->notebook>=4.4.1->widgetsnbextension~=3.6.6->ipywidgets<8,>=7.4.0->escher>=1.1.2->cameo) (1.24.0)\n",
      "Requirement already satisfied: notebook-shim>=0.2.3 in c:\\users\\willi\\anaconda3\\envs\\python3_7_16\\lib\\site-packages (from nbclassic>=0.4.7->notebook>=4.4.1->widgetsnbextension~=3.6.6->ipywidgets<8,>=7.4.0->escher>=1.1.2->cameo) (0.2.3)\n",
      "Requirement already satisfied: mistune<2,>=0.8.1 in c:\\users\\willi\\anaconda3\\envs\\python3_7_16\\lib\\site-packages (from nbconvert>=5->notebook>=4.4.1->widgetsnbextension~=3.6.6->ipywidgets<8,>=7.4.0->escher>=1.1.2->cameo) (0.8.4)\n",
      "Requirement already satisfied: jupyterlab-pygments in c:\\users\\willi\\anaconda3\\envs\\python3_7_16\\lib\\site-packages (from nbconvert>=5->notebook>=4.4.1->widgetsnbextension~=3.6.6->ipywidgets<8,>=7.4.0->escher>=1.1.2->cameo) (0.2.2)\n",
      "Requirement already satisfied: bleach in c:\\users\\willi\\anaconda3\\envs\\python3_7_16\\lib\\site-packages (from nbconvert>=5->notebook>=4.4.1->widgetsnbextension~=3.6.6->ipywidgets<8,>=7.4.0->escher>=1.1.2->cameo) (6.0.0)\n",
      "Requirement already satisfied: pandocfilters>=1.4.1 in c:\\users\\willi\\anaconda3\\envs\\python3_7_16\\lib\\site-packages (from nbconvert>=5->notebook>=4.4.1->widgetsnbextension~=3.6.6->ipywidgets<8,>=7.4.0->escher>=1.1.2->cameo) (1.5.0)\n",
      "Requirement already satisfied: testpath in c:\\users\\willi\\anaconda3\\envs\\python3_7_16\\lib\\site-packages (from nbconvert>=5->notebook>=4.4.1->widgetsnbextension~=3.6.6->ipywidgets<8,>=7.4.0->escher>=1.1.2->cameo) (0.6.0)\n",
      "Requirement already satisfied: defusedxml in c:\\users\\willi\\anaconda3\\envs\\python3_7_16\\lib\\site-packages (from nbconvert>=5->notebook>=4.4.1->widgetsnbextension~=3.6.6->ipywidgets<8,>=7.4.0->escher>=1.1.2->cameo) (0.7.1)\n",
      "Requirement already satisfied: beautifulsoup4 in c:\\users\\willi\\anaconda3\\envs\\python3_7_16\\lib\\site-packages (from nbconvert>=5->notebook>=4.4.1->widgetsnbextension~=3.6.6->ipywidgets<8,>=7.4.0->escher>=1.1.2->cameo) (4.12.2)\n",
      "Requirement already satisfied: nbclient<0.6.0,>=0.5.0 in c:\\users\\willi\\anaconda3\\envs\\python3_7_16\\lib\\site-packages (from nbconvert>=5->notebook>=4.4.1->widgetsnbextension~=3.6.6->ipywidgets<8,>=7.4.0->escher>=1.1.2->cameo) (0.5.13)\n",
      "Requirement already satisfied: fastjsonschema in c:\\users\\willi\\anaconda3\\envs\\python3_7_16\\lib\\site-packages (from nbformat->notebook>=4.4.1->widgetsnbextension~=3.6.6->ipywidgets<8,>=7.4.0->escher>=1.1.2->cameo) (2.19.0)\n",
      "Requirement already satisfied: pywinpty>=1.1.0 in c:\\users\\willi\\anaconda3\\envs\\python3_7_16\\lib\\site-packages (from terminado>=0.8.3->notebook>=4.4.1->widgetsnbextension~=3.6.6->ipywidgets<8,>=7.4.0->escher>=1.1.2->cameo) (2.0.10)\n",
      "Requirement already satisfied: argon2-cffi-bindings in c:\\users\\willi\\anaconda3\\envs\\python3_7_16\\lib\\site-packages (from argon2-cffi->notebook>=4.4.1->widgetsnbextension~=3.6.6->ipywidgets<8,>=7.4.0->escher>=1.1.2->cameo) (21.2.0)\n",
      "Requirement already satisfied: debugpy>=1.0 in c:\\users\\willi\\anaconda3\\envs\\python3_7_16\\lib\\site-packages (from ipykernel->notebook>=4.4.1->widgetsnbextension~=3.6.6->ipywidgets<8,>=7.4.0->escher>=1.1.2->cameo) (1.7.0)\n",
      "Requirement already satisfied: psutil in c:\\users\\willi\\anaconda3\\envs\\python3_7_16\\lib\\site-packages (from ipykernel->notebook>=4.4.1->widgetsnbextension~=3.6.6->ipywidgets<8,>=7.4.0->escher>=1.1.2->cameo) (5.9.6)\n",
      "Requirement already satisfied: websocket-client in c:\\users\\willi\\anaconda3\\envs\\python3_7_16\\lib\\site-packages (from jupyter-server>=1.8->nbclassic>=0.4.7->notebook>=4.4.1->widgetsnbextension~=3.6.6->ipywidgets<8,>=7.4.0->escher>=1.1.2->cameo) (1.6.1)\n",
      "Requirement already satisfied: cffi>=1.0.1 in c:\\users\\willi\\anaconda3\\envs\\python3_7_16\\lib\\site-packages (from argon2-cffi-bindings->argon2-cffi->notebook>=4.4.1->widgetsnbextension~=3.6.6->ipywidgets<8,>=7.4.0->escher>=1.1.2->cameo) (1.15.1)\n",
      "Requirement already satisfied: soupsieve>1.2 in c:\\users\\willi\\anaconda3\\envs\\python3_7_16\\lib\\site-packages (from beautifulsoup4->nbconvert>=5->notebook>=4.4.1->widgetsnbextension~=3.6.6->ipywidgets<8,>=7.4.0->escher>=1.1.2->cameo) (2.4.1)\n",
      "Requirement already satisfied: webencodings in c:\\users\\willi\\anaconda3\\envs\\python3_7_16\\lib\\site-packages (from bleach->nbconvert>=5->notebook>=4.4.1->widgetsnbextension~=3.6.6->ipywidgets<8,>=7.4.0->escher>=1.1.2->cameo) (0.5.1)\n",
      "Requirement already satisfied: pycparser in c:\\users\\willi\\anaconda3\\envs\\python3_7_16\\lib\\site-packages (from cffi>=1.0.1->argon2-cffi-bindings->argon2-cffi->notebook>=4.4.1->widgetsnbextension~=3.6.6->ipywidgets<8,>=7.4.0->escher>=1.1.2->cameo) (2.21)\n"
     ]
    }
   ],
   "source": [
    "pip install cameo"
   ]
  },
  {
   "cell_type": "code",
   "execution_count": null,
   "id": "f14b7788-adf7-4197-ab6a-1abc9f04e63e",
   "metadata": {},
   "outputs": [],
   "source": []
  },
  {
   "cell_type": "code",
   "execution_count": 5,
   "id": "dd74e6e7-2fdd-46ac-a0af-eea77d729e74",
   "metadata": {},
   "outputs": [
    {
     "name": "stdout",
     "output_type": "stream",
     "text": [
      "Requirement already satisfied: markupsafe==2.0.1 in c:\\users\\willi\\anaconda3\\envs\\python3_7_16\\lib\\site-packages (2.0.1)\n",
      "Note: you may need to restart the kernel to use updated packages.\n"
     ]
    }
   ],
   "source": [
    "pip install markupsafe==2.0.1"
   ]
  },
  {
   "cell_type": "code",
   "execution_count": null,
   "id": "1cda6188-0816-424a-a271-907bb68faa7d",
   "metadata": {},
   "outputs": [],
   "source": []
  },
  {
   "cell_type": "code",
   "execution_count": 6,
   "id": "d888d313-dbcc-444e-b6c6-5ef46304ec5e",
   "metadata": {},
   "outputs": [],
   "source": [
    "from collections.abc import Mapping"
   ]
  },
  {
   "cell_type": "code",
   "execution_count": 7,
   "id": "dd573a4b-c9f7-44ec-81ba-0bd201e9fce2",
   "metadata": {},
   "outputs": [],
   "source": [
    "from cameo.strain_design.heuristic.evolutionary_based import CofactorSwapOptimization\n",
    "from cameo.strain_design.heuristic.evolutionary.objective_functions import product_yield\n",
    "from cameo.strain_design.heuristic.evolutionary.optimization import CofactorSwapOptimization, NADH_NADPH\n",
    "\n",
    "model.solver = \"glpk\" \n",
    "biomass = model.reactions.BIOMASS_SC4_bal\n",
    "biomass.lower_bound = 0.1 \n",
    "demand = model.reactions.DM_Eicosapentaenoic_Acid\n",
    "\n",
    "model.objective = demand\n",
    "product_yield = product_yield(demand, model.reactions.EX_glc__D_e)"
   ]
  },
  {
   "cell_type": "code",
   "execution_count": 14,
   "metadata": {},
   "outputs": [
    {
     "name": "stdout",
     "output_type": "stream",
     "text": [
      "\u001b[1;31mInit signature:\u001b[0m\n",
      "\u001b[0mCofactorSwapOptimization\u001b[0m\u001b[1;33m(\u001b[0m\u001b[1;33m\n",
      "\u001b[0m    \u001b[0mcofactor_id_swaps\u001b[0m\u001b[1;33m=\u001b[0m\u001b[1;33m(\u001b[0m\u001b[1;33m[\u001b[0m\u001b[1;34m'nad_c'\u001b[0m\u001b[1;33m,\u001b[0m \u001b[1;34m'nadh_c'\u001b[0m\u001b[1;33m]\u001b[0m\u001b[1;33m,\u001b[0m \u001b[1;33m[\u001b[0m\u001b[1;34m'nadp_c'\u001b[0m\u001b[1;33m,\u001b[0m \u001b[1;34m'nadph_c'\u001b[0m\u001b[1;33m]\u001b[0m\u001b[1;33m)\u001b[0m\u001b[1;33m,\u001b[0m\u001b[1;33m\n",
      "\u001b[0m    \u001b[0mcandidate_reactions\u001b[0m\u001b[1;33m=\u001b[0m\u001b[1;32mNone\u001b[0m\u001b[1;33m,\u001b[0m\u001b[1;33m\n",
      "\u001b[0m    \u001b[0mskip_reactions\u001b[0m\u001b[1;33m=\u001b[0m\u001b[1;32mNone\u001b[0m\u001b[1;33m,\u001b[0m\u001b[1;33m\n",
      "\u001b[0m    \u001b[1;33m*\u001b[0m\u001b[0margs\u001b[0m\u001b[1;33m,\u001b[0m\u001b[1;33m\n",
      "\u001b[0m    \u001b[1;33m**\u001b[0m\u001b[0mkwargs\u001b[0m\u001b[1;33m,\u001b[0m\u001b[1;33m\n",
      "\u001b[0m\u001b[1;33m)\u001b[0m\u001b[1;33m\u001b[0m\u001b[1;33m\u001b[0m\u001b[0m\n",
      "\u001b[1;31mDocstring:\u001b[0m     \n",
      "Optimize co-factor swapping\n",
      "\n",
      "As suggested in [1]_, flux through a given reaction can sometimes be optimized by swapping complementary\n",
      "co-factor. This class implements a search for reactions when swapped improve the given objective. Briefly,\n",
      "the approach is to\n",
      "\n",
      "- find reactions that have all the targeted co-factor pairs e.g. (nad_c -> nadp_c, nadh_c -> nadph_c)\n",
      "\n",
      "- add reactions that have the co-factors swapped and then by a search algorithm switching one off in favor of the\n",
      "  other\n",
      "\n",
      "The implementation here differs from that in [1]_ in that we use a general purpose search algorithm rather than\n",
      "formulating the search as a mixed integer linear programming problem.\n",
      "\n",
      "References\n",
      "----------\n",
      ".. [1] King, Zachary A., and Adam M. Feist. \"Optimizing Cofactor Specificity of Oxidoreductase Enzymes for the\n",
      "  Generation of Microbial Production Strains - OptSwap.\" Industrial Biotechnology 9, no. 4 (August 1,\n",
      "  2013): 236-46. - doi:10.1089/ind.2013.0005.\n",
      "\n",
      "Parameters\n",
      "----------\n",
      "model : cobra.Model\n",
      "   the model to operator on\n",
      "cofactor_id_swaps : tuple\n",
      "   a tuple of length 2 that defines two lists of metabolite identifiers that should be interchanged during the\n",
      "   swap optimization see e.g. `NADH_NADPH` which is also the default.\n",
      "candidate_reactions : list\n",
      "   reactions to consider for co-factor swap - if not given then search for all reactions that include the given\n",
      "   cofactors\n",
      "skip_reactions : list\n",
      "   reactions to not consider for co-factor swap, defaults to the objective function if not provided\n",
      "args, kwargs : keyword arguments\n",
      "   passed on to super-classes, see in particular `objective_function`, `heuristic_method`, `termination`,\n",
      "   `simulation_method`, `wt_reference`, of `HeuristicOptimization` and `max_size` of `HeuristicOptimization.run`\n",
      "\n",
      "Examples\n",
      "--------\n",
      ">>> from cameo import models\n",
      ">>> from cameo.strain_design.heuristic.evolutionary.objective_functions import product_yield\n",
      ">>> model = models.bigg.iJO1366\n",
      ">>> model.objective = model.reactions.EX_thr__L_e\n",
      ">>> model.reactions.BIOMASS_Ec_iJO1366_core_53p95M.lower_bound = 0.1\n",
      ">>> py = product_yield(model.reactions.EX_thr__L_e, model.reactions.EX_glc__D_e)\n",
      ">>> swap_optimization = CofactorSwapOptimization(model=model, objective_function=py)\n",
      ">>> swap_optimization.run(max_evaluations=2000, max_size=2)\n",
      "\u001b[1;31mInit docstring:\u001b[0m\n",
      "Class for generic optimization algorithms for knockout (or similar) strain design methods\n",
      "\n",
      "Attributes\n",
      "----------\n",
      "simulation_method : see flux_analysis.simulation\n",
      "    The method used to simulate the model.\n",
      "wt_reference : dict, cameo.flux_analysis.simulation.FluxDistributionResult\n",
      "    A dict (dict-like) object with flux values from a reference state.\n",
      "simulation_method : method\n",
      "   the simulation method to use for evaluating results\n",
      "evaluator : TargetEvaluator\n",
      "   the class used to evaluate results\n",
      "\u001b[1;31mFile:\u001b[0m           c:\\users\\willi\\anaconda3\\envs\\python3_7_16\\lib\\site-packages\\cameo\\strain_design\\heuristic\\evolutionary\\optimization.py\n",
      "\u001b[1;31mType:\u001b[0m           type\n",
      "\u001b[1;31mSubclasses:\u001b[0m     \n"
     ]
    }
   ],
   "source": [
    "CofactorSwapOptimization?"
   ]
  },
  {
   "cell_type": "code",
   "execution_count": 15,
   "metadata": {},
   "outputs": [],
   "source": [
    "swap_opt = CofactorSwapOptimization(model=model, objective_function=product_yield, plot=True, cofactor_id_swaps=(['nadp_c', 'nadph_c'], ['nad_c', 'nadh_c']))"
   ]
  },
  {
   "cell_type": "code",
   "execution_count": 16,
   "metadata": {},
   "outputs": [
    {
     "name": "stdout",
     "output_type": "stream",
     "text": [
      "Starting optimization at Sun, 03 Dec 2023 14:58:15\n"
     ]
    },
    {
     "data": {
      "application/vnd.jupyter.widget-view+json": {
       "model_id": "505bf5b6b20d485b8668d446ae4e480b",
       "version_major": 2,
       "version_minor": 0
      },
      "text/plain": [
       "HBox()"
      ]
     },
     "metadata": {},
     "output_type": "display_data"
    },
    {
     "name": "stdout",
     "output_type": "stream",
     "text": [
      "Finished after 00:00:31\n"
     ]
    }
   ],
   "source": [
    "result = swap_opt.run(max_size=5)"
   ]
  },
  {
   "cell_type": "code",
   "execution_count": 17,
   "metadata": {},
   "outputs": [
    {
     "data": {
      "text/html": [
       "\n",
       "        <h4>Result:</h4>\n",
       "        <ul>\n",
       "            <li>model: iND750</li>\n",
       "            <li>heuristic: GA</li>\n",
       "            <li>objective function: $$yield = \\frac{DM\\_Eicosapentaenoic\\_Acid}{EX\\_glc\\_\\_D\\_e}$$</li>\n",
       "            <li>simulation method: pfba</li>\n",
       "            <li>target type: cofactor-swap</li>\n",
       "        <ul>\n",
       "        <div>\n",
       "<style scoped>\n",
       "    .dataframe tbody tr th:only-of-type {\n",
       "        vertical-align: middle;\n",
       "    }\n",
       "\n",
       "    .dataframe tbody tr th {\n",
       "        vertical-align: top;\n",
       "    }\n",
       "\n",
       "    .dataframe thead th {\n",
       "        text-align: right;\n",
       "    }\n",
       "</style>\n",
       "<table border=\"1\" class=\"dataframe\">\n",
       "  <thead>\n",
       "    <tr style=\"text-align: right;\">\n",
       "      <th></th>\n",
       "      <th>index</th>\n",
       "      <th>targets</th>\n",
       "      <th>fitness</th>\n",
       "    </tr>\n",
       "  </thead>\n",
       "  <tbody>\n",
       "    <tr>\n",
       "      <th>0</th>\n",
       "      <td>0</td>\n",
       "      <td>(D9E, GAPD)</td>\n",
       "      <td>0.961075</td>\n",
       "    </tr>\n",
       "    <tr>\n",
       "      <th>1</th>\n",
       "      <td>1</td>\n",
       "      <td>(GAPD,)</td>\n",
       "      <td>0.947726</td>\n",
       "    </tr>\n",
       "    <tr>\n",
       "      <th>2</th>\n",
       "      <td>2</td>\n",
       "      <td>(MDH, D8ds)</td>\n",
       "      <td>0.917238</td>\n",
       "    </tr>\n",
       "    <tr>\n",
       "      <th>3</th>\n",
       "      <td>3</td>\n",
       "      <td>(FAS160, MDH)</td>\n",
       "      <td>0.913101</td>\n",
       "    </tr>\n",
       "    <tr>\n",
       "      <th>4</th>\n",
       "      <td>4</td>\n",
       "      <td>(FAS80COA_L, D5ds)</td>\n",
       "      <td>0.905296</td>\n",
       "    </tr>\n",
       "    <tr>\n",
       "      <th>5</th>\n",
       "      <td>5</td>\n",
       "      <td>(MDH, IMPD)</td>\n",
       "      <td>0.904834</td>\n",
       "    </tr>\n",
       "    <tr>\n",
       "      <th>6</th>\n",
       "      <td>6</td>\n",
       "      <td>(MDH,)</td>\n",
       "      <td>0.904833</td>\n",
       "    </tr>\n",
       "  </tbody>\n",
       "</table>\n",
       "</div>"
      ],
      "text/plain": [
       "<cameo.strain_design.heuristic.evolutionary.optimization.TargetOptimizationResult at 0x19dd63e1308>"
      ]
     },
     "execution_count": 17,
     "metadata": {},
     "output_type": "execute_result"
    }
   ],
   "source": [
    "result"
   ]
  },
  {
   "cell_type": "code",
   "execution_count": 24,
   "metadata": {},
   "outputs": [
    {
     "data": {
      "text/html": [
       "\n",
       "        <table>\n",
       "            <tr>\n",
       "                <td><strong>Reaction identifier</strong></td><td>IMPD</td>\n",
       "            </tr><tr>\n",
       "                <td><strong>Name</strong></td><td>IMP dehydrogenase</td>\n",
       "            </tr><tr>\n",
       "                <td><strong>Memory address</strong></td>\n",
       "                <td>0x019dd5384048</td>\n",
       "            </tr><tr>\n",
       "                <td><strong>Stoichiometry</strong></td>\n",
       "                <td>\n",
       "                    <p style='text-align:right'>h2o_c + imp_c + nad_c --> h_c + nadh_c + xmp_c</p>\n",
       "                    <p style='text-align:right'>H2O H2O + IMP C10H11N4O8P + Nicotinamide adenine dinucleotide --> H+ + Nicotinamide adenine dinucleotide - reduced + Xanthosine 5'-phosphate</p>\n",
       "                </td>\n",
       "            </tr><tr>\n",
       "                <td><strong>GPR</strong></td><td>YAR073W or YML056C or YLR432W or YHR216W or YAR075W</td>\n",
       "            </tr><tr>\n",
       "                <td><strong>Lower bound</strong></td><td>0.0</td>\n",
       "            </tr><tr>\n",
       "                <td><strong>Upper bound</strong></td><td>999999.0</td>\n",
       "            </tr>\n",
       "        </table>\n",
       "        "
      ],
      "text/plain": [
       "<Reaction IMPD at 0x19dd5384048>"
      ]
     },
     "execution_count": 24,
     "metadata": {},
     "output_type": "execute_result"
    }
   ],
   "source": [
    "model.reactions.IMPD"
   ]
  },
  {
   "cell_type": "code",
   "execution_count": 20,
   "metadata": {},
   "outputs": [
    {
     "data": {
      "text/html": [
       "\n",
       "        <table>\n",
       "            <tr>\n",
       "                <td><strong>Reaction identifier</strong></td><td>GAPD</td>\n",
       "            </tr><tr>\n",
       "                <td><strong>Name</strong></td><td>Glyceraldehyde-3-phosphate dehydrogenase</td>\n",
       "            </tr><tr>\n",
       "                <td><strong>Memory address</strong></td>\n",
       "                <td>0x019dd5223288</td>\n",
       "            </tr><tr>\n",
       "                <td><strong>Stoichiometry</strong></td>\n",
       "                <td>\n",
       "                    <p style='text-align:right'>g3p_c + nad_c + pi_c <=> 13dpg_c + h_c + nadh_c</p>\n",
       "                    <p style='text-align:right'>Glyceraldehyde 3-phosphate + Nicotinamide adenine dinucleotide + Phosphate <=> 3-Phospho-D-glyceroyl phosphate + H+ + Nicotinamide adenine dinucleotide - reduced</p>\n",
       "                </td>\n",
       "            </tr><tr>\n",
       "                <td><strong>GPR</strong></td><td>YJL052W or YGR192C or YJR009C</td>\n",
       "            </tr><tr>\n",
       "                <td><strong>Lower bound</strong></td><td>-999999.0</td>\n",
       "            </tr><tr>\n",
       "                <td><strong>Upper bound</strong></td><td>999999.0</td>\n",
       "            </tr>\n",
       "        </table>\n",
       "        "
      ],
      "text/plain": [
       "<Reaction GAPD at 0x19dd5223288>"
      ]
     },
     "execution_count": 20,
     "metadata": {},
     "output_type": "execute_result"
    }
   ],
   "source": [
    "model.reactions.GAPD"
   ]
  },
  {
   "cell_type": "code",
   "execution_count": 22,
   "metadata": {},
   "outputs": [
    {
     "data": {
      "text/html": [
       "\n",
       "        <table>\n",
       "            <tr>\n",
       "                <td><strong>Reaction identifier</strong></td><td>D8ds</td>\n",
       "            </tr><tr>\n",
       "                <td><strong>Name</strong></td><td></td>\n",
       "            </tr><tr>\n",
       "                <td><strong>Memory address</strong></td>\n",
       "                <td>0x019dd54d8d88</td>\n",
       "            </tr><tr>\n",
       "                <td><strong>Stoichiometry</strong></td>\n",
       "                <td>\n",
       "                    <p style='text-align:right'>Eicosadienoic_Acid + 2 nadph_c + 2 o2_c --> Dihomo_g_linolenic_acid + 2 h2o_c + 2 nadp_c</p>\n",
       "                    <p style='text-align:right'>EDA + 2 Nicotinamide adenine dinucleotide phosphate - reduced + 2 O2 O2 --> DGLA + 2 H2O H2O + 2 Nicotinamide adenine dinucleotide phosphate</p>\n",
       "                </td>\n",
       "            </tr><tr>\n",
       "                <td><strong>GPR</strong></td><td></td>\n",
       "            </tr><tr>\n",
       "                <td><strong>Lower bound</strong></td><td>0.0</td>\n",
       "            </tr><tr>\n",
       "                <td><strong>Upper bound</strong></td><td>1000.0</td>\n",
       "            </tr>\n",
       "        </table>\n",
       "        "
      ],
      "text/plain": [
       "<Reaction D8ds at 0x19dd54d8d88>"
      ]
     },
     "execution_count": 22,
     "metadata": {},
     "output_type": "execute_result"
    }
   ],
   "source": [
    "model.reactions.D8ds"
   ]
  },
  {
   "cell_type": "code",
   "execution_count": 18,
   "metadata": {},
   "outputs": [
    {
     "data": {
      "text/html": [
       "\n",
       "        <table>\n",
       "            <tr>\n",
       "                <td><strong>Reaction identifier</strong></td><td>D9E</td>\n",
       "            </tr><tr>\n",
       "                <td><strong>Name</strong></td><td></td>\n",
       "            </tr><tr>\n",
       "                <td><strong>Memory address</strong></td>\n",
       "                <td>0x019dd54d8ec8</td>\n",
       "            </tr><tr>\n",
       "                <td><strong>Stoichiometry</strong></td>\n",
       "                <td>\n",
       "                    <p style='text-align:right'>2 h_c + linoleate + malcoa_c + 2 nadph_c --> Eicosadienoic_Acid + co2_c + coa_c + h2o_c + 2 nadp_c</p>\n",
       "                    <p style='text-align:right'>2 H+ + linoleate + Malonyl CoA C24H33N7O19P3S + 2 Nicotinamide adenine dinucleotide phosphate - reduced --> EDA + CO2 CO2 + Coenzyme A + H2O H2O + 2 Nicotinamide adenine dinucleotide phosphate</p>\n",
       "                </td>\n",
       "            </tr><tr>\n",
       "                <td><strong>GPR</strong></td><td></td>\n",
       "            </tr><tr>\n",
       "                <td><strong>Lower bound</strong></td><td>0.0</td>\n",
       "            </tr><tr>\n",
       "                <td><strong>Upper bound</strong></td><td>1000.0</td>\n",
       "            </tr>\n",
       "        </table>\n",
       "        "
      ],
      "text/plain": [
       "<Reaction D9E at 0x19dd54d8ec8>"
      ]
     },
     "execution_count": 18,
     "metadata": {},
     "output_type": "execute_result"
    }
   ],
   "source": [
    "model.reactions.D9E"
   ]
  }
 ],
 "metadata": {
  "kernelspec": {
   "display_name": "Python 3 (ipykernel)",
   "language": "python",
   "name": "python3"
  },
  "language_info": {
   "codemirror_mode": {
    "name": "ipython",
    "version": 3
   },
   "file_extension": ".py",
   "mimetype": "text/x-python",
   "name": "python",
   "nbconvert_exporter": "python",
   "pygments_lexer": "ipython3",
   "version": "3.7.12"
  }
 },
 "nbformat": 4,
 "nbformat_minor": 5
}
