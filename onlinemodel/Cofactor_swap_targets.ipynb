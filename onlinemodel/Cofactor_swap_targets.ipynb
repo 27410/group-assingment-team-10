{
 "cells": [
  {
   "cell_type": "markdown",
   "metadata": {},
   "source": [
    "# Cofactor swap targets"
   ]
  },
  {
   "cell_type": "markdown",
   "metadata": {},
   "source": [
    "The conversion of tryptamine to 4-hydroxy-tryptamine uses NADPH as a cofactor, and therefore a cofactor swap analysis was performed in order to determine whether increasing the pool of available NADPH by swapping the cofactor specificty of reactions in the model from NADPH to NADH could increase psilocybin production. This hypothesis is supported by research by King et al., which showed that swapping the cofactor specificity from NAD(H) to NADP(H) in oxidoreductase enzymes involved in central carbon metabolism can improve the theoretical yields of several amino acids including L-aspartate, L-lysine, and L-isoleucine as well as some non-native products in *S. cerevisiae* (King, Feist, 2014). CofactorSwapOptimization utilizes an algorithm that identifies which reactions in the model can undergo a swap in cofactor specificity in order to increase the availability of a cofactor that is rate-limiting for the production of a target metabolite, and increase its theoretical yield."
   ]
  },
  {
   "cell_type": "code",
   "execution_count": 1,
   "metadata": {},
   "outputs": [
    {
     "name": "stderr",
     "output_type": "stream",
     "text": [
      "'' is not a valid SBML 'SId'.\n"
     ]
    }
   ],
   "source": [
    "%run 01-model.ipynb\n",
    "\n",
    "from cameo.strain_design.heuristic.evolutionary_based import CofactorSwapOptimization\n",
    "from cameo.strain_design.heuristic.evolutionary.objective_functions import product_yield\n",
    "\n",
    "from cameo.strain_design.heuristic.evolutionary.optimization import CofactorSwapOptimization, NADH_NADPH"
   ]
  },
  {
   "cell_type": "code",
   "execution_count": 2,
   "metadata": {},
   "outputs": [],
   "source": [
    "model.solver = \"glpk\" # what is this?"
   ]
  },
  {
   "cell_type": "code",
   "execution_count": 3,
   "metadata": {},
   "outputs": [],
   "source": [
    "biomass = model.reactions.DRAIN_Biomass"
   ]
  },
  {
   "cell_type": "code",
   "execution_count": 4,
   "metadata": {},
   "outputs": [],
   "source": [
    "biomass.lower_bound = 0.1 # OBS denne skal måske ikke være 0,1 tjek tutorial notebooken og forstå det\n"
   ]
  },
  {
   "cell_type": "code",
   "execution_count": 5,
   "metadata": {},
   "outputs": [],
   "source": [
    "demand = model.reactions.DM_psi"
   ]
  },
  {
   "cell_type": "markdown",
   "metadata": {},
   "source": [
    "The demand reaction for the \"target\" (psilocybin) is defined in \"01-model.ipynb\""
   ]
  },
  {
   "cell_type": "code",
   "execution_count": 6,
   "metadata": {},
   "outputs": [],
   "source": [
    "model.objective = demand"
   ]
  },
  {
   "cell_type": "code",
   "execution_count": 7,
   "metadata": {},
   "outputs": [],
   "source": [
    "product_yield = product_yield(demand, model.reactions.BOUNDARY_GLCe)"
   ]
  },
  {
   "cell_type": "code",
   "execution_count": 8,
   "metadata": {
    "collapsed": true,
    "jupyter": {
     "outputs_hidden": true
    }
   },
   "outputs": [
    {
     "data": {
      "text/plain": [
       "\u001b[0;31mInit signature:\u001b[0m\n",
       "\u001b[0mCofactorSwapOptimization\u001b[0m\u001b[0;34m(\u001b[0m\u001b[0;34m\u001b[0m\n",
       "\u001b[0;34m\u001b[0m    \u001b[0mcofactor_id_swaps\u001b[0m\u001b[0;34m=\u001b[0m\u001b[0;34m(\u001b[0m\u001b[0;34m[\u001b[0m\u001b[0;34m'nad_c'\u001b[0m\u001b[0;34m,\u001b[0m \u001b[0;34m'nadh_c'\u001b[0m\u001b[0;34m]\u001b[0m\u001b[0;34m,\u001b[0m \u001b[0;34m[\u001b[0m\u001b[0;34m'nadp_c'\u001b[0m\u001b[0;34m,\u001b[0m \u001b[0;34m'nadph_c'\u001b[0m\u001b[0;34m]\u001b[0m\u001b[0;34m)\u001b[0m\u001b[0;34m,\u001b[0m\u001b[0;34m\u001b[0m\n",
       "\u001b[0;34m\u001b[0m    \u001b[0mcandidate_reactions\u001b[0m\u001b[0;34m=\u001b[0m\u001b[0;32mNone\u001b[0m\u001b[0;34m,\u001b[0m\u001b[0;34m\u001b[0m\n",
       "\u001b[0;34m\u001b[0m    \u001b[0mskip_reactions\u001b[0m\u001b[0;34m=\u001b[0m\u001b[0;32mNone\u001b[0m\u001b[0;34m,\u001b[0m\u001b[0;34m\u001b[0m\n",
       "\u001b[0;34m\u001b[0m    \u001b[0;34m*\u001b[0m\u001b[0margs\u001b[0m\u001b[0;34m,\u001b[0m\u001b[0;34m\u001b[0m\n",
       "\u001b[0;34m\u001b[0m    \u001b[0;34m**\u001b[0m\u001b[0mkwargs\u001b[0m\u001b[0;34m,\u001b[0m\u001b[0;34m\u001b[0m\n",
       "\u001b[0;34m\u001b[0m\u001b[0;34m)\u001b[0m\u001b[0;34m\u001b[0m\u001b[0;34m\u001b[0m\u001b[0m\n",
       "\u001b[0;31mDocstring:\u001b[0m     \n",
       "Optimize co-factor swapping\n",
       "\n",
       "As suggested in [1]_, flux through a given reaction can sometimes be optimized by swapping complementary\n",
       "co-factor. This class implements a search for reactions when swapped improve the given objective. Briefly,\n",
       "the approach is to\n",
       "\n",
       "- find reactions that have all the targeted co-factor pairs e.g. (nad_c -> nadp_c, nadh_c -> nadph_c)\n",
       "\n",
       "- add reactions that have the co-factors swapped and then by a search algorithm switching one off in favor of the\n",
       "  other\n",
       "\n",
       "The implementation here differs from that in [1]_ in that we use a general purpose search algorithm rather than\n",
       "formulating the search as a mixed integer linear programming problem.\n",
       "\n",
       "References\n",
       "----------\n",
       ".. [1] King, Zachary A., and Adam M. Feist. \"Optimizing Cofactor Specificity of Oxidoreductase Enzymes for the\n",
       "  Generation of Microbial Production Strains - OptSwap.\" Industrial Biotechnology 9, no. 4 (August 1,\n",
       "  2013): 236-46. - doi:10.1089/ind.2013.0005.\n",
       "\n",
       "Parameters\n",
       "----------\n",
       "model : cobra.Model\n",
       "   the model to operator on\n",
       "cofactor_id_swaps : tuple\n",
       "   a tuple of length 2 that defines two lists of metabolite identifiers that should be interchanged during the\n",
       "   swap optimization see e.g. `NADH_NADPH` which is also the default.\n",
       "candidate_reactions : list\n",
       "   reactions to consider for co-factor swap - if not given then search for all reactions that include the given\n",
       "   cofactors\n",
       "skip_reactions : list\n",
       "   reactions to not consider for co-factor swap, defaults to the objective function if not provided\n",
       "args, kwargs : keyword arguments\n",
       "   passed on to super-classes, see in particular `objective_function`, `heuristic_method`, `termination`,\n",
       "   `simulation_method`, `wt_reference`, of `HeuristicOptimization` and `max_size` of `HeuristicOptimization.run`\n",
       "\n",
       "Examples\n",
       "--------\n",
       ">>> from cameo import models\n",
       ">>> from cameo.strain_design.heuristic.evolutionary.objective_functions import product_yield\n",
       ">>> model = models.bigg.iJO1366\n",
       ">>> model.objective = model.reactions.EX_thr__L_e\n",
       ">>> model.reactions.BIOMASS_Ec_iJO1366_core_53p95M.lower_bound = 0.1\n",
       ">>> py = product_yield(model.reactions.EX_thr__L_e, model.reactions.EX_glc__D_e)\n",
       ">>> swap_optimization = CofactorSwapOptimization(model=model, objective_function=py)\n",
       ">>> swap_optimization.run(max_evaluations=2000, max_size=2)\n",
       "\u001b[0;31mInit docstring:\u001b[0m\n",
       "Class for generic optimization algorithms for knockout (or similar) strain design methods\n",
       "\n",
       "Attributes\n",
       "----------\n",
       "simulation_method : see flux_analysis.simulation\n",
       "    The method used to simulate the model.\n",
       "wt_reference : dict, cameo.flux_analysis.simulation.FluxDistributionResult\n",
       "    A dict (dict-like) object with flux values from a reference state.\n",
       "simulation_method : method\n",
       "   the simulation method to use for evaluating results\n",
       "evaluator : TargetEvaluator\n",
       "   the class used to evaluate results\n",
       "\u001b[0;31mFile:\u001b[0m           ~/.local/lib/python3.6/site-packages/cameo/strain_design/heuristic/evolutionary/optimization.py\n",
       "\u001b[0;31mType:\u001b[0m           type\n",
       "\u001b[0;31mSubclasses:\u001b[0m     \n"
      ]
     },
     "metadata": {},
     "output_type": "display_data"
    }
   ],
   "source": [
    "CofactorSwapOptimization?"
   ]
  },
  {
   "cell_type": "markdown",
   "metadata": {},
   "source": [
    "Our model has different syntax for the default cofactors, and therefore the parameter cofactor_id_swaps must be added to the CofactorSwapOptimization function input with the correct syntax. "
   ]
  },
  {
   "cell_type": "code",
   "execution_count": 21,
   "metadata": {},
   "outputs": [],
   "source": [
    "swap_opt = CofactorSwapOptimization(model=model, objective_function=product_yield, plot=True, cofactor_id_swaps=(['NADP', 'NADPH'], ['NAD', 'NADH']))"
   ]
  },
  {
   "cell_type": "code",
   "execution_count": 22,
   "metadata": {},
   "outputs": [
    {
     "name": "stdout",
     "output_type": "stream",
     "text": [
      "Starting optimization at Tue, 01 Dec 2020 10:45:44\n"
     ]
    },
    {
     "data": {
      "application/vnd.jupyter.widget-view+json": {
       "model_id": "6fcb74228b504a3494ca2983d8f0bac8",
       "version_major": 2,
       "version_minor": 0
      },
      "text/plain": [
       "HBox()"
      ]
     },
     "metadata": {},
     "output_type": "display_data"
    },
    {
     "name": "stdout",
     "output_type": "stream",
     "text": [
      "Finished after 00:01:24\n",
      "CPU times: user 2min 42s, sys: 85.9 ms, total: 2min 42s\n",
      "Wall time: 2min 42s\n"
     ]
    }
   ],
   "source": [
    "%%time\n",
    "result = swap_opt.run(max_size=5)"
   ]
  },
  {
   "cell_type": "code",
   "execution_count": 23,
   "metadata": {},
   "outputs": [
    {
     "data": {
      "text/html": [
       "\n",
       "        <h4>Result:</h4>\n",
       "        <ul>\n",
       "            <li>model: </li>\n",
       "            <li>heuristic: GA</li>\n",
       "            <li>objective function: $$yield = \\frac{DM\\_psi}{BOUNDARY\\_GLCe}$$</li>\n",
       "            <li>simulation method: pfba</li>\n",
       "            <li>target type: cofactor-swap</li>\n",
       "        <ul>\n",
       "        <div>\n",
       "<style scoped>\n",
       "    .dataframe tbody tr th:only-of-type {\n",
       "        vertical-align: middle;\n",
       "    }\n",
       "\n",
       "    .dataframe tbody tr th {\n",
       "        vertical-align: top;\n",
       "    }\n",
       "\n",
       "    .dataframe thead th {\n",
       "        text-align: right;\n",
       "    }\n",
       "</style>\n",
       "<table border=\"1\" class=\"dataframe\">\n",
       "  <thead>\n",
       "    <tr style=\"text-align: right;\">\n",
       "      <th></th>\n",
       "      <th>index</th>\n",
       "      <th>targets</th>\n",
       "      <th>fitness</th>\n",
       "    </tr>\n",
       "  </thead>\n",
       "  <tbody>\n",
       "    <tr>\n",
       "      <th>0</th>\n",
       "      <td>0</td>\n",
       "      <td>(r581,)</td>\n",
       "      <td>0.550228</td>\n",
       "    </tr>\n",
       "    <tr>\n",
       "      <th>1</th>\n",
       "      <td>1</td>\n",
       "      <td>(r252,)</td>\n",
       "      <td>0.550228</td>\n",
       "    </tr>\n",
       "  </tbody>\n",
       "</table>\n",
       "</div>"
      ],
      "text/plain": [
       "<cameo.strain_design.heuristic.evolutionary.optimization.TargetOptimizationResult at 0x7f97e5678630>"
      ]
     },
     "execution_count": 23,
     "metadata": {},
     "output_type": "execute_result"
    }
   ],
   "source": [
    "result"
   ]
  },
  {
   "cell_type": "code",
   "execution_count": 24,
   "metadata": {},
   "outputs": [
    {
     "data": {
      "text/html": [
       "\n",
       "        <table>\n",
       "            <tr>\n",
       "                <td><strong>Reaction identifier</strong></td><td>r581</td>\n",
       "            </tr><tr>\n",
       "                <td><strong>Name</strong></td><td>Enoyl-ACP reductase</td>\n",
       "            </tr><tr>\n",
       "                <td><strong>Memory address</strong></td>\n",
       "                <td>0x07f971801de10</td>\n",
       "            </tr><tr>\n",
       "                <td><strong>Stoichiometry</strong></td>\n",
       "                <td>\n",
       "                    <p style='text-align:right'>C10DACP + NADPH --> C100ACP + NADP</p>\n",
       "                    <p style='text-align:right'>Dec-2-enoyl-[acyl-carrier protein] + NADPH --> Decanoyl-[acyl-carrier protein] + NADP+</p>\n",
       "                </td>\n",
       "            </tr><tr>\n",
       "                <td><strong>GPR</strong></td><td>1105220 or 1146027 or 1146734</td>\n",
       "            </tr><tr>\n",
       "                <td><strong>Lower bound</strong></td><td>0.0</td>\n",
       "            </tr><tr>\n",
       "                <td><strong>Upper bound</strong></td><td>1000.0</td>\n",
       "            </tr>\n",
       "        </table>\n",
       "        "
      ],
      "text/plain": [
       "<Reaction r581 at 0x7f971801de10>"
      ]
     },
     "execution_count": 24,
     "metadata": {},
     "output_type": "execute_result"
    }
   ],
   "source": [
    "model.reactions.r581"
   ]
  },
  {
   "cell_type": "code",
   "execution_count": 25,
   "metadata": {},
   "outputs": [
    {
     "data": {
      "text/html": [
       "\n",
       "        <table>\n",
       "            <tr>\n",
       "                <td><strong>Reaction identifier</strong></td><td>r252</td>\n",
       "            </tr><tr>\n",
       "                <td><strong>Name</strong></td><td>NADPH oxidase</td>\n",
       "            </tr><tr>\n",
       "                <td><strong>Memory address</strong></td>\n",
       "                <td>0x07f9718283be0</td>\n",
       "            </tr><tr>\n",
       "                <td><strong>Stoichiometry</strong></td>\n",
       "                <td>\n",
       "                    <p style='text-align:right'>NADPH + O2 --> H2O2 + NADP</p>\n",
       "                    <p style='text-align:right'>NADPH + Oxygen --> Hydrogen peroxide + NADP+</p>\n",
       "                </td>\n",
       "            </tr><tr>\n",
       "                <td><strong>GPR</strong></td><td>1155658</td>\n",
       "            </tr><tr>\n",
       "                <td><strong>Lower bound</strong></td><td>0.0</td>\n",
       "            </tr><tr>\n",
       "                <td><strong>Upper bound</strong></td><td>1000.0</td>\n",
       "            </tr>\n",
       "        </table>\n",
       "        "
      ],
      "text/plain": [
       "<Reaction r252 at 0x7f9718283be0>"
      ]
     },
     "execution_count": 25,
     "metadata": {},
     "output_type": "execute_result"
    }
   ],
   "source": [
    "model.reactions.r252"
   ]
  },
  {
   "cell_type": "markdown",
   "metadata": {},
   "source": [
    "The result of the cofactor swap optimizsation identified r581 and r252 as targets swapping cofactor specificity to improve theoretical yield of psilocybin. In reality, NADPH oxidase can only oxidize NADPH. Therefore r581 (Enoyl-ACP reductase) is the only meaningful result. "
   ]
  },
  {
   "cell_type": "markdown",
   "metadata": {},
   "source": [
    "## References\n",
    "\n",
    "1) King, Z. and Feist, A., 2014. Optimal cofactor swapping can increase the theoretical yield for chemical production in Escherichia coli and Saccharomyces cerevisiae. Metabolic Engineering, 24, pp.117-128."
   ]
  }
 ],
 "metadata": {
  "kernelspec": {
   "display_name": "python3.6",
   "language": "python",
   "name": "python3.6"
  },
  "language_info": {
   "codemirror_mode": {
    "name": "ipython",
    "version": 3
   },
   "file_extension": ".py",
   "mimetype": "text/x-python",
   "name": "python",
   "nbconvert_exporter": "python",
   "pygments_lexer": "ipython3",
   "version": "3.6.12"
  }
 },
 "nbformat": 4,
 "nbformat_minor": 4
}
